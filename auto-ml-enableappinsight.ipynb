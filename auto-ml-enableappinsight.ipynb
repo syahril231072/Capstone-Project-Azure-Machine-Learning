{
 "cells": [
  {
   "cell_type": "markdown",
   "metadata": {},
   "source": [
    "![Impressions](https://PixelServer20190423114238.azurewebsites.net/api/impressions/NotebookVM/how-to-use-azureml/automated-machine-learning/classification-bank-marketing-all-features/auto-ml-classification-bank-marketing.png)"
   ]
  },
  {
   "cell_type": "code",
   "execution_count": 28,
   "metadata": {},
   "outputs": [],
   "source": [
    "import logging\n",
    "\n",
    "from matplotlib import pyplot as plt\n",
    "import pandas as pd\n",
    "import os\n",
    "\n",
    "import azureml.core\n",
    "from azureml.core.experiment import Experiment\n",
    "from azureml.core.workspace import Workspace\n",
    "from azureml.automl.core.featurization import FeaturizationConfig\n",
    "from azureml.core.dataset import Dataset\n",
    "from azureml.train.automl import AutoMLConfig\n",
    "from azureml.interpret import ExplanationClient"
   ]
  },
  {
   "cell_type": "code",
   "execution_count": 29,
   "metadata": {},
   "outputs": [
    {
     "name": "stdout",
     "output_type": "stream",
     "text": [
      "This notebook was created using version 1.19.0 of the Azure ML SDK\n",
      "You are currently using version 1.19.0 of the Azure ML SDK\n"
     ]
    }
   ],
   "source": [
    "print(\"This notebook was created using version 1.19.0 of the Azure ML SDK\")\n",
    "print(\"You are currently using version\", azureml.core.VERSION, \"of the Azure ML SDK\")"
   ]
  },
  {
   "cell_type": "code",
   "execution_count": 30,
   "metadata": {},
   "outputs": [
    {
     "data": {
      "text/html": [
       "<div>\n",
       "<style scoped>\n",
       "    .dataframe tbody tr th:only-of-type {\n",
       "        vertical-align: middle;\n",
       "    }\n",
       "\n",
       "    .dataframe tbody tr th {\n",
       "        vertical-align: top;\n",
       "    }\n",
       "\n",
       "    .dataframe thead th {\n",
       "        text-align: right;\n",
       "    }\n",
       "</style>\n",
       "<table border=\"1\" class=\"dataframe\">\n",
       "  <thead>\n",
       "    <tr style=\"text-align: right;\">\n",
       "      <th></th>\n",
       "      <th></th>\n",
       "    </tr>\n",
       "  </thead>\n",
       "  <tbody>\n",
       "    <tr>\n",
       "      <th>Subscription ID</th>\n",
       "      <td>54424c07-8d8d-4896-9c92-b731a63208d3</td>\n",
       "    </tr>\n",
       "    <tr>\n",
       "      <th>Workspace</th>\n",
       "      <td>quick-starts-ws-130006</td>\n",
       "    </tr>\n",
       "    <tr>\n",
       "      <th>Resource Group</th>\n",
       "      <td>aml-quickstarts-130006</td>\n",
       "    </tr>\n",
       "    <tr>\n",
       "      <th>Location</th>\n",
       "      <td>southcentralus</td>\n",
       "    </tr>\n",
       "    <tr>\n",
       "      <th>Experiment Name</th>\n",
       "      <td>automl-classification-bmarketing-all</td>\n",
       "    </tr>\n",
       "  </tbody>\n",
       "</table>\n",
       "</div>"
      ],
      "text/plain": [
       "                                                     \n",
       "Subscription ID  54424c07-8d8d-4896-9c92-b731a63208d3\n",
       "Workspace        quick-starts-ws-130006              \n",
       "Resource Group   aml-quickstarts-130006              \n",
       "Location         southcentralus                      \n",
       "Experiment Name  automl-classification-bmarketing-all"
      ]
     },
     "execution_count": 30,
     "metadata": {},
     "output_type": "execute_result"
    }
   ],
   "source": [
    "ws = Workspace.from_config()\n",
    "\n",
    "# choose a name for experiment\n",
    "experiment_name = 'automl-classification-bmarketing-all'\n",
    "\n",
    "experiment=Experiment(ws, experiment_name)\n",
    "\n",
    "output = {}\n",
    "output['Subscription ID'] = ws.subscription_id\n",
    "output['Workspace'] = ws.name\n",
    "output['Resource Group'] = ws.resource_group\n",
    "output['Location'] = ws.location\n",
    "output['Experiment Name'] = experiment.name\n",
    "pd.set_option('display.max_colwidth', -1)\n",
    "outputDf = pd.DataFrame(data = output, index = [''])\n",
    "outputDf.T"
   ]
  },
  {
   "cell_type": "code",
   "execution_count": 31,
   "metadata": {},
   "outputs": [
    {
     "name": "stdout",
     "output_type": "stream",
     "text": [
      "Found existing cluster, use it.\n",
      "Succeeded\n",
      "AmlCompute wait for completion finished\n",
      "\n",
      "Minimum number of nodes requested have been provisioned\n"
     ]
    }
   ],
   "source": [
    "from azureml.core.compute import ComputeTarget, AmlCompute\n",
    "from azureml.core.compute_target import ComputeTargetException\n",
    "\n",
    "# Choose a name for your CPU cluster\n",
    "cpu_cluster_name = \"cpu-cluster-4\"\n",
    "\n",
    "# Verify that cluster does not exist already\n",
    "try:\n",
    "    compute_target = ComputeTarget(workspace=ws, name=cpu_cluster_name)\n",
    "    print('Found existing cluster, use it.')\n",
    "except ComputeTargetException:\n",
    "    compute_config = AmlCompute.provisioning_configuration(vm_size='STANDARD_D2_V2',\n",
    "                                                           max_nodes=6)\n",
    "    compute_target = ComputeTarget.create(ws, cpu_cluster_name, compute_config)\n",
    "\n",
    "compute_target.wait_for_completion(show_output=True)"
   ]
  },
  {
   "cell_type": "markdown",
   "metadata": {},
   "source": [
    "### Training Data"
   ]
  },
  {
   "cell_type": "code",
   "execution_count": 32,
   "metadata": {},
   "outputs": [
    {
     "data": {
      "text/html": [
       "<div>\n",
       "<style scoped>\n",
       "    .dataframe tbody tr th:only-of-type {\n",
       "        vertical-align: middle;\n",
       "    }\n",
       "\n",
       "    .dataframe tbody tr th {\n",
       "        vertical-align: top;\n",
       "    }\n",
       "\n",
       "    .dataframe thead th {\n",
       "        text-align: right;\n",
       "    }\n",
       "</style>\n",
       "<table border=\"1\" class=\"dataframe\">\n",
       "  <thead>\n",
       "    <tr style=\"text-align: right;\">\n",
       "      <th></th>\n",
       "      <th>Pregnancies</th>\n",
       "      <th>Glucose</th>\n",
       "      <th>BloodPressure</th>\n",
       "      <th>SkinThickness</th>\n",
       "      <th>Insulin</th>\n",
       "      <th>BMI</th>\n",
       "      <th>DiabetesPedigreeFunction</th>\n",
       "      <th>Age</th>\n",
       "      <th>Outcome</th>\n",
       "    </tr>\n",
       "  </thead>\n",
       "  <tbody>\n",
       "    <tr>\n",
       "      <th>0</th>\n",
       "      <td>6</td>\n",
       "      <td>148</td>\n",
       "      <td>72</td>\n",
       "      <td>35</td>\n",
       "      <td>0</td>\n",
       "      <td>33.6</td>\n",
       "      <td>0.627</td>\n",
       "      <td>50</td>\n",
       "      <td>1</td>\n",
       "    </tr>\n",
       "    <tr>\n",
       "      <th>1</th>\n",
       "      <td>1</td>\n",
       "      <td>85</td>\n",
       "      <td>66</td>\n",
       "      <td>29</td>\n",
       "      <td>0</td>\n",
       "      <td>26.6</td>\n",
       "      <td>0.351</td>\n",
       "      <td>31</td>\n",
       "      <td>0</td>\n",
       "    </tr>\n",
       "    <tr>\n",
       "      <th>2</th>\n",
       "      <td>8</td>\n",
       "      <td>183</td>\n",
       "      <td>64</td>\n",
       "      <td>0</td>\n",
       "      <td>0</td>\n",
       "      <td>23.3</td>\n",
       "      <td>0.672</td>\n",
       "      <td>32</td>\n",
       "      <td>1</td>\n",
       "    </tr>\n",
       "    <tr>\n",
       "      <th>3</th>\n",
       "      <td>1</td>\n",
       "      <td>89</td>\n",
       "      <td>66</td>\n",
       "      <td>23</td>\n",
       "      <td>94</td>\n",
       "      <td>28.1</td>\n",
       "      <td>0.167</td>\n",
       "      <td>21</td>\n",
       "      <td>0</td>\n",
       "    </tr>\n",
       "    <tr>\n",
       "      <th>4</th>\n",
       "      <td>0</td>\n",
       "      <td>137</td>\n",
       "      <td>40</td>\n",
       "      <td>35</td>\n",
       "      <td>168</td>\n",
       "      <td>43.1</td>\n",
       "      <td>2.288</td>\n",
       "      <td>33</td>\n",
       "      <td>1</td>\n",
       "    </tr>\n",
       "  </tbody>\n",
       "</table>\n",
       "</div>"
      ],
      "text/plain": [
       "   Pregnancies  Glucose  BloodPressure  SkinThickness  Insulin   BMI  \\\n",
       "0  6            148      72             35             0        33.6   \n",
       "1  1            85       66             29             0        26.6   \n",
       "2  8            183      64             0              0        23.3   \n",
       "3  1            89       66             23             94       28.1   \n",
       "4  0            137      40             35             168      43.1   \n",
       "\n",
       "   DiabetesPedigreeFunction  Age  Outcome  \n",
       "0  0.627                     50   1        \n",
       "1  0.351                     31   0        \n",
       "2  0.672                     32   1        \n",
       "3  0.167                     21   0        \n",
       "4  2.288                     33   1        "
      ]
     },
     "execution_count": 32,
     "metadata": {},
     "output_type": "execute_result"
    }
   ],
   "source": [
    "url = \"https://github.com/syahril231072/foree/raw/main/Diabetes.csv\"\n",
    "data = pd.read_csv(url, sep=',', header=0, encoding= 'unicode_escape')\n",
    "\n",
    "data.head()"
   ]
  },
  {
   "cell_type": "code",
   "execution_count": 33,
   "metadata": {},
   "outputs": [],
   "source": [
    "# Add missing values in 75% of the lines.\n",
    "import numpy as np\n",
    "\n",
    "missing_rate = 0.75\n",
    "n_missing_samples = int(np.floor(data.shape[0] * missing_rate))\n",
    "missing_samples = np.hstack((np.zeros(data.shape[0] - n_missing_samples, dtype=np.bool), np.ones(n_missing_samples, dtype=np.bool)))\n",
    "rng = np.random.RandomState(0)\n",
    "rng.shuffle(missing_samples)\n",
    "missing_features = rng.randint(0, data.shape[1], n_missing_samples)\n",
    "data.values[np.where(missing_samples)[0], missing_features] = np.nan"
   ]
  },
  {
   "cell_type": "code",
   "execution_count": 37,
   "metadata": {},
   "outputs": [
    {
     "name": "stdout",
     "output_type": "stream",
     "text": [
      "Uploading an estimated of 1 files\n",
      "Uploading ./data/train_data.csv\n",
      "Uploaded ./data/train_data.csv, 1 files out of an estimated total of 1\n",
      "Uploaded 1 files\n"
     ]
    }
   ],
   "source": [
    "if not os.path.isdir('data'):\n",
    "    os.mkdir('data')\n",
    "    \n",
    "# Save the train data to a csv to be uploaded to the datastore\n",
    "pd.DataFrame(data).to_csv(\"data/train_data.csv\", index=False)\n",
    "\n",
    "ds = ws.get_default_datastore()\n",
    "ds.upload(src_dir='./data', target_path='bankmarketing', overwrite=True, show_progress=True)\n",
    "\n",
    " \n",
    "\n",
    "# Upload the training data as a tabular dataset for access during training on remote compute\n",
    "train_data = Dataset.Tabular.from_delimited_files(path=ds.path('bankmarketing/train_data.csv'))\n",
    "label = \"Outcome\""
   ]
  },
  {
   "cell_type": "markdown",
   "metadata": {},
   "source": [
    "### Test Data"
   ]
  },
  {
   "cell_type": "code",
   "execution_count": 38,
   "metadata": {},
   "outputs": [],
   "source": [
    "ws = Workspace.get(\"quick-starts-ws-130006\")\n",
    "test_dataset = Dataset.get_by_name(ws, name = \"loan\")"
   ]
  },
  {
   "cell_type": "code",
   "execution_count": 39,
   "metadata": {},
   "outputs": [],
   "source": [
    "automl_settings = {\n",
    "    \"experiment_timeout_hours\" : 0.3,\n",
    "    \"enable_early_stopping\" : True,\n",
    "    \"iteration_timeout_minutes\": 5,\n",
    "    \"max_concurrent_iterations\": 4,\n",
    "    \"max_cores_per_iteration\": -1,\n",
    "    #\"n_cross_validations\": 2,\n",
    "    \"primary_metric\": 'AUC_weighted',\n",
    "    \"featurization\": 'auto',\n",
    "    \"verbosity\": logging.INFO,\n",
    "}\n",
    "\n",
    "automl_config = AutoMLConfig(task = 'classification',\n",
    "                             debug_log = 'automl_errors.log',\n",
    "                             compute_target=compute_target,\n",
    "                             experiment_exit_score = 0.9984,\n",
    "                             blocked_models = ['KNN','LinearSVM'],\n",
    "                             enable_onnx_compatible_models=True,\n",
    "                             training_data = train_data,\n",
    "                             label_column_name = label,\n",
    "                             **automl_settings\n",
    "                            )"
   ]
  },
  {
   "cell_type": "code",
   "execution_count": 40,
   "metadata": {},
   "outputs": [
    {
     "name": "stdout",
     "output_type": "stream",
     "text": [
      "Running on remote.\n",
      "No run_configuration provided, running on cpu-cluster-4 with default configuration\n",
      "Running on remote compute: cpu-cluster-4\n",
      "Parent Run ID: AutoML_31cc46ea-2925-4421-9ce2-37ad4aa234d0\n",
      "\n",
      "Current status: FeaturesGeneration. Generating features for the dataset.\n",
      "Current status: ModelSelection. Beginning model selection.\n",
      "\n",
      "****************************************************************************************************\n",
      "DATA GUARDRAILS: \n",
      "\n",
      "TYPE:         Cross validation\n",
      "STATUS:       DONE\n",
      "DESCRIPTION:  Each iteration of the trained model was validated through cross-validation.\n",
      "              \n",
      "DETAILS:      \n",
      "+---------------------------------+\n",
      "|Number of folds                  |\n",
      "+=================================+\n",
      "|10                               |\n",
      "+---------------------------------+\n",
      "\n",
      "****************************************************************************************************\n",
      "\n",
      "TYPE:         Class balancing detection\n",
      "STATUS:       PASSED\n",
      "DESCRIPTION:  Your inputs were analyzed, and all classes are balanced in your training data.\n",
      "              Learn more about imbalanced data: https://aka.ms/AutomatedMLImbalancedData\n",
      "\n",
      "****************************************************************************************************\n",
      "\n",
      "TYPE:         High cardinality feature detection\n",
      "STATUS:       PASSED\n",
      "DESCRIPTION:  Your inputs were analyzed, and no high cardinality features were detected.\n",
      "              Learn more about high cardinality feature handling: https://aka.ms/AutomatedMLFeaturization\n",
      "\n",
      "****************************************************************************************************\n",
      "\n",
      "****************************************************************************************************\n",
      "ITERATION: The iteration being evaluated.\n",
      "PIPELINE: A summary description of the pipeline being evaluated.\n",
      "DURATION: Time taken for the current iteration.\n",
      "METRIC: The result of computing score on the fitted pipeline.\n",
      "BEST: The best observed score thus far.\n",
      "****************************************************************************************************\n",
      "\n",
      " ITERATION   PIPELINE                                       DURATION      METRIC      BEST\n",
      "         0   MaxAbsScaler LightGBM                          0:01:00       0.8069    0.8069\n",
      "         3   RobustScaler ExtremeRandomTrees                0:00:57       0.8370    0.8370\n",
      "         1   MaxAbsScaler XGBoostClassifier                 0:00:57       0.8325    0.8370\n",
      "         2   MinMaxScaler RandomForest                      0:01:04       0.8215    0.8370\n",
      "         4   MinMaxScaler RandomForest                      0:01:04       0.8323    0.8370\n",
      "         5   MinMaxScaler RandomForest                      0:01:06       0.8248    0.8370\n",
      "         6   StandardScalerWrapper RandomForest             0:01:01       0.8268    0.8370\n",
      "         7   MinMaxScaler ExtremeRandomTrees                0:01:01       0.8232    0.8370\n",
      "         8   MinMaxScaler ExtremeRandomTrees                0:01:06       0.8142    0.8370\n",
      "         9   MinMaxScaler ExtremeRandomTrees                0:01:01       0.8307    0.8370\n",
      "        10   RobustScaler ExtremeRandomTrees                0:01:04       0.8302    0.8370\n",
      "        11   StandardScalerWrapper RandomForest             0:01:07       0.8217    0.8370\n",
      "        12   StandardScalerWrapper SGD                      0:00:58       0.8302    0.8370\n",
      "        14   MinMaxScaler RandomForest                      0:01:03       0.8218    0.8370\n",
      "        13   RobustScaler RandomForest                      0:01:03       0.8051    0.8370\n",
      "        15   MinMaxScaler ExtremeRandomTrees                0:01:06       0.8094    0.8370\n",
      "        17   StandardScalerWrapper XGBoostClassifier        0:01:01       0.8223    0.8370\n",
      "        16   MaxAbsScaler RandomForest                      0:01:05       0.8171    0.8370\n",
      "        18   MaxAbsScaler RandomForest                      0:01:01       0.8243    0.8370\n",
      "        19   MaxAbsScaler ExtremeRandomTrees                0:01:04       0.8236    0.8370\n",
      "        20   MaxAbsScaler ExtremeRandomTrees                0:01:03       0.8296    0.8370\n",
      "        21   StandardScalerWrapper SVM                      0:00:58       0.8186    0.8370\n",
      "        22   MaxAbsScaler LogisticRegression                0:01:02       0.8301    0.8370\n",
      "        23   StandardScalerWrapper SVM                      0:01:05       0.7680    0.8370\n",
      "        24   MaxAbsScaler LightGBM                          0:01:01       0.8265    0.8370\n",
      "        25   PCA ExtremeRandomTrees                         0:01:17       0.6188    0.8370\n",
      "        26   TruncatedSVDWrapper XGBoostClassifier          0:00:56       0.7936    0.8370\n",
      "        28   MaxAbsScaler SVM                               0:01:01       0.7775    0.8370\n",
      "        27   StandardScalerWrapper SVM                      0:00:58       0.8355    0.8370\n",
      "        29   SparseNormalizer ExtremeRandomTrees            0:01:00       0.6217    0.8370\n",
      "        30   SparseNormalizer XGBoostClassifier             0:01:04       0.7064    0.8370\n",
      "        31   MinMaxScaler LightGBM                          0:01:01       0.8231    0.8370\n",
      "        32   SparseNormalizer RandomForest                  0:01:03       0.7073    0.8370\n",
      "        34   MaxAbsScaler LightGBM                          0:00:29          nan    0.8370\n",
      "        33   StandardScalerWrapper XGBoostClassifier        0:01:02       0.8126    0.8370\n",
      "        35                                                  0:00:21          nan    0.8370\n",
      "        36    VotingEnsemble                                0:02:24       0.8480    0.8480\n"
     ]
    }
   ],
   "source": [
    "remote_run = experiment.submit(automl_config, show_output = True)"
   ]
  },
  {
   "cell_type": "code",
   "execution_count": 41,
   "metadata": {},
   "outputs": [
    {
     "data": {
      "text/html": [
       "<table style=\"width:100%\"><tr><th>Experiment</th><th>Id</th><th>Type</th><th>Status</th><th>Details Page</th><th>Docs Page</th></tr><tr><td>automl-classification-bmarketing-all</td><td>AutoML_31cc46ea-2925-4421-9ce2-37ad4aa234d0</td><td>automl</td><td>Completed</td><td><a href=\"https://ml.azure.com/experiments/automl-classification-bmarketing-all/runs/AutoML_31cc46ea-2925-4421-9ce2-37ad4aa234d0?wsid=/subscriptions/54424c07-8d8d-4896-9c92-b731a63208d3/resourcegroups/aml-quickstarts-130006/workspaces/quick-starts-ws-130006\" target=\"_blank\" rel=\"noopener\">Link to Azure Machine Learning studio</a></td><td><a href=\"https://docs.microsoft.com/en-us/python/api/overview/azure/ml/intro?view=azure-ml-py\" target=\"_blank\" rel=\"noopener\">Link to Documentation</a></td></tr></table>"
      ],
      "text/plain": [
       "Run(Experiment: automl-classification-bmarketing-all,\n",
       "Id: AutoML_31cc46ea-2925-4421-9ce2-37ad4aa234d0,\n",
       "Type: automl,\n",
       "Status: Completed)"
      ]
     },
     "execution_count": 41,
     "metadata": {},
     "output_type": "execute_result"
    }
   ],
   "source": [
    "remote_run"
   ]
  },
  {
   "cell_type": "code",
   "execution_count": 42,
   "metadata": {},
   "outputs": [
    {
     "data": {
      "text/plain": [
       "{'runId': 'AutoML_31cc46ea-2925-4421-9ce2-37ad4aa234d0',\n",
       " 'target': 'cpu-cluster-4',\n",
       " 'status': 'Completed',\n",
       " 'startTimeUtc': '2020-12-10T07:13:32.131385Z',\n",
       " 'endTimeUtc': '2020-12-10T07:41:57.211903Z',\n",
       " 'properties': {'num_iterations': '1000',\n",
       "  'training_type': 'TrainFull',\n",
       "  'acquisition_function': 'EI',\n",
       "  'primary_metric': 'AUC_weighted',\n",
       "  'train_split': '0',\n",
       "  'acquisition_parameter': '0',\n",
       "  'num_cross_validation': None,\n",
       "  'target': 'cpu-cluster-4',\n",
       "  'AMLSettingsJsonString': '{\"path\":null,\"name\":\"automl-classification-bmarketing-all\",\"subscription_id\":\"54424c07-8d8d-4896-9c92-b731a63208d3\",\"resource_group\":\"aml-quickstarts-130006\",\"workspace_name\":\"quick-starts-ws-130006\",\"region\":\"southcentralus\",\"compute_target\":\"cpu-cluster-4\",\"spark_service\":null,\"azure_service\":\"remote\",\"many_models\":false,\"pipeline_fetch_max_batch_size\":1,\"iterations\":1000,\"primary_metric\":\"AUC_weighted\",\"task_type\":\"classification\",\"data_script\":null,\"validation_size\":0.0,\"n_cross_validations\":null,\"y_min\":null,\"y_max\":null,\"num_classes\":null,\"featurization\":\"auto\",\"_ignore_package_version_incompatibilities\":false,\"is_timeseries\":false,\"max_cores_per_iteration\":-1,\"max_concurrent_iterations\":4,\"iteration_timeout_minutes\":5,\"mem_in_mb\":null,\"enforce_time_on_windows\":false,\"experiment_timeout_minutes\":18,\"experiment_exit_score\":0.9984,\"whitelist_models\":null,\"blacklist_algos\":[\"KNN\",\"LinearSVM\",\"TensorFlowLinearClassifier\",\"TensorFlowDNN\"],\"supported_models\":[\"TensorFlowLinearClassifier\",\"TensorFlowDNN\",\"MultinomialNaiveBayes\",\"RandomForest\",\"ExtremeRandomTrees\",\"LinearSVM\",\"XGBoostClassifier\",\"SVM\",\"SGD\",\"DecisionTree\",\"AveragedPerceptronClassifier\",\"GradientBoosting\",\"BernoulliNaiveBayes\",\"LogisticRegression\",\"LightGBM\",\"KNN\"],\"auto_blacklist\":true,\"blacklist_samples_reached\":false,\"exclude_nan_labels\":true,\"verbosity\":20,\"_debug_log\":\"azureml_automl.log\",\"show_warnings\":false,\"model_explainability\":true,\"service_url\":null,\"sdk_url\":null,\"sdk_packages\":null,\"enable_onnx_compatible_models\":true,\"enable_split_onnx_featurizer_estimator_models\":false,\"vm_type\":\"STANDARD_D2_V2\",\"telemetry_verbosity\":20,\"send_telemetry\":true,\"enable_dnn\":false,\"scenario\":\"SDK-1.13.0\",\"environment_label\":null,\"force_text_dnn\":false,\"enable_feature_sweeping\":false,\"enable_early_stopping\":true,\"early_stopping_n_iters\":10,\"metrics\":null,\"enable_ensembling\":true,\"enable_stack_ensembling\":false,\"ensemble_iterations\":15,\"enable_tf\":false,\"enable_subsampling\":null,\"subsample_seed\":null,\"enable_nimbusml\":false,\"enable_streaming\":false,\"force_streaming\":false,\"track_child_runs\":true,\"allowed_private_models\":[],\"label_column_name\":\"Outcome\",\"weight_column_name\":null,\"cv_split_column_names\":null,\"enable_local_managed\":false,\"_local_managed_run_id\":null,\"cost_mode\":1,\"lag_length\":0,\"metric_operation\":\"maximize\",\"preprocess\":true}',\n",
       "  'DataPrepJsonString': '{\\\\\"training_data\\\\\": \\\\\"{\\\\\\\\\\\\\"blocks\\\\\\\\\\\\\": [{\\\\\\\\\\\\\"id\\\\\\\\\\\\\": \\\\\\\\\\\\\"f175457f-23c0-4a04-ac6f-7254fe7703c8\\\\\\\\\\\\\", \\\\\\\\\\\\\"type\\\\\\\\\\\\\": \\\\\\\\\\\\\"Microsoft.DPrep.GetDatastoreFilesBlock\\\\\\\\\\\\\", \\\\\\\\\\\\\"arguments\\\\\\\\\\\\\": {\\\\\\\\\\\\\"datastores\\\\\\\\\\\\\": [{\\\\\\\\\\\\\"datastoreName\\\\\\\\\\\\\": \\\\\\\\\\\\\"workspaceblobstore\\\\\\\\\\\\\", \\\\\\\\\\\\\"path\\\\\\\\\\\\\": \\\\\\\\\\\\\"bankmarketing/train_data.csv\\\\\\\\\\\\\", \\\\\\\\\\\\\"resourceGroup\\\\\\\\\\\\\": \\\\\\\\\\\\\"aml-quickstarts-130006\\\\\\\\\\\\\", \\\\\\\\\\\\\"subscription\\\\\\\\\\\\\": \\\\\\\\\\\\\"54424c07-8d8d-4896-9c92-b731a63208d3\\\\\\\\\\\\\", \\\\\\\\\\\\\"workspaceName\\\\\\\\\\\\\": \\\\\\\\\\\\\"quick-starts-ws-130006\\\\\\\\\\\\\"}]}, \\\\\\\\\\\\\"localData\\\\\\\\\\\\\": {}, \\\\\\\\\\\\\"isEnabled\\\\\\\\\\\\\": true, \\\\\\\\\\\\\"name\\\\\\\\\\\\\": null, \\\\\\\\\\\\\"annotation\\\\\\\\\\\\\": null}, {\\\\\\\\\\\\\"id\\\\\\\\\\\\\": \\\\\\\\\\\\\"ab47aa01-6167-4f97-8dcf-b63237c5bdbc\\\\\\\\\\\\\", \\\\\\\\\\\\\"type\\\\\\\\\\\\\": \\\\\\\\\\\\\"Microsoft.DPrep.ParseDelimitedBlock\\\\\\\\\\\\\", \\\\\\\\\\\\\"arguments\\\\\\\\\\\\\": {\\\\\\\\\\\\\"columnHeadersMode\\\\\\\\\\\\\": 3, \\\\\\\\\\\\\"fileEncoding\\\\\\\\\\\\\": 0, \\\\\\\\\\\\\"handleQuotedLineBreaks\\\\\\\\\\\\\": false, \\\\\\\\\\\\\"preview\\\\\\\\\\\\\": false, \\\\\\\\\\\\\"separator\\\\\\\\\\\\\": \\\\\\\\\\\\\",\\\\\\\\\\\\\", \\\\\\\\\\\\\"skipRows\\\\\\\\\\\\\": 0, \\\\\\\\\\\\\"skipRowsMode\\\\\\\\\\\\\": 0}, \\\\\\\\\\\\\"localData\\\\\\\\\\\\\": {}, \\\\\\\\\\\\\"isEnabled\\\\\\\\\\\\\": true, \\\\\\\\\\\\\"name\\\\\\\\\\\\\": null, \\\\\\\\\\\\\"annotation\\\\\\\\\\\\\": null}, {\\\\\\\\\\\\\"id\\\\\\\\\\\\\": \\\\\\\\\\\\\"d2b8f88f-8091-4628-b036-417e8453a29e\\\\\\\\\\\\\", \\\\\\\\\\\\\"type\\\\\\\\\\\\\": \\\\\\\\\\\\\"Microsoft.DPrep.DropColumnsBlock\\\\\\\\\\\\\", \\\\\\\\\\\\\"arguments\\\\\\\\\\\\\": {\\\\\\\\\\\\\"columns\\\\\\\\\\\\\": {\\\\\\\\\\\\\"type\\\\\\\\\\\\\": 0, \\\\\\\\\\\\\"details\\\\\\\\\\\\\": {\\\\\\\\\\\\\"selectedColumns\\\\\\\\\\\\\": [\\\\\\\\\\\\\"Path\\\\\\\\\\\\\"]}}}, \\\\\\\\\\\\\"localData\\\\\\\\\\\\\": {}, \\\\\\\\\\\\\"isEnabled\\\\\\\\\\\\\": true, \\\\\\\\\\\\\"name\\\\\\\\\\\\\": null, \\\\\\\\\\\\\"annotation\\\\\\\\\\\\\": null}, {\\\\\\\\\\\\\"id\\\\\\\\\\\\\": \\\\\\\\\\\\\"90db7b86-18e9-4bea-b8a7-50b5723ddc44\\\\\\\\\\\\\", \\\\\\\\\\\\\"type\\\\\\\\\\\\\": \\\\\\\\\\\\\"Microsoft.DPrep.SetColumnTypesBlock\\\\\\\\\\\\\", \\\\\\\\\\\\\"arguments\\\\\\\\\\\\\": {\\\\\\\\\\\\\"columnConversion\\\\\\\\\\\\\": [{\\\\\\\\\\\\\"column\\\\\\\\\\\\\": {\\\\\\\\\\\\\"type\\\\\\\\\\\\\": 2, \\\\\\\\\\\\\"details\\\\\\\\\\\\\": {\\\\\\\\\\\\\"selectedColumn\\\\\\\\\\\\\": \\\\\\\\\\\\\"Pregnancies\\\\\\\\\\\\\"}}, \\\\\\\\\\\\\"typeProperty\\\\\\\\\\\\\": 2}, {\\\\\\\\\\\\\"column\\\\\\\\\\\\\": {\\\\\\\\\\\\\"type\\\\\\\\\\\\\": 2, \\\\\\\\\\\\\"details\\\\\\\\\\\\\": {\\\\\\\\\\\\\"selectedColumn\\\\\\\\\\\\\": \\\\\\\\\\\\\"Glucose\\\\\\\\\\\\\"}}, \\\\\\\\\\\\\"typeProperty\\\\\\\\\\\\\": 2}, {\\\\\\\\\\\\\"column\\\\\\\\\\\\\": {\\\\\\\\\\\\\"type\\\\\\\\\\\\\": 2, \\\\\\\\\\\\\"details\\\\\\\\\\\\\": {\\\\\\\\\\\\\"selectedColumn\\\\\\\\\\\\\": \\\\\\\\\\\\\"BloodPressure\\\\\\\\\\\\\"}}, \\\\\\\\\\\\\"typeProperty\\\\\\\\\\\\\": 2}, {\\\\\\\\\\\\\"column\\\\\\\\\\\\\": {\\\\\\\\\\\\\"type\\\\\\\\\\\\\": 2, \\\\\\\\\\\\\"details\\\\\\\\\\\\\": {\\\\\\\\\\\\\"selectedColumn\\\\\\\\\\\\\": \\\\\\\\\\\\\"SkinThickness\\\\\\\\\\\\\"}}, \\\\\\\\\\\\\"typeProperty\\\\\\\\\\\\\": 2}, {\\\\\\\\\\\\\"column\\\\\\\\\\\\\": {\\\\\\\\\\\\\"type\\\\\\\\\\\\\": 2, \\\\\\\\\\\\\"details\\\\\\\\\\\\\": {\\\\\\\\\\\\\"selectedColumn\\\\\\\\\\\\\": \\\\\\\\\\\\\"Insulin\\\\\\\\\\\\\"}}, \\\\\\\\\\\\\"typeProperty\\\\\\\\\\\\\": 2}, {\\\\\\\\\\\\\"column\\\\\\\\\\\\\": {\\\\\\\\\\\\\"type\\\\\\\\\\\\\": 2, \\\\\\\\\\\\\"details\\\\\\\\\\\\\": {\\\\\\\\\\\\\"selectedColumn\\\\\\\\\\\\\": \\\\\\\\\\\\\"BMI\\\\\\\\\\\\\"}}, \\\\\\\\\\\\\"typeProperty\\\\\\\\\\\\\": 3}, {\\\\\\\\\\\\\"column\\\\\\\\\\\\\": {\\\\\\\\\\\\\"type\\\\\\\\\\\\\": 2, \\\\\\\\\\\\\"details\\\\\\\\\\\\\": {\\\\\\\\\\\\\"selectedColumn\\\\\\\\\\\\\": \\\\\\\\\\\\\"DiabetesPedigreeFunction\\\\\\\\\\\\\"}}, \\\\\\\\\\\\\"typeProperty\\\\\\\\\\\\\": 3}, {\\\\\\\\\\\\\"column\\\\\\\\\\\\\": {\\\\\\\\\\\\\"type\\\\\\\\\\\\\": 2, \\\\\\\\\\\\\"details\\\\\\\\\\\\\": {\\\\\\\\\\\\\"selectedColumn\\\\\\\\\\\\\": \\\\\\\\\\\\\"Age\\\\\\\\\\\\\"}}, \\\\\\\\\\\\\"typeProperty\\\\\\\\\\\\\": 2}, {\\\\\\\\\\\\\"column\\\\\\\\\\\\\": {\\\\\\\\\\\\\"type\\\\\\\\\\\\\": 2, \\\\\\\\\\\\\"details\\\\\\\\\\\\\": {\\\\\\\\\\\\\"selectedColumn\\\\\\\\\\\\\": \\\\\\\\\\\\\"Outcome\\\\\\\\\\\\\"}}, \\\\\\\\\\\\\"typeProperty\\\\\\\\\\\\\": 2}]}, \\\\\\\\\\\\\"localData\\\\\\\\\\\\\": {}, \\\\\\\\\\\\\"isEnabled\\\\\\\\\\\\\": true, \\\\\\\\\\\\\"name\\\\\\\\\\\\\": null, \\\\\\\\\\\\\"annotation\\\\\\\\\\\\\": null}], \\\\\\\\\\\\\"inspectors\\\\\\\\\\\\\": [], \\\\\\\\\\\\\"meta\\\\\\\\\\\\\": {\\\\\\\\\\\\\"savedDatasetId\\\\\\\\\\\\\": \\\\\\\\\\\\\"3127f140-5814-4376-a3a3-f91afbfef93e\\\\\\\\\\\\\", \\\\\\\\\\\\\"datasetType\\\\\\\\\\\\\": \\\\\\\\\\\\\"tabular\\\\\\\\\\\\\", \\\\\\\\\\\\\"subscriptionId\\\\\\\\\\\\\": \\\\\\\\\\\\\"54424c07-8d8d-4896-9c92-b731a63208d3\\\\\\\\\\\\\", \\\\\\\\\\\\\"workspaceId\\\\\\\\\\\\\": \\\\\\\\\\\\\"ea64cb48-a2d4-43af-9a7e-efade4d47ab3\\\\\\\\\\\\\", \\\\\\\\\\\\\"workspaceLocation\\\\\\\\\\\\\": \\\\\\\\\\\\\"southcentralus\\\\\\\\\\\\\"}}\\\\\", \\\\\"activities\\\\\": 0}',\n",
       "  'EnableSubsampling': None,\n",
       "  'runTemplate': 'AutoML',\n",
       "  'azureml.runsource': 'automl',\n",
       "  'display_task_type': 'classification',\n",
       "  'dependencies_versions': '{\"azureml-widgets\": \"1.19.0\", \"azureml-train\": \"1.19.0\", \"azureml-train-restclients-hyperdrive\": \"1.19.0\", \"azureml-train-core\": \"1.19.0\", \"azureml-train-automl\": \"1.19.0\", \"azureml-train-automl-runtime\": \"1.19.0\", \"azureml-train-automl-client\": \"1.19.0\", \"azureml-tensorboard\": \"1.19.0\", \"azureml-telemetry\": \"1.19.0\", \"azureml-sdk\": \"1.19.0\", \"azureml-samples\": \"0+unknown\", \"azureml-pipeline\": \"1.19.0\", \"azureml-pipeline-steps\": \"1.19.0\", \"azureml-pipeline-core\": \"1.19.0\", \"azureml-opendatasets\": \"1.19.0\", \"azureml-model-management-sdk\": \"1.0.1b6.post1\", \"azureml-mlflow\": \"1.19.0\", \"azureml-interpret\": \"1.19.0\", \"azureml-explain-model\": \"1.19.0\", \"azureml-defaults\": \"1.19.0\", \"azureml-dataset-runtime\": \"1.19.0\", \"azureml-dataprep\": \"2.6.1\", \"azureml-dataprep-rslex\": \"1.4.0\", \"azureml-dataprep-native\": \"26.0.0\", \"azureml-datadrift\": \"1.19.0\", \"azureml-core\": \"1.19.0\", \"azureml-contrib-services\": \"1.19.0\", \"azureml-contrib-server\": \"1.19.0\", \"azureml-contrib-reinforcementlearning\": \"1.19.0\", \"azureml-contrib-pipeline-steps\": \"1.19.0\", \"azureml-contrib-notebook\": \"1.19.0\", \"azureml-contrib-interpret\": \"1.19.0\", \"azureml-contrib-gbdt\": \"1.19.0\", \"azureml-contrib-fairness\": \"1.19.0\", \"azureml-contrib-dataset\": \"1.19.0\", \"azureml-cli-common\": \"1.19.0\", \"azureml-automl-runtime\": \"1.19.0\", \"azureml-automl-core\": \"1.19.0\", \"azureml-accel-models\": \"1.19.0\"}',\n",
       "  '_aml_system_scenario_identification': 'Remote.Parent',\n",
       "  'ClientType': 'SDK',\n",
       "  'environment_cpu_name': 'AzureML-AutoML',\n",
       "  'environment_cpu_version': '48',\n",
       "  'environment_gpu_name': 'AzureML-AutoML-GPU',\n",
       "  'environment_gpu_version': '36',\n",
       "  'root_attribution': 'automl',\n",
       "  'attribution': 'AutoML',\n",
       "  'Orchestrator': 'AutoML',\n",
       "  'CancelUri': 'https://southcentralus.experiments.azureml.net/jasmine/v1.0/subscriptions/54424c07-8d8d-4896-9c92-b731a63208d3/resourceGroups/aml-quickstarts-130006/providers/Microsoft.MachineLearningServices/workspaces/quick-starts-ws-130006/experimentids/e67ea59e-c1bb-4080-b80e-554584df0ec5/cancel/AutoML_31cc46ea-2925-4421-9ce2-37ad4aa234d0',\n",
       "  'ClientSdkVersion': '1.18.0.post1',\n",
       "  'snapshotId': '00000000-0000-0000-0000-000000000000',\n",
       "  'SetupRunId': 'AutoML_31cc46ea-2925-4421-9ce2-37ad4aa234d0_setup',\n",
       "  'SetupRunContainerId': 'dcid.AutoML_31cc46ea-2925-4421-9ce2-37ad4aa234d0_setup',\n",
       "  'FeaturizationRunJsonPath': 'featurizer_container.json',\n",
       "  'FeaturizationRunId': 'AutoML_31cc46ea-2925-4421-9ce2-37ad4aa234d0_featurize',\n",
       "  'ProblemInfoJsonString': '{\"dataset_num_categorical\": 0, \"is_sparse\": false, \"subsampling\": false, \"dataset_classes\": 2, \"dataset_features\": 8, \"dataset_samples\": 768, \"single_frequency_class_detected\": false}',\n",
       "  'ModelExplainRunId': 'AutoML_31cc46ea-2925-4421-9ce2-37ad4aa234d0_ModelExplain'},\n",
       " 'inputDatasets': [{'dataset': {'id': '3127f140-5814-4376-a3a3-f91afbfef93e'}, 'consumptionDetails': {'type': 'RunInput', 'inputName': 'training_data', 'mechanism': 'Direct'}}],\n",
       " 'outputDatasets': [],\n",
       " 'logFiles': {}}"
      ]
     },
     "execution_count": 42,
     "metadata": {},
     "output_type": "execute_result"
    }
   ],
   "source": [
    "# Wait for the remote run to complete\n",
    "remote_run.wait_for_completion()"
   ]
  },
  {
   "cell_type": "code",
   "execution_count": 43,
   "metadata": {},
   "outputs": [],
   "source": [
    "best_run_customized, fitted_model_customized = remote_run.get_output()"
   ]
  },
  {
   "cell_type": "code",
   "execution_count": 44,
   "metadata": {},
   "outputs": [
    {
     "data": {
      "text/html": [
       "<div>\n",
       "<style scoped>\n",
       "    .dataframe tbody tr th:only-of-type {\n",
       "        vertical-align: middle;\n",
       "    }\n",
       "\n",
       "    .dataframe tbody tr th {\n",
       "        vertical-align: top;\n",
       "    }\n",
       "\n",
       "    .dataframe thead th {\n",
       "        text-align: right;\n",
       "    }\n",
       "</style>\n",
       "<table border=\"1\" class=\"dataframe\">\n",
       "  <thead>\n",
       "    <tr style=\"text-align: right;\">\n",
       "      <th></th>\n",
       "      <th>RawFeatureName</th>\n",
       "      <th>TypeDetected</th>\n",
       "      <th>Dropped</th>\n",
       "      <th>EngineeredFeatureCount</th>\n",
       "      <th>Transformations</th>\n",
       "    </tr>\n",
       "  </thead>\n",
       "  <tbody>\n",
       "    <tr>\n",
       "      <th>0</th>\n",
       "      <td>Pregnancies</td>\n",
       "      <td>Numeric</td>\n",
       "      <td>No</td>\n",
       "      <td>1</td>\n",
       "      <td>[MeanImputer]</td>\n",
       "    </tr>\n",
       "    <tr>\n",
       "      <th>1</th>\n",
       "      <td>Glucose</td>\n",
       "      <td>Numeric</td>\n",
       "      <td>No</td>\n",
       "      <td>1</td>\n",
       "      <td>[MeanImputer]</td>\n",
       "    </tr>\n",
       "    <tr>\n",
       "      <th>2</th>\n",
       "      <td>BloodPressure</td>\n",
       "      <td>Numeric</td>\n",
       "      <td>No</td>\n",
       "      <td>1</td>\n",
       "      <td>[MeanImputer]</td>\n",
       "    </tr>\n",
       "    <tr>\n",
       "      <th>3</th>\n",
       "      <td>SkinThickness</td>\n",
       "      <td>Numeric</td>\n",
       "      <td>No</td>\n",
       "      <td>1</td>\n",
       "      <td>[MeanImputer]</td>\n",
       "    </tr>\n",
       "    <tr>\n",
       "      <th>4</th>\n",
       "      <td>Insulin</td>\n",
       "      <td>Numeric</td>\n",
       "      <td>No</td>\n",
       "      <td>1</td>\n",
       "      <td>[MeanImputer]</td>\n",
       "    </tr>\n",
       "    <tr>\n",
       "      <th>5</th>\n",
       "      <td>BMI</td>\n",
       "      <td>Numeric</td>\n",
       "      <td>No</td>\n",
       "      <td>1</td>\n",
       "      <td>[MeanImputer]</td>\n",
       "    </tr>\n",
       "    <tr>\n",
       "      <th>6</th>\n",
       "      <td>DiabetesPedigreeFunction</td>\n",
       "      <td>Numeric</td>\n",
       "      <td>No</td>\n",
       "      <td>1</td>\n",
       "      <td>[MeanImputer]</td>\n",
       "    </tr>\n",
       "    <tr>\n",
       "      <th>7</th>\n",
       "      <td>Age</td>\n",
       "      <td>Numeric</td>\n",
       "      <td>No</td>\n",
       "      <td>1</td>\n",
       "      <td>[MeanImputer]</td>\n",
       "    </tr>\n",
       "  </tbody>\n",
       "</table>\n",
       "</div>"
      ],
      "text/plain": [
       "             RawFeatureName TypeDetected Dropped  EngineeredFeatureCount  \\\n",
       "0  Pregnancies               Numeric      No      1                        \n",
       "1  Glucose                   Numeric      No      1                        \n",
       "2  BloodPressure             Numeric      No      1                        \n",
       "3  SkinThickness             Numeric      No      1                        \n",
       "4  Insulin                   Numeric      No      1                        \n",
       "5  BMI                       Numeric      No      1                        \n",
       "6  DiabetesPedigreeFunction  Numeric      No      1                        \n",
       "7  Age                       Numeric      No      1                        \n",
       "\n",
       "  Transformations  \n",
       "0  [MeanImputer]   \n",
       "1  [MeanImputer]   \n",
       "2  [MeanImputer]   \n",
       "3  [MeanImputer]   \n",
       "4  [MeanImputer]   \n",
       "5  [MeanImputer]   \n",
       "6  [MeanImputer]   \n",
       "7  [MeanImputer]   "
      ]
     },
     "execution_count": 44,
     "metadata": {},
     "output_type": "execute_result"
    }
   ],
   "source": [
    "custom_featurizer = fitted_model_customized.named_steps['datatransformer']\n",
    "df = custom_featurizer.get_featurization_summary()\n",
    "pd.DataFrame(data=df)"
   ]
  },
  {
   "cell_type": "code",
   "execution_count": 45,
   "metadata": {},
   "outputs": [
    {
     "data": {
      "text/html": [
       "<div>\n",
       "<style scoped>\n",
       "    .dataframe tbody tr th:only-of-type {\n",
       "        vertical-align: middle;\n",
       "    }\n",
       "\n",
       "    .dataframe tbody tr th {\n",
       "        vertical-align: top;\n",
       "    }\n",
       "\n",
       "    .dataframe thead th {\n",
       "        text-align: right;\n",
       "    }\n",
       "</style>\n",
       "<table border=\"1\" class=\"dataframe\">\n",
       "  <thead>\n",
       "    <tr style=\"text-align: right;\">\n",
       "      <th></th>\n",
       "      <th>RawFeatureName</th>\n",
       "      <th>TypeDetected</th>\n",
       "      <th>Dropped</th>\n",
       "      <th>EngineeredFeatureCount</th>\n",
       "      <th>Transformations</th>\n",
       "      <th>TransformationParams</th>\n",
       "    </tr>\n",
       "  </thead>\n",
       "  <tbody>\n",
       "    <tr>\n",
       "      <th>0</th>\n",
       "      <td>Pregnancies</td>\n",
       "      <td>Numeric</td>\n",
       "      <td>No</td>\n",
       "      <td>1</td>\n",
       "      <td>[MeanImputer]</td>\n",
       "      <td>{'Transformer1': {'Input': ['Pregnancies'], 'TransformationFunction': 'Imputer', 'Operator': 'Mean', 'FeatureType': 'Numeric', 'ShouldOutput': True, 'TransformationParams': {'add_indicator': False, 'copy': True, 'fill_value': None, 'missing_values': nan, 'strategy': 'mean', 'verbose': 0}}}</td>\n",
       "    </tr>\n",
       "    <tr>\n",
       "      <th>1</th>\n",
       "      <td>Glucose</td>\n",
       "      <td>Numeric</td>\n",
       "      <td>No</td>\n",
       "      <td>1</td>\n",
       "      <td>[MeanImputer]</td>\n",
       "      <td>{'Transformer1': {'Input': ['Glucose'], 'TransformationFunction': 'Imputer', 'Operator': 'Mean', 'FeatureType': 'Numeric', 'ShouldOutput': True, 'TransformationParams': {'add_indicator': False, 'copy': True, 'fill_value': None, 'missing_values': nan, 'strategy': 'mean', 'verbose': 0}}}</td>\n",
       "    </tr>\n",
       "    <tr>\n",
       "      <th>2</th>\n",
       "      <td>BloodPressure</td>\n",
       "      <td>Numeric</td>\n",
       "      <td>No</td>\n",
       "      <td>1</td>\n",
       "      <td>[MeanImputer]</td>\n",
       "      <td>{'Transformer1': {'Input': ['BloodPressure'], 'TransformationFunction': 'Imputer', 'Operator': 'Mean', 'FeatureType': 'Numeric', 'ShouldOutput': True, 'TransformationParams': {'add_indicator': False, 'copy': True, 'fill_value': None, 'missing_values': nan, 'strategy': 'mean', 'verbose': 0}}}</td>\n",
       "    </tr>\n",
       "    <tr>\n",
       "      <th>3</th>\n",
       "      <td>SkinThickness</td>\n",
       "      <td>Numeric</td>\n",
       "      <td>No</td>\n",
       "      <td>1</td>\n",
       "      <td>[MeanImputer]</td>\n",
       "      <td>{'Transformer1': {'Input': ['SkinThickness'], 'TransformationFunction': 'Imputer', 'Operator': 'Mean', 'FeatureType': 'Numeric', 'ShouldOutput': True, 'TransformationParams': {'add_indicator': False, 'copy': True, 'fill_value': None, 'missing_values': nan, 'strategy': 'mean', 'verbose': 0}}}</td>\n",
       "    </tr>\n",
       "    <tr>\n",
       "      <th>4</th>\n",
       "      <td>Insulin</td>\n",
       "      <td>Numeric</td>\n",
       "      <td>No</td>\n",
       "      <td>1</td>\n",
       "      <td>[MeanImputer]</td>\n",
       "      <td>{'Transformer1': {'Input': ['Insulin'], 'TransformationFunction': 'Imputer', 'Operator': 'Mean', 'FeatureType': 'Numeric', 'ShouldOutput': True, 'TransformationParams': {'add_indicator': False, 'copy': True, 'fill_value': None, 'missing_values': nan, 'strategy': 'mean', 'verbose': 0}}}</td>\n",
       "    </tr>\n",
       "    <tr>\n",
       "      <th>5</th>\n",
       "      <td>BMI</td>\n",
       "      <td>Numeric</td>\n",
       "      <td>No</td>\n",
       "      <td>1</td>\n",
       "      <td>[MeanImputer]</td>\n",
       "      <td>{'Transformer1': {'Input': ['BMI'], 'TransformationFunction': 'Imputer', 'Operator': 'Mean', 'FeatureType': 'Numeric', 'ShouldOutput': True, 'TransformationParams': {'add_indicator': False, 'copy': True, 'fill_value': None, 'missing_values': nan, 'strategy': 'mean', 'verbose': 0}}}</td>\n",
       "    </tr>\n",
       "    <tr>\n",
       "      <th>6</th>\n",
       "      <td>DiabetesPedigreeFunction</td>\n",
       "      <td>Numeric</td>\n",
       "      <td>No</td>\n",
       "      <td>1</td>\n",
       "      <td>[MeanImputer]</td>\n",
       "      <td>{'Transformer1': {'Input': ['DiabetesPedigreeFunction'], 'TransformationFunction': 'Imputer', 'Operator': 'Mean', 'FeatureType': 'Numeric', 'ShouldOutput': True, 'TransformationParams': {'add_indicator': False, 'copy': True, 'fill_value': None, 'missing_values': nan, 'strategy': 'mean', 'verbose': 0}}}</td>\n",
       "    </tr>\n",
       "    <tr>\n",
       "      <th>7</th>\n",
       "      <td>Age</td>\n",
       "      <td>Numeric</td>\n",
       "      <td>No</td>\n",
       "      <td>1</td>\n",
       "      <td>[MeanImputer]</td>\n",
       "      <td>{'Transformer1': {'Input': ['Age'], 'TransformationFunction': 'Imputer', 'Operator': 'Mean', 'FeatureType': 'Numeric', 'ShouldOutput': True, 'TransformationParams': {'add_indicator': False, 'copy': True, 'fill_value': None, 'missing_values': nan, 'strategy': 'mean', 'verbose': 0}}}</td>\n",
       "    </tr>\n",
       "  </tbody>\n",
       "</table>\n",
       "</div>"
      ],
      "text/plain": [
       "             RawFeatureName TypeDetected Dropped  EngineeredFeatureCount  \\\n",
       "0  Pregnancies               Numeric      No      1                        \n",
       "1  Glucose                   Numeric      No      1                        \n",
       "2  BloodPressure             Numeric      No      1                        \n",
       "3  SkinThickness             Numeric      No      1                        \n",
       "4  Insulin                   Numeric      No      1                        \n",
       "5  BMI                       Numeric      No      1                        \n",
       "6  DiabetesPedigreeFunction  Numeric      No      1                        \n",
       "7  Age                       Numeric      No      1                        \n",
       "\n",
       "  Transformations  \\\n",
       "0  [MeanImputer]    \n",
       "1  [MeanImputer]    \n",
       "2  [MeanImputer]    \n",
       "3  [MeanImputer]    \n",
       "4  [MeanImputer]    \n",
       "5  [MeanImputer]    \n",
       "6  [MeanImputer]    \n",
       "7  [MeanImputer]    \n",
       "\n",
       "                                                                                                                                                                                                                                                                                              TransformationParams  \n",
       "0  {'Transformer1': {'Input': ['Pregnancies'], 'TransformationFunction': 'Imputer', 'Operator': 'Mean', 'FeatureType': 'Numeric', 'ShouldOutput': True, 'TransformationParams': {'add_indicator': False, 'copy': True, 'fill_value': None, 'missing_values': nan, 'strategy': 'mean', 'verbose': 0}}}               \n",
       "1  {'Transformer1': {'Input': ['Glucose'], 'TransformationFunction': 'Imputer', 'Operator': 'Mean', 'FeatureType': 'Numeric', 'ShouldOutput': True, 'TransformationParams': {'add_indicator': False, 'copy': True, 'fill_value': None, 'missing_values': nan, 'strategy': 'mean', 'verbose': 0}}}                   \n",
       "2  {'Transformer1': {'Input': ['BloodPressure'], 'TransformationFunction': 'Imputer', 'Operator': 'Mean', 'FeatureType': 'Numeric', 'ShouldOutput': True, 'TransformationParams': {'add_indicator': False, 'copy': True, 'fill_value': None, 'missing_values': nan, 'strategy': 'mean', 'verbose': 0}}}             \n",
       "3  {'Transformer1': {'Input': ['SkinThickness'], 'TransformationFunction': 'Imputer', 'Operator': 'Mean', 'FeatureType': 'Numeric', 'ShouldOutput': True, 'TransformationParams': {'add_indicator': False, 'copy': True, 'fill_value': None, 'missing_values': nan, 'strategy': 'mean', 'verbose': 0}}}             \n",
       "4  {'Transformer1': {'Input': ['Insulin'], 'TransformationFunction': 'Imputer', 'Operator': 'Mean', 'FeatureType': 'Numeric', 'ShouldOutput': True, 'TransformationParams': {'add_indicator': False, 'copy': True, 'fill_value': None, 'missing_values': nan, 'strategy': 'mean', 'verbose': 0}}}                   \n",
       "5  {'Transformer1': {'Input': ['BMI'], 'TransformationFunction': 'Imputer', 'Operator': 'Mean', 'FeatureType': 'Numeric', 'ShouldOutput': True, 'TransformationParams': {'add_indicator': False, 'copy': True, 'fill_value': None, 'missing_values': nan, 'strategy': 'mean', 'verbose': 0}}}                       \n",
       "6  {'Transformer1': {'Input': ['DiabetesPedigreeFunction'], 'TransformationFunction': 'Imputer', 'Operator': 'Mean', 'FeatureType': 'Numeric', 'ShouldOutput': True, 'TransformationParams': {'add_indicator': False, 'copy': True, 'fill_value': None, 'missing_values': nan, 'strategy': 'mean', 'verbose': 0}}}  \n",
       "7  {'Transformer1': {'Input': ['Age'], 'TransformationFunction': 'Imputer', 'Operator': 'Mean', 'FeatureType': 'Numeric', 'ShouldOutput': True, 'TransformationParams': {'add_indicator': False, 'copy': True, 'fill_value': None, 'missing_values': nan, 'strategy': 'mean', 'verbose': 0}}}                       "
      ]
     },
     "execution_count": 45,
     "metadata": {},
     "output_type": "execute_result"
    }
   ],
   "source": [
    "df = custom_featurizer.get_featurization_summary(is_user_friendly=False)\n",
    "pd.DataFrame(data=df)"
   ]
  },
  {
   "cell_type": "code",
   "execution_count": 46,
   "metadata": {},
   "outputs": [
    {
     "data": {
      "text/html": [
       "<div>\n",
       "<style scoped>\n",
       "    .dataframe tbody tr th:only-of-type {\n",
       "        vertical-align: middle;\n",
       "    }\n",
       "\n",
       "    .dataframe tbody tr th {\n",
       "        vertical-align: top;\n",
       "    }\n",
       "\n",
       "    .dataframe thead th {\n",
       "        text-align: right;\n",
       "    }\n",
       "</style>\n",
       "<table border=\"1\" class=\"dataframe\">\n",
       "  <thead>\n",
       "    <tr style=\"text-align: right;\">\n",
       "      <th></th>\n",
       "    </tr>\n",
       "  </thead>\n",
       "  <tbody>\n",
       "  </tbody>\n",
       "</table>\n",
       "</div>"
      ],
      "text/plain": [
       "Empty DataFrame\n",
       "Columns: []\n",
       "Index: []"
      ]
     },
     "execution_count": 46,
     "metadata": {},
     "output_type": "execute_result"
    }
   ],
   "source": [
    "df = custom_featurizer.get_stats_feature_type_summary()\n",
    "pd.DataFrame(data=df)"
   ]
  },
  {
   "cell_type": "markdown",
   "metadata": {},
   "source": [
    "## Results"
   ]
  },
  {
   "cell_type": "code",
   "execution_count": 47,
   "metadata": {},
   "outputs": [
    {
     "data": {
      "application/vnd.jupyter.widget-view+json": {
       "model_id": "0ccc597e11834d7e8661556a3944ecee",
       "version_major": 2,
       "version_minor": 0
      },
      "text/plain": [
       "_AutoMLWidget(widget_settings={'childWidgetDisplay': 'popup', 'send_telemetry': False, 'log_level': 'INFO', 's…"
      ]
     },
     "metadata": {},
     "output_type": "display_data"
    },
    {
     "data": {
      "application/aml.mini.widget.v1": "{\"status\": \"Completed\", \"workbench_run_details_uri\": \"https://ml.azure.com/experiments/automl-classification-bmarketing-all/runs/AutoML_31cc46ea-2925-4421-9ce2-37ad4aa234d0?wsid=/subscriptions/54424c07-8d8d-4896-9c92-b731a63208d3/resourcegroups/aml-quickstarts-130006/workspaces/quick-starts-ws-130006\", \"run_id\": \"AutoML_31cc46ea-2925-4421-9ce2-37ad4aa234d0\", \"run_properties\": {\"run_id\": \"AutoML_31cc46ea-2925-4421-9ce2-37ad4aa234d0\", \"created_utc\": \"2020-12-10T07:13:13.910787Z\", \"properties\": {\"num_iterations\": \"1000\", \"training_type\": \"TrainFull\", \"acquisition_function\": \"EI\", \"primary_metric\": \"AUC_weighted\", \"train_split\": \"0\", \"acquisition_parameter\": \"0\", \"num_cross_validation\": null, \"target\": \"cpu-cluster-4\", \"AMLSettingsJsonString\": \"{\\\"path\\\":null,\\\"name\\\":\\\"automl-classification-bmarketing-all\\\",\\\"subscription_id\\\":\\\"54424c07-8d8d-4896-9c92-b731a63208d3\\\",\\\"resource_group\\\":\\\"aml-quickstarts-130006\\\",\\\"workspace_name\\\":\\\"quick-starts-ws-130006\\\",\\\"region\\\":\\\"southcentralus\\\",\\\"compute_target\\\":\\\"cpu-cluster-4\\\",\\\"spark_service\\\":null,\\\"azure_service\\\":\\\"remote\\\",\\\"many_models\\\":false,\\\"pipeline_fetch_max_batch_size\\\":1,\\\"iterations\\\":1000,\\\"primary_metric\\\":\\\"AUC_weighted\\\",\\\"task_type\\\":\\\"classification\\\",\\\"data_script\\\":null,\\\"validation_size\\\":0.0,\\\"n_cross_validations\\\":null,\\\"y_min\\\":null,\\\"y_max\\\":null,\\\"num_classes\\\":null,\\\"featurization\\\":\\\"auto\\\",\\\"_ignore_package_version_incompatibilities\\\":false,\\\"is_timeseries\\\":false,\\\"max_cores_per_iteration\\\":-1,\\\"max_concurrent_iterations\\\":4,\\\"iteration_timeout_minutes\\\":5,\\\"mem_in_mb\\\":null,\\\"enforce_time_on_windows\\\":false,\\\"experiment_timeout_minutes\\\":18,\\\"experiment_exit_score\\\":0.9984,\\\"whitelist_models\\\":null,\\\"blacklist_algos\\\":[\\\"KNN\\\",\\\"LinearSVM\\\",\\\"TensorFlowLinearClassifier\\\",\\\"TensorFlowDNN\\\"],\\\"supported_models\\\":[\\\"TensorFlowLinearClassifier\\\",\\\"TensorFlowDNN\\\",\\\"MultinomialNaiveBayes\\\",\\\"RandomForest\\\",\\\"ExtremeRandomTrees\\\",\\\"LinearSVM\\\",\\\"XGBoostClassifier\\\",\\\"SVM\\\",\\\"SGD\\\",\\\"DecisionTree\\\",\\\"AveragedPerceptronClassifier\\\",\\\"GradientBoosting\\\",\\\"BernoulliNaiveBayes\\\",\\\"LogisticRegression\\\",\\\"LightGBM\\\",\\\"KNN\\\"],\\\"auto_blacklist\\\":true,\\\"blacklist_samples_reached\\\":false,\\\"exclude_nan_labels\\\":true,\\\"verbosity\\\":20,\\\"_debug_log\\\":\\\"azureml_automl.log\\\",\\\"show_warnings\\\":false,\\\"model_explainability\\\":true,\\\"service_url\\\":null,\\\"sdk_url\\\":null,\\\"sdk_packages\\\":null,\\\"enable_onnx_compatible_models\\\":true,\\\"enable_split_onnx_featurizer_estimator_models\\\":false,\\\"vm_type\\\":\\\"STANDARD_D2_V2\\\",\\\"telemetry_verbosity\\\":20,\\\"send_telemetry\\\":true,\\\"enable_dnn\\\":false,\\\"scenario\\\":\\\"SDK-1.13.0\\\",\\\"environment_label\\\":null,\\\"force_text_dnn\\\":false,\\\"enable_feature_sweeping\\\":false,\\\"enable_early_stopping\\\":true,\\\"early_stopping_n_iters\\\":10,\\\"metrics\\\":null,\\\"enable_ensembling\\\":true,\\\"enable_stack_ensembling\\\":false,\\\"ensemble_iterations\\\":15,\\\"enable_tf\\\":false,\\\"enable_subsampling\\\":null,\\\"subsample_seed\\\":null,\\\"enable_nimbusml\\\":false,\\\"enable_streaming\\\":false,\\\"force_streaming\\\":false,\\\"track_child_runs\\\":true,\\\"allowed_private_models\\\":[],\\\"label_column_name\\\":\\\"Outcome\\\",\\\"weight_column_name\\\":null,\\\"cv_split_column_names\\\":null,\\\"enable_local_managed\\\":false,\\\"_local_managed_run_id\\\":null,\\\"cost_mode\\\":1,\\\"lag_length\\\":0,\\\"metric_operation\\\":\\\"maximize\\\",\\\"preprocess\\\":true}\", \"DataPrepJsonString\": \"{\\\\\\\"training_data\\\\\\\": \\\\\\\"{\\\\\\\\\\\\\\\"blocks\\\\\\\\\\\\\\\": [{\\\\\\\\\\\\\\\"id\\\\\\\\\\\\\\\": \\\\\\\\\\\\\\\"f175457f-23c0-4a04-ac6f-7254fe7703c8\\\\\\\\\\\\\\\", \\\\\\\\\\\\\\\"type\\\\\\\\\\\\\\\": \\\\\\\\\\\\\\\"Microsoft.DPrep.GetDatastoreFilesBlock\\\\\\\\\\\\\\\", \\\\\\\\\\\\\\\"arguments\\\\\\\\\\\\\\\": {\\\\\\\\\\\\\\\"datastores\\\\\\\\\\\\\\\": [{\\\\\\\\\\\\\\\"datastoreName\\\\\\\\\\\\\\\": \\\\\\\\\\\\\\\"workspaceblobstore\\\\\\\\\\\\\\\", \\\\\\\\\\\\\\\"path\\\\\\\\\\\\\\\": \\\\\\\\\\\\\\\"bankmarketing/train_data.csv\\\\\\\\\\\\\\\", \\\\\\\\\\\\\\\"resourceGroup\\\\\\\\\\\\\\\": \\\\\\\\\\\\\\\"aml-quickstarts-130006\\\\\\\\\\\\\\\", \\\\\\\\\\\\\\\"subscription\\\\\\\\\\\\\\\": \\\\\\\\\\\\\\\"54424c07-8d8d-4896-9c92-b731a63208d3\\\\\\\\\\\\\\\", \\\\\\\\\\\\\\\"workspaceName\\\\\\\\\\\\\\\": \\\\\\\\\\\\\\\"quick-starts-ws-130006\\\\\\\\\\\\\\\"}]}, \\\\\\\\\\\\\\\"localData\\\\\\\\\\\\\\\": {}, \\\\\\\\\\\\\\\"isEnabled\\\\\\\\\\\\\\\": true, \\\\\\\\\\\\\\\"name\\\\\\\\\\\\\\\": null, \\\\\\\\\\\\\\\"annotation\\\\\\\\\\\\\\\": null}, {\\\\\\\\\\\\\\\"id\\\\\\\\\\\\\\\": \\\\\\\\\\\\\\\"ab47aa01-6167-4f97-8dcf-b63237c5bdbc\\\\\\\\\\\\\\\", \\\\\\\\\\\\\\\"type\\\\\\\\\\\\\\\": \\\\\\\\\\\\\\\"Microsoft.DPrep.ParseDelimitedBlock\\\\\\\\\\\\\\\", \\\\\\\\\\\\\\\"arguments\\\\\\\\\\\\\\\": {\\\\\\\\\\\\\\\"columnHeadersMode\\\\\\\\\\\\\\\": 3, \\\\\\\\\\\\\\\"fileEncoding\\\\\\\\\\\\\\\": 0, \\\\\\\\\\\\\\\"handleQuotedLineBreaks\\\\\\\\\\\\\\\": false, \\\\\\\\\\\\\\\"preview\\\\\\\\\\\\\\\": false, \\\\\\\\\\\\\\\"separator\\\\\\\\\\\\\\\": \\\\\\\\\\\\\\\",\\\\\\\\\\\\\\\", \\\\\\\\\\\\\\\"skipRows\\\\\\\\\\\\\\\": 0, \\\\\\\\\\\\\\\"skipRowsMode\\\\\\\\\\\\\\\": 0}, \\\\\\\\\\\\\\\"localData\\\\\\\\\\\\\\\": {}, \\\\\\\\\\\\\\\"isEnabled\\\\\\\\\\\\\\\": true, \\\\\\\\\\\\\\\"name\\\\\\\\\\\\\\\": null, \\\\\\\\\\\\\\\"annotation\\\\\\\\\\\\\\\": null}, {\\\\\\\\\\\\\\\"id\\\\\\\\\\\\\\\": \\\\\\\\\\\\\\\"d2b8f88f-8091-4628-b036-417e8453a29e\\\\\\\\\\\\\\\", \\\\\\\\\\\\\\\"type\\\\\\\\\\\\\\\": \\\\\\\\\\\\\\\"Microsoft.DPrep.DropColumnsBlock\\\\\\\\\\\\\\\", \\\\\\\\\\\\\\\"arguments\\\\\\\\\\\\\\\": {\\\\\\\\\\\\\\\"columns\\\\\\\\\\\\\\\": {\\\\\\\\\\\\\\\"type\\\\\\\\\\\\\\\": 0, \\\\\\\\\\\\\\\"details\\\\\\\\\\\\\\\": {\\\\\\\\\\\\\\\"selectedColumns\\\\\\\\\\\\\\\": [\\\\\\\\\\\\\\\"Path\\\\\\\\\\\\\\\"]}}}, \\\\\\\\\\\\\\\"localData\\\\\\\\\\\\\\\": {}, \\\\\\\\\\\\\\\"isEnabled\\\\\\\\\\\\\\\": true, \\\\\\\\\\\\\\\"name\\\\\\\\\\\\\\\": null, \\\\\\\\\\\\\\\"annotation\\\\\\\\\\\\\\\": null}, {\\\\\\\\\\\\\\\"id\\\\\\\\\\\\\\\": \\\\\\\\\\\\\\\"90db7b86-18e9-4bea-b8a7-50b5723ddc44\\\\\\\\\\\\\\\", \\\\\\\\\\\\\\\"type\\\\\\\\\\\\\\\": \\\\\\\\\\\\\\\"Microsoft.DPrep.SetColumnTypesBlock\\\\\\\\\\\\\\\", \\\\\\\\\\\\\\\"arguments\\\\\\\\\\\\\\\": {\\\\\\\\\\\\\\\"columnConversion\\\\\\\\\\\\\\\": [{\\\\\\\\\\\\\\\"column\\\\\\\\\\\\\\\": {\\\\\\\\\\\\\\\"type\\\\\\\\\\\\\\\": 2, \\\\\\\\\\\\\\\"details\\\\\\\\\\\\\\\": {\\\\\\\\\\\\\\\"selectedColumn\\\\\\\\\\\\\\\": \\\\\\\\\\\\\\\"Pregnancies\\\\\\\\\\\\\\\"}}, \\\\\\\\\\\\\\\"typeProperty\\\\\\\\\\\\\\\": 2}, {\\\\\\\\\\\\\\\"column\\\\\\\\\\\\\\\": {\\\\\\\\\\\\\\\"type\\\\\\\\\\\\\\\": 2, \\\\\\\\\\\\\\\"details\\\\\\\\\\\\\\\": {\\\\\\\\\\\\\\\"selectedColumn\\\\\\\\\\\\\\\": \\\\\\\\\\\\\\\"Glucose\\\\\\\\\\\\\\\"}}, \\\\\\\\\\\\\\\"typeProperty\\\\\\\\\\\\\\\": 2}, {\\\\\\\\\\\\\\\"column\\\\\\\\\\\\\\\": {\\\\\\\\\\\\\\\"type\\\\\\\\\\\\\\\": 2, \\\\\\\\\\\\\\\"details\\\\\\\\\\\\\\\": {\\\\\\\\\\\\\\\"selectedColumn\\\\\\\\\\\\\\\": \\\\\\\\\\\\\\\"BloodPressure\\\\\\\\\\\\\\\"}}, \\\\\\\\\\\\\\\"typeProperty\\\\\\\\\\\\\\\": 2}, {\\\\\\\\\\\\\\\"column\\\\\\\\\\\\\\\": {\\\\\\\\\\\\\\\"type\\\\\\\\\\\\\\\": 2, \\\\\\\\\\\\\\\"details\\\\\\\\\\\\\\\": {\\\\\\\\\\\\\\\"selectedColumn\\\\\\\\\\\\\\\": \\\\\\\\\\\\\\\"SkinThickness\\\\\\\\\\\\\\\"}}, \\\\\\\\\\\\\\\"typeProperty\\\\\\\\\\\\\\\": 2}, {\\\\\\\\\\\\\\\"column\\\\\\\\\\\\\\\": {\\\\\\\\\\\\\\\"type\\\\\\\\\\\\\\\": 2, \\\\\\\\\\\\\\\"details\\\\\\\\\\\\\\\": {\\\\\\\\\\\\\\\"selectedColumn\\\\\\\\\\\\\\\": \\\\\\\\\\\\\\\"Insulin\\\\\\\\\\\\\\\"}}, \\\\\\\\\\\\\\\"typeProperty\\\\\\\\\\\\\\\": 2}, {\\\\\\\\\\\\\\\"column\\\\\\\\\\\\\\\": {\\\\\\\\\\\\\\\"type\\\\\\\\\\\\\\\": 2, \\\\\\\\\\\\\\\"details\\\\\\\\\\\\\\\": {\\\\\\\\\\\\\\\"selectedColumn\\\\\\\\\\\\\\\": \\\\\\\\\\\\\\\"BMI\\\\\\\\\\\\\\\"}}, \\\\\\\\\\\\\\\"typeProperty\\\\\\\\\\\\\\\": 3}, {\\\\\\\\\\\\\\\"column\\\\\\\\\\\\\\\": {\\\\\\\\\\\\\\\"type\\\\\\\\\\\\\\\": 2, \\\\\\\\\\\\\\\"details\\\\\\\\\\\\\\\": {\\\\\\\\\\\\\\\"selectedColumn\\\\\\\\\\\\\\\": \\\\\\\\\\\\\\\"DiabetesPedigreeFunction\\\\\\\\\\\\\\\"}}, \\\\\\\\\\\\\\\"typeProperty\\\\\\\\\\\\\\\": 3}, {\\\\\\\\\\\\\\\"column\\\\\\\\\\\\\\\": {\\\\\\\\\\\\\\\"type\\\\\\\\\\\\\\\": 2, \\\\\\\\\\\\\\\"details\\\\\\\\\\\\\\\": {\\\\\\\\\\\\\\\"selectedColumn\\\\\\\\\\\\\\\": \\\\\\\\\\\\\\\"Age\\\\\\\\\\\\\\\"}}, \\\\\\\\\\\\\\\"typeProperty\\\\\\\\\\\\\\\": 2}, {\\\\\\\\\\\\\\\"column\\\\\\\\\\\\\\\": {\\\\\\\\\\\\\\\"type\\\\\\\\\\\\\\\": 2, \\\\\\\\\\\\\\\"details\\\\\\\\\\\\\\\": {\\\\\\\\\\\\\\\"selectedColumn\\\\\\\\\\\\\\\": \\\\\\\\\\\\\\\"Outcome\\\\\\\\\\\\\\\"}}, \\\\\\\\\\\\\\\"typeProperty\\\\\\\\\\\\\\\": 2}]}, \\\\\\\\\\\\\\\"localData\\\\\\\\\\\\\\\": {}, \\\\\\\\\\\\\\\"isEnabled\\\\\\\\\\\\\\\": true, \\\\\\\\\\\\\\\"name\\\\\\\\\\\\\\\": null, \\\\\\\\\\\\\\\"annotation\\\\\\\\\\\\\\\": null}], \\\\\\\\\\\\\\\"inspectors\\\\\\\\\\\\\\\": [], \\\\\\\\\\\\\\\"meta\\\\\\\\\\\\\\\": {\\\\\\\\\\\\\\\"savedDatasetId\\\\\\\\\\\\\\\": \\\\\\\\\\\\\\\"3127f140-5814-4376-a3a3-f91afbfef93e\\\\\\\\\\\\\\\", \\\\\\\\\\\\\\\"datasetType\\\\\\\\\\\\\\\": \\\\\\\\\\\\\\\"tabular\\\\\\\\\\\\\\\", \\\\\\\\\\\\\\\"subscriptionId\\\\\\\\\\\\\\\": \\\\\\\\\\\\\\\"54424c07-8d8d-4896-9c92-b731a63208d3\\\\\\\\\\\\\\\", \\\\\\\\\\\\\\\"workspaceId\\\\\\\\\\\\\\\": \\\\\\\\\\\\\\\"ea64cb48-a2d4-43af-9a7e-efade4d47ab3\\\\\\\\\\\\\\\", \\\\\\\\\\\\\\\"workspaceLocation\\\\\\\\\\\\\\\": \\\\\\\\\\\\\\\"southcentralus\\\\\\\\\\\\\\\"}}\\\\\\\", \\\\\\\"activities\\\\\\\": 0}\", \"EnableSubsampling\": null, \"runTemplate\": \"AutoML\", \"azureml.runsource\": \"automl\", \"display_task_type\": \"classification\", \"dependencies_versions\": \"{\\\"azureml-widgets\\\": \\\"1.19.0\\\", \\\"azureml-train\\\": \\\"1.19.0\\\", \\\"azureml-train-restclients-hyperdrive\\\": \\\"1.19.0\\\", \\\"azureml-train-core\\\": \\\"1.19.0\\\", \\\"azureml-train-automl\\\": \\\"1.19.0\\\", \\\"azureml-train-automl-runtime\\\": \\\"1.19.0\\\", \\\"azureml-train-automl-client\\\": \\\"1.19.0\\\", \\\"azureml-tensorboard\\\": \\\"1.19.0\\\", \\\"azureml-telemetry\\\": \\\"1.19.0\\\", \\\"azureml-sdk\\\": \\\"1.19.0\\\", \\\"azureml-samples\\\": \\\"0+unknown\\\", \\\"azureml-pipeline\\\": \\\"1.19.0\\\", \\\"azureml-pipeline-steps\\\": \\\"1.19.0\\\", \\\"azureml-pipeline-core\\\": \\\"1.19.0\\\", \\\"azureml-opendatasets\\\": \\\"1.19.0\\\", \\\"azureml-model-management-sdk\\\": \\\"1.0.1b6.post1\\\", \\\"azureml-mlflow\\\": \\\"1.19.0\\\", \\\"azureml-interpret\\\": \\\"1.19.0\\\", \\\"azureml-explain-model\\\": \\\"1.19.0\\\", \\\"azureml-defaults\\\": \\\"1.19.0\\\", \\\"azureml-dataset-runtime\\\": \\\"1.19.0\\\", \\\"azureml-dataprep\\\": \\\"2.6.1\\\", \\\"azureml-dataprep-rslex\\\": \\\"1.4.0\\\", \\\"azureml-dataprep-native\\\": \\\"26.0.0\\\", \\\"azureml-datadrift\\\": \\\"1.19.0\\\", \\\"azureml-core\\\": \\\"1.19.0\\\", \\\"azureml-contrib-services\\\": \\\"1.19.0\\\", \\\"azureml-contrib-server\\\": \\\"1.19.0\\\", \\\"azureml-contrib-reinforcementlearning\\\": \\\"1.19.0\\\", \\\"azureml-contrib-pipeline-steps\\\": \\\"1.19.0\\\", \\\"azureml-contrib-notebook\\\": \\\"1.19.0\\\", \\\"azureml-contrib-interpret\\\": \\\"1.19.0\\\", \\\"azureml-contrib-gbdt\\\": \\\"1.19.0\\\", \\\"azureml-contrib-fairness\\\": \\\"1.19.0\\\", \\\"azureml-contrib-dataset\\\": \\\"1.19.0\\\", \\\"azureml-cli-common\\\": \\\"1.19.0\\\", \\\"azureml-automl-runtime\\\": \\\"1.19.0\\\", \\\"azureml-automl-core\\\": \\\"1.19.0\\\", \\\"azureml-accel-models\\\": \\\"1.19.0\\\"}\", \"_aml_system_scenario_identification\": \"Remote.Parent\", \"ClientType\": \"SDK\", \"environment_cpu_name\": \"AzureML-AutoML\", \"environment_cpu_version\": \"48\", \"environment_gpu_name\": \"AzureML-AutoML-GPU\", \"environment_gpu_version\": \"36\", \"root_attribution\": \"automl\", \"attribution\": \"AutoML\", \"Orchestrator\": \"AutoML\", \"CancelUri\": \"https://southcentralus.experiments.azureml.net/jasmine/v1.0/subscriptions/54424c07-8d8d-4896-9c92-b731a63208d3/resourceGroups/aml-quickstarts-130006/providers/Microsoft.MachineLearningServices/workspaces/quick-starts-ws-130006/experimentids/e67ea59e-c1bb-4080-b80e-554584df0ec5/cancel/AutoML_31cc46ea-2925-4421-9ce2-37ad4aa234d0\", \"ClientSdkVersion\": \"1.18.0.post1\", \"snapshotId\": \"00000000-0000-0000-0000-000000000000\", \"SetupRunId\": \"AutoML_31cc46ea-2925-4421-9ce2-37ad4aa234d0_setup\", \"SetupRunContainerId\": \"dcid.AutoML_31cc46ea-2925-4421-9ce2-37ad4aa234d0_setup\", \"FeaturizationRunJsonPath\": \"featurizer_container.json\", \"FeaturizationRunId\": \"AutoML_31cc46ea-2925-4421-9ce2-37ad4aa234d0_featurize\", \"ProblemInfoJsonString\": \"{\\\"dataset_num_categorical\\\": 0, \\\"is_sparse\\\": false, \\\"subsampling\\\": false, \\\"dataset_classes\\\": 2, \\\"dataset_features\\\": 8, \\\"dataset_samples\\\": 768, \\\"single_frequency_class_detected\\\": false}\", \"ModelExplainRunId\": \"AutoML_31cc46ea-2925-4421-9ce2-37ad4aa234d0_ModelExplain\"}, \"tags\": {\"model_explain_run\": \"best_run\", \"_aml_system_azureml.automlComponent\": \"AutoML\", \"pipeline_id\": \"\", \"score\": \"\", \"predicted_cost\": \"\", \"fit_time\": \"\", \"training_percent\": \"\", \"iteration\": \"\", \"run_preprocessor\": \"\", \"run_algorithm\": \"\", \"dynamic_whitelisting_iterations\": \"<25>;<29>;<35>;\", \"automl_best_child_run_id\": \"AutoML_31cc46ea-2925-4421-9ce2-37ad4aa234d0_36\", \"model_explain_best_run_child_id\": \"AutoML_31cc46ea-2925-4421-9ce2-37ad4aa234d0_36\"}, \"end_time_utc\": \"2020-12-10T07:41:57.211903Z\", \"status\": \"Completed\", \"log_files\": {}, \"log_groups\": [], \"run_duration\": \"0:28:43\"}, \"child_runs\": [{\"run_id\": \"AutoML_31cc46ea-2925-4421-9ce2-37ad4aa234d0_0\", \"run_number\": 20, \"metric\": null, \"status\": \"Completed\", \"run_type\": \"azureml.scriptrun\", \"training_percent\": \"100\", \"start_time\": \"2020-12-10T07:22:51.176295Z\", \"end_time\": \"2020-12-10T07:23:50.889661Z\", \"created_time\": \"2020-12-10T07:22:40.430877Z\", \"created_time_dt\": \"2020-12-10T07:22:40.430877Z\", \"duration\": \"0:01:10\", \"iteration\": \"0\", \"goal\": \"AUC_weighted_max\", \"run_name\": \"MaxAbsScaler, LightGBM\", \"run_properties\": \"copy=True\", \"primary_metric\": 0.80693759, \"best_metric\": 0.80693759}, {\"run_id\": \"AutoML_31cc46ea-2925-4421-9ce2-37ad4aa234d0_2\", \"run_number\": 21, \"metric\": null, \"status\": \"Completed\", \"run_type\": \"azureml.scriptrun\", \"training_percent\": \"100\", \"start_time\": \"2020-12-10T07:23:41.002107Z\", \"end_time\": \"2020-12-10T07:24:44.984416Z\", \"created_time\": \"2020-12-10T07:22:40.467251Z\", \"created_time_dt\": \"2020-12-10T07:22:40.467251Z\", \"duration\": \"0:02:04\", \"iteration\": \"2\", \"goal\": \"AUC_weighted_max\", \"run_name\": \"MinMaxScaler, RandomForest\", \"run_properties\": \"copy=True, feature_range=(0, 1\", \"primary_metric\": 0.82151854, \"best_metric\": 0.83249789}, {\"run_id\": \"AutoML_31cc46ea-2925-4421-9ce2-37ad4aa234d0_1\", \"run_number\": 22, \"metric\": null, \"status\": \"Completed\", \"run_type\": \"azureml.scriptrun\", \"training_percent\": \"100\", \"start_time\": \"2020-12-10T07:23:22.339439Z\", \"end_time\": \"2020-12-10T07:24:19.293029Z\", \"created_time\": \"2020-12-10T07:22:40.50916Z\", \"created_time_dt\": \"2020-12-10T07:22:40.50916Z\", \"duration\": \"0:01:38\", \"iteration\": \"1\", \"goal\": \"AUC_weighted_max\", \"run_name\": \"MaxAbsScaler, XGBoostClassifier\", \"run_properties\": \"copy=True\", \"primary_metric\": 0.83249789, \"best_metric\": 0.83249789}, {\"run_id\": \"AutoML_31cc46ea-2925-4421-9ce2-37ad4aa234d0_3\", \"run_number\": 23, \"metric\": null, \"status\": \"Completed\", \"run_type\": \"azureml.scriptrun\", \"training_percent\": \"100\", \"start_time\": \"2020-12-10T07:22:51.533115Z\", \"end_time\": \"2020-12-10T07:23:48.661038Z\", \"created_time\": \"2020-12-10T07:22:40.523137Z\", \"created_time_dt\": \"2020-12-10T07:22:40.523137Z\", \"duration\": \"0:01:08\", \"iteration\": \"3\", \"goal\": \"AUC_weighted_max\", \"run_name\": \"RobustScaler, ExtremeRandomTrees\", \"run_properties\": \"copy=True, quantile_range=[10, 90], with_centering=False,\\n             with_scaling=False\", \"primary_metric\": 0.83703295, \"best_metric\": 0.83703295}, {\"run_id\": \"AutoML_31cc46ea-2925-4421-9ce2-37ad4aa234d0_4\", \"run_number\": 27, \"metric\": null, \"status\": \"Completed\", \"run_type\": \"azureml.scriptrun\", \"training_percent\": \"100\", \"start_time\": \"2020-12-10T07:24:59.41553Z\", \"end_time\": \"2020-12-10T07:26:02.96708Z\", \"created_time\": \"2020-12-10T07:23:51.343989Z\", \"created_time_dt\": \"2020-12-10T07:23:51.343989Z\", \"duration\": \"0:02:11\", \"iteration\": \"4\", \"goal\": \"AUC_weighted_max\", \"run_name\": \"MinMaxScaler, RandomForest\", \"run_properties\": \"copy=True, feature_range=(0, 1\", \"primary_metric\": 0.83225373, \"best_metric\": 0.83703295}, {\"run_id\": \"AutoML_31cc46ea-2925-4421-9ce2-37ad4aa234d0_5\", \"run_number\": 28, \"metric\": null, \"status\": \"Completed\", \"run_type\": \"azureml.scriptrun\", \"training_percent\": \"100\", \"start_time\": \"2020-12-10T07:24:58.286468Z\", \"end_time\": \"2020-12-10T07:26:04.488302Z\", \"created_time\": \"2020-12-10T07:23:55.974603Z\", \"created_time_dt\": \"2020-12-10T07:23:55.974603Z\", \"duration\": \"0:02:08\", \"iteration\": \"5\", \"goal\": \"AUC_weighted_max\", \"run_name\": \"MinMaxScaler, RandomForest\", \"run_properties\": \"copy=True, feature_range=(0, 1\", \"primary_metric\": 0.82479089, \"best_metric\": 0.83703295}, {\"run_id\": \"AutoML_31cc46ea-2925-4421-9ce2-37ad4aa234d0_6\", \"run_number\": 29, \"metric\": null, \"status\": \"Completed\", \"run_type\": \"azureml.scriptrun\", \"training_percent\": \"100\", \"start_time\": \"2020-12-10T07:25:20.488498Z\", \"end_time\": \"2020-12-10T07:26:21.043204Z\", \"created_time\": \"2020-12-10T07:24:22.090306Z\", \"created_time_dt\": \"2020-12-10T07:24:22.090306Z\", \"duration\": \"0:01:58\", \"iteration\": \"6\", \"goal\": \"AUC_weighted_max\", \"run_name\": \"StandardScalerWrapper, RandomForest\", \"run_properties\": \"<azureml.automl.runtime.shared.model_wrappers.StandardScalerWrapper object at 0x7f639d76f668\", \"primary_metric\": 0.82684768, \"best_metric\": 0.83703295}, {\"run_id\": \"AutoML_31cc46ea-2925-4421-9ce2-37ad4aa234d0_7\", \"run_number\": 30, \"metric\": null, \"status\": \"Completed\", \"run_type\": \"azureml.scriptrun\", \"training_percent\": \"100\", \"start_time\": \"2020-12-10T07:26:01.729573Z\", \"end_time\": \"2020-12-10T07:27:02.718646Z\", \"created_time\": \"2020-12-10T07:24:47.972182Z\", \"created_time_dt\": \"2020-12-10T07:24:47.972182Z\", \"duration\": \"0:02:14\", \"iteration\": \"7\", \"goal\": \"AUC_weighted_max\", \"run_name\": \"MinMaxScaler, ExtremeRandomTrees\", \"run_properties\": \"copy=True, feature_range=(0, 1\", \"primary_metric\": 0.8232145, \"best_metric\": 0.83703295}, {\"run_id\": \"AutoML_31cc46ea-2925-4421-9ce2-37ad4aa234d0_8\", \"run_number\": 35, \"metric\": null, \"status\": \"Completed\", \"run_type\": \"azureml.scriptrun\", \"training_percent\": \"100\", \"start_time\": \"2020-12-10T07:27:35.274562Z\", \"end_time\": \"2020-12-10T07:28:41.599049Z\", \"created_time\": \"2020-12-10T07:26:06.3945Z\", \"created_time_dt\": \"2020-12-10T07:26:06.3945Z\", \"duration\": \"0:02:35\", \"iteration\": \"8\", \"goal\": \"AUC_weighted_max\", \"run_name\": \"MinMaxScaler, ExtremeRandomTrees\", \"run_properties\": \"copy=True, feature_range=(0, 1\", \"primary_metric\": 0.81423147, \"best_metric\": 0.83703295}, {\"run_id\": \"AutoML_31cc46ea-2925-4421-9ce2-37ad4aa234d0_9\", \"run_number\": 36, \"metric\": null, \"status\": \"Completed\", \"run_type\": \"azureml.scriptrun\", \"training_percent\": \"100\", \"start_time\": \"2020-12-10T07:27:41.46635Z\", \"end_time\": \"2020-12-10T07:28:42.871619Z\", \"created_time\": \"2020-12-10T07:26:11.996784Z\", \"created_time_dt\": \"2020-12-10T07:26:11.996784Z\", \"duration\": \"0:02:30\", \"iteration\": \"9\", \"goal\": \"AUC_weighted_max\", \"run_name\": \"MinMaxScaler, ExtremeRandomTrees\", \"run_properties\": \"copy=True, feature_range=(0, 1\", \"primary_metric\": 0.83073238, \"best_metric\": 0.83703295}, {\"run_id\": \"AutoML_31cc46ea-2925-4421-9ce2-37ad4aa234d0_10\", \"run_number\": 37, \"metric\": null, \"status\": \"Completed\", \"run_type\": \"azureml.scriptrun\", \"training_percent\": \"100\", \"start_time\": \"2020-12-10T07:27:46.382462Z\", \"end_time\": \"2020-12-10T07:28:50.490025Z\", \"created_time\": \"2020-12-10T07:26:24.383743Z\", \"created_time_dt\": \"2020-12-10T07:26:24.383743Z\", \"duration\": \"0:02:26\", \"iteration\": \"10\", \"goal\": \"AUC_weighted_max\", \"run_name\": \"RobustScaler, ExtremeRandomTrees\", \"run_properties\": \"copy=True, quantile_range=[10, 90], with_centering=True,\\n             with_scaling=False\", \"primary_metric\": 0.83015642, \"best_metric\": 0.83703295}, {\"run_id\": \"AutoML_31cc46ea-2925-4421-9ce2-37ad4aa234d0_11\", \"run_number\": 38, \"metric\": null, \"status\": \"Completed\", \"run_type\": \"azureml.scriptrun\", \"training_percent\": \"100\", \"start_time\": \"2020-12-10T07:28:13.921385Z\", \"end_time\": \"2020-12-10T07:29:21.012322Z\", \"created_time\": \"2020-12-10T07:27:05.60783Z\", \"created_time_dt\": \"2020-12-10T07:27:05.60783Z\", \"duration\": \"0:02:15\", \"iteration\": \"11\", \"goal\": \"AUC_weighted_max\", \"run_name\": \"StandardScalerWrapper, RandomForest\", \"run_properties\": \"<azureml.automl.runtime.shared.model_wrappers.StandardScalerWrapper object at 0x7f91582f2a20\", \"primary_metric\": 0.82172147, \"best_metric\": 0.83703295}, {\"run_id\": \"AutoML_31cc46ea-2925-4421-9ce2-37ad4aa234d0_12\", \"run_number\": 43, \"metric\": null, \"status\": \"Completed\", \"run_type\": \"azureml.scriptrun\", \"training_percent\": \"100\", \"start_time\": \"2020-12-10T07:29:53.150956Z\", \"end_time\": \"2020-12-10T07:30:50.740999Z\", \"created_time\": \"2020-12-10T07:28:52.492317Z\", \"created_time_dt\": \"2020-12-10T07:28:52.492317Z\", \"duration\": \"0:01:58\", \"iteration\": \"12\", \"goal\": \"AUC_weighted_max\", \"run_name\": \"StandardScalerWrapper, SGD\", \"run_properties\": \"<azureml.automl.runtime.shared.model_wrappers.StandardScalerWrapper object at 0x7fb7c08cf978\", \"primary_metric\": 0.83018964, \"best_metric\": 0.83703295}, {\"run_id\": \"AutoML_31cc46ea-2925-4421-9ce2-37ad4aa234d0_13\", \"run_number\": 44, \"metric\": null, \"status\": \"Completed\", \"run_type\": \"azureml.scriptrun\", \"training_percent\": \"100\", \"start_time\": \"2020-12-10T07:30:06.036037Z\", \"end_time\": \"2020-12-10T07:31:09.05226Z\", \"created_time\": \"2020-12-10T07:28:57.833529Z\", \"created_time_dt\": \"2020-12-10T07:28:57.833529Z\", \"duration\": \"0:02:11\", \"iteration\": \"13\", \"goal\": \"AUC_weighted_max\", \"run_name\": \"RobustScaler, RandomForest\", \"run_properties\": \"copy=True, quantile_range=[10, 90], with_centering=True,\\n             with_scaling=False\", \"primary_metric\": 0.80514796, \"best_metric\": 0.83703295}, {\"run_id\": \"AutoML_31cc46ea-2925-4421-9ce2-37ad4aa234d0_14\", \"run_number\": 45, \"metric\": null, \"status\": \"Completed\", \"run_type\": \"azureml.scriptrun\", \"training_percent\": \"100\", \"start_time\": \"2020-12-10T07:29:53.038253Z\", \"end_time\": \"2020-12-10T07:30:56.362344Z\", \"created_time\": \"2020-12-10T07:28:57.993683Z\", \"created_time_dt\": \"2020-12-10T07:28:57.993683Z\", \"duration\": \"0:01:58\", \"iteration\": \"14\", \"goal\": \"AUC_weighted_max\", \"run_name\": \"MinMaxScaler, RandomForest\", \"run_properties\": \"copy=True, feature_range=(0, 1\", \"primary_metric\": 0.8217876, \"best_metric\": 0.83703295}, {\"run_id\": \"AutoML_31cc46ea-2925-4421-9ce2-37ad4aa234d0_15\", \"run_number\": 46, \"metric\": null, \"status\": \"Completed\", \"run_type\": \"azureml.scriptrun\", \"training_percent\": \"100\", \"start_time\": \"2020-12-10T07:30:29.037011Z\", \"end_time\": \"2020-12-10T07:31:35.521077Z\", \"created_time\": \"2020-12-10T07:29:23.916632Z\", \"created_time_dt\": \"2020-12-10T07:29:23.916632Z\", \"duration\": \"0:02:11\", \"iteration\": \"15\", \"goal\": \"AUC_weighted_max\", \"run_name\": \"MinMaxScaler, ExtremeRandomTrees\", \"run_properties\": \"copy=True, feature_range=(0, 1\", \"primary_metric\": 0.80938686, \"best_metric\": 0.83703295}, {\"run_id\": \"AutoML_31cc46ea-2925-4421-9ce2-37ad4aa234d0_16\", \"run_number\": 51, \"metric\": null, \"status\": \"Completed\", \"run_type\": \"azureml.scriptrun\", \"training_percent\": \"100\", \"start_time\": \"2020-12-10T07:32:05.141337Z\", \"end_time\": \"2020-12-10T07:33:10.429886Z\", \"created_time\": \"2020-12-10T07:30:54.068515Z\", \"created_time_dt\": \"2020-12-10T07:30:54.068515Z\", \"duration\": \"0:02:16\", \"iteration\": \"16\", \"goal\": \"AUC_weighted_max\", \"run_name\": \"MaxAbsScaler, RandomForest\", \"run_properties\": \"copy=True\", \"primary_metric\": 0.81711269, \"best_metric\": 0.83703295}, {\"run_id\": \"AutoML_31cc46ea-2925-4421-9ce2-37ad4aa234d0_17\", \"run_number\": 52, \"metric\": null, \"status\": \"Completed\", \"run_type\": \"azureml.scriptrun\", \"training_percent\": \"100\", \"start_time\": \"2020-12-10T07:32:06.833222Z\", \"end_time\": \"2020-12-10T07:33:07.506074Z\", \"created_time\": \"2020-12-10T07:30:59.300569Z\", \"created_time_dt\": \"2020-12-10T07:30:59.300569Z\", \"duration\": \"0:02:08\", \"iteration\": \"17\", \"goal\": \"AUC_weighted_max\", \"run_name\": \"StandardScalerWrapper, XGBoostClassifier\", \"run_properties\": \"<azureml.automl.runtime.shared.model_wrappers.StandardScalerWrapper object at 0x7fc1cc4f63c8\", \"primary_metric\": 0.82226322, \"best_metric\": 0.83703295}, {\"run_id\": \"AutoML_31cc46ea-2925-4421-9ce2-37ad4aa234d0_18\", \"run_number\": 53, \"metric\": null, \"status\": \"Completed\", \"run_type\": \"azureml.scriptrun\", \"training_percent\": \"100\", \"start_time\": \"2020-12-10T07:32:22.369191Z\", \"end_time\": \"2020-12-10T07:33:23.223844Z\", \"created_time\": \"2020-12-10T07:31:12.022509Z\", \"created_time_dt\": \"2020-12-10T07:31:12.022509Z\", \"duration\": \"0:02:11\", \"iteration\": \"18\", \"goal\": \"AUC_weighted_max\", \"run_name\": \"MaxAbsScaler, RandomForest\", \"run_properties\": \"copy=True\", \"primary_metric\": 0.82430523, \"best_metric\": 0.83703295}, {\"run_id\": \"AutoML_31cc46ea-2925-4421-9ce2-37ad4aa234d0_19\", \"run_number\": 54, \"metric\": null, \"status\": \"Completed\", \"run_type\": \"azureml.scriptrun\", \"training_percent\": \"100\", \"start_time\": \"2020-12-10T07:32:49.771571Z\", \"end_time\": \"2020-12-10T07:33:53.849933Z\", \"created_time\": \"2020-12-10T07:31:38.87818Z\", \"created_time_dt\": \"2020-12-10T07:31:38.87818Z\", \"duration\": \"0:02:14\", \"iteration\": \"19\", \"goal\": \"AUC_weighted_max\", \"run_name\": \"MaxAbsScaler, ExtremeRandomTrees\", \"run_properties\": \"copy=True\", \"primary_metric\": 0.82363363, \"best_metric\": 0.83703295}, {\"run_id\": \"AutoML_31cc46ea-2925-4421-9ce2-37ad4aa234d0_20\", \"run_number\": 59, \"metric\": null, \"status\": \"Completed\", \"run_type\": \"azureml.scriptrun\", \"training_percent\": \"100\", \"start_time\": \"2020-12-10T07:33:23.338531Z\", \"end_time\": \"2020-12-10T07:34:26.153536Z\", \"created_time\": \"2020-12-10T07:33:10.49228Z\", \"created_time_dt\": \"2020-12-10T07:33:10.49228Z\", \"duration\": \"0:01:15\", \"iteration\": \"20\", \"goal\": \"AUC_weighted_max\", \"run_name\": \"MaxAbsScaler, ExtremeRandomTrees\", \"run_properties\": \"copy=True\", \"primary_metric\": 0.82960361, \"best_metric\": 0.83703295}, {\"run_id\": \"AutoML_31cc46ea-2925-4421-9ce2-37ad4aa234d0_21\", \"run_number\": 60, \"metric\": null, \"status\": \"Completed\", \"run_type\": \"azureml.scriptrun\", \"training_percent\": \"100\", \"start_time\": \"2020-12-10T07:33:30.887055Z\", \"end_time\": \"2020-12-10T07:34:28.928242Z\", \"created_time\": \"2020-12-10T07:33:16.930907Z\", \"created_time_dt\": \"2020-12-10T07:33:16.930907Z\", \"duration\": \"0:01:11\", \"iteration\": \"21\", \"goal\": \"AUC_weighted_max\", \"run_name\": \"StandardScalerWrapper, SVM\", \"run_properties\": \"<azureml.automl.runtime.shared.model_wrappers.StandardScalerWrapper object at 0x7fd494447ef0\", \"primary_metric\": 0.81855856, \"best_metric\": 0.83703295}, {\"run_id\": \"AutoML_31cc46ea-2925-4421-9ce2-37ad4aa234d0_22\", \"run_number\": 61, \"metric\": null, \"status\": \"Completed\", \"run_type\": \"azureml.scriptrun\", \"training_percent\": \"100\", \"start_time\": \"2020-12-10T07:33:57.939701Z\", \"end_time\": \"2020-12-10T07:34:59.52871Z\", \"created_time\": \"2020-12-10T07:33:25.634033Z\", \"created_time_dt\": \"2020-12-10T07:33:25.634033Z\", \"duration\": \"0:01:33\", \"iteration\": \"22\", \"goal\": \"AUC_weighted_max\", \"run_name\": \"MaxAbsScaler, LogisticRegression\", \"run_properties\": \"copy=True\", \"primary_metric\": 0.83012322, \"best_metric\": 0.83703295}, {\"run_id\": \"AutoML_31cc46ea-2925-4421-9ce2-37ad4aa234d0_23\", \"run_number\": 62, \"metric\": null, \"status\": \"Completed\", \"run_type\": \"azureml.scriptrun\", \"training_percent\": \"100\", \"start_time\": \"2020-12-10T07:34:29.456153Z\", \"end_time\": \"2020-12-10T07:35:34.356685Z\", \"created_time\": \"2020-12-10T07:33:55.973297Z\", \"created_time_dt\": \"2020-12-10T07:33:55.973297Z\", \"duration\": \"0:01:38\", \"iteration\": \"23\", \"goal\": \"AUC_weighted_max\", \"run_name\": \"StandardScalerWrapper, SVM\", \"run_properties\": \"<azureml.automl.runtime.shared.model_wrappers.StandardScalerWrapper object at 0x7fce1a82fdd8\", \"primary_metric\": 0.76804802, \"best_metric\": 0.83703295}, {\"run_id\": \"AutoML_31cc46ea-2925-4421-9ce2-37ad4aa234d0_24\", \"run_number\": 63, \"metric\": null, \"status\": \"Completed\", \"run_type\": \"azureml.scriptrun\", \"training_percent\": \"100\", \"start_time\": \"2020-12-10T07:34:42.431674Z\", \"end_time\": \"2020-12-10T07:35:43.710286Z\", \"created_time\": \"2020-12-10T07:34:27.938505Z\", \"created_time_dt\": \"2020-12-10T07:34:27.938505Z\", \"duration\": \"0:01:15\", \"iteration\": \"24\", \"goal\": \"AUC_weighted_max\", \"run_name\": \"MaxAbsScaler, LightGBM\", \"run_properties\": \"copy=True\", \"primary_metric\": 0.82654158, \"best_metric\": 0.83703295}, {\"run_id\": \"AutoML_31cc46ea-2925-4421-9ce2-37ad4aa234d0_25\", \"run_number\": 64, \"metric\": null, \"status\": \"Completed\", \"run_type\": \"azureml.scriptrun\", \"training_percent\": \"100\", \"start_time\": \"2020-12-10T07:35:04.213314Z\", \"end_time\": \"2020-12-10T07:36:21.071554Z\", \"created_time\": \"2020-12-10T07:34:34.908493Z\", \"created_time_dt\": \"2020-12-10T07:34:34.908493Z\", \"duration\": \"0:01:46\", \"iteration\": \"25\", \"goal\": \"AUC_weighted_max\", \"run_name\": \"PCA, ExtremeRandomTrees\", \"run_properties\": \"copy=True, iterated_power='auto', n_components=0.01, random_state=None,\\n    svd_solver='auto', tol=0.0, whiten=True\", \"primary_metric\": 0.61877201, \"best_metric\": 0.83703295}, {\"run_id\": \"AutoML_31cc46ea-2925-4421-9ce2-37ad4aa234d0_26\", \"run_number\": 65, \"metric\": null, \"status\": \"Completed\", \"run_type\": \"azureml.scriptrun\", \"training_percent\": \"100\", \"start_time\": \"2020-12-10T07:35:24.566723Z\", \"end_time\": \"2020-12-10T07:36:20.663162Z\", \"created_time\": \"2020-12-10T07:35:01.606388Z\", \"created_time_dt\": \"2020-12-10T07:35:01.606388Z\", \"duration\": \"0:01:19\", \"iteration\": \"26\", \"goal\": \"AUC_weighted_max\", \"run_name\": \"TruncatedSVDWrapper, XGBoostClassifier\", \"run_properties\": \"n_components=0.7026315789473684, random_state=None\", \"primary_metric\": 0.79356925, \"best_metric\": 0.83703295}, {\"run_id\": \"AutoML_31cc46ea-2925-4421-9ce2-37ad4aa234d0_27\", \"run_number\": 67, \"metric\": null, \"status\": \"Completed\", \"run_type\": \"azureml.scriptrun\", \"training_percent\": \"100\", \"start_time\": \"2020-12-10T07:36:27.325219Z\", \"end_time\": \"2020-12-10T07:37:25.727649Z\", \"created_time\": \"2020-12-10T07:35:36.220282Z\", \"created_time_dt\": \"2020-12-10T07:35:36.220282Z\", \"duration\": \"0:01:49\", \"iteration\": \"27\", \"goal\": \"AUC_weighted_max\", \"run_name\": \"StandardScalerWrapper, SVM\", \"run_properties\": \"<azureml.automl.runtime.shared.model_wrappers.StandardScalerWrapper object at 0x7fd6a92f2c50\", \"primary_metric\": 0.83553626, \"best_metric\": 0.83703295}, {\"run_id\": \"AutoML_31cc46ea-2925-4421-9ce2-37ad4aa234d0_28\", \"run_number\": 68, \"metric\": null, \"status\": \"Completed\", \"run_type\": \"azureml.scriptrun\", \"training_percent\": \"100\", \"start_time\": \"2020-12-10T07:35:59.899239Z\", \"end_time\": \"2020-12-10T07:37:01.183236Z\", \"created_time\": \"2020-12-10T07:35:45.637115Z\", \"created_time_dt\": \"2020-12-10T07:35:45.637115Z\", \"duration\": \"0:01:15\", \"iteration\": \"28\", \"goal\": \"AUC_weighted_max\", \"run_name\": \"MaxAbsScaler, SVM\", \"run_properties\": \"copy=True\", \"primary_metric\": 0.77745901, \"best_metric\": 0.83703295}, {\"run_id\": \"AutoML_31cc46ea-2925-4421-9ce2-37ad4aa234d0_29\", \"run_number\": 69, \"metric\": null, \"status\": \"Completed\", \"run_type\": \"azureml.scriptrun\", \"training_percent\": \"100\", \"start_time\": \"2020-12-10T07:36:36.141185Z\", \"end_time\": \"2020-12-10T07:37:36.160071Z\", \"created_time\": \"2020-12-10T07:36:23.815442Z\", \"created_time_dt\": \"2020-12-10T07:36:23.815442Z\", \"duration\": \"0:01:12\", \"iteration\": \"29\", \"goal\": \"AUC_weighted_max\", \"run_name\": \"SparseNormalizer, ExtremeRandomTrees\", \"run_properties\": \"<azureml.automl.runtime.shared.model_wrappers.SparseNormalizer object at 0x7fc81984cf28\", \"primary_metric\": 0.62165773, \"best_metric\": 0.83703295}, {\"run_id\": \"AutoML_31cc46ea-2925-4421-9ce2-37ad4aa234d0_30\", \"run_number\": 70, \"metric\": null, \"status\": \"Completed\", \"run_type\": \"azureml.scriptrun\", \"training_percent\": \"100\", \"start_time\": \"2020-12-10T07:37:02.432886Z\", \"end_time\": \"2020-12-10T07:38:06.775443Z\", \"created_time\": \"2020-12-10T07:36:23.84736Z\", \"created_time_dt\": \"2020-12-10T07:36:23.84736Z\", \"duration\": \"0:01:42\", \"iteration\": \"30\", \"goal\": \"AUC_weighted_max\", \"run_name\": \"SparseNormalizer, XGBoostClassifier\", \"run_properties\": \"<azureml.automl.runtime.shared.model_wrappers.SparseNormalizer object at 0x7f58413571d0\", \"primary_metric\": 0.70638712, \"best_metric\": 0.83703295}, {\"run_id\": \"AutoML_31cc46ea-2925-4421-9ce2-37ad4aa234d0_31\", \"run_number\": 71, \"metric\": null, \"status\": \"Completed\", \"run_type\": \"azureml.scriptrun\", \"training_percent\": \"100\", \"start_time\": \"2020-12-10T07:37:15.904884Z\", \"end_time\": \"2020-12-10T07:38:16.737032Z\", \"created_time\": \"2020-12-10T07:37:02.971033Z\", \"created_time_dt\": \"2020-12-10T07:37:02.971033Z\", \"duration\": \"0:01:13\", \"iteration\": \"31\", \"goal\": \"AUC_weighted_max\", \"run_name\": \"MinMaxScaler, LightGBM\", \"run_properties\": \"copy=True, feature_range=(0, 1\", \"primary_metric\": 0.82313294, \"best_metric\": 0.83703295}, {\"run_id\": \"AutoML_31cc46ea-2925-4421-9ce2-37ad4aa234d0_32\", \"run_number\": 72, \"metric\": null, \"status\": \"Completed\", \"run_type\": \"azureml.scriptrun\", \"training_percent\": \"100\", \"start_time\": \"2020-12-10T07:37:40.188994Z\", \"end_time\": \"2020-12-10T07:38:43.430049Z\", \"created_time\": \"2020-12-10T07:37:27.722736Z\", \"created_time_dt\": \"2020-12-10T07:37:27.722736Z\", \"duration\": \"0:01:15\", \"iteration\": \"32\", \"goal\": \"AUC_weighted_max\", \"run_name\": \"SparseNormalizer, RandomForest\", \"run_properties\": \"<azureml.automl.runtime.shared.model_wrappers.SparseNormalizer object at 0x7fadc8d27860\", \"primary_metric\": 0.70730822, \"best_metric\": 0.83703295}, {\"run_id\": \"AutoML_31cc46ea-2925-4421-9ce2-37ad4aa234d0_33\", \"run_number\": 73, \"metric\": null, \"status\": \"Canceled\", \"run_type\": \"azureml.scriptrun\", \"training_percent\": \"100\", \"start_time\": \"2020-12-10T07:37:49.956662Z\", \"end_time\": \"2020-12-10T07:38:52.222161Z\", \"created_time\": \"2020-12-10T07:37:38.123503Z\", \"created_time_dt\": \"2020-12-10T07:37:38.123503Z\", \"duration\": \"0:01:14\", \"iteration\": \"33\", \"goal\": \"AUC_weighted_max\", \"run_name\": \"StandardScalerWrapper, XGBoostClassifier\", \"run_properties\": \"<azureml.automl.runtime.shared.model_wrappers.StandardScalerWrapper object at 0x7f249ab1a7b8\", \"primary_metric\": 0.81256834, \"best_metric\": 0.83703295}, {\"run_id\": \"AutoML_31cc46ea-2925-4421-9ce2-37ad4aa234d0_34\", \"run_number\": 74, \"metric\": null, \"status\": \"Canceled\", \"run_type\": \"azureml.scriptrun\", \"training_percent\": \"100\", \"start_time\": \"2020-12-10T07:38:21.880652Z\", \"end_time\": \"2020-12-10T07:38:51.207853Z\", \"created_time\": \"2020-12-10T07:38:08.774736Z\", \"created_time_dt\": \"2020-12-10T07:38:08.774736Z\", \"duration\": \"0:00:42\", \"iteration\": \"34\", \"goal\": null, \"run_name\": \"MaxAbsScaler, LightGBM\", \"run_properties\": null}, {\"run_id\": \"AutoML_31cc46ea-2925-4421-9ce2-37ad4aa234d0_35\", \"run_number\": 75, \"metric\": null, \"status\": \"Canceled\", \"run_type\": \"azureml.scriptrun\", \"training_percent\": \"100\", \"start_time\": \"2020-12-10T07:38:30.759508Z\", \"end_time\": \"2020-12-10T07:38:51.998152Z\", \"created_time\": \"2020-12-10T07:38:19.564332Z\", \"created_time_dt\": \"2020-12-10T07:38:19.564332Z\", \"duration\": \"0:00:32\", \"iteration\": \"35\", \"goal\": null, \"run_name\": \"Canceled\", \"run_properties\": null}, {\"run_id\": \"AutoML_31cc46ea-2925-4421-9ce2-37ad4aa234d0_36\", \"run_number\": 76, \"metric\": null, \"status\": \"Completed\", \"run_type\": \"azureml.scriptrun\", \"training_percent\": \"100\", \"start_time\": \"2020-12-10T07:39:16.774275Z\", \"end_time\": \"2020-12-10T07:41:40.492885Z\", \"created_time\": \"2020-12-10T07:39:03.536212Z\", \"created_time_dt\": \"2020-12-10T07:39:03.536212Z\", \"duration\": \"0:02:36\", \"iteration\": \"36\", \"goal\": \"AUC_weighted_max\", \"run_name\": \"VotingEnsemble\", \"run_properties\": \"classification_labels=None,\\n                              estimators=[('3',\\n                                           Pipeline(memory=None,\\n                                                    steps=[('robustscaler',\\n                                                            RobustScaler(copy=True,\\n                                                                         quantile_range=[10,\\n                                                                                         90],\\n                                                                         with_centering=False,\\n                                                                         with_scaling=False\", \"primary_metric\": 0.84799028, \"best_metric\": 0.84799028}], \"children_metrics\": {\"categories\": [0], \"series\": {\"AUC_weighted\": [{\"categories\": [\"0\", \"1\", \"2\", \"3\", \"4\", \"5\", \"6\", \"7\", \"8\", \"9\", \"10\", \"11\", \"12\", \"13\", \"14\", \"15\", \"16\", \"17\", \"18\", \"19\", \"20\", \"21\", \"22\", \"23\", \"24\", \"25\", \"26\", \"27\", \"28\", \"29\", \"30\", \"31\", \"32\", \"33\", \"36\"], \"mode\": \"markers\", \"name\": \"AUC_weighted\", \"stepped\": false, \"type\": \"scatter\", \"data\": [0.8069375909896099, 0.8324978940484952, 0.8215185386839666, 0.8370329514978213, 0.8322537292028548, 0.8247908889392834, 0.8268476797423234, 0.8232145016295037, 0.8142314740917369, 0.8307323821539209, 0.8301564207066411, 0.8217214738043437, 0.8301896416460048, 0.8051479570001148, 0.8217876038763766, 0.8093868567304696, 0.81711268862999, 0.8222632188031783, 0.8243052298362444, 0.8236336339538315, 0.829603605231568, 0.8185585644971267, 0.8301232249964636, 0.7680480247524784, 0.826541584030797, 0.6187720131234551, 0.7935692454103859, 0.8355362556814345, 0.7774590146653422, 0.6216577315839827, 0.7063871239096124, 0.8231329350042405, 0.7073082157276172, 0.8125683355999838, 0.8479902838357534]}, {\"categories\": [\"0\", \"1\", \"2\", \"3\", \"4\", \"5\", \"6\", \"7\", \"8\", \"9\", \"10\", \"11\", \"12\", \"13\", \"14\", \"15\", \"16\", \"17\", \"18\", \"19\", \"20\", \"21\", \"22\", \"23\", \"24\", \"25\", \"26\", \"27\", \"28\", \"29\", \"30\", \"31\", \"32\", \"33\", \"36\"], \"mode\": \"lines\", \"name\": \"AUC_weighted_max\", \"stepped\": true, \"type\": \"scatter\", \"data\": [0.8069375909896099, 0.8324978940484952, 0.8324978940484952, 0.8370329514978213, 0.8370329514978213, 0.8370329514978213, 0.8370329514978213, 0.8370329514978213, 0.8370329514978213, 0.8370329514978213, 0.8370329514978213, 0.8370329514978213, 0.8370329514978213, 0.8370329514978213, 0.8370329514978213, 0.8370329514978213, 0.8370329514978213, 0.8370329514978213, 0.8370329514978213, 0.8370329514978213, 0.8370329514978213, 0.8370329514978213, 0.8370329514978213, 0.8370329514978213, 0.8370329514978213, 0.8370329514978213, 0.8370329514978213, 0.8370329514978213, 0.8370329514978213, 0.8370329514978213, 0.8370329514978213, 0.8370329514978213, 0.8370329514978213, 0.8370329514978213, 0.8479902838357534]}], \"recall_score_micro\": [{\"categories\": [\"0\", \"1\", \"2\", \"3\", \"4\", \"5\", \"6\", \"7\", \"8\", \"9\", \"10\", \"11\", \"12\", \"13\", \"14\", \"15\", \"16\", \"17\", \"18\", \"19\", \"20\", \"21\", \"22\", \"23\", \"24\", \"25\", \"26\", \"27\", \"28\", \"29\", \"30\", \"31\", \"32\", \"33\", \"36\"], \"mode\": \"markers\", \"name\": \"recall_score_micro\", \"stepped\": false, \"type\": \"scatter\", \"data\": [0.7447539302802461, 0.7631408065618592, 0.7565960355434039, 0.7683014354066986, 0.7644224196855777, 0.7590738209159261, 0.7656185919343814, 0.7487525632262474, 0.7069207108680794, 0.7356801093643199, 0.7578605604921396, 0.75, 0.7721975393028024, 0.7279049897470949, 0.752717019822283, 0.7200102529049898, 0.7135509227614492, 0.753896103896104, 0.7538619275461381, 0.7461551606288449, 0.7461551606288448, 0.7565105946684894, 0.7722146274777855, 0.70446001367054, 0.7448393711551606, 0.6459842788790158, 0.7449077238550922, 0.7591934381408066, 0.718762816131237, 0.5781271360218729, 0.692634996582365, 0.7330656185919343, 0.6485304169514695, 0.7448393711551606, 0.7787081339712918]}, {\"categories\": [\"0\", \"1\", \"2\", \"3\", \"4\", \"5\", \"6\", \"7\", \"8\", \"9\", \"10\", \"11\", \"12\", \"13\", \"14\", \"15\", \"16\", \"17\", \"18\", \"19\", \"20\", \"21\", \"22\", \"23\", \"24\", \"25\", \"26\", \"27\", \"28\", \"29\", \"30\", \"31\", \"32\", \"33\", \"36\"], \"mode\": \"lines\", \"name\": \"recall_score_micro_max\", \"stepped\": true, \"type\": \"scatter\", \"data\": [0.7447539302802461, 0.7631408065618592, 0.7631408065618592, 0.7683014354066986, 0.7683014354066986, 0.7683014354066986, 0.7683014354066986, 0.7683014354066986, 0.7683014354066986, 0.7683014354066986, 0.7683014354066986, 0.7683014354066986, 0.7721975393028024, 0.7721975393028024, 0.7721975393028024, 0.7721975393028024, 0.7721975393028024, 0.7721975393028024, 0.7721975393028024, 0.7721975393028024, 0.7721975393028024, 0.7721975393028024, 0.7722146274777855, 0.7722146274777855, 0.7722146274777855, 0.7722146274777855, 0.7722146274777855, 0.7722146274777855, 0.7722146274777855, 0.7722146274777855, 0.7722146274777855, 0.7722146274777855, 0.7722146274777855, 0.7722146274777855, 0.7787081339712918]}], \"AUC_macro\": [{\"categories\": [\"0\", \"1\", \"2\", \"3\", \"4\", \"5\", \"6\", \"7\", \"8\", \"9\", \"10\", \"11\", \"12\", \"13\", \"14\", \"15\", \"16\", \"17\", \"18\", \"19\", \"20\", \"21\", \"22\", \"23\", \"24\", \"25\", \"26\", \"27\", \"28\", \"29\", \"30\", \"31\", \"32\", \"33\", \"36\"], \"mode\": \"markers\", \"name\": \"AUC_macro\", \"stepped\": false, \"type\": \"scatter\", \"data\": [0.8069375909896099, 0.8324978940484952, 0.8215185386839666, 0.8370329514978213, 0.8322537292028548, 0.8247908889392832, 0.8268476797423233, 0.8232145016295037, 0.8142314740917369, 0.830732382153921, 0.8301564207066411, 0.8217214738043437, 0.8301896416460048, 0.8051479570001149, 0.8217876038763767, 0.8093868567304696, 0.81711268862999, 0.8222632188031783, 0.8243052298362444, 0.8236336339538314, 0.829603605231568, 0.8185585644971267, 0.8301232249964638, 0.7680480247524784, 0.826541584030797, 0.6187720131234551, 0.7935692454103859, 0.8355362556814345, 0.7774590146653422, 0.6216577315839826, 0.7063871239096124, 0.8231329350042405, 0.7073082157276172, 0.8125683355999838, 0.8479902838357534]}, {\"categories\": [\"0\", \"1\", \"2\", \"3\", \"4\", \"5\", \"6\", \"7\", \"8\", \"9\", \"10\", \"11\", \"12\", \"13\", \"14\", \"15\", \"16\", \"17\", \"18\", \"19\", \"20\", \"21\", \"22\", \"23\", \"24\", \"25\", \"26\", \"27\", \"28\", \"29\", \"30\", \"31\", \"32\", \"33\", \"36\"], \"mode\": \"lines\", \"name\": \"AUC_macro_max\", \"stepped\": true, \"type\": \"scatter\", \"data\": [0.8069375909896099, 0.8324978940484952, 0.8324978940484952, 0.8370329514978213, 0.8370329514978213, 0.8370329514978213, 0.8370329514978213, 0.8370329514978213, 0.8370329514978213, 0.8370329514978213, 0.8370329514978213, 0.8370329514978213, 0.8370329514978213, 0.8370329514978213, 0.8370329514978213, 0.8370329514978213, 0.8370329514978213, 0.8370329514978213, 0.8370329514978213, 0.8370329514978213, 0.8370329514978213, 0.8370329514978213, 0.8370329514978213, 0.8370329514978213, 0.8370329514978213, 0.8370329514978213, 0.8370329514978213, 0.8370329514978213, 0.8370329514978213, 0.8370329514978213, 0.8370329514978213, 0.8370329514978213, 0.8370329514978213, 0.8370329514978213, 0.8479902838357534]}], \"norm_macro_recall\": [{\"categories\": [\"0\", \"1\", \"2\", \"3\", \"4\", \"5\", \"6\", \"7\", \"8\", \"9\", \"10\", \"11\", \"12\", \"13\", \"14\", \"15\", \"16\", \"17\", \"18\", \"19\", \"20\", \"21\", \"22\", \"23\", \"24\", \"25\", \"26\", \"27\", \"28\", \"29\", \"30\", \"31\", \"32\", \"33\", \"36\"], \"mode\": \"markers\", \"name\": \"norm_macro_recall\", \"stepped\": false, \"type\": \"scatter\", \"data\": [0.4116871108226574, 0.45688454704642734, 0.4129912444576001, 0.3886295970388833, 0.5141885489959853, 0.40978282997266857, 0.45380965031195614, 0.3578772070259336, 0.17707859640272383, 0.2647102925373547, 0.3598903294937254, 0.5172411017344464, 0.4430713216490389, 0.45770928051789583, 0.3613129499330632, 0.4430817661620775, 0.44791847350148367, 0.40009733287185867, 0.41007294957601526, 0.4962052746715256, 0.488840647631026, 0.4038805865988813, 0.4380012012932043, 0.2481326304098026, 0.40197672240068216, 0.1847115874116451, 0.38623574486513385, 0.40982421268072666, 0.2775601149540464, 0.15993615715940418, 0.2874147138453553, 0.2887871070602178, 0.2999778951876479, 0.4151333783866275, 0.4811438951730588]}, {\"categories\": [\"0\", \"1\", \"2\", \"3\", \"4\", \"5\", \"6\", \"7\", \"8\", \"9\", \"10\", \"11\", \"12\", \"13\", \"14\", \"15\", \"16\", \"17\", \"18\", \"19\", \"20\", \"21\", \"22\", \"23\", \"24\", \"25\", \"26\", \"27\", \"28\", \"29\", \"30\", \"31\", \"32\", \"33\", \"36\"], \"mode\": \"lines\", \"name\": \"norm_macro_recall_max\", \"stepped\": true, \"type\": \"scatter\", \"data\": [0.4116871108226574, 0.45688454704642734, 0.45688454704642734, 0.45688454704642734, 0.5141885489959853, 0.5141885489959853, 0.5141885489959853, 0.5141885489959853, 0.5141885489959853, 0.5141885489959853, 0.5141885489959853, 0.5172411017344464, 0.5172411017344464, 0.5172411017344464, 0.5172411017344464, 0.5172411017344464, 0.5172411017344464, 0.5172411017344464, 0.5172411017344464, 0.5172411017344464, 0.5172411017344464, 0.5172411017344464, 0.5172411017344464, 0.5172411017344464, 0.5172411017344464, 0.5172411017344464, 0.5172411017344464, 0.5172411017344464, 0.5172411017344464, 0.5172411017344464, 0.5172411017344464, 0.5172411017344464, 0.5172411017344464, 0.5172411017344464, 0.5172411017344464]}], \"precision_score_micro\": [{\"categories\": [\"0\", \"1\", \"2\", \"3\", \"4\", \"5\", \"6\", \"7\", \"8\", \"9\", \"10\", \"11\", \"12\", \"13\", \"14\", \"15\", \"16\", \"17\", \"18\", \"19\", \"20\", \"21\", \"22\", \"23\", \"24\", \"25\", \"26\", \"27\", \"28\", \"29\", \"30\", \"31\", \"32\", \"33\", \"36\"], \"mode\": \"markers\", \"name\": \"precision_score_micro\", \"stepped\": false, \"type\": \"scatter\", \"data\": [0.7447539302802461, 0.7631408065618592, 0.7565960355434039, 0.7683014354066986, 0.7644224196855777, 0.7590738209159261, 0.7656185919343814, 0.7487525632262474, 0.7069207108680794, 0.7356801093643199, 0.7578605604921396, 0.75, 0.7721975393028024, 0.7279049897470949, 0.752717019822283, 0.7200102529049898, 0.7135509227614492, 0.753896103896104, 0.7538619275461381, 0.7461551606288449, 0.7461551606288448, 0.7565105946684894, 0.7722146274777855, 0.70446001367054, 0.7448393711551606, 0.6459842788790158, 0.7449077238550922, 0.7591934381408066, 0.718762816131237, 0.5781271360218729, 0.692634996582365, 0.7330656185919343, 0.6485304169514695, 0.7448393711551606, 0.7787081339712918]}, {\"categories\": [\"0\", \"1\", \"2\", \"3\", \"4\", \"5\", \"6\", \"7\", \"8\", \"9\", \"10\", \"11\", \"12\", \"13\", \"14\", \"15\", \"16\", \"17\", \"18\", \"19\", \"20\", \"21\", \"22\", \"23\", \"24\", \"25\", \"26\", \"27\", \"28\", \"29\", \"30\", \"31\", \"32\", \"33\", \"36\"], \"mode\": \"lines\", \"name\": \"precision_score_micro_max\", \"stepped\": true, \"type\": \"scatter\", \"data\": [0.7447539302802461, 0.7631408065618592, 0.7631408065618592, 0.7683014354066986, 0.7683014354066986, 0.7683014354066986, 0.7683014354066986, 0.7683014354066986, 0.7683014354066986, 0.7683014354066986, 0.7683014354066986, 0.7683014354066986, 0.7721975393028024, 0.7721975393028024, 0.7721975393028024, 0.7721975393028024, 0.7721975393028024, 0.7721975393028024, 0.7721975393028024, 0.7721975393028024, 0.7721975393028024, 0.7721975393028024, 0.7722146274777855, 0.7722146274777855, 0.7722146274777855, 0.7722146274777855, 0.7722146274777855, 0.7722146274777855, 0.7722146274777855, 0.7722146274777855, 0.7722146274777855, 0.7722146274777855, 0.7722146274777855, 0.7722146274777855, 0.7787081339712918]}], \"f1_score_macro\": [{\"categories\": [\"0\", \"1\", \"2\", \"3\", \"4\", \"5\", \"6\", \"7\", \"8\", \"9\", \"10\", \"11\", \"12\", \"13\", \"14\", \"15\", \"16\", \"17\", \"18\", \"19\", \"20\", \"21\", \"22\", \"23\", \"24\", \"25\", \"26\", \"27\", \"28\", \"29\", \"30\", \"31\", \"32\", \"33\", \"36\"], \"mode\": \"markers\", \"name\": \"f1_score_macro\", \"stepped\": false, \"type\": \"scatter\", \"data\": [0.7087116818477601, 0.7316499642812173, 0.7132202877899215, 0.7067803483373274, 0.7469058335578618, 0.7137153947048869, 0.7318883006688363, 0.6873118702211869, 0.5564466505018998, 0.6277477749302822, 0.6885437228317327, 0.7372973246515457, 0.7301279110101258, 0.7129569695352984, 0.6909808820815324, 0.7043870107708339, 0.7012429408856872, 0.7081393448560187, 0.7115565298013915, 0.7317889707885898, 0.7299246148084737, 0.7105930534239977, 0.7282854173569422, 0.6229563544466175, 0.7057258393834247, 0.5883364311855267, 0.7007749792398265, 0.7122104813249147, 0.6435584772262822, 0.5555319058704079, 0.6446313554586639, 0.645607149684477, 0.6332555627992961, 0.7089444710032782, 0.7457572961384813]}, {\"categories\": [\"0\", \"1\", \"2\", \"3\", \"4\", \"5\", \"6\", \"7\", \"8\", \"9\", \"10\", \"11\", \"12\", \"13\", \"14\", \"15\", \"16\", \"17\", \"18\", \"19\", \"20\", \"21\", \"22\", \"23\", \"24\", \"25\", \"26\", \"27\", \"28\", \"29\", \"30\", \"31\", \"32\", \"33\", \"36\"], \"mode\": \"lines\", \"name\": \"f1_score_macro_max\", \"stepped\": true, \"type\": \"scatter\", \"data\": [0.7087116818477601, 0.7316499642812173, 0.7316499642812173, 0.7316499642812173, 0.7469058335578618, 0.7469058335578618, 0.7469058335578618, 0.7469058335578618, 0.7469058335578618, 0.7469058335578618, 0.7469058335578618, 0.7469058335578618, 0.7469058335578618, 0.7469058335578618, 0.7469058335578618, 0.7469058335578618, 0.7469058335578618, 0.7469058335578618, 0.7469058335578618, 0.7469058335578618, 0.7469058335578618, 0.7469058335578618, 0.7469058335578618, 0.7469058335578618, 0.7469058335578618, 0.7469058335578618, 0.7469058335578618, 0.7469058335578618, 0.7469058335578618, 0.7469058335578618, 0.7469058335578618, 0.7469058335578618, 0.7469058335578618, 0.7469058335578618, 0.7469058335578618]}], \"weighted_accuracy\": [{\"categories\": [\"0\", \"1\", \"2\", \"3\", \"4\", \"5\", \"6\", \"7\", \"8\", \"9\", \"10\", \"11\", \"12\", \"13\", \"14\", \"15\", \"16\", \"17\", \"18\", \"19\", \"20\", \"21\", \"22\", \"23\", \"24\", \"25\", \"26\", \"27\", \"28\", \"29\", \"30\", \"31\", \"32\", \"33\", \"36\"], \"mode\": \"markers\", \"name\": \"weighted_accuracy\", \"stepped\": false, \"type\": \"scatter\", \"data\": [0.7750731981881509, 0.7907051438675505, 0.7967062635641408, 0.8272619304682358, 0.7708254053567609, 0.8027835834924701, 0.7961202665350388, 0.805242523256091, 0.8020127086962507, 0.817862837875033, 0.8205916702567739, 0.7432455058621869, 0.8123697398546043, 0.7269148653475644, 0.8097186655640088, 0.7190674152258357, 0.7053821002799731, 0.7967945338163327, 0.7926767493469722, 0.7446902329227786, 0.7471914628131529, 0.7997758698517754, 0.8144450224602897, 0.7691303235856755, 0.7798840850192026, 0.6910259265851089, 0.785254128125376, 0.8019163659079581, 0.7826407219794781, 0.5807473209292815, 0.7328565978163835, 0.8049068852479268, 0.6462349907740312, 0.7742997017386031, 0.8087168269510243]}, {\"categories\": [\"0\", \"1\", \"2\", \"3\", \"4\", \"5\", \"6\", \"7\", \"8\", \"9\", \"10\", \"11\", \"12\", \"13\", \"14\", \"15\", \"16\", \"17\", \"18\", \"19\", \"20\", \"21\", \"22\", \"23\", \"24\", \"25\", \"26\", \"27\", \"28\", \"29\", \"30\", \"31\", \"32\", \"33\", \"36\"], \"mode\": \"lines\", \"name\": \"weighted_accuracy_max\", \"stepped\": true, \"type\": \"scatter\", \"data\": [0.7750731981881509, 0.7907051438675505, 0.7967062635641408, 0.8272619304682358, 0.8272619304682358, 0.8272619304682358, 0.8272619304682358, 0.8272619304682358, 0.8272619304682358, 0.8272619304682358, 0.8272619304682358, 0.8272619304682358, 0.8272619304682358, 0.8272619304682358, 0.8272619304682358, 0.8272619304682358, 0.8272619304682358, 0.8272619304682358, 0.8272619304682358, 0.8272619304682358, 0.8272619304682358, 0.8272619304682358, 0.8272619304682358, 0.8272619304682358, 0.8272619304682358, 0.8272619304682358, 0.8272619304682358, 0.8272619304682358, 0.8272619304682358, 0.8272619304682358, 0.8272619304682358, 0.8272619304682358, 0.8272619304682358, 0.8272619304682358, 0.8272619304682358]}], \"matthews_correlation\": [{\"categories\": [\"0\", \"1\", \"2\", \"3\", \"4\", \"5\", \"6\", \"7\", \"8\", \"9\", \"10\", \"11\", \"12\", \"13\", \"14\", \"15\", \"16\", \"17\", \"18\", \"19\", \"20\", \"21\", \"22\", \"23\", \"24\", \"25\", \"26\", \"27\", \"28\", \"29\", \"30\", \"31\", \"32\", \"33\", \"36\"], \"mode\": \"markers\", \"name\": \"matthews_correlation\", \"stepped\": false, \"type\": \"scatter\", \"data\": [0.4222593887302197, 0.4683152121091704, 0.4430319251583706, 0.4629228941678988, 0.5008480010927225, 0.44795910421554924, 0.4710804541254553, 0.4210355914528862, 0.29146755417350373, 0.38538436846053636, 0.4377092922157912, 0.4955263107280442, 0.47535040019977537, 0.4393316063227508, 0.4224885540950103, 0.4262250867204485, 0.42878104359126346, 0.43260372778308165, 0.43737634968945416, 0.4775971255862596, 0.4722528704073553, 0.4391850127760229, 0.4757318065921791, 0.31037664134113396, 0.4212948687928194, 0.1857655549848804, 0.4142509618273825, 0.4450543439817135, 0.3392045896953881, 0.14301974678028198, 0.30579990008172403, 0.3772870764163564, 0.2878991969614276, 0.42566386013737467, 0.4990461224531753]}, {\"categories\": [\"0\", \"1\", \"2\", \"3\", \"4\", \"5\", \"6\", \"7\", \"8\", \"9\", \"10\", \"11\", \"12\", \"13\", \"14\", \"15\", \"16\", \"17\", \"18\", \"19\", \"20\", \"21\", \"22\", \"23\", \"24\", \"25\", \"26\", \"27\", \"28\", \"29\", \"30\", \"31\", \"32\", \"33\", \"36\"], \"mode\": \"lines\", \"name\": \"matthews_correlation_max\", \"stepped\": true, \"type\": \"scatter\", \"data\": [0.4222593887302197, 0.4683152121091704, 0.4683152121091704, 0.4683152121091704, 0.5008480010927225, 0.5008480010927225, 0.5008480010927225, 0.5008480010927225, 0.5008480010927225, 0.5008480010927225, 0.5008480010927225, 0.5008480010927225, 0.5008480010927225, 0.5008480010927225, 0.5008480010927225, 0.5008480010927225, 0.5008480010927225, 0.5008480010927225, 0.5008480010927225, 0.5008480010927225, 0.5008480010927225, 0.5008480010927225, 0.5008480010927225, 0.5008480010927225, 0.5008480010927225, 0.5008480010927225, 0.5008480010927225, 0.5008480010927225, 0.5008480010927225, 0.5008480010927225, 0.5008480010927225, 0.5008480010927225, 0.5008480010927225, 0.5008480010927225, 0.5008480010927225]}], \"precision_score_weighted\": [{\"categories\": [\"0\", \"1\", \"2\", \"3\", \"4\", \"5\", \"6\", \"7\", \"8\", \"9\", \"10\", \"11\", \"12\", \"13\", \"14\", \"15\", \"16\", \"17\", \"18\", \"19\", \"20\", \"21\", \"22\", \"23\", \"24\", \"25\", \"26\", \"27\", \"28\", \"29\", \"30\", \"31\", \"32\", \"33\", \"36\"], \"mode\": \"markers\", \"name\": \"precision_score_weighted\", \"stepped\": false, \"type\": \"scatter\", \"data\": [0.7414222880845946, 0.7633076176309477, 0.7551354902980226, 0.775278911739078, 0.7770852740868017, 0.7583462186336354, 0.7651524227416553, 0.7548682433455336, 0.7276175814272245, 0.7690471954594378, 0.7677930530027567, 0.7793305714706416, 0.769981559986608, 0.7511144605636237, 0.7527165826936497, 0.7460663859171468, 0.7498820124964175, 0.7493087945802033, 0.7513005145940066, 0.7685571632091821, 0.7665420933180591, 0.753215469201345, 0.7715171558122516, 0.7115696623442731, 0.742941460048643, 0.6338832510736994, 0.7418024469762557, 0.7590741584056752, 0.7171315654483612, 0.6178844894852042, 0.6917570763802052, 0.7457816936946344, 0.684420761313394, 0.7441211802486796, 0.7775523341996421]}, {\"categories\": [\"0\", \"1\", \"2\", \"3\", \"4\", \"5\", \"6\", \"7\", \"8\", \"9\", \"10\", \"11\", \"12\", \"13\", \"14\", \"15\", \"16\", \"17\", \"18\", \"19\", \"20\", \"21\", \"22\", \"23\", \"24\", \"25\", \"26\", \"27\", \"28\", \"29\", \"30\", \"31\", \"32\", \"33\", \"36\"], \"mode\": \"lines\", \"name\": \"precision_score_weighted_max\", \"stepped\": true, \"type\": \"scatter\", \"data\": [0.7414222880845946, 0.7633076176309477, 0.7633076176309477, 0.775278911739078, 0.7770852740868017, 0.7770852740868017, 0.7770852740868017, 0.7770852740868017, 0.7770852740868017, 0.7770852740868017, 0.7770852740868017, 0.7793305714706416, 0.7793305714706416, 0.7793305714706416, 0.7793305714706416, 0.7793305714706416, 0.7793305714706416, 0.7793305714706416, 0.7793305714706416, 0.7793305714706416, 0.7793305714706416, 0.7793305714706416, 0.7793305714706416, 0.7793305714706416, 0.7793305714706416, 0.7793305714706416, 0.7793305714706416, 0.7793305714706416, 0.7793305714706416, 0.7793305714706416, 0.7793305714706416, 0.7793305714706416, 0.7793305714706416, 0.7793305714706416, 0.7793305714706416]}], \"AUC_micro\": [{\"categories\": [\"0\", \"1\", \"2\", \"3\", \"4\", \"5\", \"6\", \"7\", \"8\", \"9\", \"10\", \"11\", \"12\", \"13\", \"14\", \"15\", \"16\", \"17\", \"18\", \"19\", \"20\", \"21\", \"22\", \"23\", \"24\", \"25\", \"26\", \"27\", \"28\", \"29\", \"30\", \"31\", \"32\", \"33\", \"36\"], \"mode\": \"markers\", \"name\": \"AUC_micro\", \"stepped\": false, \"type\": \"scatter\", \"data\": [0.8284990841532464, 0.8516033829914373, 0.8432030995590012, 0.8455556641167948, 0.8424546188063834, 0.8434349842246828, 0.8441521882441767, 0.8369193612176218, 0.8035552543743625, 0.8198064913106105, 0.8347672994703249, 0.8203906662823093, 0.8528040170877077, 0.8104546546646862, 0.8334425717014217, 0.808537164035734, 0.8098617720822905, 0.8422049801926678, 0.8428667848861574, 0.8224392966820206, 0.8341512871145115, 0.8366388911795116, 0.8519477482620988, 0.7900915668630036, 0.8469588012627728, 0.6391872995964716, 0.8210368282291511, 0.8533576979016235, 0.7993088034703362, 0.6121891336260242, 0.7460705052493284, 0.8214721182422282, 0.7206203346245437, 0.8310267879043287, 0.8627409164027323]}, {\"categories\": [\"0\", \"1\", \"2\", \"3\", \"4\", \"5\", \"6\", \"7\", \"8\", \"9\", \"10\", \"11\", \"12\", \"13\", \"14\", \"15\", \"16\", \"17\", \"18\", \"19\", \"20\", \"21\", \"22\", \"23\", \"24\", \"25\", \"26\", \"27\", \"28\", \"29\", \"30\", \"31\", \"32\", \"33\", \"36\"], \"mode\": \"lines\", \"name\": \"AUC_micro_max\", \"stepped\": true, \"type\": \"scatter\", \"data\": [0.8284990841532464, 0.8516033829914373, 0.8516033829914373, 0.8516033829914373, 0.8516033829914373, 0.8516033829914373, 0.8516033829914373, 0.8516033829914373, 0.8516033829914373, 0.8516033829914373, 0.8516033829914373, 0.8516033829914373, 0.8528040170877077, 0.8528040170877077, 0.8528040170877077, 0.8528040170877077, 0.8528040170877077, 0.8528040170877077, 0.8528040170877077, 0.8528040170877077, 0.8528040170877077, 0.8528040170877077, 0.8528040170877077, 0.8528040170877077, 0.8528040170877077, 0.8528040170877077, 0.8528040170877077, 0.8533576979016235, 0.8533576979016235, 0.8533576979016235, 0.8533576979016235, 0.8533576979016235, 0.8533576979016235, 0.8533576979016235, 0.8627409164027323]}], \"balanced_accuracy\": [{\"categories\": [\"0\", \"1\", \"2\", \"3\", \"4\", \"5\", \"6\", \"7\", \"8\", \"9\", \"10\", \"11\", \"12\", \"13\", \"14\", \"15\", \"16\", \"17\", \"18\", \"19\", \"20\", \"21\", \"22\", \"23\", \"24\", \"25\", \"26\", \"27\", \"28\", \"29\", \"30\", \"31\", \"32\", \"33\", \"36\"], \"mode\": \"markers\", \"name\": \"balanced_accuracy\", \"stepped\": false, \"type\": \"scatter\", \"data\": [0.7058435554113287, 0.7284422735232137, 0.7064956222288001, 0.6943147985194417, 0.7570942744979927, 0.7048914149863342, 0.7269048251559781, 0.6789386035129669, 0.588539298201362, 0.6323551462686774, 0.6799451647468626, 0.758620550867223, 0.7215356608245195, 0.728854640258948, 0.6806564749665316, 0.7215408830810388, 0.7239592367507418, 0.7000486664359292, 0.7050364747880076, 0.7481026373357628, 0.7444203238155129, 0.7019402932994406, 0.7190006006466021, 0.6240663152049013, 0.700988361200341, 0.5890394671752102, 0.693117872432567, 0.7049121063403633, 0.6387800574770233, 0.5741007316409265, 0.6437073569226777, 0.6443935535301089, 0.6499889475938239, 0.7075666891933137, 0.7405719475865292]}, {\"categories\": [\"0\", \"1\", \"2\", \"3\", \"4\", \"5\", \"6\", \"7\", \"8\", \"9\", \"10\", \"11\", \"12\", \"13\", \"14\", \"15\", \"16\", \"17\", \"18\", \"19\", \"20\", \"21\", \"22\", \"23\", \"24\", \"25\", \"26\", \"27\", \"28\", \"29\", \"30\", \"31\", \"32\", \"33\", \"36\"], \"mode\": \"lines\", \"name\": \"balanced_accuracy_max\", \"stepped\": true, \"type\": \"scatter\", \"data\": [0.7058435554113287, 0.7284422735232137, 0.7284422735232137, 0.7284422735232137, 0.7570942744979927, 0.7570942744979927, 0.7570942744979927, 0.7570942744979927, 0.7570942744979927, 0.7570942744979927, 0.7570942744979927, 0.758620550867223, 0.758620550867223, 0.758620550867223, 0.758620550867223, 0.758620550867223, 0.758620550867223, 0.758620550867223, 0.758620550867223, 0.758620550867223, 0.758620550867223, 0.758620550867223, 0.758620550867223, 0.758620550867223, 0.758620550867223, 0.758620550867223, 0.758620550867223, 0.758620550867223, 0.758620550867223, 0.758620550867223, 0.758620550867223, 0.758620550867223, 0.758620550867223, 0.758620550867223, 0.758620550867223]}], \"log_loss\": [{\"categories\": [\"0\", \"1\", \"2\", \"3\", \"4\", \"5\", \"6\", \"7\", \"8\", \"9\", \"10\", \"11\", \"12\", \"13\", \"14\", \"15\", \"16\", \"17\", \"18\", \"19\", \"20\", \"21\", \"22\", \"23\", \"24\", \"25\", \"26\", \"27\", \"28\", \"29\", \"30\", \"31\", \"32\", \"33\", \"36\"], \"mode\": \"markers\", \"name\": \"log_loss\", \"stepped\": false, \"type\": \"scatter\", \"data\": [0.6378913526541157, 0.48442897912025823, 0.4933223205365448, 0.5050565319640815, 0.4884643591811213, 0.4975645811966719, 0.6231274242318319, 0.5080255454469134, 0.5558932630313074, 0.5421210150939773, 0.5168533563008898, 0.529287714451007, 0.48417163555148185, 0.5481882269628235, 0.5155537195044338, 0.6491633031153641, 0.5534334452803955, 0.5386585168470167, 0.5276871353339689, 0.5623641797592841, 0.5324295284487007, 0.5098535580335486, 0.48476063862401125, 0.5618860108764977, 0.4817260223154144, 0.6887340767902966, 0.5393090590073519, 0.48086116611155943, 0.555802826894306, 0.6825926750842981, 0.6220837065688134, 0.5359198771512961, 0.6156344764598005, 0.5827335163824395, 0.49387881953238144]}, {\"categories\": [\"0\", \"1\", \"2\", \"3\", \"4\", \"5\", \"6\", \"7\", \"8\", \"9\", \"10\", \"11\", \"12\", \"13\", \"14\", \"15\", \"16\", \"17\", \"18\", \"19\", \"20\", \"21\", \"22\", \"23\", \"24\", \"25\", \"26\", \"27\", \"28\", \"29\", \"30\", \"31\", \"32\", \"33\", \"36\"], \"mode\": \"lines\", \"name\": \"log_loss_min\", \"stepped\": true, \"type\": \"scatter\", \"data\": [0.6378913526541157, 0.48442897912025823, 0.48442897912025823, 0.48442897912025823, 0.48442897912025823, 0.48442897912025823, 0.48442897912025823, 0.48442897912025823, 0.48442897912025823, 0.48442897912025823, 0.48442897912025823, 0.48442897912025823, 0.48417163555148185, 0.48417163555148185, 0.48417163555148185, 0.48417163555148185, 0.48417163555148185, 0.48417163555148185, 0.48417163555148185, 0.48417163555148185, 0.48417163555148185, 0.48417163555148185, 0.48417163555148185, 0.48417163555148185, 0.4817260223154144, 0.4817260223154144, 0.4817260223154144, 0.48086116611155943, 0.48086116611155943, 0.48086116611155943, 0.48086116611155943, 0.48086116611155943, 0.48086116611155943, 0.48086116611155943, 0.48086116611155943]}], \"average_precision_score_micro\": [{\"categories\": [\"0\", \"1\", \"2\", \"3\", \"4\", \"5\", \"6\", \"7\", \"8\", \"9\", \"10\", \"11\", \"12\", \"13\", \"14\", \"15\", \"16\", \"17\", \"18\", \"19\", \"20\", \"21\", \"22\", \"23\", \"24\", \"25\", \"26\", \"27\", \"28\", \"29\", \"30\", \"31\", \"32\", \"33\", \"36\"], \"mode\": \"markers\", \"name\": \"average_precision_score_micro\", \"stepped\": false, \"type\": \"scatter\", \"data\": [0.8314467362127971, 0.8521623222085303, 0.8437587488052823, 0.8500466608483681, 0.8450546909635929, 0.8437230543310867, 0.8375473428079824, 0.8402533757381038, 0.8157393067837345, 0.8283870595116735, 0.841722615506401, 0.8248269083078436, 0.8460329497911323, 0.8155739857477965, 0.8377591261776451, 0.8083934083317418, 0.8169209323155995, 0.8409523160375478, 0.8428286874008822, 0.8231850997455966, 0.8388189366182572, 0.8333798880502407, 0.8455612433062358, 0.7827311466399715, 0.8515697434230901, 0.6054774566980354, 0.821549908990615, 0.8504575239864411, 0.7870648866696016, 0.5972744528978733, 0.7370857193037621, 0.8296520494545417, 0.7250206064260822, 0.831444925169882, 0.8637803466536352]}, {\"categories\": [\"0\", \"1\", \"2\", \"3\", \"4\", \"5\", \"6\", \"7\", \"8\", \"9\", \"10\", \"11\", \"12\", \"13\", \"14\", \"15\", \"16\", \"17\", \"18\", \"19\", \"20\", \"21\", \"22\", \"23\", \"24\", \"25\", \"26\", \"27\", \"28\", \"29\", \"30\", \"31\", \"32\", \"33\", \"36\"], \"mode\": \"lines\", \"name\": \"average_precision_score_micro_max\", \"stepped\": true, \"type\": \"scatter\", \"data\": [0.8314467362127971, 0.8521623222085303, 0.8521623222085303, 0.8521623222085303, 0.8521623222085303, 0.8521623222085303, 0.8521623222085303, 0.8521623222085303, 0.8521623222085303, 0.8521623222085303, 0.8521623222085303, 0.8521623222085303, 0.8521623222085303, 0.8521623222085303, 0.8521623222085303, 0.8521623222085303, 0.8521623222085303, 0.8521623222085303, 0.8521623222085303, 0.8521623222085303, 0.8521623222085303, 0.8521623222085303, 0.8521623222085303, 0.8521623222085303, 0.8521623222085303, 0.8521623222085303, 0.8521623222085303, 0.8521623222085303, 0.8521623222085303, 0.8521623222085303, 0.8521623222085303, 0.8521623222085303, 0.8521623222085303, 0.8521623222085303, 0.8637803466536352]}], \"recall_score_macro\": [{\"categories\": [\"0\", \"1\", \"2\", \"3\", \"4\", \"5\", \"6\", \"7\", \"8\", \"9\", \"10\", \"11\", \"12\", \"13\", \"14\", \"15\", \"16\", \"17\", \"18\", \"19\", \"20\", \"21\", \"22\", \"23\", \"24\", \"25\", \"26\", \"27\", \"28\", \"29\", \"30\", \"31\", \"32\", \"33\", \"36\"], \"mode\": \"markers\", \"name\": \"recall_score_macro\", \"stepped\": false, \"type\": \"scatter\", \"data\": [0.7058435554113287, 0.7284422735232137, 0.7064956222288001, 0.6943147985194417, 0.7570942744979927, 0.7048914149863342, 0.7269048251559781, 0.6789386035129669, 0.588539298201362, 0.6323551462686774, 0.6799451647468626, 0.758620550867223, 0.7215356608245195, 0.728854640258948, 0.6806564749665316, 0.7215408830810388, 0.7239592367507418, 0.7000486664359292, 0.7050364747880076, 0.7481026373357628, 0.7444203238155129, 0.7019402932994406, 0.7190006006466021, 0.6240663152049013, 0.700988361200341, 0.5890394671752102, 0.693117872432567, 0.7049121063403633, 0.6387800574770233, 0.5741007316409265, 0.6437073569226777, 0.6443935535301089, 0.6499889475938239, 0.7075666891933137, 0.7405719475865292]}, {\"categories\": [\"0\", \"1\", \"2\", \"3\", \"4\", \"5\", \"6\", \"7\", \"8\", \"9\", \"10\", \"11\", \"12\", \"13\", \"14\", \"15\", \"16\", \"17\", \"18\", \"19\", \"20\", \"21\", \"22\", \"23\", \"24\", \"25\", \"26\", \"27\", \"28\", \"29\", \"30\", \"31\", \"32\", \"33\", \"36\"], \"mode\": \"lines\", \"name\": \"recall_score_macro_max\", \"stepped\": true, \"type\": \"scatter\", \"data\": [0.7058435554113287, 0.7284422735232137, 0.7284422735232137, 0.7284422735232137, 0.7570942744979927, 0.7570942744979927, 0.7570942744979927, 0.7570942744979927, 0.7570942744979927, 0.7570942744979927, 0.7570942744979927, 0.758620550867223, 0.758620550867223, 0.758620550867223, 0.758620550867223, 0.758620550867223, 0.758620550867223, 0.758620550867223, 0.758620550867223, 0.758620550867223, 0.758620550867223, 0.758620550867223, 0.758620550867223, 0.758620550867223, 0.758620550867223, 0.758620550867223, 0.758620550867223, 0.758620550867223, 0.758620550867223, 0.758620550867223, 0.758620550867223, 0.758620550867223, 0.758620550867223, 0.758620550867223, 0.758620550867223]}], \"accuracy\": [{\"categories\": [\"0\", \"1\", \"2\", \"3\", \"4\", \"5\", \"6\", \"7\", \"8\", \"9\", \"10\", \"11\", \"12\", \"13\", \"14\", \"15\", \"16\", \"17\", \"18\", \"19\", \"20\", \"21\", \"22\", \"23\", \"24\", \"25\", \"26\", \"27\", \"28\", \"29\", \"30\", \"31\", \"32\", \"33\", \"36\"], \"mode\": \"markers\", \"name\": \"accuracy\", \"stepped\": false, \"type\": \"scatter\", \"data\": [0.7447539302802461, 0.7631408065618592, 0.7565960355434039, 0.7683014354066986, 0.7644224196855777, 0.7590738209159261, 0.7656185919343814, 0.7487525632262474, 0.7069207108680794, 0.7356801093643199, 0.7578605604921396, 0.75, 0.7721975393028024, 0.7279049897470949, 0.752717019822283, 0.7200102529049898, 0.7135509227614492, 0.753896103896104, 0.7538619275461381, 0.7461551606288449, 0.7461551606288448, 0.7565105946684894, 0.7722146274777855, 0.70446001367054, 0.7448393711551606, 0.6459842788790158, 0.7449077238550922, 0.7591934381408066, 0.718762816131237, 0.5781271360218729, 0.692634996582365, 0.7330656185919343, 0.6485304169514695, 0.7448393711551606, 0.7787081339712918]}, {\"categories\": [\"0\", \"1\", \"2\", \"3\", \"4\", \"5\", \"6\", \"7\", \"8\", \"9\", \"10\", \"11\", \"12\", \"13\", \"14\", \"15\", \"16\", \"17\", \"18\", \"19\", \"20\", \"21\", \"22\", \"23\", \"24\", \"25\", \"26\", \"27\", \"28\", \"29\", \"30\", \"31\", \"32\", \"33\", \"36\"], \"mode\": \"lines\", \"name\": \"accuracy_max\", \"stepped\": true, \"type\": \"scatter\", \"data\": [0.7447539302802461, 0.7631408065618592, 0.7631408065618592, 0.7683014354066986, 0.7683014354066986, 0.7683014354066986, 0.7683014354066986, 0.7683014354066986, 0.7683014354066986, 0.7683014354066986, 0.7683014354066986, 0.7683014354066986, 0.7721975393028024, 0.7721975393028024, 0.7721975393028024, 0.7721975393028024, 0.7721975393028024, 0.7721975393028024, 0.7721975393028024, 0.7721975393028024, 0.7721975393028024, 0.7721975393028024, 0.7722146274777855, 0.7722146274777855, 0.7722146274777855, 0.7722146274777855, 0.7722146274777855, 0.7722146274777855, 0.7722146274777855, 0.7722146274777855, 0.7722146274777855, 0.7722146274777855, 0.7722146274777855, 0.7722146274777855, 0.7787081339712918]}], \"average_precision_score_macro\": [{\"categories\": [\"0\", \"1\", \"2\", \"3\", \"4\", \"5\", \"6\", \"7\", \"8\", \"9\", \"10\", \"11\", \"12\", \"13\", \"14\", \"15\", \"16\", \"17\", \"18\", \"19\", \"20\", \"21\", \"22\", \"23\", \"24\", \"25\", \"26\", \"27\", \"28\", \"29\", \"30\", \"31\", \"32\", \"33\", \"36\"], \"mode\": \"markers\", \"name\": \"average_precision_score_macro\", \"stepped\": false, \"type\": \"scatter\", \"data\": [0.7871407995869946, 0.8138052706291958, 0.8053665343589838, 0.8198893009628534, 0.8128034111034139, 0.810036029838218, 0.8016947383956877, 0.8098415958803713, 0.8030750118064119, 0.8147193998727692, 0.8171451458503111, 0.8099488610361265, 0.8154188161956188, 0.7899735902987468, 0.8076938437315334, 0.795528033137144, 0.8024433044844322, 0.8070482336516781, 0.8058068255111401, 0.8046926615289655, 0.8152055501218115, 0.7902541415805833, 0.8158856346874964, 0.7412181423566071, 0.8123247264871709, 0.5967492916920183, 0.7764078928458449, 0.8213334528086795, 0.7532073026583623, 0.6129305811521482, 0.6821615736862896, 0.8035388416111786, 0.6902644098264155, 0.789387485171102, 0.8283786470965664]}, {\"categories\": [\"0\", \"1\", \"2\", \"3\", \"4\", \"5\", \"6\", \"7\", \"8\", \"9\", \"10\", \"11\", \"12\", \"13\", \"14\", \"15\", \"16\", \"17\", \"18\", \"19\", \"20\", \"21\", \"22\", \"23\", \"24\", \"25\", \"26\", \"27\", \"28\", \"29\", \"30\", \"31\", \"32\", \"33\", \"36\"], \"mode\": \"lines\", \"name\": \"average_precision_score_macro_max\", \"stepped\": true, \"type\": \"scatter\", \"data\": [0.7871407995869946, 0.8138052706291958, 0.8138052706291958, 0.8198893009628534, 0.8198893009628534, 0.8198893009628534, 0.8198893009628534, 0.8198893009628534, 0.8198893009628534, 0.8198893009628534, 0.8198893009628534, 0.8198893009628534, 0.8198893009628534, 0.8198893009628534, 0.8198893009628534, 0.8198893009628534, 0.8198893009628534, 0.8198893009628534, 0.8198893009628534, 0.8198893009628534, 0.8198893009628534, 0.8198893009628534, 0.8198893009628534, 0.8198893009628534, 0.8198893009628534, 0.8198893009628534, 0.8198893009628534, 0.8213334528086795, 0.8213334528086795, 0.8213334528086795, 0.8213334528086795, 0.8213334528086795, 0.8213334528086795, 0.8213334528086795, 0.8283786470965664]}], \"f1_score_micro\": [{\"categories\": [\"0\", \"1\", \"2\", \"3\", \"4\", \"5\", \"6\", \"7\", \"8\", \"9\", \"10\", \"11\", \"12\", \"13\", \"14\", \"15\", \"16\", \"17\", \"18\", \"19\", \"20\", \"21\", \"22\", \"23\", \"24\", \"25\", \"26\", \"27\", \"28\", \"29\", \"30\", \"31\", \"32\", \"33\", \"36\"], \"mode\": \"markers\", \"name\": \"f1_score_micro\", \"stepped\": false, \"type\": \"scatter\", \"data\": [0.7447539302802461, 0.7631408065618592, 0.7565960355434039, 0.7683014354066986, 0.7644224196855777, 0.7590738209159261, 0.7656185919343814, 0.7487525632262474, 0.7069207108680794, 0.7356801093643199, 0.7578605604921396, 0.75, 0.7721975393028024, 0.7279049897470949, 0.752717019822283, 0.7200102529049898, 0.7135509227614492, 0.753896103896104, 0.753861927546138, 0.7461551606288449, 0.7461551606288448, 0.7565105946684894, 0.7722146274777855, 0.70446001367054, 0.7448393711551606, 0.6459842788790158, 0.7449077238550922, 0.7591934381408066, 0.718762816131237, 0.5781271360218729, 0.692634996582365, 0.7330656185919343, 0.6485304169514695, 0.7448393711551606, 0.7787081339712918]}, {\"categories\": [\"0\", \"1\", \"2\", \"3\", \"4\", \"5\", \"6\", \"7\", \"8\", \"9\", \"10\", \"11\", \"12\", \"13\", \"14\", \"15\", \"16\", \"17\", \"18\", \"19\", \"20\", \"21\", \"22\", \"23\", \"24\", \"25\", \"26\", \"27\", \"28\", \"29\", \"30\", \"31\", \"32\", \"33\", \"36\"], \"mode\": \"lines\", \"name\": \"f1_score_micro_max\", \"stepped\": true, \"type\": \"scatter\", \"data\": [0.7447539302802461, 0.7631408065618592, 0.7631408065618592, 0.7683014354066986, 0.7683014354066986, 0.7683014354066986, 0.7683014354066986, 0.7683014354066986, 0.7683014354066986, 0.7683014354066986, 0.7683014354066986, 0.7683014354066986, 0.7721975393028024, 0.7721975393028024, 0.7721975393028024, 0.7721975393028024, 0.7721975393028024, 0.7721975393028024, 0.7721975393028024, 0.7721975393028024, 0.7721975393028024, 0.7721975393028024, 0.7722146274777855, 0.7722146274777855, 0.7722146274777855, 0.7722146274777855, 0.7722146274777855, 0.7722146274777855, 0.7722146274777855, 0.7722146274777855, 0.7722146274777855, 0.7722146274777855, 0.7722146274777855, 0.7722146274777855, 0.7787081339712918]}], \"average_precision_score_weighted\": [{\"categories\": [\"0\", \"1\", \"2\", \"3\", \"4\", \"5\", \"6\", \"7\", \"8\", \"9\", \"10\", \"11\", \"12\", \"13\", \"14\", \"15\", \"16\", \"17\", \"18\", \"19\", \"20\", \"21\", \"22\", \"23\", \"24\", \"25\", \"26\", \"27\", \"28\", \"29\", \"30\", \"31\", \"32\", \"33\", \"36\"], \"mode\": \"markers\", \"name\": \"average_precision_score_weighted\", \"stepped\": false, \"type\": \"scatter\", \"data\": [0.8205233201026948, 0.8428749649055556, 0.8335402776161038, 0.8483872147224453, 0.8417118306657209, 0.8374745247149178, 0.830235237932888, 0.8392842124183172, 0.8330568706639943, 0.8439719308900958, 0.8465824928835248, 0.8373119179889319, 0.841816251181376, 0.821886939508528, 0.8371414628001308, 0.8256592451112669, 0.8328101717137685, 0.8344174879745996, 0.8346524445866986, 0.8348995024465589, 0.8438802413287718, 0.8227179425776802, 0.8421418069226124, 0.7765226521979713, 0.8427854990508428, 0.6416951903144, 0.8101788974666256, 0.8492952391455576, 0.7867005497560441, 0.6609816061208399, 0.7241777399013115, 0.8351416037504789, 0.7335486116798033, 0.8224993665825341, 0.8555515639443596]}, {\"categories\": [\"0\", \"1\", \"2\", \"3\", \"4\", \"5\", \"6\", \"7\", \"8\", \"9\", \"10\", \"11\", \"12\", \"13\", \"14\", \"15\", \"16\", \"17\", \"18\", \"19\", \"20\", \"21\", \"22\", \"23\", \"24\", \"25\", \"26\", \"27\", \"28\", \"29\", \"30\", \"31\", \"32\", \"33\", \"36\"], \"mode\": \"lines\", \"name\": \"average_precision_score_weighted_max\", \"stepped\": true, \"type\": \"scatter\", \"data\": [0.8205233201026948, 0.8428749649055556, 0.8428749649055556, 0.8483872147224453, 0.8483872147224453, 0.8483872147224453, 0.8483872147224453, 0.8483872147224453, 0.8483872147224453, 0.8483872147224453, 0.8483872147224453, 0.8483872147224453, 0.8483872147224453, 0.8483872147224453, 0.8483872147224453, 0.8483872147224453, 0.8483872147224453, 0.8483872147224453, 0.8483872147224453, 0.8483872147224453, 0.8483872147224453, 0.8483872147224453, 0.8483872147224453, 0.8483872147224453, 0.8483872147224453, 0.8483872147224453, 0.8483872147224453, 0.8492952391455576, 0.8492952391455576, 0.8492952391455576, 0.8492952391455576, 0.8492952391455576, 0.8492952391455576, 0.8492952391455576, 0.8555515639443596]}], \"f1_score_weighted\": [{\"categories\": [\"0\", \"1\", \"2\", \"3\", \"4\", \"5\", \"6\", \"7\", \"8\", \"9\", \"10\", \"11\", \"12\", \"13\", \"14\", \"15\", \"16\", \"17\", \"18\", \"19\", \"20\", \"21\", \"22\", \"23\", \"24\", \"25\", \"26\", \"27\", \"28\", \"29\", \"30\", \"31\", \"32\", \"33\", \"36\"], \"mode\": \"markers\", \"name\": \"f1_score_weighted\", \"stepped\": false, \"type\": \"scatter\", \"data\": [0.7408918495421677, 0.7608784043576504, 0.7481474856587657, 0.7489625478699106, 0.7677339460519246, 0.7490563939369594, 0.7620135486880086, 0.7297458732940607, 0.6344164164800945, 0.6901466803977662, 0.734306006699697, 0.7551553163314201, 0.7640853164361976, 0.7334510875275277, 0.7342752458530105, 0.7251568882811789, 0.7196615358531316, 0.7440852374061014, 0.7459404746594033, 0.7510608515448095, 0.7507237406365156, 0.7465959486611297, 0.7629414077739287, 0.6760183215090501, 0.7393173845846011, 0.6357891026456285, 0.7375221207157471, 0.7495210335031318, 0.6938307279410636, 0.5824252810128019, 0.6844185395384845, 0.6985148176492957, 0.6564971861411338, 0.7409300806323403, 0.7746251416770075]}, {\"categories\": [\"0\", \"1\", \"2\", \"3\", \"4\", \"5\", \"6\", \"7\", \"8\", \"9\", \"10\", \"11\", \"12\", \"13\", \"14\", \"15\", \"16\", \"17\", \"18\", \"19\", \"20\", \"21\", \"22\", \"23\", \"24\", \"25\", \"26\", \"27\", \"28\", \"29\", \"30\", \"31\", \"32\", \"33\", \"36\"], \"mode\": \"lines\", \"name\": \"f1_score_weighted_max\", \"stepped\": true, \"type\": \"scatter\", \"data\": [0.7408918495421677, 0.7608784043576504, 0.7608784043576504, 0.7608784043576504, 0.7677339460519246, 0.7677339460519246, 0.7677339460519246, 0.7677339460519246, 0.7677339460519246, 0.7677339460519246, 0.7677339460519246, 0.7677339460519246, 0.7677339460519246, 0.7677339460519246, 0.7677339460519246, 0.7677339460519246, 0.7677339460519246, 0.7677339460519246, 0.7677339460519246, 0.7677339460519246, 0.7677339460519246, 0.7677339460519246, 0.7677339460519246, 0.7677339460519246, 0.7677339460519246, 0.7677339460519246, 0.7677339460519246, 0.7677339460519246, 0.7677339460519246, 0.7677339460519246, 0.7677339460519246, 0.7677339460519246, 0.7677339460519246, 0.7677339460519246, 0.7746251416770075]}], \"precision_score_macro\": [{\"categories\": [\"0\", \"1\", \"2\", \"3\", \"4\", \"5\", \"6\", \"7\", \"8\", \"9\", \"10\", \"11\", \"12\", \"13\", \"14\", \"15\", \"16\", \"17\", \"18\", \"19\", \"20\", \"21\", \"22\", \"23\", \"24\", \"25\", \"26\", \"27\", \"28\", \"29\", \"30\", \"31\", \"32\", \"33\", \"36\"], \"mode\": \"markers\", \"name\": \"precision_score_macro\", \"stepped\": false, \"type\": \"scatter\", \"data\": [0.7168857739791966, 0.740474187087135, 0.7385890808308577, 0.776190475849015, 0.7442429031688638, 0.7454135308733295, 0.7451069900695335, 0.7489814854053713, 0.7405884895319501, 0.788657985413517, 0.7672694704387574, 0.7376021445085623, 0.7555312520135085, 0.7109873122470658, 0.7479024800656011, 0.7052208076277683, 0.705496882283143, 0.7342967522089824, 0.7341282780908192, 0.730058341033929, 0.7282876492734112, 0.7393004050644325, 0.7592802519698475, 0.7013309442634601, 0.7214820192257341, 0.5970126917952918, 0.722597930791735, 0.7429247305086526, 0.7085422690410575, 0.5692835232064584, 0.6637150377597014, 0.7481149466645551, 0.6382367314807202, 0.7188958968816401, 0.7591887570556456]}, {\"categories\": [\"0\", \"1\", \"2\", \"3\", \"4\", \"5\", \"6\", \"7\", \"8\", \"9\", \"10\", \"11\", \"12\", \"13\", \"14\", \"15\", \"16\", \"17\", \"18\", \"19\", \"20\", \"21\", \"22\", \"23\", \"24\", \"25\", \"26\", \"27\", \"28\", \"29\", \"30\", \"31\", \"32\", \"33\", \"36\"], \"mode\": \"lines\", \"name\": \"precision_score_macro_max\", \"stepped\": true, \"type\": \"scatter\", \"data\": [0.7168857739791966, 0.740474187087135, 0.740474187087135, 0.776190475849015, 0.776190475849015, 0.776190475849015, 0.776190475849015, 0.776190475849015, 0.776190475849015, 0.788657985413517, 0.788657985413517, 0.788657985413517, 0.788657985413517, 0.788657985413517, 0.788657985413517, 0.788657985413517, 0.788657985413517, 0.788657985413517, 0.788657985413517, 0.788657985413517, 0.788657985413517, 0.788657985413517, 0.788657985413517, 0.788657985413517, 0.788657985413517, 0.788657985413517, 0.788657985413517, 0.788657985413517, 0.788657985413517, 0.788657985413517, 0.788657985413517, 0.788657985413517, 0.788657985413517, 0.788657985413517, 0.788657985413517]}], \"recall_score_weighted\": [{\"categories\": [\"0\", \"1\", \"2\", \"3\", \"4\", \"5\", \"6\", \"7\", \"8\", \"9\", \"10\", \"11\", \"12\", \"13\", \"14\", \"15\", \"16\", \"17\", \"18\", \"19\", \"20\", \"21\", \"22\", \"23\", \"24\", \"25\", \"26\", \"27\", \"28\", \"29\", \"30\", \"31\", \"32\", \"33\", \"36\"], \"mode\": \"markers\", \"name\": \"recall_score_weighted\", \"stepped\": false, \"type\": \"scatter\", \"data\": [0.7447539302802461, 0.7631408065618592, 0.7565960355434039, 0.7683014354066986, 0.7644224196855777, 0.7590738209159261, 0.7656185919343814, 0.7487525632262474, 0.7069207108680794, 0.7356801093643199, 0.7578605604921396, 0.75, 0.7721975393028024, 0.7279049897470949, 0.752717019822283, 0.7200102529049898, 0.7135509227614492, 0.753896103896104, 0.7538619275461381, 0.7461551606288449, 0.7461551606288448, 0.7565105946684894, 0.7722146274777855, 0.70446001367054, 0.7448393711551606, 0.6459842788790158, 0.7449077238550922, 0.7591934381408066, 0.718762816131237, 0.5781271360218729, 0.692634996582365, 0.7330656185919343, 0.6485304169514695, 0.7448393711551606, 0.7787081339712918]}, {\"categories\": [\"0\", \"1\", \"2\", \"3\", \"4\", \"5\", \"6\", \"7\", \"8\", \"9\", \"10\", \"11\", \"12\", \"13\", \"14\", \"15\", \"16\", \"17\", \"18\", \"19\", \"20\", \"21\", \"22\", \"23\", \"24\", \"25\", \"26\", \"27\", \"28\", \"29\", \"30\", \"31\", \"32\", \"33\", \"36\"], \"mode\": \"lines\", \"name\": \"recall_score_weighted_max\", \"stepped\": true, \"type\": \"scatter\", \"data\": [0.7447539302802461, 0.7631408065618592, 0.7631408065618592, 0.7683014354066986, 0.7683014354066986, 0.7683014354066986, 0.7683014354066986, 0.7683014354066986, 0.7683014354066986, 0.7683014354066986, 0.7683014354066986, 0.7683014354066986, 0.7721975393028024, 0.7721975393028024, 0.7721975393028024, 0.7721975393028024, 0.7721975393028024, 0.7721975393028024, 0.7721975393028024, 0.7721975393028024, 0.7721975393028024, 0.7721975393028024, 0.7722146274777855, 0.7722146274777855, 0.7722146274777855, 0.7722146274777855, 0.7722146274777855, 0.7722146274777855, 0.7722146274777855, 0.7722146274777855, 0.7722146274777855, 0.7722146274777855, 0.7722146274777855, 0.7722146274777855, 0.7787081339712918]}]}, \"metricName\": null, \"primaryMetricName\": \"AUC_weighted\", \"showLegend\": false}, \"run_metrics\": [{\"name\": \"experiment_status\", \"run_id\": \"AutoML_31cc46ea-2925-4421-9ce2-37ad4aa234d0\", \"categories\": [0, 1, 2, 3, 4, 5, 6, 7, 8, 9, 10, 11, 12, 13], \"series\": [{\"data\": [\"DatasetEvaluation\", \"FeaturesGeneration\", \"DatasetFeaturization\", \"DatasetFeaturizationCompleted\", \"DatasetCrossValidationSplit\", \"ModelSelection\", \"BestRunExplainModel\", \"ModelExplanationDataSetSetup\", \"PickSurrogateModel\", \"EngineeredFeatureExplanations\", \"EngineeredFeatureExplanations\", \"RawFeaturesExplanations\", \"RawFeaturesExplanations\", \"BestRunExplainModel\"]}]}, {\"name\": \"experiment_status_description\", \"run_id\": \"AutoML_31cc46ea-2925-4421-9ce2-37ad4aa234d0\", \"categories\": [0, 1, 2, 3, 4, 5, 6, 7, 8, 9, 10, 11, 12, 13], \"series\": [{\"data\": [\"Gathering dataset statistics.\", \"Generating features for the dataset.\", \"Beginning to fit featurizers and featurize the dataset.\", \"Completed fit featurizers and featurizing the dataset.\", \"Generating individually featurized CV splits.\", \"Beginning model selection.\", \"Best run model explanations started\", \"Model explanations data setup completed\", \"Choosing LightGBM as the surrogate model for explanations\", \"Computation of engineered features started\", \"Computation of engineered features completed\", \"Computation of raw features started\", \"Computation of raw features completed\", \"Best run model explanations completed\"]}]}, {\"name\": \"average_precision_score_micro\", \"run_id\": \"AutoML_31cc46ea-2925-4421-9ce2-37ad4aa234d0\", \"categories\": [0], \"series\": [{\"data\": [0.8637803466536352]}]}, {\"name\": \"norm_macro_recall\", \"run_id\": \"AutoML_31cc46ea-2925-4421-9ce2-37ad4aa234d0\", \"categories\": [0], \"series\": [{\"data\": [0.4811438951730588]}]}, {\"name\": \"f1_score_macro\", \"run_id\": \"AutoML_31cc46ea-2925-4421-9ce2-37ad4aa234d0\", \"categories\": [0], \"series\": [{\"data\": [0.7457572961384813]}]}, {\"name\": \"f1_score_weighted\", \"run_id\": \"AutoML_31cc46ea-2925-4421-9ce2-37ad4aa234d0\", \"categories\": [0], \"series\": [{\"data\": [0.7746251416770075]}]}, {\"name\": \"average_precision_score_macro\", \"run_id\": \"AutoML_31cc46ea-2925-4421-9ce2-37ad4aa234d0\", \"categories\": [0], \"series\": [{\"data\": [0.8283786470965664]}]}, {\"name\": \"log_loss\", \"run_id\": \"AutoML_31cc46ea-2925-4421-9ce2-37ad4aa234d0\", \"categories\": [0], \"series\": [{\"data\": [0.49387881953238144]}]}, {\"name\": \"AUC_micro\", \"run_id\": \"AutoML_31cc46ea-2925-4421-9ce2-37ad4aa234d0\", \"categories\": [0], \"series\": [{\"data\": [0.8627409164027323]}]}, {\"name\": \"precision_score_micro\", \"run_id\": \"AutoML_31cc46ea-2925-4421-9ce2-37ad4aa234d0\", \"categories\": [0], \"series\": [{\"data\": [0.7787081339712918]}]}, {\"name\": \"recall_score_micro\", \"run_id\": \"AutoML_31cc46ea-2925-4421-9ce2-37ad4aa234d0\", \"categories\": [0], \"series\": [{\"data\": [0.7787081339712918]}]}, {\"name\": \"precision_score_weighted\", \"run_id\": \"AutoML_31cc46ea-2925-4421-9ce2-37ad4aa234d0\", \"categories\": [0], \"series\": [{\"data\": [0.7775523341996421]}]}, {\"name\": \"precision_score_macro\", \"run_id\": \"AutoML_31cc46ea-2925-4421-9ce2-37ad4aa234d0\", \"categories\": [0], \"series\": [{\"data\": [0.7591887570556456]}]}, {\"name\": \"weighted_accuracy\", \"run_id\": \"AutoML_31cc46ea-2925-4421-9ce2-37ad4aa234d0\", \"categories\": [0], \"series\": [{\"data\": [0.8087168269510243]}]}, {\"name\": \"accuracy\", \"run_id\": \"AutoML_31cc46ea-2925-4421-9ce2-37ad4aa234d0\", \"categories\": [0], \"series\": [{\"data\": [0.7787081339712918]}]}, {\"name\": \"recall_score_weighted\", \"run_id\": \"AutoML_31cc46ea-2925-4421-9ce2-37ad4aa234d0\", \"categories\": [0], \"series\": [{\"data\": [0.7787081339712918]}]}, {\"name\": \"average_precision_score_weighted\", \"run_id\": \"AutoML_31cc46ea-2925-4421-9ce2-37ad4aa234d0\", \"categories\": [0], \"series\": [{\"data\": [0.8555515639443596]}]}, {\"name\": \"recall_score_macro\", \"run_id\": \"AutoML_31cc46ea-2925-4421-9ce2-37ad4aa234d0\", \"categories\": [0], \"series\": [{\"data\": [0.7405719475865292]}]}, {\"name\": \"AUC_macro\", \"run_id\": \"AutoML_31cc46ea-2925-4421-9ce2-37ad4aa234d0\", \"categories\": [0], \"series\": [{\"data\": [0.8479902838357534]}]}, {\"name\": \"matthews_correlation\", \"run_id\": \"AutoML_31cc46ea-2925-4421-9ce2-37ad4aa234d0\", \"categories\": [0], \"series\": [{\"data\": [0.4990461224531753]}]}, {\"name\": \"f1_score_micro\", \"run_id\": \"AutoML_31cc46ea-2925-4421-9ce2-37ad4aa234d0\", \"categories\": [0], \"series\": [{\"data\": [0.7787081339712918]}]}, {\"name\": \"balanced_accuracy\", \"run_id\": \"AutoML_31cc46ea-2925-4421-9ce2-37ad4aa234d0\", \"categories\": [0], \"series\": [{\"data\": [0.7405719475865292]}]}, {\"name\": \"AUC_weighted\", \"run_id\": \"AutoML_31cc46ea-2925-4421-9ce2-37ad4aa234d0\", \"categories\": [0], \"series\": [{\"data\": [0.8479902838357534]}]}], \"run_logs\": \"\\nRun is completed.\", \"graph\": {}, \"widget_settings\": {\"childWidgetDisplay\": \"popup\", \"send_telemetry\": false, \"log_level\": \"INFO\", \"sdk_version\": \"1.19.0\"}, \"loading\": false}"
     },
     "metadata": {},
     "output_type": "display_data"
    }
   ],
   "source": [
    "from azureml.widgets import RunDetails\n",
    "RunDetails(remote_run).show() "
   ]
  },
  {
   "cell_type": "markdown",
   "metadata": {},
   "source": [
    "### Retrieve the Best Model's explanation\n",
    "Retrieve the explanation from the best_run which includes explanations for engineered features and raw features. Make sure that the run for generating explanations for the best model is completed."
   ]
  },
  {
   "cell_type": "code",
   "execution_count": 48,
   "metadata": {},
   "outputs": [
    {
     "name": "stdout",
     "output_type": "stream",
     "text": [
      "AutoML_31cc46ea-2925-4421-9ce2-37ad4aa234d0_ModelExplain\n"
     ]
    }
   ],
   "source": [
    "# Wait for the best model explanation run to complete\n",
    "from azureml.core.run import Run\n",
    "model_explainability_run_id = remote_run.id + \"_\" + \"ModelExplain\"\n",
    "print(model_explainability_run_id)\n",
    "model_explainability_run = Run(experiment=experiment, run_id=model_explainability_run_id)\n",
    "model_explainability_run.wait_for_completion()\n",
    "\n",
    "# Get the best run object\n",
    "best_run, fitted_model = remote_run.get_output()"
   ]
  },
  {
   "cell_type": "markdown",
   "metadata": {},
   "source": [
    "#### Download engineered feature importance from artifact store\n",
    "You can use ExplanationClient to download the engineered feature explanations from the artifact store of the best_run."
   ]
  },
  {
   "cell_type": "code",
   "execution_count": 49,
   "metadata": {},
   "outputs": [
    {
     "data": {
      "text/plain": [
       "{'Glucose_MeanImputer': 0.5310929242692984,\n",
       " 'Age_MeanImputer': 0.25389316197994244,\n",
       " 'BMI_MeanImputer': 0.23913778242376552,\n",
       " 'DiabetesPedigreeFunction_MeanImputer': 0.1003575063652955,\n",
       " 'Pregnancies_MeanImputer': 0.09485529988551226,\n",
       " 'BloodPressure_MeanImputer': 0.03251826933384063,\n",
       " 'Insulin_MeanImputer': 0.030834921831241913,\n",
       " 'SkinThickness_MeanImputer': 0.026672056548159948}"
      ]
     },
     "execution_count": 49,
     "metadata": {},
     "output_type": "execute_result"
    }
   ],
   "source": [
    "client = ExplanationClient.from_run(best_run)\n",
    "engineered_explanations = client.download_model_explanation(raw=False)\n",
    "exp_data = engineered_explanations.get_feature_importance_dict()\n",
    "exp_data"
   ]
  },
  {
   "cell_type": "markdown",
   "metadata": {},
   "source": [
    "#### Download raw feature importance from artifact store\n",
    "You can use ExplanationClient to download the raw feature explanations from the artifact store of the best_run."
   ]
  },
  {
   "cell_type": "code",
   "execution_count": 50,
   "metadata": {},
   "outputs": [
    {
     "data": {
      "text/plain": [
       "{'Glucose': 0.5310929242692984,\n",
       " 'Age': 0.25389316197994244,\n",
       " 'BMI': 0.23913778242376552,\n",
       " 'DiabetesPedigreeFunction': 0.1003575063652955,\n",
       " 'Pregnancies': 0.09485529988551226,\n",
       " 'BloodPressure': 0.03251826933384063,\n",
       " 'Insulin': 0.030834921831241913,\n",
       " 'SkinThickness': 0.026672056548159948}"
      ]
     },
     "execution_count": 50,
     "metadata": {},
     "output_type": "execute_result"
    }
   ],
   "source": [
    "client = ExplanationClient.from_run(best_run)\n",
    "engineered_explanations = client.download_model_explanation(raw=True)\n",
    "exp_data = engineered_explanations.get_feature_importance_dict()\n",
    "exp_data"
   ]
  },
  {
   "cell_type": "markdown",
   "metadata": {},
   "source": [
    "### Retrieve the Best ONNX Model\n",
    "\n",
    "Below we select the best pipeline from our iterations. The `get_output` method returns the best run and the fitted model. The Model includes the pipeline and any pre-processing.  Overloads on `get_output` allow you to retrieve the best run and fitted model for *any* logged metric or for a particular *iteration*.\n",
    "\n",
    "Set the parameter return_onnx_model=True to retrieve the best ONNX model, instead of the Python model."
   ]
  },
  {
   "cell_type": "code",
   "execution_count": 51,
   "metadata": {},
   "outputs": [],
   "source": [
    "best_run, onnx_mdl = remote_run.get_output(return_onnx_model=True)"
   ]
  },
  {
   "cell_type": "markdown",
   "metadata": {},
   "source": [
    "### Save the best ONNX model"
   ]
  },
  {
   "cell_type": "code",
   "execution_count": 52,
   "metadata": {},
   "outputs": [],
   "source": [
    "from azureml.automl.runtime.onnx_convert import OnnxConverter\n",
    "onnx_fl_path = \"./best_model.onnx\"\n",
    "OnnxConverter.save_onnx_model(onnx_mdl, onnx_fl_path)"
   ]
  },
  {
   "cell_type": "markdown",
   "metadata": {},
   "source": [
    "### Predict with the ONNX model, using onnxruntime package"
   ]
  },
  {
   "cell_type": "code",
   "execution_count": 53,
   "metadata": {},
   "outputs": [
    {
     "name": "stdout",
     "output_type": "stream",
     "text": [
      "[1 0 1 0 1 0 0 1 1 0 0 1 0 1 1 0 1 0 0 0 0 0 1 0 1 1 1 0 0 0 0 1 0 0 1 0 1\n",
      " 1 0 1 1 1 0 1 1 1 0 0 0 0 0 0 0 1 1 0 1 0 1 0 0 1 0 0 1 0 0 0 0 0 0 0 1 0\n",
      " 0 0 0 0 1 0 0 0 0 0 1 0 0 0 1 0 0 0 0 0 0 1 0 0 0 1 1 0 0 0 0 0 0 0 0 0 1\n",
      " 1 0 0 1 1 1 0 0 0 1 0 0 0 0 0 0 0 0 0 1 1 1 0 0 0 0 0 0 0 0 0 0 1 0 0 0 0\n",
      " 1 0 0 0 1 0 1 1 0 0 0 1 0 0 0 0 1 0 0 0 0 0 0 1 0 0 0 1 0 1 1 1 0 0 0 0 0\n",
      " 1 1 1 0 0 0 0 1 1 0 1 0 0 0 1 0 0 0 0 0 0 1 1 0 1 0 0 1 1 1 1 0 0 0 1 1 1\n",
      " 0 0 0 0 0 1 1 0 1 1 0 0 0 1 1 1 1 0 0 0 0 1 1 1 1 0 0 0 0 0 0 0 1 0 0 0 0\n",
      " 1 1 1 0 0 1 0 1 0 0 1 1 0 0 0 0 0 0 0 0 0 1 1 0 1 0 0 1 0 0 0 0 0 1 1 0 1\n",
      " 1 0 1 0 1 0 0 0 0 0 1 0 0 1 0 0 0 0 1 0 0 1 0 1 0 0 0 1 0 0 1 1 0 0 0 0 1\n",
      " 0 0 1 0 1 1 1 0 0 0 0 0 0 0 0 0 0 0 0 0 0 0 1 1 1 0 1 1 0 0 1 0 0 0 0 0 1\n",
      " 1 0 0 0 0 1 0 0 1 0 0 0 0 0 0 0 1 0 1 0 0 1 0 0 1 0 0 0 0 1 0 0 0 0 1 0 0\n",
      " 0 1 1 0 0 0 0 0 1 0 1 0 0 0 0 0 0 1 1 0 1 0 0 0 0 0 0 0 1 1 1 0 0 1 0 0 1\n",
      " 0 1 0 0 0 0 0 0 0 0 0 1 0 0 1 0 0 0 0 0 0 0 0 0 1 1 0 0 0 0 0 0 0 0 0 0 1\n",
      " 0 0 0 1 0 0 1 0 1 0 0 0 1 0 0 0 0 1 1 0 0 0 0 0 0 1 0 0 0 0 0 0 0 0 1 1 0\n",
      " 0 0 0 0 0 1 0 0 0 0 0 0 0 0 0 0 0 1 0 0 0 1 1 0 1 0 0 1 1 0 1 1 0 0 0 0 0\n",
      " 0 0 0 0 0 0 1 0 0 0 0 0 0 1 0 0 0 0 0 0 0 0 0 0 1 1 0 0 0 1 0 1 0 1 0 1 0\n",
      " 1 0 1 1 0 0 1 0 0 0 0 1 1 0 1 0 0 0 0 1 1 0 1 0 0 0 1 0 0 0 1 0 0 0 0 0 1\n",
      " 0 1 0 0 0 0 1 0 0 1 0 0 0 1 0 0 1 1 1 1 0 0 0 0 0 0 1 0 1 0 0 1 1 1 1 0 0\n",
      " 0 0 0 1 1 0 0 0 0 1 1 0 0 0 0 1 0 0 0 0 0 0 0 1 0 1 0 1 0 1 1 0 0 0 0 0 1\n",
      " 1 0 0 0 0 1 0 0 0 1 0 0 1 1 0 0 0 0 0 1 0 0 0 0 0 0 0 0 0 1 0 0 0 0 0 0 0\n",
      " 1 0 0 1 1 0 1 0 1 1 1 0 0 1 1 1 0 1 0 1 0 1 0 0 0 0 1 0]\n",
      "[[0.33874175 0.6612583 ]\n",
      " [0.81094927 0.18905078]\n",
      " [0.3048528  0.6951472 ]\n",
      " ...\n",
      " [0.75211394 0.24788609]\n",
      " [0.4527942  0.54720575]\n",
      " [0.84189296 0.15810704]]\n"
     ]
    }
   ],
   "source": [
    "import sys\n",
    "import json\n",
    "from azureml.automl.core.onnx_convert import OnnxConvertConstants\n",
    "from azureml.train.automl import constants\n",
    "\n",
    "if sys.version_info < OnnxConvertConstants.OnnxIncompatiblePythonVersion:\n",
    "    python_version_compatible = True\n",
    "else:\n",
    "    python_version_compatible = False\n",
    "\n",
    "import onnxruntime\n",
    "from azureml.automl.runtime.onnx_convert import OnnxInferenceHelper\n",
    "\n",
    "def get_onnx_res(run):\n",
    "    res_path = 'onnx_resource.json'\n",
    "    run.download_file(name=constants.MODEL_RESOURCE_PATH_ONNX, output_file_path=res_path)\n",
    "    with open(res_path) as f:\n",
    "        onnx_res = json.load(f)\n",
    "    return onnx_res\n",
    "\n",
    "if python_version_compatible:\n",
    "    test_df = test_dataset.to_pandas_dataframe()\n",
    "    mdl_bytes = onnx_mdl.SerializeToString()\n",
    "    onnx_res = get_onnx_res(best_run)\n",
    "\n",
    "    onnxrt_helper = OnnxInferenceHelper(mdl_bytes, onnx_res)\n",
    "    pred_onnx, pred_prob_onnx = onnxrt_helper.predict(test_df)\n",
    "\n",
    "    print(pred_onnx)\n",
    "    print(pred_prob_onnx)\n",
    "else:\n",
    "    print('Please use Python version 3.6 or 3.7 to run the inference helper.')"
   ]
  },
  {
   "cell_type": "markdown",
   "metadata": {},
   "source": [
    "## Deploy\n",
    "\n",
    "### Retrieve the Best Model\n",
    "\n",
    "Below we select the best pipeline from our iterations.  The `get_output` method returns the best run and the fitted model. Overloads on `get_output` allow you to retrieve the best run and fitted model for *any* logged metric or for a particular *iteration*."
   ]
  },
  {
   "cell_type": "markdown",
   "metadata": {},
   "source": [
    "#### Widget for Monitoring Runs\n",
    "\n",
    "The widget will first report a \"loading\" status while running the first iteration. After completing the first iteration, an auto-updating graph and table will be shown. The widget will refresh once per minute, so you should see the graph update as child runs complete.\n",
    "\n",
    "**Note:** The widget displays a link at the bottom. Use this link to open a web interface to explore the individual run details"
   ]
  },
  {
   "cell_type": "code",
   "execution_count": 54,
   "metadata": {},
   "outputs": [],
   "source": [
    "best_run, fitted_model = remote_run.get_output()"
   ]
  },
  {
   "cell_type": "code",
   "execution_count": 55,
   "metadata": {},
   "outputs": [],
   "source": [
    "model_name = best_run.properties['model_name']\n",
    "\n",
    "script_file_name = 'inference/score.py'\n",
    "\n",
    "best_run.download_file('outputs/scoring_file_v_1_0_0.py', 'inference/score.py')"
   ]
  },
  {
   "cell_type": "code",
   "execution_count": 56,
   "metadata": {},
   "outputs": [
    {
     "name": "stdout",
     "output_type": "stream",
     "text": [
      "AutoML31cc46ea236\n"
     ]
    }
   ],
   "source": [
    "description = 'AutoML Model trained on bank marketing data to predict if a client will subscribe to a term deposit'\n",
    "tags = None\n",
    "model = remote_run.register_model(model_name = model_name, description = description, tags = tags)\n",
    "\n",
    "print(remote_run.model_id) # This will be written to the script file later in the notebook."
   ]
  },
  {
   "cell_type": "markdown",
   "metadata": {},
   "source": [
    "### Deploy the model as a Web Service on Azure Container Instance"
   ]
  },
  {
   "cell_type": "code",
   "execution_count": 82,
   "metadata": {},
   "outputs": [
    {
     "name": "stdout",
     "output_type": "stream",
     "text": [
      "automl-sample-bankmarketing-all1\n",
      "Tips: You can try get_logs(): https://aka.ms/debugimage#dockerlog or local deployment: https://aka.ms/debugimage#debug-locally to debug if deployment takes longer than 10 minutes.\n",
      "Running...................................................................................\n",
      "Succeeded\n",
      "ACI service creation operation finished, operation \"Succeeded\"\n",
      "Healthy\n"
     ]
    }
   ],
   "source": [
    "from azureml.core.model import InferenceConfig\n",
    "from azureml.core.webservice import AciWebservice\n",
    "from azureml.core.webservice import Webservice\n",
    "from azureml.core.model import Model\n",
    "from azureml.core.environment import Environment\n",
    "\n",
    "inference_config = InferenceConfig(entry_script=script_file_name)\n",
    "\n",
    "aciconfig = AciWebservice.deploy_configuration(cpu_cores = 1, \n",
    "                                               memory_gb = 1,\n",
    "                                               enable_app_insights=True,\n",
    "                                               tags = {'area': \"bmData\", 'type': \"automl_classification\"}, \n",
    "                                               description = 'sample service for Automl Classification')\n",
    "\n",
    "aci_service_name = 'automl-sample-bankmarketing-all1'\n",
    "print(aci_service_name)\n",
    "aci_service = Model.deploy(ws, aci_service_name, [model], inference_config, aciconfig)\n",
    "aci_service.wait_for_deployment(True)\n",
    "print(aci_service.state)"
   ]
  },
  {
   "cell_type": "code",
   "execution_count": 58,
   "metadata": {},
   "outputs": [],
   "source": [
    "# Load the bank marketing datasets.\n",
    "from numpy import array"
   ]
  },
  {
   "cell_type": "code",
   "execution_count": 79,
   "metadata": {},
   "outputs": [
    {
     "data": {
      "text/html": [
       "<div>\n",
       "<style scoped>\n",
       "    .dataframe tbody tr th:only-of-type {\n",
       "        vertical-align: middle;\n",
       "    }\n",
       "\n",
       "    .dataframe tbody tr th {\n",
       "        vertical-align: top;\n",
       "    }\n",
       "\n",
       "    .dataframe thead th {\n",
       "        text-align: right;\n",
       "    }\n",
       "</style>\n",
       "<table border=\"1\" class=\"dataframe\">\n",
       "  <thead>\n",
       "    <tr style=\"text-align: right;\">\n",
       "      <th></th>\n",
       "      <th>Pregnancies</th>\n",
       "      <th>Glucose</th>\n",
       "      <th>BloodPressure</th>\n",
       "      <th>SkinThickness</th>\n",
       "      <th>Insulin</th>\n",
       "      <th>BMI</th>\n",
       "      <th>DiabetesPedigreeFunction</th>\n",
       "      <th>Age</th>\n",
       "      <th>Outcome</th>\n",
       "    </tr>\n",
       "  </thead>\n",
       "  <tbody>\n",
       "    <tr>\n",
       "      <th>0</th>\n",
       "      <td>6</td>\n",
       "      <td>148</td>\n",
       "      <td>72</td>\n",
       "      <td>35</td>\n",
       "      <td>0</td>\n",
       "      <td>33.60</td>\n",
       "      <td>0.63</td>\n",
       "      <td>50</td>\n",
       "      <td>1</td>\n",
       "    </tr>\n",
       "    <tr>\n",
       "      <th>1</th>\n",
       "      <td>1</td>\n",
       "      <td>85</td>\n",
       "      <td>66</td>\n",
       "      <td>29</td>\n",
       "      <td>0</td>\n",
       "      <td>26.60</td>\n",
       "      <td>0.35</td>\n",
       "      <td>31</td>\n",
       "      <td>0</td>\n",
       "    </tr>\n",
       "    <tr>\n",
       "      <th>2</th>\n",
       "      <td>8</td>\n",
       "      <td>183</td>\n",
       "      <td>64</td>\n",
       "      <td>0</td>\n",
       "      <td>0</td>\n",
       "      <td>23.30</td>\n",
       "      <td>0.67</td>\n",
       "      <td>32</td>\n",
       "      <td>1</td>\n",
       "    </tr>\n",
       "    <tr>\n",
       "      <th>3</th>\n",
       "      <td>1</td>\n",
       "      <td>89</td>\n",
       "      <td>66</td>\n",
       "      <td>23</td>\n",
       "      <td>94</td>\n",
       "      <td>28.10</td>\n",
       "      <td>0.17</td>\n",
       "      <td>21</td>\n",
       "      <td>0</td>\n",
       "    </tr>\n",
       "    <tr>\n",
       "      <th>4</th>\n",
       "      <td>0</td>\n",
       "      <td>137</td>\n",
       "      <td>40</td>\n",
       "      <td>35</td>\n",
       "      <td>168</td>\n",
       "      <td>43.10</td>\n",
       "      <td>2.29</td>\n",
       "      <td>33</td>\n",
       "      <td>1</td>\n",
       "    </tr>\n",
       "    <tr>\n",
       "      <th>5</th>\n",
       "      <td>5</td>\n",
       "      <td>116</td>\n",
       "      <td>74</td>\n",
       "      <td>0</td>\n",
       "      <td>0</td>\n",
       "      <td>25.60</td>\n",
       "      <td>0.20</td>\n",
       "      <td>30</td>\n",
       "      <td>0</td>\n",
       "    </tr>\n",
       "    <tr>\n",
       "      <th>6</th>\n",
       "      <td>3</td>\n",
       "      <td>78</td>\n",
       "      <td>50</td>\n",
       "      <td>32</td>\n",
       "      <td>88</td>\n",
       "      <td>31.00</td>\n",
       "      <td>0.25</td>\n",
       "      <td>26</td>\n",
       "      <td>1</td>\n",
       "    </tr>\n",
       "    <tr>\n",
       "      <th>7</th>\n",
       "      <td>10</td>\n",
       "      <td>115</td>\n",
       "      <td>0</td>\n",
       "      <td>0</td>\n",
       "      <td>0</td>\n",
       "      <td>35.30</td>\n",
       "      <td>0.13</td>\n",
       "      <td>29</td>\n",
       "      <td>0</td>\n",
       "    </tr>\n",
       "  </tbody>\n",
       "</table>\n",
       "</div>"
      ],
      "text/plain": [
       "   Pregnancies  Glucose  BloodPressure  SkinThickness  Insulin   BMI  \\\n",
       "0  6            148      72             35             0       33.60   \n",
       "1  1            85       66             29             0       26.60   \n",
       "2  8            183      64             0              0       23.30   \n",
       "3  1            89       66             23             94      28.10   \n",
       "4  0            137      40             35             168     43.10   \n",
       "5  5            116      74             0              0       25.60   \n",
       "6  3            78       50             32             88      31.00   \n",
       "7  10           115      0              0              0       35.30   \n",
       "\n",
       "   DiabetesPedigreeFunction  Age  Outcome  \n",
       "0 0.63                       50   1        \n",
       "1 0.35                       31   0        \n",
       "2 0.67                       32   1        \n",
       "3 0.17                       21   0        \n",
       "4 2.29                       33   1        \n",
       "5 0.20                       30   0        \n",
       "6 0.25                       26   1        \n",
       "7 0.13                       29   0        "
      ]
     },
     "execution_count": 79,
     "metadata": {},
     "output_type": "execute_result"
    }
   ],
   "source": [
    "X_test = test_dataset.drop_columns(columns=['Outcome'])\n",
    "y_test = test_dataset.keep_columns(columns=['Outcome'], validate=True)\n",
    "test_dataset.take(8).to_pandas_dataframe()"
   ]
  },
  {
   "cell_type": "code",
   "execution_count": 76,
   "metadata": {},
   "outputs": [],
   "source": [
    "df = X_test.to_pandas_dataframe()"
   ]
  },
  {
   "cell_type": "code",
   "execution_count": 80,
   "metadata": {},
   "outputs": [
    {
     "name": "stdout",
     "output_type": "stream",
     "text": [
      "{\"result\": [1, 0, 1, 0, 1, 0, 0]}\n"
     ]
    }
   ],
   "source": [
    "#Import Json requests and test the webservice\n",
    "import json\n",
    "data= ({'data':df[0:7].to_dict(orient='records')})\n",
    "test_sample=json.dumps(data)\n",
    "output= aci_service.run(test_sample)\n",
    "print(output)"
   ]
  },
  {
   "cell_type": "code",
   "execution_count": null,
   "metadata": {},
   "outputs": [],
   "source": []
  }
 ],
 "metadata": {
  "authors": [
   {
    "name": "ratanase"
   }
  ],
  "categories": [
   "how-to-use-azureml",
   "automated-machine-learning"
  ],
  "category": "tutorial",
  "compute": [
   "AML"
  ],
  "datasets": [
   "Bankmarketing"
  ],
  "deployment": [
   "ACI"
  ],
  "exclude_from_index": false,
  "framework": [
   "None"
  ],
  "friendly_name": "Automated ML run with basic edition features.",
  "index_order": 5,
  "kernelspec": {
   "display_name": "Python 3.6 - AzureML",
   "language": "python",
   "name": "python3-azureml"
  },
  "language_info": {
   "codemirror_mode": {
    "name": "ipython",
    "version": 3
   },
   "file_extension": ".py",
   "mimetype": "text/x-python",
   "name": "python",
   "nbconvert_exporter": "python",
   "pygments_lexer": "ipython3",
   "version": "3.6.9"
  },
  "tags": [
   "featurization",
   "explainability",
   "remote_run",
   "AutomatedML"
  ],
  "task": "Classification"
 },
 "nbformat": 4,
 "nbformat_minor": 2
}
