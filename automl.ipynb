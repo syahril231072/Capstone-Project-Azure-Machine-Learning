{
 "cells": [
  {
   "cell_type": "markdown",
   "metadata": {},
   "source": [
    "![Impressions](https://PixelServer20190423114238.azurewebsites.net/api/impressions/NotebookVM/how-to-use-azureml/automated-machine-learning/classification-bank-marketing-all-features/auto-ml-classification-bank-marketing.png)"
   ]
  },
  {
   "cell_type": "code",
   "execution_count": 1,
   "metadata": {},
   "outputs": [],
   "source": [
    "import logging\n",
    "\n",
    "from matplotlib import pyplot as plt\n",
    "import pandas as pd\n",
    "import os\n",
    "\n",
    "import azureml.core\n",
    "from azureml.core.experiment import Experiment\n",
    "from azureml.core.workspace import Workspace\n",
    "from azureml.automl.core.featurization import FeaturizationConfig\n",
    "from azureml.core.dataset import Dataset\n",
    "from azureml.train.automl import AutoMLConfig\n",
    "from azureml.interpret import ExplanationClient"
   ]
  },
  {
   "cell_type": "code",
   "execution_count": 2,
   "metadata": {},
   "outputs": [
    {
     "name": "stdout",
     "output_type": "stream",
     "text": [
      "This notebook was created using version 1.19.0 of the Azure ML SDK\n",
      "You are currently using version 1.19.0 of the Azure ML SDK\n"
     ]
    }
   ],
   "source": [
    "print(\"This notebook was created using version 1.19.0 of the Azure ML SDK\")\n",
    "print(\"You are currently using version\", azureml.core.VERSION, \"of the Azure ML SDK\")"
   ]
  },
  {
   "cell_type": "code",
   "execution_count": 3,
   "metadata": {},
   "outputs": [
    {
     "data": {
      "text/html": [
       "<div>\n",
       "<style scoped>\n",
       "    .dataframe tbody tr th:only-of-type {\n",
       "        vertical-align: middle;\n",
       "    }\n",
       "\n",
       "    .dataframe tbody tr th {\n",
       "        vertical-align: top;\n",
       "    }\n",
       "\n",
       "    .dataframe thead th {\n",
       "        text-align: right;\n",
       "    }\n",
       "</style>\n",
       "<table border=\"1\" class=\"dataframe\">\n",
       "  <thead>\n",
       "    <tr style=\"text-align: right;\">\n",
       "      <th></th>\n",
       "      <th></th>\n",
       "    </tr>\n",
       "  </thead>\n",
       "  <tbody>\n",
       "    <tr>\n",
       "      <th>Subscription ID</th>\n",
       "      <td>b3fb99ab-ce93-4e7d-92ea-a05123349c1b</td>\n",
       "    </tr>\n",
       "    <tr>\n",
       "      <th>Workspace</th>\n",
       "      <td>quick-starts-ws-130092</td>\n",
       "    </tr>\n",
       "    <tr>\n",
       "      <th>Resource Group</th>\n",
       "      <td>aml-quickstarts-130092</td>\n",
       "    </tr>\n",
       "    <tr>\n",
       "      <th>Location</th>\n",
       "      <td>southcentralus</td>\n",
       "    </tr>\n",
       "    <tr>\n",
       "      <th>Experiment Name</th>\n",
       "      <td>automl-classification-bmarketing-all</td>\n",
       "    </tr>\n",
       "  </tbody>\n",
       "</table>\n",
       "</div>"
      ],
      "text/plain": [
       "                                                     \n",
       "Subscription ID  b3fb99ab-ce93-4e7d-92ea-a05123349c1b\n",
       "Workspace        quick-starts-ws-130092              \n",
       "Resource Group   aml-quickstarts-130092              \n",
       "Location         southcentralus                      \n",
       "Experiment Name  automl-classification-bmarketing-all"
      ]
     },
     "execution_count": 3,
     "metadata": {},
     "output_type": "execute_result"
    }
   ],
   "source": [
    "ws = Workspace.from_config()\n",
    "\n",
    "# choose a name for experiment\n",
    "experiment_name = 'automl-classification-bmarketing-all'\n",
    "\n",
    "experiment=Experiment(ws, experiment_name)\n",
    "\n",
    "output = {}\n",
    "output['Subscription ID'] = ws.subscription_id\n",
    "output['Workspace'] = ws.name\n",
    "output['Resource Group'] = ws.resource_group\n",
    "output['Location'] = ws.location\n",
    "output['Experiment Name'] = experiment.name\n",
    "pd.set_option('display.max_colwidth', -1)\n",
    "outputDf = pd.DataFrame(data = output, index = [''])\n",
    "outputDf.T"
   ]
  },
  {
   "cell_type": "code",
   "execution_count": 4,
   "metadata": {},
   "outputs": [
    {
     "name": "stdout",
     "output_type": "stream",
     "text": [
      "Found existing cluster, use it.\n",
      "Succeeded\n",
      "AmlCompute wait for completion finished\n",
      "\n",
      "Minimum number of nodes requested have been provisioned\n"
     ]
    }
   ],
   "source": [
    "from azureml.core.compute import ComputeTarget, AmlCompute\n",
    "from azureml.core.compute_target import ComputeTargetException\n",
    "\n",
    "# Choose a name for your CPU cluster\n",
    "cpu_cluster_name = \"cpu-cluster-4\"\n",
    "\n",
    "# Verify that cluster does not exist already\n",
    "try:\n",
    "    compute_target = ComputeTarget(workspace=ws, name=cpu_cluster_name)\n",
    "    print('Found existing cluster, use it.')\n",
    "except ComputeTargetException:\n",
    "    compute_config = AmlCompute.provisioning_configuration(vm_size='STANDARD_D2_V2',\n",
    "                                                           max_nodes=6)\n",
    "    compute_target = ComputeTarget.create(ws, cpu_cluster_name, compute_config)\n",
    "\n",
    "compute_target.wait_for_completion(show_output=True)"
   ]
  },
  {
   "cell_type": "markdown",
   "metadata": {},
   "source": [
    "### Training Data"
   ]
  },
  {
   "cell_type": "code",
   "execution_count": 5,
   "metadata": {},
   "outputs": [
    {
     "data": {
      "text/html": [
       "<div>\n",
       "<style scoped>\n",
       "    .dataframe tbody tr th:only-of-type {\n",
       "        vertical-align: middle;\n",
       "    }\n",
       "\n",
       "    .dataframe tbody tr th {\n",
       "        vertical-align: top;\n",
       "    }\n",
       "\n",
       "    .dataframe thead th {\n",
       "        text-align: right;\n",
       "    }\n",
       "</style>\n",
       "<table border=\"1\" class=\"dataframe\">\n",
       "  <thead>\n",
       "    <tr style=\"text-align: right;\">\n",
       "      <th></th>\n",
       "      <th>Pregnancies</th>\n",
       "      <th>Glucose</th>\n",
       "      <th>BloodPressure</th>\n",
       "      <th>SkinThickness</th>\n",
       "      <th>Insulin</th>\n",
       "      <th>BMI</th>\n",
       "      <th>DiabetesPedigreeFunction</th>\n",
       "      <th>Age</th>\n",
       "      <th>Outcome</th>\n",
       "    </tr>\n",
       "  </thead>\n",
       "  <tbody>\n",
       "    <tr>\n",
       "      <th>0</th>\n",
       "      <td>6</td>\n",
       "      <td>148</td>\n",
       "      <td>72</td>\n",
       "      <td>35</td>\n",
       "      <td>0</td>\n",
       "      <td>33.6</td>\n",
       "      <td>0.627</td>\n",
       "      <td>50</td>\n",
       "      <td>1</td>\n",
       "    </tr>\n",
       "    <tr>\n",
       "      <th>1</th>\n",
       "      <td>1</td>\n",
       "      <td>85</td>\n",
       "      <td>66</td>\n",
       "      <td>29</td>\n",
       "      <td>0</td>\n",
       "      <td>26.6</td>\n",
       "      <td>0.351</td>\n",
       "      <td>31</td>\n",
       "      <td>0</td>\n",
       "    </tr>\n",
       "    <tr>\n",
       "      <th>2</th>\n",
       "      <td>8</td>\n",
       "      <td>183</td>\n",
       "      <td>64</td>\n",
       "      <td>0</td>\n",
       "      <td>0</td>\n",
       "      <td>23.3</td>\n",
       "      <td>0.672</td>\n",
       "      <td>32</td>\n",
       "      <td>1</td>\n",
       "    </tr>\n",
       "    <tr>\n",
       "      <th>3</th>\n",
       "      <td>1</td>\n",
       "      <td>89</td>\n",
       "      <td>66</td>\n",
       "      <td>23</td>\n",
       "      <td>94</td>\n",
       "      <td>28.1</td>\n",
       "      <td>0.167</td>\n",
       "      <td>21</td>\n",
       "      <td>0</td>\n",
       "    </tr>\n",
       "    <tr>\n",
       "      <th>4</th>\n",
       "      <td>0</td>\n",
       "      <td>137</td>\n",
       "      <td>40</td>\n",
       "      <td>35</td>\n",
       "      <td>168</td>\n",
       "      <td>43.1</td>\n",
       "      <td>2.288</td>\n",
       "      <td>33</td>\n",
       "      <td>1</td>\n",
       "    </tr>\n",
       "  </tbody>\n",
       "</table>\n",
       "</div>"
      ],
      "text/plain": [
       "   Pregnancies  Glucose  BloodPressure  SkinThickness  Insulin   BMI  \\\n",
       "0  6            148      72             35             0        33.6   \n",
       "1  1            85       66             29             0        26.6   \n",
       "2  8            183      64             0              0        23.3   \n",
       "3  1            89       66             23             94       28.1   \n",
       "4  0            137      40             35             168      43.1   \n",
       "\n",
       "   DiabetesPedigreeFunction  Age  Outcome  \n",
       "0  0.627                     50   1        \n",
       "1  0.351                     31   0        \n",
       "2  0.672                     32   1        \n",
       "3  0.167                     21   0        \n",
       "4  2.288                     33   1        "
      ]
     },
     "execution_count": 5,
     "metadata": {},
     "output_type": "execute_result"
    }
   ],
   "source": [
    "url = \"https://github.com/syahril231072/foree/raw/main/Diabetes.csv\"\n",
    "data = pd.read_csv(url, sep=',', header=0, encoding= 'unicode_escape')\n",
    "\n",
    "data.head()"
   ]
  },
  {
   "cell_type": "code",
   "execution_count": 6,
   "metadata": {},
   "outputs": [],
   "source": [
    "# Add missing values in 75% of the lines.\n",
    "import numpy as np\n",
    "\n",
    "missing_rate = 0.75\n",
    "n_missing_samples = int(np.floor(data.shape[0] * missing_rate))\n",
    "missing_samples = np.hstack((np.zeros(data.shape[0] - n_missing_samples, dtype=np.bool), np.ones(n_missing_samples, dtype=np.bool)))\n",
    "rng = np.random.RandomState(0)\n",
    "rng.shuffle(missing_samples)\n",
    "missing_features = rng.randint(0, data.shape[1], n_missing_samples)\n",
    "data.values[np.where(missing_samples)[0], missing_features] = np.nan"
   ]
  },
  {
   "cell_type": "code",
   "execution_count": 7,
   "metadata": {},
   "outputs": [
    {
     "name": "stdout",
     "output_type": "stream",
     "text": [
      "Uploading an estimated of 1 files\n",
      "Uploading ./data/train_data.csv\n",
      "Uploaded ./data/train_data.csv, 1 files out of an estimated total of 1\n",
      "Uploaded 1 files\n"
     ]
    }
   ],
   "source": [
    "if not os.path.isdir('data'):\n",
    "    os.mkdir('data')\n",
    "    \n",
    "# Save the train data to a csv to be uploaded to the datastore\n",
    "pd.DataFrame(data).to_csv(\"data/train_data.csv\", index=False)\n",
    "\n",
    "ds = ws.get_default_datastore()\n",
    "ds.upload(src_dir='./data', target_path='bankmarketing', overwrite=True, show_progress=True)\n",
    "\n",
    " \n",
    "\n",
    "# Upload the training data as a tabular dataset for access during training on remote compute\n",
    "train_data = Dataset.Tabular.from_delimited_files(path=ds.path('bankmarketing/train_data.csv'))\n",
    "label = \"Outcome\""
   ]
  },
  {
   "cell_type": "markdown",
   "metadata": {},
   "source": [
    "### Test Data"
   ]
  },
  {
   "cell_type": "code",
   "execution_count": 25,
   "metadata": {},
   "outputs": [],
   "source": [
    "ws = Workspace.get(\"quick-starts-ws-130092\")\n",
    "test_dataset = Dataset.get_by_name(ws, name = \"loan\")"
   ]
  },
  {
   "cell_type": "code",
   "execution_count": 9,
   "metadata": {},
   "outputs": [],
   "source": [
    "automl_settings = {\n",
    "    \"experiment_timeout_hours\" : 0.3,\n",
    "    \"enable_early_stopping\" : True,\n",
    "    \"iteration_timeout_minutes\": 5,\n",
    "    \"max_concurrent_iterations\": 4,\n",
    "    \"max_cores_per_iteration\": -1,\n",
    "    #\"n_cross_validations\": 2,\n",
    "    \"primary_metric\": 'AUC_weighted',\n",
    "    \"featurization\": 'auto',\n",
    "    \"verbosity\": logging.INFO,\n",
    "}\n",
    "\n",
    "automl_config = AutoMLConfig(task = 'classification',\n",
    "                             debug_log = 'automl_errors.log',\n",
    "                             compute_target=compute_target,\n",
    "                             experiment_exit_score = 0.9984,\n",
    "                             blocked_models = ['KNN','LinearSVM'],\n",
    "                             enable_onnx_compatible_models=True,\n",
    "                             training_data = train_data,\n",
    "                             label_column_name = label,\n",
    "                             **automl_settings\n",
    "                            )"
   ]
  },
  {
   "cell_type": "code",
   "execution_count": 37,
   "metadata": {},
   "outputs": [
    {
     "name": "stdout",
     "output_type": "stream",
     "text": [
      "Running on remote.\n",
      "Running on remote compute: cpu-cluster-4\n",
      "Parent Run ID: AutoML_b5dd1095-5968-42c2-8433-7d6a536d4285\n",
      "\n",
      "Current status: FeaturesGeneration. Generating features for the dataset.\n",
      "Current status: ModelSelection. Beginning model selection.\n",
      "\n",
      "****************************************************************************************************\n",
      "DATA GUARDRAILS: \n",
      "\n",
      "TYPE:         Cross validation\n",
      "STATUS:       DONE\n",
      "DESCRIPTION:  Each iteration of the trained model was validated through cross-validation.\n",
      "              \n",
      "DETAILS:      \n",
      "+---------------------------------+\n",
      "|Number of folds                  |\n",
      "+=================================+\n",
      "|10                               |\n",
      "+---------------------------------+\n",
      "\n",
      "****************************************************************************************************\n",
      "\n",
      "TYPE:         Class balancing detection\n",
      "STATUS:       PASSED\n",
      "DESCRIPTION:  Your inputs were analyzed, and all classes are balanced in your training data.\n",
      "              Learn more about imbalanced data: https://aka.ms/AutomatedMLImbalancedData\n",
      "\n",
      "****************************************************************************************************\n",
      "\n",
      "TYPE:         High cardinality feature detection\n",
      "STATUS:       PASSED\n",
      "DESCRIPTION:  Your inputs were analyzed, and no high cardinality features were detected.\n",
      "              Learn more about high cardinality feature handling: https://aka.ms/AutomatedMLFeaturization\n",
      "\n",
      "****************************************************************************************************\n",
      "\n",
      "****************************************************************************************************\n",
      "ITERATION: The iteration being evaluated.\n",
      "PIPELINE: A summary description of the pipeline being evaluated.\n",
      "DURATION: Time taken for the current iteration.\n",
      "METRIC: The result of computing score on the fitted pipeline.\n",
      "BEST: The best observed score thus far.\n",
      "****************************************************************************************************\n",
      "\n",
      " ITERATION   PIPELINE                                       DURATION      METRIC      BEST\n",
      "         0   MaxAbsScaler LightGBM                          0:00:54       0.8069    0.8069\n",
      "         1   MaxAbsScaler XGBoostClassifier                 0:00:55       0.8325    0.8325\n",
      "         2   MinMaxScaler RandomForest                      0:01:03       0.8202    0.8325\n",
      "         6   StandardScalerWrapper RandomForest             0:00:51       0.8163    0.8325\n",
      "         7   MinMaxScaler ExtremeRandomTrees                0:00:52       0.8160    0.8325\n",
      "         3   RobustScaler ExtremeRandomTrees                0:03:29       0.8311    0.8325\n",
      "         4   MinMaxScaler RandomForest                      0:03:20       0.8352    0.8352\n",
      "         5   MinMaxScaler RandomForest                      0:03:29       0.8199    0.8352\n",
      "         8   MinMaxScaler ExtremeRandomTrees                0:01:08       0.8248    0.8352\n",
      "        10   RobustScaler ExtremeRandomTrees                0:00:58       0.8370    0.8370\n",
      "         9   MinMaxScaler ExtremeRandomTrees                0:01:05       0.8208    0.8370\n",
      "        11   StandardScalerWrapper RandomForest             0:01:00       0.8232    0.8370\n",
      "        12   StandardScalerWrapper SGD                      0:00:51       0.8290    0.8370\n",
      "        13   RobustScaler RandomForest                      0:00:52       0.8086    0.8370\n",
      "        14   MinMaxScaler RandomForest                      0:00:51       0.8206    0.8370\n",
      "        15   MinMaxScaler ExtremeRandomTrees                0:00:58       0.8035    0.8370\n",
      "        16   MaxAbsScaler RandomForest                      0:00:54       0.8133    0.8370\n",
      "        17   StandardScalerWrapper XGBoostClassifier        0:00:58       0.8223    0.8370\n",
      "        18   MaxAbsScaler RandomForest                      0:00:53       0.8170    0.8370\n",
      "        19   MaxAbsScaler ExtremeRandomTrees                0:00:50       0.8130    0.8370\n",
      "        20   MaxAbsScaler ExtremeRandomTrees                0:01:02       0.8306    0.8370\n",
      "        21   StandardScalerWrapper SVM                      0:00:54       0.8184    0.8370\n",
      "        22   MaxAbsScaler LogisticRegression                0:00:51       0.8301    0.8370\n",
      "        23   StandardScalerWrapper SVM                      0:00:57       0.7679    0.8370\n",
      "        24   StandardScalerWrapper LightGBM                 0:00:52       0.8328    0.8370\n",
      "        25   PCA ExtremeRandomTrees                         0:00:52       0.6895    0.8370\n",
      "        26   SparseNormalizer LightGBM                      0:00:55       0.6401    0.8370\n",
      "        27   StandardScalerWrapper SVM                      0:00:49       0.8355    0.8370\n",
      "        28   TruncatedSVDWrapper XGBoostClassifier          0:00:51       0.7625    0.8370\n",
      "        31   StandardScalerWrapper GradientBoosting         0:00:54       0.8139    0.8370\n",
      "        29   RobustScaler ExtremeRandomTrees                0:01:03       0.8086    0.8370\n",
      "        30   RobustScaler GradientBoosting                  0:01:03       0.8275    0.8370\n",
      "        32   StandardScalerWrapper GradientBoosting         0:01:00       0.8388    0.8388\n",
      "        33   StandardScalerWrapper LogisticRegression       0:00:51       0.8309    0.8388\n",
      "        34   StandardScalerWrapper LogisticRegression       0:00:58       0.8296    0.8388\n",
      "        35   StandardScalerWrapper ExtremeRandomTrees       0:00:52       0.7587    0.8388\n",
      "        36   RobustScaler LightGBM                          0:00:57       0.8161    0.8388\n",
      "        37   StandardScalerWrapper XGBoostClassifier        0:00:52       0.8219    0.8388\n",
      "        38   MaxAbsScaler LightGBM                          0:00:49       0.8323    0.8388\n",
      "        39   StandardScalerWrapper LightGBM                 0:00:54       0.8302    0.8388\n",
      "        40   StandardScalerWrapper GradientBoosting         0:00:57       0.7923    0.8388\n",
      "        41   RobustScaler LightGBM                          0:00:52       0.8251    0.8388\n",
      "        42   RobustScaler GradientBoosting                  0:01:01       0.8310    0.8388\n",
      "        43   MaxAbsScaler LightGBM                          0:00:56       0.8287    0.8388\n",
      "        45   StandardScalerWrapper LightGBM                 0:00:57       0.8308    0.8388\n",
      "        44   StandardScalerWrapper GradientBoosting         0:01:03       0.8253    0.8388\n",
      "        46   MaxAbsScaler LightGBM                          0:00:55       0.8292    0.8388\n",
      "        47   StandardScalerWrapper GradientBoosting         0:00:46       0.8342    0.8388\n",
      "        48    VotingEnsemble                                0:02:38       0.8453    0.8453\n"
     ]
    }
   ],
   "source": [
    "from azureml.core.conda_dependencies import CondaDependencies\n",
    "remote_run = experiment.submit(automl_config, show_output = True)"
   ]
  },
  {
   "cell_type": "code",
   "execution_count": 38,
   "metadata": {},
   "outputs": [
    {
     "data": {
      "text/html": [
       "<table style=\"width:100%\"><tr><th>Experiment</th><th>Id</th><th>Type</th><th>Status</th><th>Details Page</th><th>Docs Page</th></tr><tr><td>automl-classification-bmarketing-all</td><td>AutoML_b5dd1095-5968-42c2-8433-7d6a536d4285</td><td>automl</td><td>Completed</td><td><a href=\"https://ml.azure.com/experiments/automl-classification-bmarketing-all/runs/AutoML_b5dd1095-5968-42c2-8433-7d6a536d4285?wsid=/subscriptions/b3fb99ab-ce93-4e7d-92ea-a05123349c1b/resourcegroups/aml-quickstarts-130092/workspaces/quick-starts-ws-130092\" target=\"_blank\" rel=\"noopener\">Link to Azure Machine Learning studio</a></td><td><a href=\"https://docs.microsoft.com/en-us/python/api/overview/azure/ml/intro?view=azure-ml-py\" target=\"_blank\" rel=\"noopener\">Link to Documentation</a></td></tr></table>"
      ],
      "text/plain": [
       "Run(Experiment: automl-classification-bmarketing-all,\n",
       "Id: AutoML_b5dd1095-5968-42c2-8433-7d6a536d4285,\n",
       "Type: automl,\n",
       "Status: Completed)"
      ]
     },
     "execution_count": 38,
     "metadata": {},
     "output_type": "execute_result"
    }
   ],
   "source": [
    "remote_run"
   ]
  },
  {
   "cell_type": "code",
   "execution_count": 39,
   "metadata": {},
   "outputs": [
    {
     "data": {
      "text/plain": [
       "{'runId': 'AutoML_b5dd1095-5968-42c2-8433-7d6a536d4285',\n",
       " 'target': 'cpu-cluster-4',\n",
       " 'status': 'Completed',\n",
       " 'startTimeUtc': '2020-12-11T06:10:36.435513Z',\n",
       " 'endTimeUtc': '2020-12-11T06:41:22.333559Z',\n",
       " 'properties': {'num_iterations': '1000',\n",
       "  'training_type': 'TrainFull',\n",
       "  'acquisition_function': 'EI',\n",
       "  'primary_metric': 'AUC_weighted',\n",
       "  'train_split': '0',\n",
       "  'acquisition_parameter': '0',\n",
       "  'num_cross_validation': None,\n",
       "  'target': 'cpu-cluster-4',\n",
       "  'AMLSettingsJsonString': '{\"path\":null,\"name\":\"automl-classification-bmarketing-all\",\"subscription_id\":\"b3fb99ab-ce93-4e7d-92ea-a05123349c1b\",\"resource_group\":\"aml-quickstarts-130092\",\"workspace_name\":\"quick-starts-ws-130092\",\"region\":\"southcentralus\",\"compute_target\":\"cpu-cluster-4\",\"spark_service\":null,\"azure_service\":\"remote\",\"many_models\":false,\"pipeline_fetch_max_batch_size\":1,\"iterations\":1000,\"primary_metric\":\"AUC_weighted\",\"task_type\":\"classification\",\"data_script\":null,\"validation_size\":0.0,\"n_cross_validations\":null,\"y_min\":null,\"y_max\":null,\"num_classes\":null,\"featurization\":\"auto\",\"_ignore_package_version_incompatibilities\":false,\"is_timeseries\":false,\"max_cores_per_iteration\":-1,\"max_concurrent_iterations\":4,\"iteration_timeout_minutes\":5,\"mem_in_mb\":null,\"enforce_time_on_windows\":false,\"experiment_timeout_minutes\":18,\"experiment_exit_score\":0.9984,\"whitelist_models\":null,\"blacklist_algos\":[\"KNN\",\"LinearSVM\",\"TensorFlowLinearClassifier\",\"TensorFlowDNN\"],\"supported_models\":[\"RandomForest\",\"MultinomialNaiveBayes\",\"SVM\",\"DecisionTree\",\"BernoulliNaiveBayes\",\"ExtremeRandomTrees\",\"GradientBoosting\",\"SGD\",\"LightGBM\",\"LogisticRegression\",\"TensorFlowDNN\",\"TensorFlowLinearClassifier\",\"KNN\",\"AveragedPerceptronClassifier\",\"XGBoostClassifier\",\"LinearSVM\"],\"auto_blacklist\":true,\"blacklist_samples_reached\":false,\"exclude_nan_labels\":true,\"verbosity\":20,\"_debug_log\":\"azureml_automl.log\",\"show_warnings\":false,\"model_explainability\":true,\"service_url\":null,\"sdk_url\":null,\"sdk_packages\":null,\"enable_onnx_compatible_models\":true,\"enable_split_onnx_featurizer_estimator_models\":false,\"vm_type\":\"STANDARD_D2_V2\",\"telemetry_verbosity\":20,\"send_telemetry\":true,\"enable_dnn\":false,\"scenario\":\"SDK-1.13.0\",\"environment_label\":null,\"force_text_dnn\":false,\"enable_feature_sweeping\":false,\"enable_early_stopping\":true,\"early_stopping_n_iters\":10,\"metrics\":null,\"enable_ensembling\":true,\"enable_stack_ensembling\":false,\"ensemble_iterations\":15,\"enable_tf\":false,\"enable_subsampling\":null,\"subsample_seed\":null,\"enable_nimbusml\":false,\"enable_streaming\":false,\"force_streaming\":false,\"track_child_runs\":true,\"allowed_private_models\":[],\"label_column_name\":\"Outcome\",\"weight_column_name\":null,\"cv_split_column_names\":null,\"enable_local_managed\":false,\"_local_managed_run_id\":null,\"cost_mode\":1,\"lag_length\":0,\"metric_operation\":\"maximize\",\"preprocess\":true}',\n",
       "  'DataPrepJsonString': '{\\\\\"training_data\\\\\": \\\\\"{\\\\\\\\\\\\\"blocks\\\\\\\\\\\\\": [{\\\\\\\\\\\\\"id\\\\\\\\\\\\\": \\\\\\\\\\\\\"45dc3e11-6e90-458f-97d3-f614d8747f1e\\\\\\\\\\\\\", \\\\\\\\\\\\\"type\\\\\\\\\\\\\": \\\\\\\\\\\\\"Microsoft.DPrep.GetDatastoreFilesBlock\\\\\\\\\\\\\", \\\\\\\\\\\\\"arguments\\\\\\\\\\\\\": {\\\\\\\\\\\\\"datastores\\\\\\\\\\\\\": [{\\\\\\\\\\\\\"datastoreName\\\\\\\\\\\\\": \\\\\\\\\\\\\"workspaceblobstore\\\\\\\\\\\\\", \\\\\\\\\\\\\"path\\\\\\\\\\\\\": \\\\\\\\\\\\\"bankmarketing/train_data.csv\\\\\\\\\\\\\", \\\\\\\\\\\\\"resourceGroup\\\\\\\\\\\\\": \\\\\\\\\\\\\"aml-quickstarts-130092\\\\\\\\\\\\\", \\\\\\\\\\\\\"subscription\\\\\\\\\\\\\": \\\\\\\\\\\\\"b3fb99ab-ce93-4e7d-92ea-a05123349c1b\\\\\\\\\\\\\", \\\\\\\\\\\\\"workspaceName\\\\\\\\\\\\\": \\\\\\\\\\\\\"quick-starts-ws-130092\\\\\\\\\\\\\"}]}, \\\\\\\\\\\\\"localData\\\\\\\\\\\\\": {}, \\\\\\\\\\\\\"isEnabled\\\\\\\\\\\\\": true, \\\\\\\\\\\\\"name\\\\\\\\\\\\\": null, \\\\\\\\\\\\\"annotation\\\\\\\\\\\\\": null}, {\\\\\\\\\\\\\"id\\\\\\\\\\\\\": \\\\\\\\\\\\\"aab1003e-34ac-4544-99d3-2c77c9dd9ced\\\\\\\\\\\\\", \\\\\\\\\\\\\"type\\\\\\\\\\\\\": \\\\\\\\\\\\\"Microsoft.DPrep.ParseDelimitedBlock\\\\\\\\\\\\\", \\\\\\\\\\\\\"arguments\\\\\\\\\\\\\": {\\\\\\\\\\\\\"columnHeadersMode\\\\\\\\\\\\\": 3, \\\\\\\\\\\\\"fileEncoding\\\\\\\\\\\\\": 0, \\\\\\\\\\\\\"handleQuotedLineBreaks\\\\\\\\\\\\\": false, \\\\\\\\\\\\\"preview\\\\\\\\\\\\\": false, \\\\\\\\\\\\\"separator\\\\\\\\\\\\\": \\\\\\\\\\\\\",\\\\\\\\\\\\\", \\\\\\\\\\\\\"skipRows\\\\\\\\\\\\\": 0, \\\\\\\\\\\\\"skipRowsMode\\\\\\\\\\\\\": 0}, \\\\\\\\\\\\\"localData\\\\\\\\\\\\\": {}, \\\\\\\\\\\\\"isEnabled\\\\\\\\\\\\\": true, \\\\\\\\\\\\\"name\\\\\\\\\\\\\": null, \\\\\\\\\\\\\"annotation\\\\\\\\\\\\\": null}, {\\\\\\\\\\\\\"id\\\\\\\\\\\\\": \\\\\\\\\\\\\"d016120e-1211-456e-9b4f-762e8dd56e21\\\\\\\\\\\\\", \\\\\\\\\\\\\"type\\\\\\\\\\\\\": \\\\\\\\\\\\\"Microsoft.DPrep.DropColumnsBlock\\\\\\\\\\\\\", \\\\\\\\\\\\\"arguments\\\\\\\\\\\\\": {\\\\\\\\\\\\\"columns\\\\\\\\\\\\\": {\\\\\\\\\\\\\"type\\\\\\\\\\\\\": 0, \\\\\\\\\\\\\"details\\\\\\\\\\\\\": {\\\\\\\\\\\\\"selectedColumns\\\\\\\\\\\\\": [\\\\\\\\\\\\\"Path\\\\\\\\\\\\\"]}}}, \\\\\\\\\\\\\"localData\\\\\\\\\\\\\": {}, \\\\\\\\\\\\\"isEnabled\\\\\\\\\\\\\": true, \\\\\\\\\\\\\"name\\\\\\\\\\\\\": null, \\\\\\\\\\\\\"annotation\\\\\\\\\\\\\": null}, {\\\\\\\\\\\\\"id\\\\\\\\\\\\\": \\\\\\\\\\\\\"6c6d4e34-4f10-4aae-a777-64ffb8ea5b37\\\\\\\\\\\\\", \\\\\\\\\\\\\"type\\\\\\\\\\\\\": \\\\\\\\\\\\\"Microsoft.DPrep.SetColumnTypesBlock\\\\\\\\\\\\\", \\\\\\\\\\\\\"arguments\\\\\\\\\\\\\": {\\\\\\\\\\\\\"columnConversion\\\\\\\\\\\\\": [{\\\\\\\\\\\\\"column\\\\\\\\\\\\\": {\\\\\\\\\\\\\"type\\\\\\\\\\\\\": 2, \\\\\\\\\\\\\"details\\\\\\\\\\\\\": {\\\\\\\\\\\\\"selectedColumn\\\\\\\\\\\\\": \\\\\\\\\\\\\"Pregnancies\\\\\\\\\\\\\"}}, \\\\\\\\\\\\\"typeProperty\\\\\\\\\\\\\": 2}, {\\\\\\\\\\\\\"column\\\\\\\\\\\\\": {\\\\\\\\\\\\\"type\\\\\\\\\\\\\": 2, \\\\\\\\\\\\\"details\\\\\\\\\\\\\": {\\\\\\\\\\\\\"selectedColumn\\\\\\\\\\\\\": \\\\\\\\\\\\\"Glucose\\\\\\\\\\\\\"}}, \\\\\\\\\\\\\"typeProperty\\\\\\\\\\\\\": 2}, {\\\\\\\\\\\\\"column\\\\\\\\\\\\\": {\\\\\\\\\\\\\"type\\\\\\\\\\\\\": 2, \\\\\\\\\\\\\"details\\\\\\\\\\\\\": {\\\\\\\\\\\\\"selectedColumn\\\\\\\\\\\\\": \\\\\\\\\\\\\"BloodPressure\\\\\\\\\\\\\"}}, \\\\\\\\\\\\\"typeProperty\\\\\\\\\\\\\": 2}, {\\\\\\\\\\\\\"column\\\\\\\\\\\\\": {\\\\\\\\\\\\\"type\\\\\\\\\\\\\": 2, \\\\\\\\\\\\\"details\\\\\\\\\\\\\": {\\\\\\\\\\\\\"selectedColumn\\\\\\\\\\\\\": \\\\\\\\\\\\\"SkinThickness\\\\\\\\\\\\\"}}, \\\\\\\\\\\\\"typeProperty\\\\\\\\\\\\\": 2}, {\\\\\\\\\\\\\"column\\\\\\\\\\\\\": {\\\\\\\\\\\\\"type\\\\\\\\\\\\\": 2, \\\\\\\\\\\\\"details\\\\\\\\\\\\\": {\\\\\\\\\\\\\"selectedColumn\\\\\\\\\\\\\": \\\\\\\\\\\\\"Insulin\\\\\\\\\\\\\"}}, \\\\\\\\\\\\\"typeProperty\\\\\\\\\\\\\": 2}, {\\\\\\\\\\\\\"column\\\\\\\\\\\\\": {\\\\\\\\\\\\\"type\\\\\\\\\\\\\": 2, \\\\\\\\\\\\\"details\\\\\\\\\\\\\": {\\\\\\\\\\\\\"selectedColumn\\\\\\\\\\\\\": \\\\\\\\\\\\\"BMI\\\\\\\\\\\\\"}}, \\\\\\\\\\\\\"typeProperty\\\\\\\\\\\\\": 3}, {\\\\\\\\\\\\\"column\\\\\\\\\\\\\": {\\\\\\\\\\\\\"type\\\\\\\\\\\\\": 2, \\\\\\\\\\\\\"details\\\\\\\\\\\\\": {\\\\\\\\\\\\\"selectedColumn\\\\\\\\\\\\\": \\\\\\\\\\\\\"DiabetesPedigreeFunction\\\\\\\\\\\\\"}}, \\\\\\\\\\\\\"typeProperty\\\\\\\\\\\\\": 3}, {\\\\\\\\\\\\\"column\\\\\\\\\\\\\": {\\\\\\\\\\\\\"type\\\\\\\\\\\\\": 2, \\\\\\\\\\\\\"details\\\\\\\\\\\\\": {\\\\\\\\\\\\\"selectedColumn\\\\\\\\\\\\\": \\\\\\\\\\\\\"Age\\\\\\\\\\\\\"}}, \\\\\\\\\\\\\"typeProperty\\\\\\\\\\\\\": 2}, {\\\\\\\\\\\\\"column\\\\\\\\\\\\\": {\\\\\\\\\\\\\"type\\\\\\\\\\\\\": 2, \\\\\\\\\\\\\"details\\\\\\\\\\\\\": {\\\\\\\\\\\\\"selectedColumn\\\\\\\\\\\\\": \\\\\\\\\\\\\"Outcome\\\\\\\\\\\\\"}}, \\\\\\\\\\\\\"typeProperty\\\\\\\\\\\\\": 2}]}, \\\\\\\\\\\\\"localData\\\\\\\\\\\\\": {}, \\\\\\\\\\\\\"isEnabled\\\\\\\\\\\\\": true, \\\\\\\\\\\\\"name\\\\\\\\\\\\\": null, \\\\\\\\\\\\\"annotation\\\\\\\\\\\\\": null}], \\\\\\\\\\\\\"inspectors\\\\\\\\\\\\\": [], \\\\\\\\\\\\\"meta\\\\\\\\\\\\\": {\\\\\\\\\\\\\"savedDatasetId\\\\\\\\\\\\\": \\\\\\\\\\\\\"a6163b3e-dc05-457a-89c7-e44c39ce7f36\\\\\\\\\\\\\", \\\\\\\\\\\\\"datasetType\\\\\\\\\\\\\": \\\\\\\\\\\\\"tabular\\\\\\\\\\\\\", \\\\\\\\\\\\\"subscriptionId\\\\\\\\\\\\\": \\\\\\\\\\\\\"b3fb99ab-ce93-4e7d-92ea-a05123349c1b\\\\\\\\\\\\\", \\\\\\\\\\\\\"workspaceId\\\\\\\\\\\\\": \\\\\\\\\\\\\"460f8969-4397-49f2-a704-31de8bccc85d\\\\\\\\\\\\\", \\\\\\\\\\\\\"workspaceLocation\\\\\\\\\\\\\": \\\\\\\\\\\\\"southcentralus\\\\\\\\\\\\\"}}\\\\\", \\\\\"activities\\\\\": 0}',\n",
       "  'EnableSubsampling': None,\n",
       "  'runTemplate': 'AutoML',\n",
       "  'azureml.runsource': 'automl',\n",
       "  'display_task_type': 'classification',\n",
       "  'dependencies_versions': '{\"azureml-widgets\": \"1.19.0\", \"azureml-train\": \"1.19.0\", \"azureml-train-restclients-hyperdrive\": \"1.19.0\", \"azureml-train-core\": \"1.19.0\", \"azureml-train-automl\": \"1.19.0\", \"azureml-train-automl-runtime\": \"1.19.0\", \"azureml-train-automl-client\": \"1.19.0\", \"azureml-tensorboard\": \"1.19.0\", \"azureml-telemetry\": \"1.19.0\", \"azureml-sdk\": \"1.19.0\", \"azureml-samples\": \"0+unknown\", \"azureml-pipeline\": \"1.19.0\", \"azureml-pipeline-steps\": \"1.19.0\", \"azureml-pipeline-core\": \"1.19.0\", \"azureml-opendatasets\": \"1.19.0\", \"azureml-model-management-sdk\": \"1.0.1b6.post1\", \"azureml-mlflow\": \"1.19.0\", \"azureml-interpret\": \"1.19.0\", \"azureml-explain-model\": \"1.19.0\", \"azureml-defaults\": \"1.19.0\", \"azureml-dataset-runtime\": \"1.19.0\", \"azureml-dataprep\": \"2.6.1\", \"azureml-dataprep-rslex\": \"1.4.0\", \"azureml-dataprep-native\": \"26.0.0\", \"azureml-datadrift\": \"1.19.0\", \"azureml-core\": \"1.19.0\", \"azureml-contrib-services\": \"1.19.0\", \"azureml-contrib-server\": \"1.19.0\", \"azureml-contrib-reinforcementlearning\": \"1.19.0\", \"azureml-contrib-pipeline-steps\": \"1.19.0\", \"azureml-contrib-notebook\": \"1.19.0\", \"azureml-contrib-interpret\": \"1.19.0\", \"azureml-contrib-gbdt\": \"1.19.0\", \"azureml-contrib-fairness\": \"1.19.0\", \"azureml-contrib-dataset\": \"1.19.0\", \"azureml-cli-common\": \"1.19.0\", \"azureml-automl-runtime\": \"1.19.0\", \"azureml-automl-core\": \"1.19.0\", \"azureml-accel-models\": \"1.19.0\"}',\n",
       "  '_aml_system_scenario_identification': 'Remote.Parent',\n",
       "  'ClientType': 'SDK',\n",
       "  'environment_cpu_name': 'AzureML-AutoML',\n",
       "  'environment_cpu_version': '48',\n",
       "  'environment_gpu_name': 'AzureML-AutoML-GPU',\n",
       "  'environment_gpu_version': '36',\n",
       "  'root_attribution': 'automl',\n",
       "  'attribution': 'AutoML',\n",
       "  'Orchestrator': 'AutoML',\n",
       "  'CancelUri': 'https://southcentralus.experiments.azureml.net/jasmine/v1.0/subscriptions/b3fb99ab-ce93-4e7d-92ea-a05123349c1b/resourceGroups/aml-quickstarts-130092/providers/Microsoft.MachineLearningServices/workspaces/quick-starts-ws-130092/experimentids/62aec76e-90b2-41df-8e71-c8cd9c38d338/cancel/AutoML_b5dd1095-5968-42c2-8433-7d6a536d4285',\n",
       "  'ClientSdkVersion': '1.18.0.post1',\n",
       "  'snapshotId': '00000000-0000-0000-0000-000000000000',\n",
       "  'SetupRunId': 'AutoML_b5dd1095-5968-42c2-8433-7d6a536d4285_setup',\n",
       "  'SetupRunContainerId': 'dcid.AutoML_b5dd1095-5968-42c2-8433-7d6a536d4285_setup',\n",
       "  'FeaturizationRunJsonPath': 'featurizer_container.json',\n",
       "  'FeaturizationRunId': 'AutoML_b5dd1095-5968-42c2-8433-7d6a536d4285_featurize',\n",
       "  'ProblemInfoJsonString': '{\"dataset_num_categorical\": 0, \"is_sparse\": false, \"subsampling\": false, \"dataset_classes\": 2, \"dataset_features\": 8, \"dataset_samples\": 768, \"single_frequency_class_detected\": false}',\n",
       "  'ModelExplainRunId': 'AutoML_b5dd1095-5968-42c2-8433-7d6a536d4285_ModelExplain'},\n",
       " 'inputDatasets': [{'dataset': {'id': 'a6163b3e-dc05-457a-89c7-e44c39ce7f36'}, 'consumptionDetails': {'type': 'RunInput', 'inputName': 'training_data', 'mechanism': 'Direct'}}],\n",
       " 'outputDatasets': [],\n",
       " 'logFiles': {}}"
      ]
     },
     "execution_count": 39,
     "metadata": {},
     "output_type": "execute_result"
    }
   ],
   "source": [
    "# Wait for the remote run to complete\n",
    "remote_run.wait_for_completion()"
   ]
  },
  {
   "cell_type": "code",
   "execution_count": 40,
   "metadata": {},
   "outputs": [
    {
     "name": "stdout",
     "output_type": "stream",
     "text": [
      "Run(Experiment: automl-classification-bmarketing-all,\n",
      "Id: AutoML_b5dd1095-5968-42c2-8433-7d6a536d4285_48,\n",
      "Type: azureml.scriptrun,\n",
      "Status: Completed)\n",
      "Pipeline(memory=None,\n",
      "         steps=[('datatransformer',\n",
      "                 DataTransformer(enable_dnn=None, enable_feature_sweeping=None,\n",
      "                                 feature_sweeping_config=None,\n",
      "                                 feature_sweeping_timeout=None,\n",
      "                                 featurization_config=None, force_text_dnn=None,\n",
      "                                 is_cross_validation=None,\n",
      "                                 is_onnx_compatible=None, logger=None,\n",
      "                                 observer=None, task=None, working_dir=None)),\n",
      "                ('prefittedsoftvotingclassifier',...\n",
      "                                                                             SVCWrapper(C=51.79474679231202,\n",
      "                                                                                        break_ties=False,\n",
      "                                                                                        cache_size=200,\n",
      "                                                                                        class_weight='balanced',\n",
      "                                                                                        coef0=0.0,\n",
      "                                                                                        decision_function_shape='ovr',\n",
      "                                                                                        degree=3,\n",
      "                                                                                        gamma='scale',\n",
      "                                                                                        kernel='rbf',\n",
      "                                                                                        max_iter=-1,\n",
      "                                                                                        probability=True,\n",
      "                                                                                        random_state=None,\n",
      "                                                                                        shrinking=True,\n",
      "                                                                                        tol=0.001,\n",
      "                                                                                        verbose=False))],\n",
      "                                                                     verbose=False))],\n",
      "                                               flatten_transform=None,\n",
      "                                               weights=[0.125, 0.125, 0.125,\n",
      "                                                        0.125, 0.125, 0.125,\n",
      "                                                        0.125, 0.125]))],\n",
      "         verbose=False)\n"
     ]
    }
   ],
   "source": [
    "best_run_customized, fitted_model_customized = remote_run.get_output()\n",
    "print(best_run_customized)\n",
    "print(fitted_model_customized)"
   ]
  },
  {
   "cell_type": "code",
   "execution_count": 14,
   "metadata": {},
   "outputs": [
    {
     "data": {
      "text/html": [
       "<div>\n",
       "<style scoped>\n",
       "    .dataframe tbody tr th:only-of-type {\n",
       "        vertical-align: middle;\n",
       "    }\n",
       "\n",
       "    .dataframe tbody tr th {\n",
       "        vertical-align: top;\n",
       "    }\n",
       "\n",
       "    .dataframe thead th {\n",
       "        text-align: right;\n",
       "    }\n",
       "</style>\n",
       "<table border=\"1\" class=\"dataframe\">\n",
       "  <thead>\n",
       "    <tr style=\"text-align: right;\">\n",
       "      <th></th>\n",
       "      <th>RawFeatureName</th>\n",
       "      <th>TypeDetected</th>\n",
       "      <th>Dropped</th>\n",
       "      <th>EngineeredFeatureCount</th>\n",
       "      <th>Transformations</th>\n",
       "    </tr>\n",
       "  </thead>\n",
       "  <tbody>\n",
       "    <tr>\n",
       "      <th>0</th>\n",
       "      <td>Pregnancies</td>\n",
       "      <td>Numeric</td>\n",
       "      <td>No</td>\n",
       "      <td>1</td>\n",
       "      <td>[MeanImputer]</td>\n",
       "    </tr>\n",
       "    <tr>\n",
       "      <th>1</th>\n",
       "      <td>Glucose</td>\n",
       "      <td>Numeric</td>\n",
       "      <td>No</td>\n",
       "      <td>1</td>\n",
       "      <td>[MeanImputer]</td>\n",
       "    </tr>\n",
       "    <tr>\n",
       "      <th>2</th>\n",
       "      <td>BloodPressure</td>\n",
       "      <td>Numeric</td>\n",
       "      <td>No</td>\n",
       "      <td>1</td>\n",
       "      <td>[MeanImputer]</td>\n",
       "    </tr>\n",
       "    <tr>\n",
       "      <th>3</th>\n",
       "      <td>SkinThickness</td>\n",
       "      <td>Numeric</td>\n",
       "      <td>No</td>\n",
       "      <td>1</td>\n",
       "      <td>[MeanImputer]</td>\n",
       "    </tr>\n",
       "    <tr>\n",
       "      <th>4</th>\n",
       "      <td>Insulin</td>\n",
       "      <td>Numeric</td>\n",
       "      <td>No</td>\n",
       "      <td>1</td>\n",
       "      <td>[MeanImputer]</td>\n",
       "    </tr>\n",
       "    <tr>\n",
       "      <th>5</th>\n",
       "      <td>BMI</td>\n",
       "      <td>Numeric</td>\n",
       "      <td>No</td>\n",
       "      <td>1</td>\n",
       "      <td>[MeanImputer]</td>\n",
       "    </tr>\n",
       "    <tr>\n",
       "      <th>6</th>\n",
       "      <td>DiabetesPedigreeFunction</td>\n",
       "      <td>Numeric</td>\n",
       "      <td>No</td>\n",
       "      <td>1</td>\n",
       "      <td>[MeanImputer]</td>\n",
       "    </tr>\n",
       "    <tr>\n",
       "      <th>7</th>\n",
       "      <td>Age</td>\n",
       "      <td>Numeric</td>\n",
       "      <td>No</td>\n",
       "      <td>1</td>\n",
       "      <td>[MeanImputer]</td>\n",
       "    </tr>\n",
       "  </tbody>\n",
       "</table>\n",
       "</div>"
      ],
      "text/plain": [
       "             RawFeatureName TypeDetected Dropped  EngineeredFeatureCount  \\\n",
       "0  Pregnancies               Numeric      No      1                        \n",
       "1  Glucose                   Numeric      No      1                        \n",
       "2  BloodPressure             Numeric      No      1                        \n",
       "3  SkinThickness             Numeric      No      1                        \n",
       "4  Insulin                   Numeric      No      1                        \n",
       "5  BMI                       Numeric      No      1                        \n",
       "6  DiabetesPedigreeFunction  Numeric      No      1                        \n",
       "7  Age                       Numeric      No      1                        \n",
       "\n",
       "  Transformations  \n",
       "0  [MeanImputer]   \n",
       "1  [MeanImputer]   \n",
       "2  [MeanImputer]   \n",
       "3  [MeanImputer]   \n",
       "4  [MeanImputer]   \n",
       "5  [MeanImputer]   \n",
       "6  [MeanImputer]   \n",
       "7  [MeanImputer]   "
      ]
     },
     "execution_count": 14,
     "metadata": {},
     "output_type": "execute_result"
    }
   ],
   "source": [
    "custom_featurizer = fitted_model_customized.named_steps['datatransformer']\n",
    "df = custom_featurizer.get_featurization_summary()\n",
    "pd.DataFrame(data=df)"
   ]
  },
  {
   "cell_type": "code",
   "execution_count": 15,
   "metadata": {},
   "outputs": [
    {
     "data": {
      "text/html": [
       "<div>\n",
       "<style scoped>\n",
       "    .dataframe tbody tr th:only-of-type {\n",
       "        vertical-align: middle;\n",
       "    }\n",
       "\n",
       "    .dataframe tbody tr th {\n",
       "        vertical-align: top;\n",
       "    }\n",
       "\n",
       "    .dataframe thead th {\n",
       "        text-align: right;\n",
       "    }\n",
       "</style>\n",
       "<table border=\"1\" class=\"dataframe\">\n",
       "  <thead>\n",
       "    <tr style=\"text-align: right;\">\n",
       "      <th></th>\n",
       "      <th>RawFeatureName</th>\n",
       "      <th>TypeDetected</th>\n",
       "      <th>Dropped</th>\n",
       "      <th>EngineeredFeatureCount</th>\n",
       "      <th>Transformations</th>\n",
       "      <th>TransformationParams</th>\n",
       "    </tr>\n",
       "  </thead>\n",
       "  <tbody>\n",
       "    <tr>\n",
       "      <th>0</th>\n",
       "      <td>Pregnancies</td>\n",
       "      <td>Numeric</td>\n",
       "      <td>No</td>\n",
       "      <td>1</td>\n",
       "      <td>[MeanImputer]</td>\n",
       "      <td>{'Transformer1': {'Input': ['Pregnancies'], 'TransformationFunction': 'Imputer', 'Operator': 'Mean', 'FeatureType': 'Numeric', 'ShouldOutput': True, 'TransformationParams': {'add_indicator': False, 'copy': True, 'fill_value': None, 'missing_values': nan, 'strategy': 'mean', 'verbose': 0}}}</td>\n",
       "    </tr>\n",
       "    <tr>\n",
       "      <th>1</th>\n",
       "      <td>Glucose</td>\n",
       "      <td>Numeric</td>\n",
       "      <td>No</td>\n",
       "      <td>1</td>\n",
       "      <td>[MeanImputer]</td>\n",
       "      <td>{'Transformer1': {'Input': ['Glucose'], 'TransformationFunction': 'Imputer', 'Operator': 'Mean', 'FeatureType': 'Numeric', 'ShouldOutput': True, 'TransformationParams': {'add_indicator': False, 'copy': True, 'fill_value': None, 'missing_values': nan, 'strategy': 'mean', 'verbose': 0}}}</td>\n",
       "    </tr>\n",
       "    <tr>\n",
       "      <th>2</th>\n",
       "      <td>BloodPressure</td>\n",
       "      <td>Numeric</td>\n",
       "      <td>No</td>\n",
       "      <td>1</td>\n",
       "      <td>[MeanImputer]</td>\n",
       "      <td>{'Transformer1': {'Input': ['BloodPressure'], 'TransformationFunction': 'Imputer', 'Operator': 'Mean', 'FeatureType': 'Numeric', 'ShouldOutput': True, 'TransformationParams': {'add_indicator': False, 'copy': True, 'fill_value': None, 'missing_values': nan, 'strategy': 'mean', 'verbose': 0}}}</td>\n",
       "    </tr>\n",
       "    <tr>\n",
       "      <th>3</th>\n",
       "      <td>SkinThickness</td>\n",
       "      <td>Numeric</td>\n",
       "      <td>No</td>\n",
       "      <td>1</td>\n",
       "      <td>[MeanImputer]</td>\n",
       "      <td>{'Transformer1': {'Input': ['SkinThickness'], 'TransformationFunction': 'Imputer', 'Operator': 'Mean', 'FeatureType': 'Numeric', 'ShouldOutput': True, 'TransformationParams': {'add_indicator': False, 'copy': True, 'fill_value': None, 'missing_values': nan, 'strategy': 'mean', 'verbose': 0}}}</td>\n",
       "    </tr>\n",
       "    <tr>\n",
       "      <th>4</th>\n",
       "      <td>Insulin</td>\n",
       "      <td>Numeric</td>\n",
       "      <td>No</td>\n",
       "      <td>1</td>\n",
       "      <td>[MeanImputer]</td>\n",
       "      <td>{'Transformer1': {'Input': ['Insulin'], 'TransformationFunction': 'Imputer', 'Operator': 'Mean', 'FeatureType': 'Numeric', 'ShouldOutput': True, 'TransformationParams': {'add_indicator': False, 'copy': True, 'fill_value': None, 'missing_values': nan, 'strategy': 'mean', 'verbose': 0}}}</td>\n",
       "    </tr>\n",
       "    <tr>\n",
       "      <th>5</th>\n",
       "      <td>BMI</td>\n",
       "      <td>Numeric</td>\n",
       "      <td>No</td>\n",
       "      <td>1</td>\n",
       "      <td>[MeanImputer]</td>\n",
       "      <td>{'Transformer1': {'Input': ['BMI'], 'TransformationFunction': 'Imputer', 'Operator': 'Mean', 'FeatureType': 'Numeric', 'ShouldOutput': True, 'TransformationParams': {'add_indicator': False, 'copy': True, 'fill_value': None, 'missing_values': nan, 'strategy': 'mean', 'verbose': 0}}}</td>\n",
       "    </tr>\n",
       "    <tr>\n",
       "      <th>6</th>\n",
       "      <td>DiabetesPedigreeFunction</td>\n",
       "      <td>Numeric</td>\n",
       "      <td>No</td>\n",
       "      <td>1</td>\n",
       "      <td>[MeanImputer]</td>\n",
       "      <td>{'Transformer1': {'Input': ['DiabetesPedigreeFunction'], 'TransformationFunction': 'Imputer', 'Operator': 'Mean', 'FeatureType': 'Numeric', 'ShouldOutput': True, 'TransformationParams': {'add_indicator': False, 'copy': True, 'fill_value': None, 'missing_values': nan, 'strategy': 'mean', 'verbose': 0}}}</td>\n",
       "    </tr>\n",
       "    <tr>\n",
       "      <th>7</th>\n",
       "      <td>Age</td>\n",
       "      <td>Numeric</td>\n",
       "      <td>No</td>\n",
       "      <td>1</td>\n",
       "      <td>[MeanImputer]</td>\n",
       "      <td>{'Transformer1': {'Input': ['Age'], 'TransformationFunction': 'Imputer', 'Operator': 'Mean', 'FeatureType': 'Numeric', 'ShouldOutput': True, 'TransformationParams': {'add_indicator': False, 'copy': True, 'fill_value': None, 'missing_values': nan, 'strategy': 'mean', 'verbose': 0}}}</td>\n",
       "    </tr>\n",
       "  </tbody>\n",
       "</table>\n",
       "</div>"
      ],
      "text/plain": [
       "             RawFeatureName TypeDetected Dropped  EngineeredFeatureCount  \\\n",
       "0  Pregnancies               Numeric      No      1                        \n",
       "1  Glucose                   Numeric      No      1                        \n",
       "2  BloodPressure             Numeric      No      1                        \n",
       "3  SkinThickness             Numeric      No      1                        \n",
       "4  Insulin                   Numeric      No      1                        \n",
       "5  BMI                       Numeric      No      1                        \n",
       "6  DiabetesPedigreeFunction  Numeric      No      1                        \n",
       "7  Age                       Numeric      No      1                        \n",
       "\n",
       "  Transformations  \\\n",
       "0  [MeanImputer]    \n",
       "1  [MeanImputer]    \n",
       "2  [MeanImputer]    \n",
       "3  [MeanImputer]    \n",
       "4  [MeanImputer]    \n",
       "5  [MeanImputer]    \n",
       "6  [MeanImputer]    \n",
       "7  [MeanImputer]    \n",
       "\n",
       "                                                                                                                                                                                                                                                                                              TransformationParams  \n",
       "0  {'Transformer1': {'Input': ['Pregnancies'], 'TransformationFunction': 'Imputer', 'Operator': 'Mean', 'FeatureType': 'Numeric', 'ShouldOutput': True, 'TransformationParams': {'add_indicator': False, 'copy': True, 'fill_value': None, 'missing_values': nan, 'strategy': 'mean', 'verbose': 0}}}               \n",
       "1  {'Transformer1': {'Input': ['Glucose'], 'TransformationFunction': 'Imputer', 'Operator': 'Mean', 'FeatureType': 'Numeric', 'ShouldOutput': True, 'TransformationParams': {'add_indicator': False, 'copy': True, 'fill_value': None, 'missing_values': nan, 'strategy': 'mean', 'verbose': 0}}}                   \n",
       "2  {'Transformer1': {'Input': ['BloodPressure'], 'TransformationFunction': 'Imputer', 'Operator': 'Mean', 'FeatureType': 'Numeric', 'ShouldOutput': True, 'TransformationParams': {'add_indicator': False, 'copy': True, 'fill_value': None, 'missing_values': nan, 'strategy': 'mean', 'verbose': 0}}}             \n",
       "3  {'Transformer1': {'Input': ['SkinThickness'], 'TransformationFunction': 'Imputer', 'Operator': 'Mean', 'FeatureType': 'Numeric', 'ShouldOutput': True, 'TransformationParams': {'add_indicator': False, 'copy': True, 'fill_value': None, 'missing_values': nan, 'strategy': 'mean', 'verbose': 0}}}             \n",
       "4  {'Transformer1': {'Input': ['Insulin'], 'TransformationFunction': 'Imputer', 'Operator': 'Mean', 'FeatureType': 'Numeric', 'ShouldOutput': True, 'TransformationParams': {'add_indicator': False, 'copy': True, 'fill_value': None, 'missing_values': nan, 'strategy': 'mean', 'verbose': 0}}}                   \n",
       "5  {'Transformer1': {'Input': ['BMI'], 'TransformationFunction': 'Imputer', 'Operator': 'Mean', 'FeatureType': 'Numeric', 'ShouldOutput': True, 'TransformationParams': {'add_indicator': False, 'copy': True, 'fill_value': None, 'missing_values': nan, 'strategy': 'mean', 'verbose': 0}}}                       \n",
       "6  {'Transformer1': {'Input': ['DiabetesPedigreeFunction'], 'TransformationFunction': 'Imputer', 'Operator': 'Mean', 'FeatureType': 'Numeric', 'ShouldOutput': True, 'TransformationParams': {'add_indicator': False, 'copy': True, 'fill_value': None, 'missing_values': nan, 'strategy': 'mean', 'verbose': 0}}}  \n",
       "7  {'Transformer1': {'Input': ['Age'], 'TransformationFunction': 'Imputer', 'Operator': 'Mean', 'FeatureType': 'Numeric', 'ShouldOutput': True, 'TransformationParams': {'add_indicator': False, 'copy': True, 'fill_value': None, 'missing_values': nan, 'strategy': 'mean', 'verbose': 0}}}                       "
      ]
     },
     "execution_count": 15,
     "metadata": {},
     "output_type": "execute_result"
    }
   ],
   "source": [
    "df = custom_featurizer.get_featurization_summary(is_user_friendly=False)\n",
    "pd.DataFrame(data=df)"
   ]
  },
  {
   "cell_type": "code",
   "execution_count": 16,
   "metadata": {},
   "outputs": [
    {
     "data": {
      "text/html": [
       "<div>\n",
       "<style scoped>\n",
       "    .dataframe tbody tr th:only-of-type {\n",
       "        vertical-align: middle;\n",
       "    }\n",
       "\n",
       "    .dataframe tbody tr th {\n",
       "        vertical-align: top;\n",
       "    }\n",
       "\n",
       "    .dataframe thead th {\n",
       "        text-align: right;\n",
       "    }\n",
       "</style>\n",
       "<table border=\"1\" class=\"dataframe\">\n",
       "  <thead>\n",
       "    <tr style=\"text-align: right;\">\n",
       "      <th></th>\n",
       "    </tr>\n",
       "  </thead>\n",
       "  <tbody>\n",
       "  </tbody>\n",
       "</table>\n",
       "</div>"
      ],
      "text/plain": [
       "Empty DataFrame\n",
       "Columns: []\n",
       "Index: []"
      ]
     },
     "execution_count": 16,
     "metadata": {},
     "output_type": "execute_result"
    }
   ],
   "source": [
    "df = custom_featurizer.get_stats_feature_type_summary()\n",
    "pd.DataFrame(data=df)"
   ]
  },
  {
   "cell_type": "markdown",
   "metadata": {},
   "source": [
    "## Results"
   ]
  },
  {
   "cell_type": "code",
   "execution_count": 17,
   "metadata": {},
   "outputs": [
    {
     "data": {
      "application/vnd.jupyter.widget-view+json": {
       "model_id": "e0be5f29b9ad4d0abc011c5ca02794d5",
       "version_major": 2,
       "version_minor": 0
      },
      "text/plain": [
       "_AutoMLWidget(widget_settings={'childWidgetDisplay': 'popup', 'send_telemetry': False, 'log_level': 'INFO', 's…"
      ]
     },
     "metadata": {},
     "output_type": "display_data"
    },
    {
     "data": {
      "application/aml.mini.widget.v1": "{\"status\": \"Completed\", \"workbench_run_details_uri\": \"https://ml.azure.com/experiments/automl-classification-bmarketing-all/runs/AutoML_4deb26e6-ed38-4c04-9c31-34184a0d4d29?wsid=/subscriptions/b3fb99ab-ce93-4e7d-92ea-a05123349c1b/resourcegroups/aml-quickstarts-130092/workspaces/quick-starts-ws-130092\", \"run_id\": \"AutoML_4deb26e6-ed38-4c04-9c31-34184a0d4d29\", \"run_properties\": {\"run_id\": \"AutoML_4deb26e6-ed38-4c04-9c31-34184a0d4d29\", \"created_utc\": \"2020-12-11T03:54:25.752191Z\", \"properties\": {\"num_iterations\": \"1000\", \"training_type\": \"TrainFull\", \"acquisition_function\": \"EI\", \"primary_metric\": \"AUC_weighted\", \"train_split\": \"0\", \"acquisition_parameter\": \"0\", \"num_cross_validation\": null, \"target\": \"cpu-cluster-4\", \"AMLSettingsJsonString\": \"{\\\"path\\\":null,\\\"name\\\":\\\"automl-classification-bmarketing-all\\\",\\\"subscription_id\\\":\\\"b3fb99ab-ce93-4e7d-92ea-a05123349c1b\\\",\\\"resource_group\\\":\\\"aml-quickstarts-130092\\\",\\\"workspace_name\\\":\\\"quick-starts-ws-130092\\\",\\\"region\\\":\\\"southcentralus\\\",\\\"compute_target\\\":\\\"cpu-cluster-4\\\",\\\"spark_service\\\":null,\\\"azure_service\\\":\\\"remote\\\",\\\"many_models\\\":false,\\\"pipeline_fetch_max_batch_size\\\":1,\\\"iterations\\\":1000,\\\"primary_metric\\\":\\\"AUC_weighted\\\",\\\"task_type\\\":\\\"classification\\\",\\\"data_script\\\":null,\\\"validation_size\\\":0.0,\\\"n_cross_validations\\\":null,\\\"y_min\\\":null,\\\"y_max\\\":null,\\\"num_classes\\\":null,\\\"featurization\\\":\\\"auto\\\",\\\"_ignore_package_version_incompatibilities\\\":false,\\\"is_timeseries\\\":false,\\\"max_cores_per_iteration\\\":-1,\\\"max_concurrent_iterations\\\":4,\\\"iteration_timeout_minutes\\\":5,\\\"mem_in_mb\\\":null,\\\"enforce_time_on_windows\\\":false,\\\"experiment_timeout_minutes\\\":18,\\\"experiment_exit_score\\\":0.9984,\\\"whitelist_models\\\":null,\\\"blacklist_algos\\\":[\\\"KNN\\\",\\\"LinearSVM\\\",\\\"TensorFlowLinearClassifier\\\",\\\"TensorFlowDNN\\\"],\\\"supported_models\\\":[\\\"RandomForest\\\",\\\"MultinomialNaiveBayes\\\",\\\"SVM\\\",\\\"DecisionTree\\\",\\\"BernoulliNaiveBayes\\\",\\\"ExtremeRandomTrees\\\",\\\"GradientBoosting\\\",\\\"SGD\\\",\\\"LightGBM\\\",\\\"LogisticRegression\\\",\\\"TensorFlowDNN\\\",\\\"TensorFlowLinearClassifier\\\",\\\"KNN\\\",\\\"AveragedPerceptronClassifier\\\",\\\"XGBoostClassifier\\\",\\\"LinearSVM\\\"],\\\"auto_blacklist\\\":true,\\\"blacklist_samples_reached\\\":false,\\\"exclude_nan_labels\\\":true,\\\"verbosity\\\":20,\\\"_debug_log\\\":\\\"azureml_automl.log\\\",\\\"show_warnings\\\":false,\\\"model_explainability\\\":true,\\\"service_url\\\":null,\\\"sdk_url\\\":null,\\\"sdk_packages\\\":null,\\\"enable_onnx_compatible_models\\\":true,\\\"enable_split_onnx_featurizer_estimator_models\\\":false,\\\"vm_type\\\":\\\"STANDARD_D2_V2\\\",\\\"telemetry_verbosity\\\":20,\\\"send_telemetry\\\":true,\\\"enable_dnn\\\":false,\\\"scenario\\\":\\\"SDK-1.13.0\\\",\\\"environment_label\\\":null,\\\"force_text_dnn\\\":false,\\\"enable_feature_sweeping\\\":false,\\\"enable_early_stopping\\\":true,\\\"early_stopping_n_iters\\\":10,\\\"metrics\\\":null,\\\"enable_ensembling\\\":true,\\\"enable_stack_ensembling\\\":false,\\\"ensemble_iterations\\\":15,\\\"enable_tf\\\":false,\\\"enable_subsampling\\\":null,\\\"subsample_seed\\\":null,\\\"enable_nimbusml\\\":false,\\\"enable_streaming\\\":false,\\\"force_streaming\\\":false,\\\"track_child_runs\\\":true,\\\"allowed_private_models\\\":[],\\\"label_column_name\\\":\\\"Outcome\\\",\\\"weight_column_name\\\":null,\\\"cv_split_column_names\\\":null,\\\"enable_local_managed\\\":false,\\\"_local_managed_run_id\\\":null,\\\"cost_mode\\\":1,\\\"lag_length\\\":0,\\\"metric_operation\\\":\\\"maximize\\\",\\\"preprocess\\\":true}\", \"DataPrepJsonString\": \"{\\\\\\\"training_data\\\\\\\": \\\\\\\"{\\\\\\\\\\\\\\\"blocks\\\\\\\\\\\\\\\": [{\\\\\\\\\\\\\\\"id\\\\\\\\\\\\\\\": \\\\\\\\\\\\\\\"45dc3e11-6e90-458f-97d3-f614d8747f1e\\\\\\\\\\\\\\\", \\\\\\\\\\\\\\\"type\\\\\\\\\\\\\\\": \\\\\\\\\\\\\\\"Microsoft.DPrep.GetDatastoreFilesBlock\\\\\\\\\\\\\\\", \\\\\\\\\\\\\\\"arguments\\\\\\\\\\\\\\\": {\\\\\\\\\\\\\\\"datastores\\\\\\\\\\\\\\\": [{\\\\\\\\\\\\\\\"datastoreName\\\\\\\\\\\\\\\": \\\\\\\\\\\\\\\"workspaceblobstore\\\\\\\\\\\\\\\", \\\\\\\\\\\\\\\"path\\\\\\\\\\\\\\\": \\\\\\\\\\\\\\\"bankmarketing/train_data.csv\\\\\\\\\\\\\\\", \\\\\\\\\\\\\\\"resourceGroup\\\\\\\\\\\\\\\": \\\\\\\\\\\\\\\"aml-quickstarts-130092\\\\\\\\\\\\\\\", \\\\\\\\\\\\\\\"subscription\\\\\\\\\\\\\\\": \\\\\\\\\\\\\\\"b3fb99ab-ce93-4e7d-92ea-a05123349c1b\\\\\\\\\\\\\\\", \\\\\\\\\\\\\\\"workspaceName\\\\\\\\\\\\\\\": \\\\\\\\\\\\\\\"quick-starts-ws-130092\\\\\\\\\\\\\\\"}]}, \\\\\\\\\\\\\\\"localData\\\\\\\\\\\\\\\": {}, \\\\\\\\\\\\\\\"isEnabled\\\\\\\\\\\\\\\": true, \\\\\\\\\\\\\\\"name\\\\\\\\\\\\\\\": null, \\\\\\\\\\\\\\\"annotation\\\\\\\\\\\\\\\": null}, {\\\\\\\\\\\\\\\"id\\\\\\\\\\\\\\\": \\\\\\\\\\\\\\\"aab1003e-34ac-4544-99d3-2c77c9dd9ced\\\\\\\\\\\\\\\", \\\\\\\\\\\\\\\"type\\\\\\\\\\\\\\\": \\\\\\\\\\\\\\\"Microsoft.DPrep.ParseDelimitedBlock\\\\\\\\\\\\\\\", \\\\\\\\\\\\\\\"arguments\\\\\\\\\\\\\\\": {\\\\\\\\\\\\\\\"columnHeadersMode\\\\\\\\\\\\\\\": 3, \\\\\\\\\\\\\\\"fileEncoding\\\\\\\\\\\\\\\": 0, \\\\\\\\\\\\\\\"handleQuotedLineBreaks\\\\\\\\\\\\\\\": false, \\\\\\\\\\\\\\\"preview\\\\\\\\\\\\\\\": false, \\\\\\\\\\\\\\\"separator\\\\\\\\\\\\\\\": \\\\\\\\\\\\\\\",\\\\\\\\\\\\\\\", \\\\\\\\\\\\\\\"skipRows\\\\\\\\\\\\\\\": 0, \\\\\\\\\\\\\\\"skipRowsMode\\\\\\\\\\\\\\\": 0}, \\\\\\\\\\\\\\\"localData\\\\\\\\\\\\\\\": {}, \\\\\\\\\\\\\\\"isEnabled\\\\\\\\\\\\\\\": true, \\\\\\\\\\\\\\\"name\\\\\\\\\\\\\\\": null, \\\\\\\\\\\\\\\"annotation\\\\\\\\\\\\\\\": null}, {\\\\\\\\\\\\\\\"id\\\\\\\\\\\\\\\": \\\\\\\\\\\\\\\"d016120e-1211-456e-9b4f-762e8dd56e21\\\\\\\\\\\\\\\", \\\\\\\\\\\\\\\"type\\\\\\\\\\\\\\\": \\\\\\\\\\\\\\\"Microsoft.DPrep.DropColumnsBlock\\\\\\\\\\\\\\\", \\\\\\\\\\\\\\\"arguments\\\\\\\\\\\\\\\": {\\\\\\\\\\\\\\\"columns\\\\\\\\\\\\\\\": {\\\\\\\\\\\\\\\"type\\\\\\\\\\\\\\\": 0, \\\\\\\\\\\\\\\"details\\\\\\\\\\\\\\\": {\\\\\\\\\\\\\\\"selectedColumns\\\\\\\\\\\\\\\": [\\\\\\\\\\\\\\\"Path\\\\\\\\\\\\\\\"]}}}, \\\\\\\\\\\\\\\"localData\\\\\\\\\\\\\\\": {}, \\\\\\\\\\\\\\\"isEnabled\\\\\\\\\\\\\\\": true, \\\\\\\\\\\\\\\"name\\\\\\\\\\\\\\\": null, \\\\\\\\\\\\\\\"annotation\\\\\\\\\\\\\\\": null}, {\\\\\\\\\\\\\\\"id\\\\\\\\\\\\\\\": \\\\\\\\\\\\\\\"6c6d4e34-4f10-4aae-a777-64ffb8ea5b37\\\\\\\\\\\\\\\", \\\\\\\\\\\\\\\"type\\\\\\\\\\\\\\\": \\\\\\\\\\\\\\\"Microsoft.DPrep.SetColumnTypesBlock\\\\\\\\\\\\\\\", \\\\\\\\\\\\\\\"arguments\\\\\\\\\\\\\\\": {\\\\\\\\\\\\\\\"columnConversion\\\\\\\\\\\\\\\": [{\\\\\\\\\\\\\\\"column\\\\\\\\\\\\\\\": {\\\\\\\\\\\\\\\"type\\\\\\\\\\\\\\\": 2, \\\\\\\\\\\\\\\"details\\\\\\\\\\\\\\\": {\\\\\\\\\\\\\\\"selectedColumn\\\\\\\\\\\\\\\": \\\\\\\\\\\\\\\"Pregnancies\\\\\\\\\\\\\\\"}}, \\\\\\\\\\\\\\\"typeProperty\\\\\\\\\\\\\\\": 2}, {\\\\\\\\\\\\\\\"column\\\\\\\\\\\\\\\": {\\\\\\\\\\\\\\\"type\\\\\\\\\\\\\\\": 2, \\\\\\\\\\\\\\\"details\\\\\\\\\\\\\\\": {\\\\\\\\\\\\\\\"selectedColumn\\\\\\\\\\\\\\\": \\\\\\\\\\\\\\\"Glucose\\\\\\\\\\\\\\\"}}, \\\\\\\\\\\\\\\"typeProperty\\\\\\\\\\\\\\\": 2}, {\\\\\\\\\\\\\\\"column\\\\\\\\\\\\\\\": {\\\\\\\\\\\\\\\"type\\\\\\\\\\\\\\\": 2, \\\\\\\\\\\\\\\"details\\\\\\\\\\\\\\\": {\\\\\\\\\\\\\\\"selectedColumn\\\\\\\\\\\\\\\": \\\\\\\\\\\\\\\"BloodPressure\\\\\\\\\\\\\\\"}}, \\\\\\\\\\\\\\\"typeProperty\\\\\\\\\\\\\\\": 2}, {\\\\\\\\\\\\\\\"column\\\\\\\\\\\\\\\": {\\\\\\\\\\\\\\\"type\\\\\\\\\\\\\\\": 2, \\\\\\\\\\\\\\\"details\\\\\\\\\\\\\\\": {\\\\\\\\\\\\\\\"selectedColumn\\\\\\\\\\\\\\\": \\\\\\\\\\\\\\\"SkinThickness\\\\\\\\\\\\\\\"}}, \\\\\\\\\\\\\\\"typeProperty\\\\\\\\\\\\\\\": 2}, {\\\\\\\\\\\\\\\"column\\\\\\\\\\\\\\\": {\\\\\\\\\\\\\\\"type\\\\\\\\\\\\\\\": 2, \\\\\\\\\\\\\\\"details\\\\\\\\\\\\\\\": {\\\\\\\\\\\\\\\"selectedColumn\\\\\\\\\\\\\\\": \\\\\\\\\\\\\\\"Insulin\\\\\\\\\\\\\\\"}}, \\\\\\\\\\\\\\\"typeProperty\\\\\\\\\\\\\\\": 2}, {\\\\\\\\\\\\\\\"column\\\\\\\\\\\\\\\": {\\\\\\\\\\\\\\\"type\\\\\\\\\\\\\\\": 2, \\\\\\\\\\\\\\\"details\\\\\\\\\\\\\\\": {\\\\\\\\\\\\\\\"selectedColumn\\\\\\\\\\\\\\\": \\\\\\\\\\\\\\\"BMI\\\\\\\\\\\\\\\"}}, \\\\\\\\\\\\\\\"typeProperty\\\\\\\\\\\\\\\": 3}, {\\\\\\\\\\\\\\\"column\\\\\\\\\\\\\\\": {\\\\\\\\\\\\\\\"type\\\\\\\\\\\\\\\": 2, \\\\\\\\\\\\\\\"details\\\\\\\\\\\\\\\": {\\\\\\\\\\\\\\\"selectedColumn\\\\\\\\\\\\\\\": \\\\\\\\\\\\\\\"DiabetesPedigreeFunction\\\\\\\\\\\\\\\"}}, \\\\\\\\\\\\\\\"typeProperty\\\\\\\\\\\\\\\": 3}, {\\\\\\\\\\\\\\\"column\\\\\\\\\\\\\\\": {\\\\\\\\\\\\\\\"type\\\\\\\\\\\\\\\": 2, \\\\\\\\\\\\\\\"details\\\\\\\\\\\\\\\": {\\\\\\\\\\\\\\\"selectedColumn\\\\\\\\\\\\\\\": \\\\\\\\\\\\\\\"Age\\\\\\\\\\\\\\\"}}, \\\\\\\\\\\\\\\"typeProperty\\\\\\\\\\\\\\\": 2}, {\\\\\\\\\\\\\\\"column\\\\\\\\\\\\\\\": {\\\\\\\\\\\\\\\"type\\\\\\\\\\\\\\\": 2, \\\\\\\\\\\\\\\"details\\\\\\\\\\\\\\\": {\\\\\\\\\\\\\\\"selectedColumn\\\\\\\\\\\\\\\": \\\\\\\\\\\\\\\"Outcome\\\\\\\\\\\\\\\"}}, \\\\\\\\\\\\\\\"typeProperty\\\\\\\\\\\\\\\": 2}]}, \\\\\\\\\\\\\\\"localData\\\\\\\\\\\\\\\": {}, \\\\\\\\\\\\\\\"isEnabled\\\\\\\\\\\\\\\": true, \\\\\\\\\\\\\\\"name\\\\\\\\\\\\\\\": null, \\\\\\\\\\\\\\\"annotation\\\\\\\\\\\\\\\": null}], \\\\\\\\\\\\\\\"inspectors\\\\\\\\\\\\\\\": [], \\\\\\\\\\\\\\\"meta\\\\\\\\\\\\\\\": {\\\\\\\\\\\\\\\"savedDatasetId\\\\\\\\\\\\\\\": \\\\\\\\\\\\\\\"a6163b3e-dc05-457a-89c7-e44c39ce7f36\\\\\\\\\\\\\\\", \\\\\\\\\\\\\\\"datasetType\\\\\\\\\\\\\\\": \\\\\\\\\\\\\\\"tabular\\\\\\\\\\\\\\\", \\\\\\\\\\\\\\\"subscriptionId\\\\\\\\\\\\\\\": \\\\\\\\\\\\\\\"b3fb99ab-ce93-4e7d-92ea-a05123349c1b\\\\\\\\\\\\\\\", \\\\\\\\\\\\\\\"workspaceId\\\\\\\\\\\\\\\": \\\\\\\\\\\\\\\"460f8969-4397-49f2-a704-31de8bccc85d\\\\\\\\\\\\\\\", \\\\\\\\\\\\\\\"workspaceLocation\\\\\\\\\\\\\\\": \\\\\\\\\\\\\\\"southcentralus\\\\\\\\\\\\\\\"}}\\\\\\\", \\\\\\\"activities\\\\\\\": 0}\", \"EnableSubsampling\": null, \"runTemplate\": \"AutoML\", \"azureml.runsource\": \"automl\", \"display_task_type\": \"classification\", \"dependencies_versions\": \"{\\\"azureml-widgets\\\": \\\"1.19.0\\\", \\\"azureml-train\\\": \\\"1.19.0\\\", \\\"azureml-train-restclients-hyperdrive\\\": \\\"1.19.0\\\", \\\"azureml-train-core\\\": \\\"1.19.0\\\", \\\"azureml-train-automl\\\": \\\"1.19.0\\\", \\\"azureml-train-automl-runtime\\\": \\\"1.19.0\\\", \\\"azureml-train-automl-client\\\": \\\"1.19.0\\\", \\\"azureml-tensorboard\\\": \\\"1.19.0\\\", \\\"azureml-telemetry\\\": \\\"1.19.0\\\", \\\"azureml-sdk\\\": \\\"1.19.0\\\", \\\"azureml-samples\\\": \\\"0+unknown\\\", \\\"azureml-pipeline\\\": \\\"1.19.0\\\", \\\"azureml-pipeline-steps\\\": \\\"1.19.0\\\", \\\"azureml-pipeline-core\\\": \\\"1.19.0\\\", \\\"azureml-opendatasets\\\": \\\"1.19.0\\\", \\\"azureml-model-management-sdk\\\": \\\"1.0.1b6.post1\\\", \\\"azureml-mlflow\\\": \\\"1.19.0\\\", \\\"azureml-interpret\\\": \\\"1.19.0\\\", \\\"azureml-explain-model\\\": \\\"1.19.0\\\", \\\"azureml-defaults\\\": \\\"1.19.0\\\", \\\"azureml-dataset-runtime\\\": \\\"1.19.0\\\", \\\"azureml-dataprep\\\": \\\"2.6.1\\\", \\\"azureml-dataprep-rslex\\\": \\\"1.4.0\\\", \\\"azureml-dataprep-native\\\": \\\"26.0.0\\\", \\\"azureml-datadrift\\\": \\\"1.19.0\\\", \\\"azureml-core\\\": \\\"1.19.0\\\", \\\"azureml-contrib-services\\\": \\\"1.19.0\\\", \\\"azureml-contrib-server\\\": \\\"1.19.0\\\", \\\"azureml-contrib-reinforcementlearning\\\": \\\"1.19.0\\\", \\\"azureml-contrib-pipeline-steps\\\": \\\"1.19.0\\\", \\\"azureml-contrib-notebook\\\": \\\"1.19.0\\\", \\\"azureml-contrib-interpret\\\": \\\"1.19.0\\\", \\\"azureml-contrib-gbdt\\\": \\\"1.19.0\\\", \\\"azureml-contrib-fairness\\\": \\\"1.19.0\\\", \\\"azureml-contrib-dataset\\\": \\\"1.19.0\\\", \\\"azureml-cli-common\\\": \\\"1.19.0\\\", \\\"azureml-automl-runtime\\\": \\\"1.19.0\\\", \\\"azureml-automl-core\\\": \\\"1.19.0\\\", \\\"azureml-accel-models\\\": \\\"1.19.0\\\"}\", \"_aml_system_scenario_identification\": \"Remote.Parent\", \"ClientType\": \"SDK\", \"environment_cpu_name\": \"AzureML-AutoML\", \"environment_cpu_version\": \"48\", \"environment_gpu_name\": \"AzureML-AutoML-GPU\", \"environment_gpu_version\": \"36\", \"root_attribution\": \"automl\", \"attribution\": \"AutoML\", \"Orchestrator\": \"AutoML\", \"CancelUri\": \"https://southcentralus.experiments.azureml.net/jasmine/v1.0/subscriptions/b3fb99ab-ce93-4e7d-92ea-a05123349c1b/resourceGroups/aml-quickstarts-130092/providers/Microsoft.MachineLearningServices/workspaces/quick-starts-ws-130092/experimentids/62aec76e-90b2-41df-8e71-c8cd9c38d338/cancel/AutoML_4deb26e6-ed38-4c04-9c31-34184a0d4d29\", \"ClientSdkVersion\": \"1.18.0.post1\", \"snapshotId\": \"00000000-0000-0000-0000-000000000000\", \"SetupRunId\": \"AutoML_4deb26e6-ed38-4c04-9c31-34184a0d4d29_setup\", \"SetupRunContainerId\": \"dcid.AutoML_4deb26e6-ed38-4c04-9c31-34184a0d4d29_setup\", \"FeaturizationRunJsonPath\": \"featurizer_container.json\", \"FeaturizationRunId\": \"AutoML_4deb26e6-ed38-4c04-9c31-34184a0d4d29_featurize\", \"ProblemInfoJsonString\": \"{\\\"dataset_num_categorical\\\": 0, \\\"is_sparse\\\": false, \\\"subsampling\\\": false, \\\"dataset_classes\\\": 2, \\\"dataset_features\\\": 8, \\\"dataset_samples\\\": 768, \\\"single_frequency_class_detected\\\": false}\", \"ModelExplainRunId\": \"AutoML_4deb26e6-ed38-4c04-9c31-34184a0d4d29_ModelExplain\"}, \"tags\": {\"model_explain_run\": \"best_run\", \"_aml_system_azureml.automlComponent\": \"AutoML\", \"pipeline_id\": \"\", \"score\": \"\", \"predicted_cost\": \"\", \"fit_time\": \"\", \"training_percent\": \"\", \"iteration\": \"\", \"run_preprocessor\": \"\", \"run_algorithm\": \"\", \"dynamic_whitelisting_iterations\": \"<25>;<30>;<35>;\", \"automl_best_child_run_id\": \"AutoML_4deb26e6-ed38-4c04-9c31-34184a0d4d29_36\", \"model_explain_best_run_child_id\": \"AutoML_4deb26e6-ed38-4c04-9c31-34184a0d4d29_36\"}, \"end_time_utc\": \"2020-12-11T04:22:31.092354Z\", \"status\": \"Completed\", \"log_files\": {}, \"log_groups\": [], \"run_duration\": \"0:28:05\"}, \"child_runs\": [{\"run_id\": \"AutoML_4deb26e6-ed38-4c04-9c31-34184a0d4d29_0\", \"run_number\": 5, \"metric\": null, \"status\": \"Completed\", \"run_type\": \"azureml.scriptrun\", \"training_percent\": \"100\", \"start_time\": \"2020-12-11T04:04:05.123909Z\", \"end_time\": \"2020-12-11T04:04:58.84146Z\", \"created_time\": \"2020-12-11T04:03:54.749746Z\", \"created_time_dt\": \"2020-12-11T04:03:54.749746Z\", \"duration\": \"0:01:04\", \"iteration\": \"0\", \"goal\": \"AUC_weighted_max\", \"run_name\": \"MaxAbsScaler, LightGBM\", \"run_properties\": \"copy=True\", \"primary_metric\": 0.80693759, \"best_metric\": 0.80693759}, {\"run_id\": \"AutoML_4deb26e6-ed38-4c04-9c31-34184a0d4d29_3\", \"run_number\": 6, \"metric\": null, \"status\": \"Completed\", \"run_type\": \"azureml.scriptrun\", \"training_percent\": \"100\", \"start_time\": \"2020-12-11T04:05:02.788204Z\", \"end_time\": \"2020-12-11T04:06:40.1536Z\", \"created_time\": \"2020-12-11T04:03:54.81382Z\", \"created_time_dt\": \"2020-12-11T04:03:54.81382Z\", \"duration\": \"0:02:45\", \"iteration\": \"3\", \"goal\": \"AUC_weighted_max\", \"run_name\": \"RobustScaler, ExtremeRandomTrees\", \"run_properties\": \"copy=True, quantile_range=[10, 90], with_centering=False,\\n             with_scaling=False\", \"primary_metric\": 0.83836633, \"best_metric\": 0.83836633}, {\"run_id\": \"AutoML_4deb26e6-ed38-4c04-9c31-34184a0d4d29_2\", \"run_number\": 7, \"metric\": null, \"status\": \"Completed\", \"run_type\": \"azureml.scriptrun\", \"training_percent\": \"100\", \"start_time\": \"2020-12-11T04:06:42.418945Z\", \"end_time\": \"2020-12-11T04:07:42.675275Z\", \"created_time\": \"2020-12-11T04:03:54.848202Z\", \"created_time_dt\": \"2020-12-11T04:03:54.848202Z\", \"duration\": \"0:03:47\", \"iteration\": \"2\", \"goal\": \"AUC_weighted_max\", \"run_name\": \"MinMaxScaler, RandomForest\", \"run_properties\": \"copy=True, feature_range=(0, 1\", \"primary_metric\": 0.8178801, \"best_metric\": 0.83249789}, {\"run_id\": \"AutoML_4deb26e6-ed38-4c04-9c31-34184a0d4d29_1\", \"run_number\": 8, \"metric\": null, \"status\": \"Completed\", \"run_type\": \"azureml.scriptrun\", \"training_percent\": \"100\", \"start_time\": \"2020-12-11T04:06:57.058486Z\", \"end_time\": \"2020-12-11T04:12:22.246013Z\", \"created_time\": \"2020-12-11T04:03:54.891313Z\", \"created_time_dt\": \"2020-12-11T04:03:54.891313Z\", \"duration\": \"0:08:27\", \"iteration\": \"1\", \"goal\": \"AUC_weighted_max\", \"run_name\": \"MaxAbsScaler, XGBoostClassifier\", \"run_properties\": \"copy=True\", \"primary_metric\": 0.83249789, \"best_metric\": 0.83249789}, {\"run_id\": \"AutoML_4deb26e6-ed38-4c04-9c31-34184a0d4d29_4\", \"run_number\": 9, \"metric\": null, \"status\": \"Completed\", \"run_type\": \"azureml.scriptrun\", \"training_percent\": \"100\", \"start_time\": \"2020-12-11T04:06:49.672328Z\", \"end_time\": \"2020-12-11T04:12:11.552152Z\", \"created_time\": \"2020-12-11T04:05:00.722926Z\", \"created_time_dt\": \"2020-12-11T04:05:00.722926Z\", \"duration\": \"0:07:10\", \"iteration\": \"4\", \"goal\": \"AUC_weighted_max\", \"run_name\": \"MinMaxScaler, RandomForest\", \"run_properties\": \"copy=True, feature_range=(0, 1\", \"primary_metric\": 0.82932668, \"best_metric\": 0.83836633}, {\"run_id\": \"AutoML_4deb26e6-ed38-4c04-9c31-34184a0d4d29_5\", \"run_number\": 10, \"metric\": null, \"status\": \"Completed\", \"run_type\": \"azureml.scriptrun\", \"training_percent\": \"100\", \"start_time\": \"2020-12-11T04:06:56.621008Z\", \"end_time\": \"2020-12-11T04:10:26.107977Z\", \"created_time\": \"2020-12-11T04:06:44.981265Z\", \"created_time_dt\": \"2020-12-11T04:06:44.981265Z\", \"duration\": \"0:03:41\", \"iteration\": \"5\", \"goal\": \"AUC_weighted_max\", \"run_name\": \"MinMaxScaler, RandomForest\", \"run_properties\": \"copy=True, feature_range=(0, 1\", \"primary_metric\": 0.81940682, \"best_metric\": 0.83836633}, {\"run_id\": \"AutoML_4deb26e6-ed38-4c04-9c31-34184a0d4d29_6\", \"run_number\": 11, \"metric\": null, \"status\": \"Completed\", \"run_type\": \"azureml.scriptrun\", \"training_percent\": \"100\", \"start_time\": \"2020-12-11T04:07:57.777407Z\", \"end_time\": \"2020-12-11T04:08:56.097025Z\", \"created_time\": \"2020-12-11T04:07:46.996431Z\", \"created_time_dt\": \"2020-12-11T04:07:46.996431Z\", \"duration\": \"0:01:09\", \"iteration\": \"6\", \"goal\": \"AUC_weighted_max\", \"run_name\": \"StandardScalerWrapper, RandomForest\", \"run_properties\": \"<azureml.automl.runtime.shared.model_wrappers.StandardScalerWrapper object at 0x7f6382172940\", \"primary_metric\": 0.82955509, \"best_metric\": 0.83836633}, {\"run_id\": \"AutoML_4deb26e6-ed38-4c04-9c31-34184a0d4d29_7\", \"run_number\": 12, \"metric\": null, \"status\": \"Completed\", \"run_type\": \"azureml.scriptrun\", \"training_percent\": \"100\", \"start_time\": \"2020-12-11T04:09:14.612588Z\", \"end_time\": \"2020-12-11T04:10:14.012641Z\", \"created_time\": \"2020-12-11T04:08:59.998412Z\", \"created_time_dt\": \"2020-12-11T04:08:59.998412Z\", \"duration\": \"0:01:14\", \"iteration\": \"7\", \"goal\": \"AUC_weighted_max\", \"run_name\": \"MinMaxScaler, ExtremeRandomTrees\", \"run_properties\": \"copy=True, feature_range=(0, 1\", \"primary_metric\": 0.8241897, \"best_metric\": 0.83836633}, {\"run_id\": \"AutoML_4deb26e6-ed38-4c04-9c31-34184a0d4d29_8\", \"run_number\": 13, \"metric\": null, \"status\": \"Completed\", \"run_type\": \"azureml.scriptrun\", \"training_percent\": \"100\", \"start_time\": \"2020-12-11T04:10:28.353178Z\", \"end_time\": \"2020-12-11T04:11:34.481424Z\", \"created_time\": \"2020-12-11T04:10:17.24559Z\", \"created_time_dt\": \"2020-12-11T04:10:17.24559Z\", \"duration\": \"0:01:17\", \"iteration\": \"8\", \"goal\": \"AUC_weighted_max\", \"run_name\": \"MinMaxScaler, ExtremeRandomTrees\", \"run_properties\": \"copy=True, feature_range=(0, 1\", \"primary_metric\": 0.82211175, \"best_metric\": 0.83836633}, {\"run_id\": \"AutoML_4deb26e6-ed38-4c04-9c31-34184a0d4d29_9\", \"run_number\": 14, \"metric\": null, \"status\": \"Completed\", \"run_type\": \"azureml.scriptrun\", \"training_percent\": \"100\", \"start_time\": \"2020-12-11T04:10:42.231105Z\", \"end_time\": \"2020-12-11T04:11:33.492955Z\", \"created_time\": \"2020-12-11T04:10:29.665538Z\", \"created_time_dt\": \"2020-12-11T04:10:29.665538Z\", \"duration\": \"0:01:03\", \"iteration\": \"9\", \"goal\": \"AUC_weighted_max\", \"run_name\": \"MinMaxScaler, ExtremeRandomTrees\", \"run_properties\": \"copy=True, feature_range=(0, 1\", \"primary_metric\": 0.83130978, \"best_metric\": 0.83836633}, {\"run_id\": \"AutoML_4deb26e6-ed38-4c04-9c31-34184a0d4d29_10\", \"run_number\": 15, \"metric\": null, \"status\": \"Completed\", \"run_type\": \"azureml.scriptrun\", \"training_percent\": \"100\", \"start_time\": \"2020-12-11T04:11:48.62284Z\", \"end_time\": \"2020-12-11T04:12:42.958859Z\", \"created_time\": \"2020-12-11T04:11:36.238864Z\", \"created_time_dt\": \"2020-12-11T04:11:36.238864Z\", \"duration\": \"0:01:06\", \"iteration\": \"10\", \"goal\": \"AUC_weighted_max\", \"run_name\": \"RobustScaler, ExtremeRandomTrees\", \"run_properties\": \"copy=True, quantile_range=[10, 90], with_centering=True,\\n             with_scaling=False\", \"primary_metric\": 0.82544596, \"best_metric\": 0.83836633}, {\"run_id\": \"AutoML_4deb26e6-ed38-4c04-9c31-34184a0d4d29_11\", \"run_number\": 16, \"metric\": null, \"status\": \"Completed\", \"run_type\": \"azureml.scriptrun\", \"training_percent\": \"100\", \"start_time\": \"2020-12-11T04:11:55.029005Z\", \"end_time\": \"2020-12-11T04:12:48.13073Z\", \"created_time\": \"2020-12-11T04:11:42.574505Z\", \"created_time_dt\": \"2020-12-11T04:11:42.574505Z\", \"duration\": \"0:01:05\", \"iteration\": \"11\", \"goal\": \"AUC_weighted_max\", \"run_name\": \"StandardScalerWrapper, RandomForest\", \"run_properties\": \"<azureml.automl.runtime.shared.model_wrappers.StandardScalerWrapper object at 0x7f894856cdd8\", \"primary_metric\": 0.81959688, \"best_metric\": 0.83836633}, {\"run_id\": \"AutoML_4deb26e6-ed38-4c04-9c31-34184a0d4d29_12\", \"run_number\": 17, \"metric\": null, \"status\": \"Completed\", \"run_type\": \"azureml.scriptrun\", \"training_percent\": \"100\", \"start_time\": \"2020-12-11T04:12:27.166872Z\", \"end_time\": \"2020-12-11T04:13:16.130918Z\", \"created_time\": \"2020-12-11T04:12:14.51495Z\", \"created_time_dt\": \"2020-12-11T04:12:14.51495Z\", \"duration\": \"0:01:01\", \"iteration\": \"12\", \"goal\": \"AUC_weighted_max\", \"run_name\": \"StandardScalerWrapper, SGD\", \"run_properties\": \"<azureml.automl.runtime.shared.model_wrappers.StandardScalerWrapper object at 0x7f464eb64b00\", \"primary_metric\": 0.82872034, \"best_metric\": 0.83836633}, {\"run_id\": \"AutoML_4deb26e6-ed38-4c04-9c31-34184a0d4d29_13\", \"run_number\": 18, \"metric\": null, \"status\": \"Completed\", \"run_type\": \"azureml.scriptrun\", \"training_percent\": \"100\", \"start_time\": \"2020-12-11T04:12:39.864674Z\", \"end_time\": \"2020-12-11T04:13:42.024084Z\", \"created_time\": \"2020-12-11T04:12:25.373534Z\", \"created_time_dt\": \"2020-12-11T04:12:25.373534Z\", \"duration\": \"0:01:16\", \"iteration\": \"13\", \"goal\": \"AUC_weighted_max\", \"run_name\": \"RobustScaler, RandomForest\", \"run_properties\": \"copy=True, quantile_range=[10, 90], with_centering=True,\\n             with_scaling=False\", \"primary_metric\": 0.80389114, \"best_metric\": 0.83836633}, {\"run_id\": \"AutoML_4deb26e6-ed38-4c04-9c31-34184a0d4d29_14\", \"run_number\": 19, \"metric\": null, \"status\": \"Completed\", \"run_type\": \"azureml.scriptrun\", \"training_percent\": \"100\", \"start_time\": \"2020-12-11T04:13:02.279082Z\", \"end_time\": \"2020-12-11T04:14:00.649492Z\", \"created_time\": \"2020-12-11T04:12:47.595164Z\", \"created_time_dt\": \"2020-12-11T04:12:47.595164Z\", \"duration\": \"0:01:13\", \"iteration\": \"14\", \"goal\": \"AUC_weighted_max\", \"run_name\": \"MinMaxScaler, RandomForest\", \"run_properties\": \"copy=True, feature_range=(0, 1\", \"primary_metric\": 0.81708734, \"best_metric\": 0.83836633}, {\"run_id\": \"AutoML_4deb26e6-ed38-4c04-9c31-34184a0d4d29_15\", \"run_number\": 20, \"metric\": null, \"status\": \"Completed\", \"run_type\": \"azureml.scriptrun\", \"training_percent\": \"100\", \"start_time\": \"2020-12-11T04:13:06.686747Z\", \"end_time\": \"2020-12-11T04:14:03.736885Z\", \"created_time\": \"2020-12-11T04:12:54.118378Z\", \"created_time_dt\": \"2020-12-11T04:12:54.118378Z\", \"duration\": \"0:01:09\", \"iteration\": \"15\", \"goal\": \"AUC_weighted_max\", \"run_name\": \"MinMaxScaler, ExtremeRandomTrees\", \"run_properties\": \"copy=True, feature_range=(0, 1\", \"primary_metric\": 0.79415143, \"best_metric\": 0.83836633}, {\"run_id\": \"AutoML_4deb26e6-ed38-4c04-9c31-34184a0d4d29_16\", \"run_number\": 21, \"metric\": null, \"status\": \"Completed\", \"run_type\": \"azureml.scriptrun\", \"training_percent\": \"100\", \"start_time\": \"2020-12-11T04:13:30.503579Z\", \"end_time\": \"2020-12-11T04:14:27.553732Z\", \"created_time\": \"2020-12-11T04:13:18.878362Z\", \"created_time_dt\": \"2020-12-11T04:13:18.878362Z\", \"duration\": \"0:01:08\", \"iteration\": \"16\", \"goal\": \"AUC_weighted_max\", \"run_name\": \"MaxAbsScaler, RandomForest\", \"run_properties\": \"copy=True\", \"primary_metric\": 0.82178535, \"best_metric\": 0.83836633}, {\"run_id\": \"AutoML_4deb26e6-ed38-4c04-9c31-34184a0d4d29_17\", \"run_number\": 22, \"metric\": null, \"status\": \"Completed\", \"run_type\": \"azureml.scriptrun\", \"training_percent\": \"100\", \"start_time\": \"2020-12-11T04:13:58.381972Z\", \"end_time\": \"2020-12-11T04:15:01.2252Z\", \"created_time\": \"2020-12-11T04:13:44.940179Z\", \"created_time_dt\": \"2020-12-11T04:13:44.940179Z\", \"duration\": \"0:01:16\", \"iteration\": \"17\", \"goal\": \"AUC_weighted_max\", \"run_name\": \"StandardScalerWrapper, XGBoostClassifier\", \"run_properties\": \"<azureml.automl.runtime.shared.model_wrappers.StandardScalerWrapper object at 0x7f7fd121ca90\", \"primary_metric\": 0.82226322, \"best_metric\": 0.83836633}, {\"run_id\": \"AutoML_4deb26e6-ed38-4c04-9c31-34184a0d4d29_18\", \"run_number\": 23, \"metric\": null, \"status\": \"Completed\", \"run_type\": \"azureml.scriptrun\", \"training_percent\": \"100\", \"start_time\": \"2020-12-11T04:14:16.680452Z\", \"end_time\": \"2020-12-11T04:15:14.948859Z\", \"created_time\": \"2020-12-11T04:14:03.519813Z\", \"created_time_dt\": \"2020-12-11T04:14:03.519813Z\", \"duration\": \"0:01:11\", \"iteration\": \"18\", \"goal\": \"AUC_weighted_max\", \"run_name\": \"MaxAbsScaler, RandomForest\", \"run_properties\": \"copy=True\", \"primary_metric\": 0.82355176, \"best_metric\": 0.83836633}, {\"run_id\": \"AutoML_4deb26e6-ed38-4c04-9c31-34184a0d4d29_19\", \"run_number\": 24, \"metric\": null, \"status\": \"Completed\", \"run_type\": \"azureml.scriptrun\", \"training_percent\": \"100\", \"start_time\": \"2020-12-11T04:14:20.8867Z\", \"end_time\": \"2020-12-11T04:15:11.627083Z\", \"created_time\": \"2020-12-11T04:14:09.534715Z\", \"created_time_dt\": \"2020-12-11T04:14:09.534715Z\", \"duration\": \"0:01:02\", \"iteration\": \"19\", \"goal\": \"AUC_weighted_max\", \"run_name\": \"MaxAbsScaler, ExtremeRandomTrees\", \"run_properties\": \"copy=True\", \"primary_metric\": 0.81489573, \"best_metric\": 0.83836633}, {\"run_id\": \"AutoML_4deb26e6-ed38-4c04-9c31-34184a0d4d29_20\", \"run_number\": 25, \"metric\": null, \"status\": \"Completed\", \"run_type\": \"azureml.scriptrun\", \"training_percent\": \"100\", \"start_time\": \"2020-12-11T04:14:41.616819Z\", \"end_time\": \"2020-12-11T04:15:42.365326Z\", \"created_time\": \"2020-12-11T04:14:30.806741Z\", \"created_time_dt\": \"2020-12-11T04:14:30.806741Z\", \"duration\": \"0:01:11\", \"iteration\": \"20\", \"goal\": \"AUC_weighted_max\", \"run_name\": \"MaxAbsScaler, ExtremeRandomTrees\", \"run_properties\": \"copy=True\", \"primary_metric\": 0.83479509, \"best_metric\": 0.83836633}, {\"run_id\": \"AutoML_4deb26e6-ed38-4c04-9c31-34184a0d4d29_21\", \"run_number\": 26, \"metric\": null, \"status\": \"Completed\", \"run_type\": \"azureml.scriptrun\", \"training_percent\": \"100\", \"start_time\": \"2020-12-11T04:15:15.752666Z\", \"end_time\": \"2020-12-11T04:16:09.351242Z\", \"created_time\": \"2020-12-11T04:15:03.695877Z\", \"created_time_dt\": \"2020-12-11T04:15:03.695877Z\", \"duration\": \"0:01:05\", \"iteration\": \"21\", \"goal\": \"AUC_weighted_max\", \"run_name\": \"StandardScalerWrapper, SVM\", \"run_properties\": \"<azureml.automl.runtime.shared.model_wrappers.StandardScalerWrapper object at 0x7fec2ce84ba8\", \"primary_metric\": 0.81850908, \"best_metric\": 0.83836633}, {\"run_id\": \"AutoML_4deb26e6-ed38-4c04-9c31-34184a0d4d29_22\", \"run_number\": 27, \"metric\": null, \"status\": \"Completed\", \"run_type\": \"azureml.scriptrun\", \"training_percent\": \"100\", \"start_time\": \"2020-12-11T04:15:27.412928Z\", \"end_time\": \"2020-12-11T04:16:35.839317Z\", \"created_time\": \"2020-12-11T04:15:14.463472Z\", \"created_time_dt\": \"2020-12-11T04:15:14.463472Z\", \"duration\": \"0:01:21\", \"iteration\": \"22\", \"goal\": \"AUC_weighted_max\", \"run_name\": \"StandardScalerWrapper, SVM\", \"run_properties\": \"<azureml.automl.runtime.shared.model_wrappers.StandardScalerWrapper object at 0x7f2ddf242e10\", \"primary_metric\": 0.76796205, \"best_metric\": 0.83836633}, {\"run_id\": \"AutoML_4deb26e6-ed38-4c04-9c31-34184a0d4d29_23\", \"run_number\": 28, \"metric\": null, \"status\": \"Completed\", \"run_type\": \"azureml.scriptrun\", \"training_percent\": \"100\", \"start_time\": \"2020-12-11T04:15:30.254694Z\", \"end_time\": \"2020-12-11T04:16:30.306314Z\", \"created_time\": \"2020-12-11T04:15:18.934125Z\", \"created_time_dt\": \"2020-12-11T04:15:18.934125Z\", \"duration\": \"0:01:11\", \"iteration\": \"23\", \"goal\": \"AUC_weighted_max\", \"run_name\": \"MaxAbsScaler, LogisticRegression\", \"run_properties\": \"copy=True\", \"primary_metric\": 0.83012322, \"best_metric\": 0.83836633}, {\"run_id\": \"AutoML_4deb26e6-ed38-4c04-9c31-34184a0d4d29_24\", \"run_number\": 29, \"metric\": null, \"status\": \"Completed\", \"run_type\": \"azureml.scriptrun\", \"training_percent\": \"100\", \"start_time\": \"2020-12-11T04:15:59.080154Z\", \"end_time\": \"2020-12-11T04:17:10.649009Z\", \"created_time\": \"2020-12-11T04:15:44.302971Z\", \"created_time_dt\": \"2020-12-11T04:15:44.302971Z\", \"duration\": \"0:01:26\", \"iteration\": \"24\", \"goal\": \"AUC_weighted_max\", \"run_name\": \"MaxAbsScaler, LightGBM\", \"run_properties\": \"copy=True\", \"primary_metric\": 0.82896589, \"best_metric\": 0.83836633}, {\"run_id\": \"AutoML_4deb26e6-ed38-4c04-9c31-34184a0d4d29_25\", \"run_number\": 30, \"metric\": null, \"status\": \"Completed\", \"run_type\": \"azureml.scriptrun\", \"training_percent\": \"100\", \"start_time\": \"2020-12-11T04:16:45.847661Z\", \"end_time\": \"2020-12-11T04:17:50.450288Z\", \"created_time\": \"2020-12-11T04:16:32.724737Z\", \"created_time_dt\": \"2020-12-11T04:16:32.724737Z\", \"duration\": \"0:01:17\", \"iteration\": \"25\", \"goal\": \"AUC_weighted_max\", \"run_name\": \"PCA, ExtremeRandomTrees\", \"run_properties\": \"copy=True, iterated_power='auto', n_components=0.01, random_state=None,\\n    svd_solver='auto', tol=0.0, whiten=True\", \"primary_metric\": 0.59361466, \"best_metric\": 0.83836633}, {\"run_id\": \"AutoML_4deb26e6-ed38-4c04-9c31-34184a0d4d29_26\", \"run_number\": 31, \"metric\": null, \"status\": \"Completed\", \"run_type\": \"azureml.scriptrun\", \"training_percent\": \"100\", \"start_time\": \"2020-12-11T04:16:55.666343Z\", \"end_time\": \"2020-12-11T04:17:58.178331Z\", \"created_time\": \"2020-12-11T04:16:41.982133Z\", \"created_time_dt\": \"2020-12-11T04:16:41.982133Z\", \"duration\": \"0:01:16\", \"iteration\": \"26\", \"goal\": \"AUC_weighted_max\", \"run_name\": \"TruncatedSVDWrapper, XGBoostClassifier\", \"run_properties\": \"n_components=0.7521052631578947, random_state=None\", \"primary_metric\": 0.79090544, \"best_metric\": 0.83836633}, {\"run_id\": \"AutoML_4deb26e6-ed38-4c04-9c31-34184a0d4d29_27\", \"run_number\": 32, \"metric\": null, \"status\": \"Completed\", \"run_type\": \"azureml.scriptrun\", \"training_percent\": \"100\", \"start_time\": \"2020-12-11T04:16:58.970295Z\", \"end_time\": \"2020-12-11T04:17:50.986416Z\", \"created_time\": \"2020-12-11T04:16:46.662954Z\", \"created_time_dt\": \"2020-12-11T04:16:46.662954Z\", \"duration\": \"0:01:04\", \"iteration\": \"27\", \"goal\": \"AUC_weighted_max\", \"run_name\": \"StandardScalerWrapper, SVM\", \"run_properties\": \"<azureml.automl.runtime.shared.model_wrappers.StandardScalerWrapper object at 0x7ff87c596668\", \"primary_metric\": 0.83546185, \"best_metric\": 0.83836633}, {\"run_id\": \"AutoML_4deb26e6-ed38-4c04-9c31-34184a0d4d29_28\", \"run_number\": 33, \"metric\": null, \"status\": \"Completed\", \"run_type\": \"azureml.scriptrun\", \"training_percent\": \"100\", \"start_time\": \"2020-12-11T04:17:26.075547Z\", \"end_time\": \"2020-12-11T04:18:24.069841Z\", \"created_time\": \"2020-12-11T04:17:12.828187Z\", \"created_time_dt\": \"2020-12-11T04:17:12.828187Z\", \"duration\": \"0:01:11\", \"iteration\": \"28\", \"goal\": \"AUC_weighted_max\", \"run_name\": \"StandardScalerWrapper, SVM\", \"run_properties\": \"<azureml.automl.runtime.shared.model_wrappers.StandardScalerWrapper object at 0x7f1ffc65c8d0\", \"primary_metric\": 0.71287259, \"best_metric\": 0.83836633}, {\"run_id\": \"AutoML_4deb26e6-ed38-4c04-9c31-34184a0d4d29_29\", \"run_number\": 34, \"metric\": null, \"status\": \"Completed\", \"run_type\": \"azureml.scriptrun\", \"training_percent\": \"100\", \"start_time\": \"2020-12-11T04:18:06.068536Z\", \"end_time\": \"2020-12-11T04:19:20.301834Z\", \"created_time\": \"2020-12-11T04:17:52.420375Z\", \"created_time_dt\": \"2020-12-11T04:17:52.420375Z\", \"duration\": \"0:01:27\", \"iteration\": \"29\", \"goal\": \"AUC_weighted_max\", \"run_name\": \"MinMaxScaler, SVM\", \"run_properties\": \"copy=True, feature_range=(0, 1\", \"primary_metric\": 0.7023686, \"best_metric\": 0.83836633}, {\"run_id\": \"AutoML_4deb26e6-ed38-4c04-9c31-34184a0d4d29_30\", \"run_number\": 35, \"metric\": null, \"status\": \"Completed\", \"run_type\": \"azureml.scriptrun\", \"training_percent\": \"100\", \"start_time\": \"2020-12-11T04:18:11.451734Z\", \"end_time\": \"2020-12-11T04:19:11.748667Z\", \"created_time\": \"2020-12-11T04:17:57.941222Z\", \"created_time_dt\": \"2020-12-11T04:17:57.941222Z\", \"duration\": \"0:01:13\", \"iteration\": \"30\", \"goal\": \"AUC_weighted_max\", \"run_name\": \"MaxAbsScaler, ExtremeRandomTrees\", \"run_properties\": \"copy=True\", \"primary_metric\": 0.80407808, \"best_metric\": 0.83836633}, {\"run_id\": \"AutoML_4deb26e6-ed38-4c04-9c31-34184a0d4d29_31\", \"run_number\": 36, \"metric\": null, \"status\": \"Completed\", \"run_type\": \"azureml.scriptrun\", \"training_percent\": \"100\", \"start_time\": \"2020-12-11T04:18:14.87157Z\", \"end_time\": \"2020-12-11T04:19:11.718346Z\", \"created_time\": \"2020-12-11T04:18:02.794557Z\", \"created_time_dt\": \"2020-12-11T04:18:02.794557Z\", \"duration\": \"0:01:08\", \"iteration\": \"31\", \"goal\": \"AUC_weighted_max\", \"run_name\": \"SparseNormalizer, XGBoostClassifier\", \"run_properties\": \"<azureml.automl.runtime.shared.model_wrappers.SparseNormalizer object at 0x7f5e4a1e54a8\", \"primary_metric\": 0.71092449, \"best_metric\": 0.83836633}, {\"run_id\": \"AutoML_4deb26e6-ed38-4c04-9c31-34184a0d4d29_32\", \"run_number\": 37, \"metric\": null, \"status\": \"Completed\", \"run_type\": \"azureml.scriptrun\", \"training_percent\": \"100\", \"start_time\": \"2020-12-11T04:18:39.157756Z\", \"end_time\": \"2020-12-11T04:19:34.527707Z\", \"created_time\": \"2020-12-11T04:18:25.936001Z\", \"created_time_dt\": \"2020-12-11T04:18:25.936001Z\", \"duration\": \"0:01:08\", \"iteration\": \"32\", \"goal\": \"AUC_weighted_max\", \"run_name\": \"StandardScalerWrapper, ExtremeRandomTrees\", \"run_properties\": \"<azureml.automl.runtime.shared.model_wrappers.StandardScalerWrapper object at 0x7fe52db7efd0\", \"primary_metric\": 0.81174572, \"best_metric\": 0.83836633}, {\"run_id\": \"AutoML_4deb26e6-ed38-4c04-9c31-34184a0d4d29_33\", \"run_number\": 38, \"metric\": null, \"status\": \"Canceled\", \"run_type\": \"azureml.scriptrun\", \"training_percent\": \"100\", \"start_time\": \"2020-12-11T04:19:24.101929Z\", \"end_time\": \"2020-12-11T04:19:42.954548Z\", \"created_time\": \"2020-12-11T04:19:13.720427Z\", \"created_time_dt\": \"2020-12-11T04:19:13.720427Z\", \"duration\": \"0:00:29\", \"iteration\": \"33\", \"goal\": null, \"run_name\": \"Canceled\", \"run_properties\": null}, {\"run_id\": \"AutoML_4deb26e6-ed38-4c04-9c31-34184a0d4d29_34\", \"run_number\": 39, \"metric\": null, \"status\": \"Canceled\", \"run_type\": \"azureml.scriptrun\", \"training_percent\": \"100\", \"start_time\": \"2020-12-11T04:19:23.932769Z\", \"end_time\": \"2020-12-11T04:19:42.779468Z\", \"created_time\": \"2020-12-11T04:19:13.764995Z\", \"created_time_dt\": \"2020-12-11T04:19:13.764995Z\", \"duration\": \"0:00:29\", \"iteration\": \"34\", \"goal\": null, \"run_name\": \"Canceled\", \"run_properties\": null}, {\"run_id\": \"AutoML_4deb26e6-ed38-4c04-9c31-34184a0d4d29_35\", \"run_number\": 40, \"metric\": null, \"status\": \"Canceled\", \"run_type\": \"azureml.scriptrun\", \"training_percent\": \"100\", \"start_time\": \"2020-12-11T04:19:35.866075Z\", \"end_time\": \"2020-12-11T04:19:43.930702Z\", \"created_time\": \"2020-12-11T04:19:23.137097Z\", \"created_time_dt\": \"2020-12-11T04:19:23.137097Z\", \"duration\": \"0:00:20\", \"iteration\": \"35\", \"goal\": null, \"run_name\": \"Canceled\", \"run_properties\": null}, {\"run_id\": \"AutoML_4deb26e6-ed38-4c04-9c31-34184a0d4d29_36\", \"run_number\": 41, \"metric\": null, \"status\": \"Completed\", \"run_type\": \"azureml.scriptrun\", \"training_percent\": \"100\", \"start_time\": \"2020-12-11T04:19:56.694966Z\", \"end_time\": \"2020-12-11T04:22:17.175508Z\", \"created_time\": \"2020-12-11T04:19:45.162967Z\", \"created_time_dt\": \"2020-12-11T04:19:45.162967Z\", \"duration\": \"0:02:32\", \"iteration\": \"36\", \"goal\": \"AUC_weighted_max\", \"run_name\": \"VotingEnsemble\", \"run_properties\": \"classification_labels=None,\\n                              estimators=[('3',\\n                                           Pipeline(memory=None,\\n                                                    steps=[('robustscaler',\\n                                                            RobustScaler(copy=True,\\n                                                                         quantile_range=[10,\\n                                                                                         90],\\n                                                                         with_centering=False,\\n                                                                         with_scaling=False\", \"primary_metric\": 0.84756806, \"best_metric\": 0.84756806}], \"children_metrics\": {\"categories\": [0], \"series\": {\"average_precision_score_micro\": [{\"categories\": [\"0\", \"1\", \"2\", \"3\", \"4\", \"5\", \"6\", \"7\", \"8\", \"9\", \"10\", \"11\", \"12\", \"13\", \"14\", \"15\", \"16\", \"17\", \"18\", \"19\", \"20\", \"21\", \"22\", \"23\", \"24\", \"25\", \"26\", \"27\", \"28\", \"29\", \"30\", \"31\", \"32\", \"36\"], \"mode\": \"markers\", \"name\": \"average_precision_score_micro\", \"stepped\": false, \"type\": \"scatter\", \"data\": [0.8314467362127971, 0.8521623222085303, 0.8423086464022818, 0.8482465811972173, 0.8395805184167061, 0.844399276658576, 0.8446523747447848, 0.8438025901709058, 0.8221654968492759, 0.8274945741459738, 0.8391496645398098, 0.820765577744908, 0.8439654285273523, 0.8057942102542338, 0.8354389083552348, 0.798509071589516, 0.8198901591520146, 0.8409523160375478, 0.8405869696318925, 0.8203809414957715, 0.8393312324789497, 0.8334048995736476, 0.7827808784690292, 0.8455612433062358, 0.8537193358335843, 0.5918117559508106, 0.816307879375635, 0.8509100367783715, 0.7587025254643002, 0.7411817209537546, 0.7950598154304874, 0.7548267428894628, 0.8100089673372164, 0.8607010237954922]}, {\"categories\": [\"0\", \"1\", \"2\", \"3\", \"4\", \"5\", \"6\", \"7\", \"8\", \"9\", \"10\", \"11\", \"12\", \"13\", \"14\", \"15\", \"16\", \"17\", \"18\", \"19\", \"20\", \"21\", \"22\", \"23\", \"24\", \"25\", \"26\", \"27\", \"28\", \"29\", \"30\", \"31\", \"32\", \"36\"], \"mode\": \"lines\", \"name\": \"average_precision_score_micro_max\", \"stepped\": true, \"type\": \"scatter\", \"data\": [0.8314467362127971, 0.8521623222085303, 0.8521623222085303, 0.8521623222085303, 0.8521623222085303, 0.8521623222085303, 0.8521623222085303, 0.8521623222085303, 0.8521623222085303, 0.8521623222085303, 0.8521623222085303, 0.8521623222085303, 0.8521623222085303, 0.8521623222085303, 0.8521623222085303, 0.8521623222085303, 0.8521623222085303, 0.8521623222085303, 0.8521623222085303, 0.8521623222085303, 0.8521623222085303, 0.8521623222085303, 0.8521623222085303, 0.8521623222085303, 0.8537193358335843, 0.8537193358335843, 0.8537193358335843, 0.8537193358335843, 0.8537193358335843, 0.8537193358335843, 0.8537193358335843, 0.8537193358335843, 0.8537193358335843, 0.8607010237954922]}], \"f1_score_weighted\": [{\"categories\": [\"0\", \"1\", \"2\", \"3\", \"4\", \"5\", \"6\", \"7\", \"8\", \"9\", \"10\", \"11\", \"12\", \"13\", \"14\", \"15\", \"16\", \"17\", \"18\", \"19\", \"20\", \"21\", \"22\", \"23\", \"24\", \"25\", \"26\", \"27\", \"28\", \"29\", \"30\", \"31\", \"32\", \"36\"], \"mode\": \"markers\", \"name\": \"f1_score_weighted\", \"stepped\": false, \"type\": \"scatter\", \"data\": [0.7408918495421677, 0.7608784043576504, 0.7392412142234751, 0.7442025437033706, 0.7658563218354878, 0.7519549871479974, 0.773251779625833, 0.7411178041805256, 0.6666328971700534, 0.661963722955261, 0.7566815602317807, 0.7372230537394392, 0.7685870124451478, 0.7313296593918893, 0.7386681891085598, 0.718793284537373, 0.7288224382438887, 0.7440852374061014, 0.7460934976731267, 0.7243878184361539, 0.746375128584021, 0.7510956364998147, 0.6719892669168831, 0.7629414077739287, 0.7532123425733788, 0.6204591205532692, 0.7459450801660584, 0.7513727129918502, 0.6614986647116297, 0.6383632038871393, 0.7334785210341561, 0.6687090425376648, 0.7348841434202021, 0.7607554272699228]}, {\"categories\": [\"0\", \"1\", \"2\", \"3\", \"4\", \"5\", \"6\", \"7\", \"8\", \"9\", \"10\", \"11\", \"12\", \"13\", \"14\", \"15\", \"16\", \"17\", \"18\", \"19\", \"20\", \"21\", \"22\", \"23\", \"24\", \"25\", \"26\", \"27\", \"28\", \"29\", \"30\", \"31\", \"32\", \"36\"], \"mode\": \"lines\", \"name\": \"f1_score_weighted_max\", \"stepped\": true, \"type\": \"scatter\", \"data\": [0.7408918495421677, 0.7608784043576504, 0.7608784043576504, 0.7608784043576504, 0.7658563218354878, 0.7658563218354878, 0.773251779625833, 0.773251779625833, 0.773251779625833, 0.773251779625833, 0.773251779625833, 0.773251779625833, 0.773251779625833, 0.773251779625833, 0.773251779625833, 0.773251779625833, 0.773251779625833, 0.773251779625833, 0.773251779625833, 0.773251779625833, 0.773251779625833, 0.773251779625833, 0.773251779625833, 0.773251779625833, 0.773251779625833, 0.773251779625833, 0.773251779625833, 0.773251779625833, 0.773251779625833, 0.773251779625833, 0.773251779625833, 0.773251779625833, 0.773251779625833, 0.773251779625833]}], \"matthews_correlation\": [{\"categories\": [\"0\", \"1\", \"2\", \"3\", \"4\", \"5\", \"6\", \"7\", \"8\", \"9\", \"10\", \"11\", \"12\", \"13\", \"14\", \"15\", \"16\", \"17\", \"18\", \"19\", \"20\", \"21\", \"22\", \"23\", \"24\", \"25\", \"26\", \"27\", \"28\", \"29\", \"30\", \"31\", \"32\", \"36\"], \"mode\": \"markers\", \"name\": \"matthews_correlation\", \"stepped\": false, \"type\": \"scatter\", \"data\": [0.4222593887302197, 0.4683152121091704, 0.4199602759777929, 0.45950009053993196, 0.4959096273683234, 0.4503902507388287, 0.49823349068489264, 0.43869073246777834, 0.33340196953763124, 0.323679770081823, 0.47714696408659824, 0.4576012915429713, 0.486260758424125, 0.4390602785037817, 0.4290603576306067, 0.4045864200791197, 0.4528886362551211, 0.43260372778308165, 0.43895536827887627, 0.4228524924718201, 0.4638454026601904, 0.44905177759233184, 0.30667723081852777, 0.4757318065921791, 0.45188718046494686, 0.1516479404390403, 0.4336700465645757, 0.44854358438148473, 0.2756087115286359, 0.2649738395739031, 0.4380293705527798, 0.26514560488232164, 0.4538331956406754, 0.4773611031280966]}, {\"categories\": [\"0\", \"1\", \"2\", \"3\", \"4\", \"5\", \"6\", \"7\", \"8\", \"9\", \"10\", \"11\", \"12\", \"13\", \"14\", \"15\", \"16\", \"17\", \"18\", \"19\", \"20\", \"21\", \"22\", \"23\", \"24\", \"25\", \"26\", \"27\", \"28\", \"29\", \"30\", \"31\", \"32\", \"36\"], \"mode\": \"lines\", \"name\": \"matthews_correlation_max\", \"stepped\": true, \"type\": \"scatter\", \"data\": [0.4222593887302197, 0.4683152121091704, 0.4683152121091704, 0.4683152121091704, 0.4959096273683234, 0.4959096273683234, 0.49823349068489264, 0.49823349068489264, 0.49823349068489264, 0.49823349068489264, 0.49823349068489264, 0.49823349068489264, 0.49823349068489264, 0.49823349068489264, 0.49823349068489264, 0.49823349068489264, 0.49823349068489264, 0.49823349068489264, 0.49823349068489264, 0.49823349068489264, 0.49823349068489264, 0.49823349068489264, 0.49823349068489264, 0.49823349068489264, 0.49823349068489264, 0.49823349068489264, 0.49823349068489264, 0.49823349068489264, 0.49823349068489264, 0.49823349068489264, 0.49823349068489264, 0.49823349068489264, 0.49823349068489264, 0.49823349068489264]}], \"balanced_accuracy\": [{\"categories\": [\"0\", \"1\", \"2\", \"3\", \"4\", \"5\", \"6\", \"7\", \"8\", \"9\", \"10\", \"11\", \"12\", \"13\", \"14\", \"15\", \"16\", \"17\", \"18\", \"19\", \"20\", \"21\", \"22\", \"23\", \"24\", \"25\", \"26\", \"27\", \"28\", \"29\", \"30\", \"31\", \"32\", \"36\"], \"mode\": \"markers\", \"name\": \"balanced_accuracy\", \"stepped\": false, \"type\": \"scatter\", \"data\": [0.7058435554113287, 0.7284422735232137, 0.6924833250022171, 0.6880990626342529, 0.7547626393014455, 0.7099083603134804, 0.7428434874570631, 0.6911978957788885, 0.6140621897187116, 0.608702445931248, 0.7041186657122356, 0.7380618022450246, 0.7278451846340432, 0.7295729343630899, 0.685351915897574, 0.7091166697956341, 0.7371007288574892, 0.7000486664359292, 0.7075200905154657, 0.7195279069356735, 0.7389339364562348, 0.7074820685201673, 0.6196190571691174, 0.7190006006466021, 0.715923737893487, 0.5734464001611708, 0.7084584318094301, 0.7054028611529267, 0.6086634513645178, 0.5878761205735187, 0.726953042882597, 0.6231682273112418, 0.7370214535359828, 0.7126654200226283]}, {\"categories\": [\"0\", \"1\", \"2\", \"3\", \"4\", \"5\", \"6\", \"7\", \"8\", \"9\", \"10\", \"11\", \"12\", \"13\", \"14\", \"15\", \"16\", \"17\", \"18\", \"19\", \"20\", \"21\", \"22\", \"23\", \"24\", \"25\", \"26\", \"27\", \"28\", \"29\", \"30\", \"31\", \"32\", \"36\"], \"mode\": \"lines\", \"name\": \"balanced_accuracy_max\", \"stepped\": true, \"type\": \"scatter\", \"data\": [0.7058435554113287, 0.7284422735232137, 0.7284422735232137, 0.7284422735232137, 0.7547626393014455, 0.7547626393014455, 0.7547626393014455, 0.7547626393014455, 0.7547626393014455, 0.7547626393014455, 0.7547626393014455, 0.7547626393014455, 0.7547626393014455, 0.7547626393014455, 0.7547626393014455, 0.7547626393014455, 0.7547626393014455, 0.7547626393014455, 0.7547626393014455, 0.7547626393014455, 0.7547626393014455, 0.7547626393014455, 0.7547626393014455, 0.7547626393014455, 0.7547626393014455, 0.7547626393014455, 0.7547626393014455, 0.7547626393014455, 0.7547626393014455, 0.7547626393014455, 0.7547626393014455, 0.7547626393014455, 0.7547626393014455, 0.7547626393014455]}], \"AUC_micro\": [{\"categories\": [\"0\", \"1\", \"2\", \"3\", \"4\", \"5\", \"6\", \"7\", \"8\", \"9\", \"10\", \"11\", \"12\", \"13\", \"14\", \"15\", \"16\", \"17\", \"18\", \"19\", \"20\", \"21\", \"22\", \"23\", \"24\", \"25\", \"26\", \"27\", \"28\", \"29\", \"30\", \"31\", \"32\", \"36\"], \"mode\": \"markers\", \"name\": \"AUC_micro\", \"stepped\": false, \"type\": \"scatter\", \"data\": [0.8284990841532464, 0.8516033829914373, 0.83865468699556, 0.8445188948728, 0.8390877344046752, 0.8396432110537949, 0.8483268626811545, 0.8410482462369806, 0.8114688693865404, 0.81733642364938, 0.8357178394239497, 0.8147783367026902, 0.8508536758147777, 0.8040842490243504, 0.8317913581723525, 0.7953999170236534, 0.8144173358659185, 0.8422049801926678, 0.8415161386891701, 0.8164973568809865, 0.836224942404791, 0.8365629375705778, 0.7896294210834673, 0.8519477482620988, 0.8487937593938242, 0.6266265215250267, 0.8213413142780521, 0.853457331714765, 0.7652559047645522, 0.7582550748258828, 0.8008720575751191, 0.754978110666899, 0.8096122385906355, 0.858397690421605]}, {\"categories\": [\"0\", \"1\", \"2\", \"3\", \"4\", \"5\", \"6\", \"7\", \"8\", \"9\", \"10\", \"11\", \"12\", \"13\", \"14\", \"15\", \"16\", \"17\", \"18\", \"19\", \"20\", \"21\", \"22\", \"23\", \"24\", \"25\", \"26\", \"27\", \"28\", \"29\", \"30\", \"31\", \"32\", \"36\"], \"mode\": \"lines\", \"name\": \"AUC_micro_max\", \"stepped\": true, \"type\": \"scatter\", \"data\": [0.8284990841532464, 0.8516033829914373, 0.8516033829914373, 0.8516033829914373, 0.8516033829914373, 0.8516033829914373, 0.8516033829914373, 0.8516033829914373, 0.8516033829914373, 0.8516033829914373, 0.8516033829914373, 0.8516033829914373, 0.8516033829914373, 0.8516033829914373, 0.8516033829914373, 0.8516033829914373, 0.8516033829914373, 0.8516033829914373, 0.8516033829914373, 0.8516033829914373, 0.8516033829914373, 0.8516033829914373, 0.8516033829914373, 0.8519477482620988, 0.8519477482620988, 0.8519477482620988, 0.8519477482620988, 0.853457331714765, 0.853457331714765, 0.853457331714765, 0.853457331714765, 0.853457331714765, 0.853457331714765, 0.858397690421605]}], \"norm_macro_recall\": [{\"categories\": [\"0\", \"1\", \"2\", \"3\", \"4\", \"5\", \"6\", \"7\", \"8\", \"9\", \"10\", \"11\", \"12\", \"13\", \"14\", \"15\", \"16\", \"17\", \"18\", \"19\", \"20\", \"21\", \"22\", \"23\", \"24\", \"25\", \"26\", \"27\", \"28\", \"29\", \"30\", \"31\", \"32\", \"36\"], \"mode\": \"markers\", \"name\": \"norm_macro_recall\", \"stepped\": false, \"type\": \"scatter\", \"data\": [0.4116871108226574, 0.45688454704642734, 0.3849666500044343, 0.3761981252685057, 0.509525278602891, 0.4198167206269606, 0.48568697491412616, 0.38239579155777664, 0.22812437943742317, 0.21740489186249592, 0.40823733142447116, 0.47612360449004926, 0.4556903692680865, 0.45914586872617996, 0.3707038317951482, 0.41823333959126846, 0.47420145771497835, 0.40009733287185867, 0.41504018103093154, 0.4390558138713468, 0.47786787291246996, 0.4149641370403345, 0.23923811433823486, 0.4380012012932043, 0.4318474757869738, 0.1616887186896882, 0.4169168636188602, 0.4108057223058533, 0.2173269027290356, 0.17575224114703727, 0.4539060857651938, 0.24633645462248338, 0.47404290707196595, 0.4253308400452568]}, {\"categories\": [\"0\", \"1\", \"2\", \"3\", \"4\", \"5\", \"6\", \"7\", \"8\", \"9\", \"10\", \"11\", \"12\", \"13\", \"14\", \"15\", \"16\", \"17\", \"18\", \"19\", \"20\", \"21\", \"22\", \"23\", \"24\", \"25\", \"26\", \"27\", \"28\", \"29\", \"30\", \"31\", \"32\", \"36\"], \"mode\": \"lines\", \"name\": \"norm_macro_recall_max\", \"stepped\": true, \"type\": \"scatter\", \"data\": [0.4116871108226574, 0.45688454704642734, 0.45688454704642734, 0.45688454704642734, 0.509525278602891, 0.509525278602891, 0.509525278602891, 0.509525278602891, 0.509525278602891, 0.509525278602891, 0.509525278602891, 0.509525278602891, 0.509525278602891, 0.509525278602891, 0.509525278602891, 0.509525278602891, 0.509525278602891, 0.509525278602891, 0.509525278602891, 0.509525278602891, 0.509525278602891, 0.509525278602891, 0.509525278602891, 0.509525278602891, 0.509525278602891, 0.509525278602891, 0.509525278602891, 0.509525278602891, 0.509525278602891, 0.509525278602891, 0.509525278602891, 0.509525278602891, 0.509525278602891, 0.509525278602891]}], \"precision_score_weighted\": [{\"categories\": [\"0\", \"1\", \"2\", \"3\", \"4\", \"5\", \"6\", \"7\", \"8\", \"9\", \"10\", \"11\", \"12\", \"13\", \"14\", \"15\", \"16\", \"17\", \"18\", \"19\", \"20\", \"21\", \"22\", \"23\", \"24\", \"25\", \"26\", \"27\", \"28\", \"29\", \"30\", \"31\", \"32\", \"36\"], \"mode\": \"markers\", \"name\": \"precision_score_weighted\", \"stepped\": false, \"type\": \"scatter\", \"data\": [0.7414222880845946, 0.7633076176309477, 0.7439477595743377, 0.7769125038852438, 0.7755102784891451, 0.7560281812743322, 0.7769537933981037, 0.7581831783889005, 0.7413100586020687, 0.7442544278419418, 0.7793795232170153, 0.7625738460326407, 0.7742814848796422, 0.7521865431406002, 0.7552224929426627, 0.7367819249129433, 0.7621759370008401, 0.7493087945802033, 0.7509927138553096, 0.7450075301753533, 0.7631279754794958, 0.7576416717314993, 0.7113473027972457, 0.7715171558122516, 0.7575341444809136, 0.617211067235891, 0.7483580577108494, 0.7607596655424927, 0.691776194555447, 0.7053424347148083, 0.7494542063470885, 0.6708449885836303, 0.7612051061006044, 0.7755972538071221]}, {\"categories\": [\"0\", \"1\", \"2\", \"3\", \"4\", \"5\", \"6\", \"7\", \"8\", \"9\", \"10\", \"11\", \"12\", \"13\", \"14\", \"15\", \"16\", \"17\", \"18\", \"19\", \"20\", \"21\", \"22\", \"23\", \"24\", \"25\", \"26\", \"27\", \"28\", \"29\", \"30\", \"31\", \"32\", \"36\"], \"mode\": \"lines\", \"name\": \"precision_score_weighted_max\", \"stepped\": true, \"type\": \"scatter\", \"data\": [0.7414222880845946, 0.7633076176309477, 0.7633076176309477, 0.7769125038852438, 0.7769125038852438, 0.7769125038852438, 0.7769537933981037, 0.7769537933981037, 0.7769537933981037, 0.7769537933981037, 0.7793795232170153, 0.7793795232170153, 0.7793795232170153, 0.7793795232170153, 0.7793795232170153, 0.7793795232170153, 0.7793795232170153, 0.7793795232170153, 0.7793795232170153, 0.7793795232170153, 0.7793795232170153, 0.7793795232170153, 0.7793795232170153, 0.7793795232170153, 0.7793795232170153, 0.7793795232170153, 0.7793795232170153, 0.7793795232170153, 0.7793795232170153, 0.7793795232170153, 0.7793795232170153, 0.7793795232170153, 0.7793795232170153, 0.7793795232170153]}], \"precision_score_micro\": [{\"categories\": [\"0\", \"1\", \"2\", \"3\", \"4\", \"5\", \"6\", \"7\", \"8\", \"9\", \"10\", \"11\", \"12\", \"13\", \"14\", \"15\", \"16\", \"17\", \"18\", \"19\", \"20\", \"21\", \"22\", \"23\", \"24\", \"25\", \"26\", \"27\", \"28\", \"29\", \"30\", \"31\", \"32\", \"36\"], \"mode\": \"markers\", \"name\": \"precision_score_micro\", \"stepped\": false, \"type\": \"scatter\", \"data\": [0.7447539302802461, 0.7631408065618592, 0.7501537935748462, 0.7656869446343131, 0.7630895420369106, 0.7616883116883117, 0.7761449077238551, 0.7578263841421736, 0.7174641148325359, 0.7175153793574848, 0.773462064251538, 0.7318694463431306, 0.7760936431989064, 0.7251537935748462, 0.7565276828434724, 0.7135680109364321, 0.7226418318523582, 0.753896103896104, 0.7526828434723172, 0.7187286397812713, 0.7421907040328094, 0.7604237867395762, 0.7031271360218728, 0.7722146274777855, 0.7578263841421736, 0.6277170198222829, 0.7501708817498292, 0.7617737525632263, 0.6980006835269993, 0.6992652084757348, 0.7291866028708134, 0.6797163362952836, 0.7291866028708134, 0.773462064251538]}, {\"categories\": [\"0\", \"1\", \"2\", \"3\", \"4\", \"5\", \"6\", \"7\", \"8\", \"9\", \"10\", \"11\", \"12\", \"13\", \"14\", \"15\", \"16\", \"17\", \"18\", \"19\", \"20\", \"21\", \"22\", \"23\", \"24\", \"25\", \"26\", \"27\", \"28\", \"29\", \"30\", \"31\", \"32\", \"36\"], \"mode\": \"lines\", \"name\": \"precision_score_micro_max\", \"stepped\": true, \"type\": \"scatter\", \"data\": [0.7447539302802461, 0.7631408065618592, 0.7631408065618592, 0.7656869446343131, 0.7656869446343131, 0.7656869446343131, 0.7761449077238551, 0.7761449077238551, 0.7761449077238551, 0.7761449077238551, 0.7761449077238551, 0.7761449077238551, 0.7761449077238551, 0.7761449077238551, 0.7761449077238551, 0.7761449077238551, 0.7761449077238551, 0.7761449077238551, 0.7761449077238551, 0.7761449077238551, 0.7761449077238551, 0.7761449077238551, 0.7761449077238551, 0.7761449077238551, 0.7761449077238551, 0.7761449077238551, 0.7761449077238551, 0.7761449077238551, 0.7761449077238551, 0.7761449077238551, 0.7761449077238551, 0.7761449077238551, 0.7761449077238551, 0.7761449077238551]}], \"accuracy\": [{\"categories\": [\"0\", \"1\", \"2\", \"3\", \"4\", \"5\", \"6\", \"7\", \"8\", \"9\", \"10\", \"11\", \"12\", \"13\", \"14\", \"15\", \"16\", \"17\", \"18\", \"19\", \"20\", \"21\", \"22\", \"23\", \"24\", \"25\", \"26\", \"27\", \"28\", \"29\", \"30\", \"31\", \"32\", \"36\"], \"mode\": \"markers\", \"name\": \"accuracy\", \"stepped\": false, \"type\": \"scatter\", \"data\": [0.7447539302802461, 0.7631408065618592, 0.7501537935748462, 0.7656869446343131, 0.7630895420369106, 0.7616883116883117, 0.7761449077238551, 0.7578263841421736, 0.7174641148325359, 0.7175153793574848, 0.773462064251538, 0.7318694463431306, 0.7760936431989064, 0.7251537935748462, 0.7565276828434724, 0.7135680109364321, 0.7226418318523582, 0.753896103896104, 0.7526828434723172, 0.7187286397812713, 0.7421907040328094, 0.7604237867395762, 0.7031271360218728, 0.7722146274777855, 0.7578263841421736, 0.6277170198222829, 0.7501708817498292, 0.7617737525632263, 0.6980006835269993, 0.6992652084757348, 0.7291866028708134, 0.6797163362952836, 0.7291866028708134, 0.773462064251538]}, {\"categories\": [\"0\", \"1\", \"2\", \"3\", \"4\", \"5\", \"6\", \"7\", \"8\", \"9\", \"10\", \"11\", \"12\", \"13\", \"14\", \"15\", \"16\", \"17\", \"18\", \"19\", \"20\", \"21\", \"22\", \"23\", \"24\", \"25\", \"26\", \"27\", \"28\", \"29\", \"30\", \"31\", \"32\", \"36\"], \"mode\": \"lines\", \"name\": \"accuracy_max\", \"stepped\": true, \"type\": \"scatter\", \"data\": [0.7447539302802461, 0.7631408065618592, 0.7631408065618592, 0.7656869446343131, 0.7656869446343131, 0.7656869446343131, 0.7761449077238551, 0.7761449077238551, 0.7761449077238551, 0.7761449077238551, 0.7761449077238551, 0.7761449077238551, 0.7761449077238551, 0.7761449077238551, 0.7761449077238551, 0.7761449077238551, 0.7761449077238551, 0.7761449077238551, 0.7761449077238551, 0.7761449077238551, 0.7761449077238551, 0.7761449077238551, 0.7761449077238551, 0.7761449077238551, 0.7761449077238551, 0.7761449077238551, 0.7761449077238551, 0.7761449077238551, 0.7761449077238551, 0.7761449077238551, 0.7761449077238551, 0.7761449077238551, 0.7761449077238551, 0.7761449077238551]}], \"f1_score_macro\": [{\"categories\": [\"0\", \"1\", \"2\", \"3\", \"4\", \"5\", \"6\", \"7\", \"8\", \"9\", \"10\", \"11\", \"12\", \"13\", \"14\", \"15\", \"16\", \"17\", \"18\", \"19\", \"20\", \"21\", \"22\", \"23\", \"24\", \"25\", \"26\", \"27\", \"28\", \"29\", \"30\", \"31\", \"32\", \"36\"], \"mode\": \"markers\", \"name\": \"f1_score_macro\", \"stepped\": false, \"type\": \"scatter\", \"data\": [0.7087116818477601, 0.7316499642812173, 0.7013564178207068, 0.7005411799862202, 0.7440684332620618, 0.7176662107655154, 0.7455287852015897, 0.701115694673808, 0.6025215175445257, 0.5919473293308859, 0.7171705890506554, 0.7179327536241872, 0.736032176609872, 0.7113606916738358, 0.6955590429557221, 0.6953213032890242, 0.7117942071093201, 0.7081393448560187, 0.7132573446011352, 0.7032673502457658, 0.7250902189862385, 0.7159605607654476, 0.6176087649350095, 0.7282854173569422, 0.7211569050442078, 0.573628458488946, 0.7131902733948641, 0.713642694360807, 0.6023140051970463, 0.565034905577473, 0.712595237417642, 0.6254369624998544, 0.7157011704405996, 0.7238957479736097]}, {\"categories\": [\"0\", \"1\", \"2\", \"3\", \"4\", \"5\", \"6\", \"7\", \"8\", \"9\", \"10\", \"11\", \"12\", \"13\", \"14\", \"15\", \"16\", \"17\", \"18\", \"19\", \"20\", \"21\", \"22\", \"23\", \"24\", \"25\", \"26\", \"27\", \"28\", \"29\", \"30\", \"31\", \"32\", \"36\"], \"mode\": \"lines\", \"name\": \"f1_score_macro_max\", \"stepped\": true, \"type\": \"scatter\", \"data\": [0.7087116818477601, 0.7316499642812173, 0.7316499642812173, 0.7316499642812173, 0.7440684332620618, 0.7440684332620618, 0.7455287852015897, 0.7455287852015897, 0.7455287852015897, 0.7455287852015897, 0.7455287852015897, 0.7455287852015897, 0.7455287852015897, 0.7455287852015897, 0.7455287852015897, 0.7455287852015897, 0.7455287852015897, 0.7455287852015897, 0.7455287852015897, 0.7455287852015897, 0.7455287852015897, 0.7455287852015897, 0.7455287852015897, 0.7455287852015897, 0.7455287852015897, 0.7455287852015897, 0.7455287852015897, 0.7455287852015897, 0.7455287852015897, 0.7455287852015897, 0.7455287852015897, 0.7455287852015897, 0.7455287852015897, 0.7455287852015897]}], \"f1_score_micro\": [{\"categories\": [\"0\", \"1\", \"2\", \"3\", \"4\", \"5\", \"6\", \"7\", \"8\", \"9\", \"10\", \"11\", \"12\", \"13\", \"14\", \"15\", \"16\", \"17\", \"18\", \"19\", \"20\", \"21\", \"22\", \"23\", \"24\", \"25\", \"26\", \"27\", \"28\", \"29\", \"30\", \"31\", \"32\", \"36\"], \"mode\": \"markers\", \"name\": \"f1_score_micro\", \"stepped\": false, \"type\": \"scatter\", \"data\": [0.7447539302802461, 0.7631408065618592, 0.7501537935748462, 0.765686944634313, 0.7630895420369106, 0.7616883116883117, 0.776144907723855, 0.7578263841421736, 0.7174641148325359, 0.7175153793574847, 0.773462064251538, 0.7318694463431306, 0.7760936431989063, 0.7251537935748462, 0.7565276828434724, 0.713568010936432, 0.7226418318523582, 0.753896103896104, 0.7526828434723172, 0.7187286397812713, 0.7421907040328094, 0.7604237867395762, 0.7031271360218728, 0.7722146274777855, 0.7578263841421736, 0.6277170198222829, 0.7501708817498292, 0.7617737525632263, 0.6980006835269993, 0.6992652084757348, 0.7291866028708134, 0.6797163362952836, 0.7291866028708134, 0.773462064251538]}, {\"categories\": [\"0\", \"1\", \"2\", \"3\", \"4\", \"5\", \"6\", \"7\", \"8\", \"9\", \"10\", \"11\", \"12\", \"13\", \"14\", \"15\", \"16\", \"17\", \"18\", \"19\", \"20\", \"21\", \"22\", \"23\", \"24\", \"25\", \"26\", \"27\", \"28\", \"29\", \"30\", \"31\", \"32\", \"36\"], \"mode\": \"lines\", \"name\": \"f1_score_micro_max\", \"stepped\": true, \"type\": \"scatter\", \"data\": [0.7447539302802461, 0.7631408065618592, 0.7631408065618592, 0.765686944634313, 0.765686944634313, 0.765686944634313, 0.776144907723855, 0.776144907723855, 0.776144907723855, 0.776144907723855, 0.776144907723855, 0.776144907723855, 0.776144907723855, 0.776144907723855, 0.776144907723855, 0.776144907723855, 0.776144907723855, 0.776144907723855, 0.776144907723855, 0.776144907723855, 0.776144907723855, 0.776144907723855, 0.776144907723855, 0.776144907723855, 0.776144907723855, 0.776144907723855, 0.776144907723855, 0.776144907723855, 0.776144907723855, 0.776144907723855, 0.776144907723855, 0.776144907723855, 0.776144907723855, 0.776144907723855]}], \"AUC_weighted\": [{\"categories\": [\"0\", \"1\", \"2\", \"3\", \"4\", \"5\", \"6\", \"7\", \"8\", \"9\", \"10\", \"11\", \"12\", \"13\", \"14\", \"15\", \"16\", \"17\", \"18\", \"19\", \"20\", \"21\", \"22\", \"23\", \"24\", \"25\", \"26\", \"27\", \"28\", \"29\", \"30\", \"31\", \"32\", \"36\"], \"mode\": \"markers\", \"name\": \"AUC_weighted\", \"stepped\": false, \"type\": \"scatter\", \"data\": [0.8069375909896099, 0.8324978940484952, 0.8178800985718032, 0.8383663278955936, 0.829326677280887, 0.8194068160918718, 0.8295550893008562, 0.8241897046178488, 0.8221117481023674, 0.8313097801531422, 0.8254459604534693, 0.8195968766452104, 0.8287203397729735, 0.8038911416850002, 0.8170873406639751, 0.7941514266062943, 0.8217853514619025, 0.8222632188031783, 0.8235517631951801, 0.8148957252197556, 0.8347950924097116, 0.8185090819381455, 0.7679620505831755, 0.8301232249964636, 0.8289658887342961, 0.5936146564431284, 0.7909054430208144, 0.8354618509195297, 0.7128725947844087, 0.7023686012509783, 0.8040780837909003, 0.7109244886503213, 0.8117457183945067, 0.8475680601425142]}, {\"categories\": [\"0\", \"1\", \"2\", \"3\", \"4\", \"5\", \"6\", \"7\", \"8\", \"9\", \"10\", \"11\", \"12\", \"13\", \"14\", \"15\", \"16\", \"17\", \"18\", \"19\", \"20\", \"21\", \"22\", \"23\", \"24\", \"25\", \"26\", \"27\", \"28\", \"29\", \"30\", \"31\", \"32\", \"36\"], \"mode\": \"lines\", \"name\": \"AUC_weighted_max\", \"stepped\": true, \"type\": \"scatter\", \"data\": [0.8069375909896099, 0.8324978940484952, 0.8324978940484952, 0.8383663278955936, 0.8383663278955936, 0.8383663278955936, 0.8383663278955936, 0.8383663278955936, 0.8383663278955936, 0.8383663278955936, 0.8383663278955936, 0.8383663278955936, 0.8383663278955936, 0.8383663278955936, 0.8383663278955936, 0.8383663278955936, 0.8383663278955936, 0.8383663278955936, 0.8383663278955936, 0.8383663278955936, 0.8383663278955936, 0.8383663278955936, 0.8383663278955936, 0.8383663278955936, 0.8383663278955936, 0.8383663278955936, 0.8383663278955936, 0.8383663278955936, 0.8383663278955936, 0.8383663278955936, 0.8383663278955936, 0.8383663278955936, 0.8383663278955936, 0.8475680601425142]}], \"log_loss\": [{\"categories\": [\"0\", \"1\", \"2\", \"3\", \"4\", \"5\", \"6\", \"7\", \"8\", \"9\", \"10\", \"11\", \"12\", \"13\", \"14\", \"15\", \"16\", \"17\", \"18\", \"19\", \"20\", \"21\", \"22\", \"23\", \"24\", \"25\", \"26\", \"27\", \"28\", \"29\", \"30\", \"31\", \"32\", \"36\"], \"mode\": \"markers\", \"name\": \"log_loss\", \"stepped\": false, \"type\": \"scatter\", \"data\": [0.6378913526541157, 0.48442897912025823, 0.49342873211010885, 0.50719384597356, 0.49163150505662284, 0.4973929441382359, 0.5739984639425437, 0.5015189615626261, 0.5452240122090927, 0.5435046604609355, 0.5186372364297125, 0.5324598534998748, 0.48560010473834536, 0.5495181752984568, 0.5169533404295347, 0.6468455101168871, 0.5507664250965552, 0.5386585168470167, 0.5309338433474421, 0.5588434562134278, 0.5298681706763138, 0.508244741908791, 0.562472775871954, 0.4847626138226172, 0.4864050499208738, 0.6894726998029946, 0.5488694253080085, 0.4808466455228336, 0.5817417790862176, 0.597090821320511, 0.6752782481889119, 0.6174085681214722, 0.6421303331542325, 0.49164242465924746]}, {\"categories\": [\"0\", \"1\", \"2\", \"3\", \"4\", \"5\", \"6\", \"7\", \"8\", \"9\", \"10\", \"11\", \"12\", \"13\", \"14\", \"15\", \"16\", \"17\", \"18\", \"19\", \"20\", \"21\", \"22\", \"23\", \"24\", \"25\", \"26\", \"27\", \"28\", \"29\", \"30\", \"31\", \"32\", \"36\"], \"mode\": \"lines\", \"name\": \"log_loss_min\", \"stepped\": true, \"type\": \"scatter\", \"data\": [0.6378913526541157, 0.48442897912025823, 0.48442897912025823, 0.48442897912025823, 0.48442897912025823, 0.48442897912025823, 0.48442897912025823, 0.48442897912025823, 0.48442897912025823, 0.48442897912025823, 0.48442897912025823, 0.48442897912025823, 0.48442897912025823, 0.48442897912025823, 0.48442897912025823, 0.48442897912025823, 0.48442897912025823, 0.48442897912025823, 0.48442897912025823, 0.48442897912025823, 0.48442897912025823, 0.48442897912025823, 0.48442897912025823, 0.48442897912025823, 0.48442897912025823, 0.48442897912025823, 0.48442897912025823, 0.4808466455228336, 0.4808466455228336, 0.4808466455228336, 0.4808466455228336, 0.4808466455228336, 0.4808466455228336, 0.4808466455228336]}], \"average_precision_score_macro\": [{\"categories\": [\"0\", \"1\", \"2\", \"3\", \"4\", \"5\", \"6\", \"7\", \"8\", \"9\", \"10\", \"11\", \"12\", \"13\", \"14\", \"15\", \"16\", \"17\", \"18\", \"19\", \"20\", \"21\", \"22\", \"23\", \"24\", \"25\", \"26\", \"27\", \"28\", \"29\", \"30\", \"31\", \"32\", \"36\"], \"mode\": \"markers\", \"name\": \"average_precision_score_macro\", \"stepped\": false, \"type\": \"scatter\", \"data\": [0.7871407995869946, 0.8138052706291958, 0.7998752965705803, 0.829175103160939, 0.806843025742924, 0.8046848624841727, 0.8030833707330569, 0.8080527135499272, 0.7993732374773118, 0.8174513507912033, 0.8128213706520852, 0.8047589374340367, 0.8132389087520036, 0.7840070078968775, 0.8020354979946808, 0.77308607832136, 0.8071906754459375, 0.8070482336516781, 0.8051983337358948, 0.8004689163030749, 0.8179851511969571, 0.790052431454607, 0.7408920843658305, 0.8158856346874964, 0.8148960855294451, 0.581492543215937, 0.7726253770481248, 0.8212272287597877, 0.7059196065671046, 0.6980781184945382, 0.7831294517298513, 0.6902520862951494, 0.7942224451598368, 0.8302522094290705]}, {\"categories\": [\"0\", \"1\", \"2\", \"3\", \"4\", \"5\", \"6\", \"7\", \"8\", \"9\", \"10\", \"11\", \"12\", \"13\", \"14\", \"15\", \"16\", \"17\", \"18\", \"19\", \"20\", \"21\", \"22\", \"23\", \"24\", \"25\", \"26\", \"27\", \"28\", \"29\", \"30\", \"31\", \"32\", \"36\"], \"mode\": \"lines\", \"name\": \"average_precision_score_macro_max\", \"stepped\": true, \"type\": \"scatter\", \"data\": [0.7871407995869946, 0.8138052706291958, 0.8138052706291958, 0.829175103160939, 0.829175103160939, 0.829175103160939, 0.829175103160939, 0.829175103160939, 0.829175103160939, 0.829175103160939, 0.829175103160939, 0.829175103160939, 0.829175103160939, 0.829175103160939, 0.829175103160939, 0.829175103160939, 0.829175103160939, 0.829175103160939, 0.829175103160939, 0.829175103160939, 0.829175103160939, 0.829175103160939, 0.829175103160939, 0.829175103160939, 0.829175103160939, 0.829175103160939, 0.829175103160939, 0.829175103160939, 0.829175103160939, 0.829175103160939, 0.829175103160939, 0.829175103160939, 0.829175103160939, 0.8302522094290705]}], \"average_precision_score_weighted\": [{\"categories\": [\"0\", \"1\", \"2\", \"3\", \"4\", \"5\", \"6\", \"7\", \"8\", \"9\", \"10\", \"11\", \"12\", \"13\", \"14\", \"15\", \"16\", \"17\", \"18\", \"19\", \"20\", \"21\", \"22\", \"23\", \"24\", \"25\", \"26\", \"27\", \"28\", \"29\", \"30\", \"31\", \"32\", \"36\"], \"mode\": \"markers\", \"name\": \"average_precision_score_weighted\", \"stepped\": false, \"type\": \"scatter\", \"data\": [0.8205233201026948, 0.8428749649055556, 0.8309619905457482, 0.8540057201748705, 0.8370189840560057, 0.8350295752320382, 0.8335452013478892, 0.8364098458125234, 0.8319086525805286, 0.8469852441863492, 0.840961412113208, 0.8345621302579385, 0.8397334410081572, 0.8173897889697745, 0.8322359742852872, 0.8099905109854353, 0.8368779811406902, 0.8344174879745996, 0.833819283780967, 0.8311429469319556, 0.8471379944359457, 0.8225861125620293, 0.776241715430344, 0.8421418069226124, 0.8448668198636871, 0.626045140106521, 0.8045104784333372, 0.849202003727844, 0.7406441023583095, 0.7303405804530596, 0.8191704335945437, 0.7327758044063416, 0.826369180161487, 0.8570972718390333]}, {\"categories\": [\"0\", \"1\", \"2\", \"3\", \"4\", \"5\", \"6\", \"7\", \"8\", \"9\", \"10\", \"11\", \"12\", \"13\", \"14\", \"15\", \"16\", \"17\", \"18\", \"19\", \"20\", \"21\", \"22\", \"23\", \"24\", \"25\", \"26\", \"27\", \"28\", \"29\", \"30\", \"31\", \"32\", \"36\"], \"mode\": \"lines\", \"name\": \"average_precision_score_weighted_max\", \"stepped\": true, \"type\": \"scatter\", \"data\": [0.8205233201026948, 0.8428749649055556, 0.8428749649055556, 0.8540057201748705, 0.8540057201748705, 0.8540057201748705, 0.8540057201748705, 0.8540057201748705, 0.8540057201748705, 0.8540057201748705, 0.8540057201748705, 0.8540057201748705, 0.8540057201748705, 0.8540057201748705, 0.8540057201748705, 0.8540057201748705, 0.8540057201748705, 0.8540057201748705, 0.8540057201748705, 0.8540057201748705, 0.8540057201748705, 0.8540057201748705, 0.8540057201748705, 0.8540057201748705, 0.8540057201748705, 0.8540057201748705, 0.8540057201748705, 0.8540057201748705, 0.8540057201748705, 0.8540057201748705, 0.8540057201748705, 0.8540057201748705, 0.8540057201748705, 0.8570972718390333]}], \"AUC_macro\": [{\"categories\": [\"0\", \"1\", \"2\", \"3\", \"4\", \"5\", \"6\", \"7\", \"8\", \"9\", \"10\", \"11\", \"12\", \"13\", \"14\", \"15\", \"16\", \"17\", \"18\", \"19\", \"20\", \"21\", \"22\", \"23\", \"24\", \"25\", \"26\", \"27\", \"28\", \"29\", \"30\", \"31\", \"32\", \"36\"], \"mode\": \"markers\", \"name\": \"AUC_macro\", \"stepped\": false, \"type\": \"scatter\", \"data\": [0.8069375909896099, 0.8324978940484952, 0.8178800985718032, 0.8383663278955936, 0.8293266772808872, 0.8194068160918718, 0.8295590038260473, 0.8241897046178488, 0.8221117481023675, 0.8313097801531422, 0.8254459604534693, 0.8195968766452104, 0.8287203397729735, 0.8038911416850004, 0.8170873406639751, 0.7941514266062943, 0.8217853514619025, 0.8222632188031783, 0.8235517631951799, 0.8148957252197558, 0.8347950924097114, 0.8185090819381455, 0.7679620505831755, 0.8301232249964638, 0.8289658887342961, 0.5936146564431284, 0.7909054430208144, 0.8354618509195297, 0.7128725947844087, 0.7023686012509783, 0.8040780837909003, 0.7109244886503213, 0.8117457183945067, 0.8475680601425142]}, {\"categories\": [\"0\", \"1\", \"2\", \"3\", \"4\", \"5\", \"6\", \"7\", \"8\", \"9\", \"10\", \"11\", \"12\", \"13\", \"14\", \"15\", \"16\", \"17\", \"18\", \"19\", \"20\", \"21\", \"22\", \"23\", \"24\", \"25\", \"26\", \"27\", \"28\", \"29\", \"30\", \"31\", \"32\", \"36\"], \"mode\": \"lines\", \"name\": \"AUC_macro_max\", \"stepped\": true, \"type\": \"scatter\", \"data\": [0.8069375909896099, 0.8324978940484952, 0.8324978940484952, 0.8383663278955936, 0.8383663278955936, 0.8383663278955936, 0.8383663278955936, 0.8383663278955936, 0.8383663278955936, 0.8383663278955936, 0.8383663278955936, 0.8383663278955936, 0.8383663278955936, 0.8383663278955936, 0.8383663278955936, 0.8383663278955936, 0.8383663278955936, 0.8383663278955936, 0.8383663278955936, 0.8383663278955936, 0.8383663278955936, 0.8383663278955936, 0.8383663278955936, 0.8383663278955936, 0.8383663278955936, 0.8383663278955936, 0.8383663278955936, 0.8383663278955936, 0.8383663278955936, 0.8383663278955936, 0.8383663278955936, 0.8383663278955936, 0.8383663278955936, 0.8475680601425142]}], \"precision_score_macro\": [{\"categories\": [\"0\", \"1\", \"2\", \"3\", \"4\", \"5\", \"6\", \"7\", \"8\", \"9\", \"10\", \"11\", \"12\", \"13\", \"14\", \"15\", \"16\", \"17\", \"18\", \"19\", \"20\", \"21\", \"22\", \"23\", \"24\", \"25\", \"26\", \"27\", \"28\", \"29\", \"30\", \"31\", \"32\", \"36\"], \"mode\": \"markers\", \"name\": \"precision_score_macro\", \"stepped\": false, \"type\": \"scatter\", \"data\": [0.7168857739791966, 0.740474187087135, 0.7293890324357039, 0.781275053052156, 0.7415739265070775, 0.7418696437596026, 0.7561164054601163, 0.7523546344500719, 0.7484876499377663, 0.7517413663265214, 0.7797379520644807, 0.7201386245255021, 0.7600271552357769, 0.7100978465349874, 0.7490890498309122, 0.6958315067517985, 0.7164597536185859, 0.7342967522089824, 0.7327342091994454, 0.7037882203064157, 0.7253188869982518, 0.7435312965310172, 0.7031359791447824, 0.7592802519698475, 0.73711623379674, 0.5783187490492641, 0.7258891243634664, 0.745980156132424, 0.6772147999538124, 0.7044127762326228, 0.7115277959663472, 0.6431539755985352, 0.7174277370197045, 0.7689428220033824]}, {\"categories\": [\"0\", \"1\", \"2\", \"3\", \"4\", \"5\", \"6\", \"7\", \"8\", \"9\", \"10\", \"11\", \"12\", \"13\", \"14\", \"15\", \"16\", \"17\", \"18\", \"19\", \"20\", \"21\", \"22\", \"23\", \"24\", \"25\", \"26\", \"27\", \"28\", \"29\", \"30\", \"31\", \"32\", \"36\"], \"mode\": \"lines\", \"name\": \"precision_score_macro_max\", \"stepped\": true, \"type\": \"scatter\", \"data\": [0.7168857739791966, 0.740474187087135, 0.740474187087135, 0.781275053052156, 0.781275053052156, 0.781275053052156, 0.781275053052156, 0.781275053052156, 0.781275053052156, 0.781275053052156, 0.781275053052156, 0.781275053052156, 0.781275053052156, 0.781275053052156, 0.781275053052156, 0.781275053052156, 0.781275053052156, 0.781275053052156, 0.781275053052156, 0.781275053052156, 0.781275053052156, 0.781275053052156, 0.781275053052156, 0.781275053052156, 0.781275053052156, 0.781275053052156, 0.781275053052156, 0.781275053052156, 0.781275053052156, 0.781275053052156, 0.781275053052156, 0.781275053052156, 0.781275053052156, 0.781275053052156]}], \"recall_score_micro\": [{\"categories\": [\"0\", \"1\", \"2\", \"3\", \"4\", \"5\", \"6\", \"7\", \"8\", \"9\", \"10\", \"11\", \"12\", \"13\", \"14\", \"15\", \"16\", \"17\", \"18\", \"19\", \"20\", \"21\", \"22\", \"23\", \"24\", \"25\", \"26\", \"27\", \"28\", \"29\", \"30\", \"31\", \"32\", \"36\"], \"mode\": \"markers\", \"name\": \"recall_score_micro\", \"stepped\": false, \"type\": \"scatter\", \"data\": [0.7447539302802461, 0.7631408065618592, 0.7501537935748462, 0.7656869446343131, 0.7630895420369106, 0.7616883116883117, 0.7761449077238551, 0.7578263841421736, 0.7174641148325359, 0.7175153793574848, 0.773462064251538, 0.7318694463431306, 0.7760936431989064, 0.7251537935748462, 0.7565276828434724, 0.7135680109364321, 0.7226418318523582, 0.753896103896104, 0.7526828434723172, 0.7187286397812713, 0.7421907040328094, 0.7604237867395762, 0.7031271360218728, 0.7722146274777855, 0.7578263841421736, 0.6277170198222829, 0.7501708817498292, 0.7617737525632263, 0.6980006835269993, 0.6992652084757348, 0.7291866028708134, 0.6797163362952836, 0.7291866028708134, 0.773462064251538]}, {\"categories\": [\"0\", \"1\", \"2\", \"3\", \"4\", \"5\", \"6\", \"7\", \"8\", \"9\", \"10\", \"11\", \"12\", \"13\", \"14\", \"15\", \"16\", \"17\", \"18\", \"19\", \"20\", \"21\", \"22\", \"23\", \"24\", \"25\", \"26\", \"27\", \"28\", \"29\", \"30\", \"31\", \"32\", \"36\"], \"mode\": \"lines\", \"name\": \"recall_score_micro_max\", \"stepped\": true, \"type\": \"scatter\", \"data\": [0.7447539302802461, 0.7631408065618592, 0.7631408065618592, 0.7656869446343131, 0.7656869446343131, 0.7656869446343131, 0.7761449077238551, 0.7761449077238551, 0.7761449077238551, 0.7761449077238551, 0.7761449077238551, 0.7761449077238551, 0.7761449077238551, 0.7761449077238551, 0.7761449077238551, 0.7761449077238551, 0.7761449077238551, 0.7761449077238551, 0.7761449077238551, 0.7761449077238551, 0.7761449077238551, 0.7761449077238551, 0.7761449077238551, 0.7761449077238551, 0.7761449077238551, 0.7761449077238551, 0.7761449077238551, 0.7761449077238551, 0.7761449077238551, 0.7761449077238551, 0.7761449077238551, 0.7761449077238551, 0.7761449077238551, 0.7761449077238551]}], \"recall_score_weighted\": [{\"categories\": [\"0\", \"1\", \"2\", \"3\", \"4\", \"5\", \"6\", \"7\", \"8\", \"9\", \"10\", \"11\", \"12\", \"13\", \"14\", \"15\", \"16\", \"17\", \"18\", \"19\", \"20\", \"21\", \"22\", \"23\", \"24\", \"25\", \"26\", \"27\", \"28\", \"29\", \"30\", \"31\", \"32\", \"36\"], \"mode\": \"markers\", \"name\": \"recall_score_weighted\", \"stepped\": false, \"type\": \"scatter\", \"data\": [0.7447539302802461, 0.7631408065618592, 0.7501537935748462, 0.7656869446343131, 0.7630895420369106, 0.7616883116883117, 0.7761449077238551, 0.7578263841421736, 0.7174641148325359, 0.7175153793574848, 0.773462064251538, 0.7318694463431306, 0.7760936431989064, 0.7251537935748462, 0.7565276828434724, 0.7135680109364321, 0.7226418318523582, 0.753896103896104, 0.7526828434723172, 0.7187286397812713, 0.7421907040328094, 0.7604237867395762, 0.7031271360218728, 0.7722146274777855, 0.7578263841421736, 0.6277170198222829, 0.7501708817498292, 0.7617737525632263, 0.6980006835269993, 0.6992652084757348, 0.7291866028708134, 0.6797163362952836, 0.7291866028708134, 0.773462064251538]}, {\"categories\": [\"0\", \"1\", \"2\", \"3\", \"4\", \"5\", \"6\", \"7\", \"8\", \"9\", \"10\", \"11\", \"12\", \"13\", \"14\", \"15\", \"16\", \"17\", \"18\", \"19\", \"20\", \"21\", \"22\", \"23\", \"24\", \"25\", \"26\", \"27\", \"28\", \"29\", \"30\", \"31\", \"32\", \"36\"], \"mode\": \"lines\", \"name\": \"recall_score_weighted_max\", \"stepped\": true, \"type\": \"scatter\", \"data\": [0.7447539302802461, 0.7631408065618592, 0.7631408065618592, 0.7656869446343131, 0.7656869446343131, 0.7656869446343131, 0.7761449077238551, 0.7761449077238551, 0.7761449077238551, 0.7761449077238551, 0.7761449077238551, 0.7761449077238551, 0.7761449077238551, 0.7761449077238551, 0.7761449077238551, 0.7761449077238551, 0.7761449077238551, 0.7761449077238551, 0.7761449077238551, 0.7761449077238551, 0.7761449077238551, 0.7761449077238551, 0.7761449077238551, 0.7761449077238551, 0.7761449077238551, 0.7761449077238551, 0.7761449077238551, 0.7761449077238551, 0.7761449077238551, 0.7761449077238551, 0.7761449077238551, 0.7761449077238551, 0.7761449077238551, 0.7761449077238551]}], \"weighted_accuracy\": [{\"categories\": [\"0\", \"1\", \"2\", \"3\", \"4\", \"5\", \"6\", \"7\", \"8\", \"9\", \"10\", \"11\", \"12\", \"13\", \"14\", \"15\", \"16\", \"17\", \"18\", \"19\", \"20\", \"21\", \"22\", \"23\", \"24\", \"25\", \"26\", \"27\", \"28\", \"29\", \"30\", \"31\", \"32\", \"36\"], \"mode\": \"markers\", \"name\": \"weighted_accuracy\", \"stepped\": false, \"type\": \"scatter\", \"data\": [0.7750731981881509, 0.7907051438675505, 0.7956310774626927, 0.8274681167020882, 0.7696184078344723, 0.8033571197193815, 0.8032770471834997, 0.8113133532983788, 0.8010589628604542, 0.8044258072493633, 0.8286085294025257, 0.7266765456267594, 0.8145946682636115, 0.7216042197562786, 0.8126916857873571, 0.7165505832063545, 0.7106987473863176, 0.7967945338163327, 0.7891653026679097, 0.7177655045517937, 0.7445327026542339, 0.802629563200368, 0.7704688535078257, 0.8144450224602897, 0.7908953455098062, 0.6706831694707371, 0.7820762229774147, 0.8062463364991063, 0.770061623154822, 0.7885817254519185, 0.7310612073741287, 0.7250518975833297, 0.7224780694237918, 0.8219105532347128]}, {\"categories\": [\"0\", \"1\", \"2\", \"3\", \"4\", \"5\", \"6\", \"7\", \"8\", \"9\", \"10\", \"11\", \"12\", \"13\", \"14\", \"15\", \"16\", \"17\", \"18\", \"19\", \"20\", \"21\", \"22\", \"23\", \"24\", \"25\", \"26\", \"27\", \"28\", \"29\", \"30\", \"31\", \"32\", \"36\"], \"mode\": \"lines\", \"name\": \"weighted_accuracy_max\", \"stepped\": true, \"type\": \"scatter\", \"data\": [0.7750731981881509, 0.7907051438675505, 0.7956310774626927, 0.8274681167020882, 0.8274681167020882, 0.8274681167020882, 0.8274681167020882, 0.8274681167020882, 0.8274681167020882, 0.8274681167020882, 0.8286085294025257, 0.8286085294025257, 0.8286085294025257, 0.8286085294025257, 0.8286085294025257, 0.8286085294025257, 0.8286085294025257, 0.8286085294025257, 0.8286085294025257, 0.8286085294025257, 0.8286085294025257, 0.8286085294025257, 0.8286085294025257, 0.8286085294025257, 0.8286085294025257, 0.8286085294025257, 0.8286085294025257, 0.8286085294025257, 0.8286085294025257, 0.8286085294025257, 0.8286085294025257, 0.8286085294025257, 0.8286085294025257, 0.8286085294025257]}], \"recall_score_macro\": [{\"categories\": [\"0\", \"1\", \"2\", \"3\", \"4\", \"5\", \"6\", \"7\", \"8\", \"9\", \"10\", \"11\", \"12\", \"13\", \"14\", \"15\", \"16\", \"17\", \"18\", \"19\", \"20\", \"21\", \"22\", \"23\", \"24\", \"25\", \"26\", \"27\", \"28\", \"29\", \"30\", \"31\", \"32\", \"36\"], \"mode\": \"markers\", \"name\": \"recall_score_macro\", \"stepped\": false, \"type\": \"scatter\", \"data\": [0.7058435554113287, 0.7284422735232137, 0.6924833250022171, 0.6880990626342529, 0.7547626393014455, 0.7099083603134804, 0.7428434874570631, 0.6911978957788885, 0.6140621897187116, 0.608702445931248, 0.7041186657122356, 0.7380618022450246, 0.7278451846340432, 0.7295729343630899, 0.685351915897574, 0.7091166697956341, 0.7371007288574892, 0.7000486664359292, 0.7075200905154657, 0.7195279069356735, 0.7389339364562348, 0.7074820685201673, 0.6196190571691174, 0.7190006006466021, 0.715923737893487, 0.5734464001611708, 0.7084584318094301, 0.7054028611529267, 0.6086634513645178, 0.5878761205735187, 0.726953042882597, 0.6231682273112418, 0.7370214535359828, 0.7126654200226283]}, {\"categories\": [\"0\", \"1\", \"2\", \"3\", \"4\", \"5\", \"6\", \"7\", \"8\", \"9\", \"10\", \"11\", \"12\", \"13\", \"14\", \"15\", \"16\", \"17\", \"18\", \"19\", \"20\", \"21\", \"22\", \"23\", \"24\", \"25\", \"26\", \"27\", \"28\", \"29\", \"30\", \"31\", \"32\", \"36\"], \"mode\": \"lines\", \"name\": \"recall_score_macro_max\", \"stepped\": true, \"type\": \"scatter\", \"data\": [0.7058435554113287, 0.7284422735232137, 0.7284422735232137, 0.7284422735232137, 0.7547626393014455, 0.7547626393014455, 0.7547626393014455, 0.7547626393014455, 0.7547626393014455, 0.7547626393014455, 0.7547626393014455, 0.7547626393014455, 0.7547626393014455, 0.7547626393014455, 0.7547626393014455, 0.7547626393014455, 0.7547626393014455, 0.7547626393014455, 0.7547626393014455, 0.7547626393014455, 0.7547626393014455, 0.7547626393014455, 0.7547626393014455, 0.7547626393014455, 0.7547626393014455, 0.7547626393014455, 0.7547626393014455, 0.7547626393014455, 0.7547626393014455, 0.7547626393014455, 0.7547626393014455, 0.7547626393014455, 0.7547626393014455, 0.7547626393014455]}]}, \"metricName\": null, \"primaryMetricName\": \"AUC_weighted\", \"showLegend\": false}, \"run_metrics\": [{\"name\": \"experiment_status\", \"run_id\": \"AutoML_4deb26e6-ed38-4c04-9c31-34184a0d4d29\", \"categories\": [0, 1, 2, 3, 4, 5, 6, 7, 8, 9, 10, 11, 12, 13], \"series\": [{\"data\": [\"DatasetEvaluation\", \"FeaturesGeneration\", \"DatasetFeaturization\", \"DatasetFeaturizationCompleted\", \"DatasetCrossValidationSplit\", \"ModelSelection\", \"BestRunExplainModel\", \"ModelExplanationDataSetSetup\", \"PickSurrogateModel\", \"EngineeredFeatureExplanations\", \"EngineeredFeatureExplanations\", \"RawFeaturesExplanations\", \"RawFeaturesExplanations\", \"BestRunExplainModel\"]}]}, {\"name\": \"experiment_status_description\", \"run_id\": \"AutoML_4deb26e6-ed38-4c04-9c31-34184a0d4d29\", \"categories\": [0, 1, 2, 3, 4, 5, 6, 7, 8, 9, 10, 11, 12, 13], \"series\": [{\"data\": [\"Gathering dataset statistics.\", \"Generating features for the dataset.\", \"Beginning to fit featurizers and featurize the dataset.\", \"Completed fit featurizers and featurizing the dataset.\", \"Generating individually featurized CV splits.\", \"Beginning model selection.\", \"Best run model explanations started\", \"Model explanations data setup completed\", \"Choosing LightGBM as the surrogate model for explanations\", \"Computation of engineered features started\", \"Computation of engineered features completed\", \"Computation of raw features started\", \"Computation of raw features completed\", \"Best run model explanations completed\"]}]}, {\"name\": \"matthews_correlation\", \"run_id\": \"AutoML_4deb26e6-ed38-4c04-9c31-34184a0d4d29\", \"categories\": [0], \"series\": [{\"data\": [0.4773611031280966]}]}, {\"name\": \"f1_score_weighted\", \"run_id\": \"AutoML_4deb26e6-ed38-4c04-9c31-34184a0d4d29\", \"categories\": [0], \"series\": [{\"data\": [0.7607554272699228]}]}, {\"name\": \"recall_score_weighted\", \"run_id\": \"AutoML_4deb26e6-ed38-4c04-9c31-34184a0d4d29\", \"categories\": [0], \"series\": [{\"data\": [0.773462064251538]}]}, {\"name\": \"norm_macro_recall\", \"run_id\": \"AutoML_4deb26e6-ed38-4c04-9c31-34184a0d4d29\", \"categories\": [0], \"series\": [{\"data\": [0.4253308400452568]}]}, {\"name\": \"recall_score_macro\", \"run_id\": \"AutoML_4deb26e6-ed38-4c04-9c31-34184a0d4d29\", \"categories\": [0], \"series\": [{\"data\": [0.7126654200226283]}]}, {\"name\": \"average_precision_score_macro\", \"run_id\": \"AutoML_4deb26e6-ed38-4c04-9c31-34184a0d4d29\", \"categories\": [0], \"series\": [{\"data\": [0.8302522094290705]}]}, {\"name\": \"f1_score_macro\", \"run_id\": \"AutoML_4deb26e6-ed38-4c04-9c31-34184a0d4d29\", \"categories\": [0], \"series\": [{\"data\": [0.7238957479736097]}]}, {\"name\": \"balanced_accuracy\", \"run_id\": \"AutoML_4deb26e6-ed38-4c04-9c31-34184a0d4d29\", \"categories\": [0], \"series\": [{\"data\": [0.7126654200226283]}]}, {\"name\": \"weighted_accuracy\", \"run_id\": \"AutoML_4deb26e6-ed38-4c04-9c31-34184a0d4d29\", \"categories\": [0], \"series\": [{\"data\": [0.8219105532347128]}]}, {\"name\": \"recall_score_micro\", \"run_id\": \"AutoML_4deb26e6-ed38-4c04-9c31-34184a0d4d29\", \"categories\": [0], \"series\": [{\"data\": [0.773462064251538]}]}, {\"name\": \"precision_score_micro\", \"run_id\": \"AutoML_4deb26e6-ed38-4c04-9c31-34184a0d4d29\", \"categories\": [0], \"series\": [{\"data\": [0.773462064251538]}]}, {\"name\": \"accuracy\", \"run_id\": \"AutoML_4deb26e6-ed38-4c04-9c31-34184a0d4d29\", \"categories\": [0], \"series\": [{\"data\": [0.773462064251538]}]}, {\"name\": \"precision_score_macro\", \"run_id\": \"AutoML_4deb26e6-ed38-4c04-9c31-34184a0d4d29\", \"categories\": [0], \"series\": [{\"data\": [0.7689428220033824]}]}, {\"name\": \"AUC_weighted\", \"run_id\": \"AutoML_4deb26e6-ed38-4c04-9c31-34184a0d4d29\", \"categories\": [0], \"series\": [{\"data\": [0.8475680601425142]}]}, {\"name\": \"f1_score_micro\", \"run_id\": \"AutoML_4deb26e6-ed38-4c04-9c31-34184a0d4d29\", \"categories\": [0], \"series\": [{\"data\": [0.773462064251538]}]}, {\"name\": \"AUC_macro\", \"run_id\": \"AutoML_4deb26e6-ed38-4c04-9c31-34184a0d4d29\", \"categories\": [0], \"series\": [{\"data\": [0.8475680601425142]}]}, {\"name\": \"average_precision_score_weighted\", \"run_id\": \"AutoML_4deb26e6-ed38-4c04-9c31-34184a0d4d29\", \"categories\": [0], \"series\": [{\"data\": [0.8570972718390333]}]}, {\"name\": \"average_precision_score_micro\", \"run_id\": \"AutoML_4deb26e6-ed38-4c04-9c31-34184a0d4d29\", \"categories\": [0], \"series\": [{\"data\": [0.8607010237954922]}]}, {\"name\": \"log_loss\", \"run_id\": \"AutoML_4deb26e6-ed38-4c04-9c31-34184a0d4d29\", \"categories\": [0], \"series\": [{\"data\": [0.49164242465924746]}]}, {\"name\": \"precision_score_weighted\", \"run_id\": \"AutoML_4deb26e6-ed38-4c04-9c31-34184a0d4d29\", \"categories\": [0], \"series\": [{\"data\": [0.7755972538071221]}]}, {\"name\": \"AUC_micro\", \"run_id\": \"AutoML_4deb26e6-ed38-4c04-9c31-34184a0d4d29\", \"categories\": [0], \"series\": [{\"data\": [0.858397690421605]}]}], \"run_logs\": \"\\nRun is completed.\", \"graph\": {}, \"widget_settings\": {\"childWidgetDisplay\": \"popup\", \"send_telemetry\": false, \"log_level\": \"INFO\", \"sdk_version\": \"1.19.0\"}, \"loading\": false}"
     },
     "metadata": {},
     "output_type": "display_data"
    }
   ],
   "source": [
    "from azureml.widgets import RunDetails\n",
    "RunDetails(remote_run).show() "
   ]
  },
  {
   "cell_type": "markdown",
   "metadata": {},
   "source": [
    "### Retrieve the Best Model's explanation\n",
    "Retrieve the explanation from the best_run which includes explanations for engineered features and raw features. Make sure that the run for generating explanations for the best model is completed."
   ]
  },
  {
   "cell_type": "code",
   "execution_count": 18,
   "metadata": {},
   "outputs": [
    {
     "name": "stdout",
     "output_type": "stream",
     "text": [
      "AutoML_4deb26e6-ed38-4c04-9c31-34184a0d4d29_ModelExplain\n"
     ]
    }
   ],
   "source": [
    "# Wait for the best model explanation run to complete\n",
    "from azureml.core.run import Run\n",
    "model_explainability_run_id = remote_run.id + \"_\" + \"ModelExplain\"\n",
    "print(model_explainability_run_id)\n",
    "model_explainability_run = Run(experiment=experiment, run_id=model_explainability_run_id)\n",
    "model_explainability_run.wait_for_completion()\n",
    "\n",
    "# Get the best run object\n",
    "best_run, fitted_model = remote_run.get_output()"
   ]
  },
  {
   "cell_type": "markdown",
   "metadata": {},
   "source": [
    "#### Download engineered feature importance from artifact store\n",
    "You can use ExplanationClient to download the engineered feature explanations from the artifact store of the best_run."
   ]
  },
  {
   "cell_type": "code",
   "execution_count": 19,
   "metadata": {},
   "outputs": [
    {
     "data": {
      "text/plain": [
       "{'Glucose_MeanImputer': 0.5333782651877961,\n",
       " 'BMI_MeanImputer': 0.2525343086485121,\n",
       " 'Age_MeanImputer': 0.23475847164712138,\n",
       " 'Pregnancies_MeanImputer': 0.10939484694071007,\n",
       " 'DiabetesPedigreeFunction_MeanImputer': 0.10014874620696664,\n",
       " 'BloodPressure_MeanImputer': 0.03701872057566461,\n",
       " 'SkinThickness_MeanImputer': 0.02687496635155662,\n",
       " 'Insulin_MeanImputer': 0.026777072025886264}"
      ]
     },
     "execution_count": 19,
     "metadata": {},
     "output_type": "execute_result"
    }
   ],
   "source": [
    "client = ExplanationClient.from_run(best_run)\n",
    "engineered_explanations = client.download_model_explanation(raw=False)\n",
    "exp_data = engineered_explanations.get_feature_importance_dict()\n",
    "exp_data"
   ]
  },
  {
   "cell_type": "markdown",
   "metadata": {},
   "source": [
    "#### Download raw feature importance from artifact store\n",
    "You can use ExplanationClient to download the raw feature explanations from the artifact store of the best_run."
   ]
  },
  {
   "cell_type": "code",
   "execution_count": 20,
   "metadata": {},
   "outputs": [
    {
     "data": {
      "text/plain": [
       "{'Glucose': 0.5333782651877961,\n",
       " 'BMI': 0.2525343086485121,\n",
       " 'Age': 0.23475847164712138,\n",
       " 'Pregnancies': 0.10939484694071007,\n",
       " 'DiabetesPedigreeFunction': 0.10014874620696664,\n",
       " 'BloodPressure': 0.03701872057566461,\n",
       " 'SkinThickness': 0.02687496635155662,\n",
       " 'Insulin': 0.026777072025886264}"
      ]
     },
     "execution_count": 20,
     "metadata": {},
     "output_type": "execute_result"
    }
   ],
   "source": [
    "client = ExplanationClient.from_run(best_run)\n",
    "engineered_explanations = client.download_model_explanation(raw=True)\n",
    "exp_data = engineered_explanations.get_feature_importance_dict()\n",
    "exp_data"
   ]
  },
  {
   "cell_type": "markdown",
   "metadata": {},
   "source": [
    "### Retrieve the Best ONNX Model\n",
    "\n",
    "Below we select the best pipeline from our iterations. The `get_output` method returns the best run and the fitted model. The Model includes the pipeline and any pre-processing.  Overloads on `get_output` allow you to retrieve the best run and fitted model for *any* logged metric or for a particular *iteration*.\n",
    "\n",
    "Set the parameter return_onnx_model=True to retrieve the best ONNX model, instead of the Python model."
   ]
  },
  {
   "cell_type": "code",
   "execution_count": 21,
   "metadata": {},
   "outputs": [],
   "source": [
    "best_run, onnx_mdl = remote_run.get_output(return_onnx_model=True)"
   ]
  },
  {
   "cell_type": "markdown",
   "metadata": {},
   "source": [
    "### Save the best ONNX model"
   ]
  },
  {
   "cell_type": "code",
   "execution_count": 22,
   "metadata": {},
   "outputs": [],
   "source": [
    "from azureml.automl.runtime.onnx_convert import OnnxConverter\n",
    "onnx_fl_path = \"./best_model.onnx\"\n",
    "OnnxConverter.save_onnx_model(onnx_mdl, onnx_fl_path)"
   ]
  },
  {
   "cell_type": "markdown",
   "metadata": {},
   "source": [
    "### Predict with the ONNX model, using onnxruntime package"
   ]
  },
  {
   "cell_type": "code",
   "execution_count": 26,
   "metadata": {},
   "outputs": [
    {
     "name": "stdout",
     "output_type": "stream",
     "text": [
      "[1 0 1 0 1 0 0 0 1 0 0 1 0 1 1 0 0 0 0 0 0 0 1 0 1 0 1 0 0 0 0 1 0 0 0 0 1\n",
      " 1 0 1 1 1 0 1 1 1 0 0 0 0 0 0 0 1 1 0 1 0 0 0 0 1 0 0 0 0 0 0 0 0 0 0 1 0\n",
      " 0 0 0 0 1 0 0 0 0 0 1 0 0 0 1 0 0 0 0 0 0 0 0 0 0 1 1 0 0 0 0 0 0 0 0 0 1\n",
      " 1 0 0 1 1 0 0 0 0 1 0 0 0 0 0 0 0 0 0 1 1 1 0 0 0 0 0 0 0 0 0 0 0 0 0 0 0\n",
      " 0 0 0 0 1 0 1 1 0 0 0 1 0 0 0 0 0 0 0 0 0 0 0 0 0 0 0 1 0 1 1 1 0 0 0 0 0\n",
      " 1 1 1 0 0 0 0 1 1 0 1 0 0 0 0 0 0 0 0 0 0 1 1 0 1 0 0 1 0 0 1 0 0 0 0 1 1\n",
      " 0 0 0 0 0 1 1 0 1 1 0 0 0 1 1 1 1 0 0 0 0 1 0 1 0 0 0 0 0 0 0 0 1 0 0 0 0\n",
      " 1 1 1 0 0 0 0 1 0 0 0 1 0 0 0 0 0 0 0 0 0 1 0 0 1 0 0 1 0 0 0 0 0 1 0 0 1\n",
      " 0 0 1 0 1 0 0 1 0 0 1 0 0 0 0 0 0 0 1 0 0 1 0 1 0 0 0 1 0 0 0 1 0 0 0 0 1\n",
      " 0 0 1 0 0 1 1 0 0 0 0 0 0 0 0 0 0 0 0 0 0 0 1 0 1 0 1 1 0 0 1 0 0 0 0 0 0\n",
      " 1 0 0 0 0 1 0 0 1 0 0 0 0 0 0 0 0 0 1 0 0 1 0 0 1 0 0 0 0 1 0 0 0 0 1 0 0\n",
      " 0 1 1 0 0 0 0 0 1 0 1 0 0 0 0 0 0 1 1 0 1 0 0 0 0 0 0 0 1 1 0 0 0 1 0 0 1\n",
      " 0 1 0 0 0 0 0 0 0 0 0 1 0 0 1 0 0 0 0 0 0 0 0 0 0 1 0 0 0 0 0 0 0 0 0 0 1\n",
      " 0 0 0 1 0 0 1 0 1 0 0 0 1 0 0 0 0 1 1 0 0 0 0 0 0 1 0 0 0 0 0 0 0 0 1 1 0\n",
      " 0 0 0 0 0 1 0 0 0 0 0 0 0 0 0 0 0 1 0 0 0 1 1 0 1 0 0 1 1 0 1 1 0 0 0 0 0\n",
      " 0 0 0 0 0 0 1 0 0 0 0 0 0 1 0 0 0 0 0 0 0 0 0 0 1 0 0 0 0 1 0 1 0 1 0 1 0\n",
      " 1 0 0 1 0 0 1 0 0 0 0 1 1 0 1 0 0 0 0 1 1 0 1 0 0 0 1 0 0 0 1 0 0 0 0 0 0\n",
      " 0 0 0 0 0 0 0 0 0 0 0 0 0 0 0 0 0 0 1 1 0 0 0 0 0 0 1 0 0 0 0 1 1 1 1 0 0\n",
      " 0 0 0 0 1 0 0 0 0 1 1 0 0 0 0 1 0 0 0 0 0 0 0 1 0 1 0 1 0 1 1 0 0 0 0 0 1\n",
      " 1 0 0 0 0 1 0 0 0 1 0 0 1 1 0 0 0 0 0 1 0 0 0 0 0 0 0 0 0 1 0 0 0 0 0 0 0\n",
      " 1 0 0 1 1 0 1 0 1 1 1 0 0 1 1 1 0 1 0 1 0 1 0 0 0 0 0 0]\n",
      "[[0.37205768 0.6279424 ]\n",
      " [0.8333837  0.1666164 ]\n",
      " [0.35679165 0.6432084 ]\n",
      " ...\n",
      " [0.77509916 0.22490077]\n",
      " [0.522628   0.477372  ]\n",
      " [0.8550935  0.14490657]]\n"
     ]
    }
   ],
   "source": [
    "import sys\n",
    "import json\n",
    "from azureml.automl.core.onnx_convert import OnnxConvertConstants\n",
    "from azureml.train.automl import constants\n",
    "\n",
    "if sys.version_info < OnnxConvertConstants.OnnxIncompatiblePythonVersion:\n",
    "    python_version_compatible = True\n",
    "else:\n",
    "    python_version_compatible = False\n",
    "\n",
    "import onnxruntime\n",
    "from azureml.automl.runtime.onnx_convert import OnnxInferenceHelper\n",
    "\n",
    "def get_onnx_res(run):\n",
    "    res_path = 'onnx_resource.json'\n",
    "    run.download_file(name=constants.MODEL_RESOURCE_PATH_ONNX, output_file_path=res_path)\n",
    "    with open(res_path) as f:\n",
    "        onnx_res = json.load(f)\n",
    "    return onnx_res\n",
    "\n",
    "if python_version_compatible:\n",
    "    test_df = test_dataset.to_pandas_dataframe()\n",
    "    mdl_bytes = onnx_mdl.SerializeToString()\n",
    "    onnx_res = get_onnx_res(best_run)\n",
    "\n",
    "    onnxrt_helper = OnnxInferenceHelper(mdl_bytes, onnx_res)\n",
    "    pred_onnx, pred_prob_onnx = onnxrt_helper.predict(test_df)\n",
    "\n",
    "    print(pred_onnx)\n",
    "    print(pred_prob_onnx)\n",
    "else:\n",
    "    print('Please use Python version 3.6 or 3.7 to run the inference helper.')"
   ]
  },
  {
   "cell_type": "markdown",
   "metadata": {},
   "source": [
    "## Deploy\n",
    "\n",
    "### Retrieve the Best Model\n",
    "\n",
    "Below we select the best pipeline from our iterations.  The `get_output` method returns the best run and the fitted model. Overloads on `get_output` allow you to retrieve the best run and fitted model for *any* logged metric or for a particular *iteration*."
   ]
  },
  {
   "cell_type": "markdown",
   "metadata": {},
   "source": [
    "#### Widget for Monitoring Runs\n",
    "\n",
    "The widget will first report a \"loading\" status while running the first iteration. After completing the first iteration, an auto-updating graph and table will be shown. The widget will refresh once per minute, so you should see the graph update as child runs complete.\n",
    "\n",
    "**Note:** The widget displays a link at the bottom. Use this link to open a web interface to explore the individual run details"
   ]
  },
  {
   "cell_type": "code",
   "execution_count": 27,
   "metadata": {},
   "outputs": [],
   "source": [
    "best_run, fitted_model = remote_run.get_output()"
   ]
  },
  {
   "cell_type": "code",
   "execution_count": 43,
   "metadata": {},
   "outputs": [],
   "source": [
    "model_name = best_run.properties['model_name']\n",
    "\n",
    "script_file_name = 'inference/score.py'\n",
    "\n",
    "best_run.download_file('outputs/scoring_file_v_1_0_0.py', 'inference/score.py', 'outputs/conda_env_v_1_0_0.yml')"
   ]
  },
  {
   "cell_type": "code",
   "execution_count": 44,
   "metadata": {},
   "outputs": [
    {
     "name": "stdout",
     "output_type": "stream",
     "text": [
      "AutoML4deb26e6e36\n"
     ]
    }
   ],
   "source": [
    "description = 'AutoML Model trained on bank marketing data to predict if a client will subscribe to a term deposit'\n",
    "tags = None\n",
    "model = remote_run.register_model(model_name = model_name, description = description, tags = tags)\n",
    "\n",
    "print(remote_run.model_id) # This will be written to the script file later in the notebook."
   ]
  },
  {
   "cell_type": "markdown",
   "metadata": {},
   "source": [
    "### Deploy the model as a Web Service on Azure Container Instance"
   ]
  },
  {
   "cell_type": "code",
   "execution_count": 46,
   "metadata": {},
   "outputs": [
    {
     "name": "stdout",
     "output_type": "stream",
     "text": [
      "automl-sample-bankmarketing-all2\n",
      "Tips: You can try get_logs(): https://aka.ms/debugimage#dockerlog or local deployment: https://aka.ms/debugimage#debug-locally to debug if deployment takes longer than 10 minutes.\n",
      "Running................................................\n",
      "Succeeded\n",
      "ACI service creation operation finished, operation \"Succeeded\"\n",
      "Healthy\n"
     ]
    }
   ],
   "source": [
    "from azureml.core.model import InferenceConfig\n",
    "from azureml.core.webservice import AciWebservice\n",
    "from azureml.core.webservice import Webservice\n",
    "from azureml.core.model import Model\n",
    "from azureml.core.environment import Environment\n",
    "\n",
    "inference_config = InferenceConfig(entry_script=script_file_name, environment=best_run.get_environment())\n",
    "\n",
    "aciconfig = AciWebservice.deploy_configuration(cpu_cores = 1, \n",
    "                                               memory_gb = 1, \n",
    "                                               tags = {'area': \"bmData\", 'type': \"automl_classification\"}, \n",
    "                                               description = 'sample service for Automl Classification')\n",
    "\n",
    "aci_service_name = 'automl-sample-bankmarketing-all2'\n",
    "print(aci_service_name)\n",
    "aci_service = Model.deploy(ws, aci_service_name, [model], inference_config, aciconfig)\n",
    "aci_service.wait_for_deployment(True)\n",
    "print(aci_service.state)"
   ]
  },
  {
   "cell_type": "code",
   "execution_count": 31,
   "metadata": {},
   "outputs": [],
   "source": [
    "# Load the bank marketing datasets.\n",
    "from numpy import array"
   ]
  },
  {
   "cell_type": "code",
   "execution_count": 32,
   "metadata": {},
   "outputs": [
    {
     "data": {
      "text/html": [
       "<div>\n",
       "<style scoped>\n",
       "    .dataframe tbody tr th:only-of-type {\n",
       "        vertical-align: middle;\n",
       "    }\n",
       "\n",
       "    .dataframe tbody tr th {\n",
       "        vertical-align: top;\n",
       "    }\n",
       "\n",
       "    .dataframe thead th {\n",
       "        text-align: right;\n",
       "    }\n",
       "</style>\n",
       "<table border=\"1\" class=\"dataframe\">\n",
       "  <thead>\n",
       "    <tr style=\"text-align: right;\">\n",
       "      <th></th>\n",
       "      <th>Pregnancies</th>\n",
       "      <th>Glucose</th>\n",
       "      <th>BloodPressure</th>\n",
       "      <th>SkinThickness</th>\n",
       "      <th>Insulin</th>\n",
       "      <th>BMI</th>\n",
       "      <th>DiabetesPedigreeFunction</th>\n",
       "      <th>Age</th>\n",
       "      <th>Outcome</th>\n",
       "    </tr>\n",
       "  </thead>\n",
       "  <tbody>\n",
       "    <tr>\n",
       "      <th>0</th>\n",
       "      <td>6</td>\n",
       "      <td>148</td>\n",
       "      <td>72</td>\n",
       "      <td>35</td>\n",
       "      <td>0</td>\n",
       "      <td>33.60</td>\n",
       "      <td>0.63</td>\n",
       "      <td>50</td>\n",
       "      <td>1</td>\n",
       "    </tr>\n",
       "    <tr>\n",
       "      <th>1</th>\n",
       "      <td>1</td>\n",
       "      <td>85</td>\n",
       "      <td>66</td>\n",
       "      <td>29</td>\n",
       "      <td>0</td>\n",
       "      <td>26.60</td>\n",
       "      <td>0.35</td>\n",
       "      <td>31</td>\n",
       "      <td>0</td>\n",
       "    </tr>\n",
       "    <tr>\n",
       "      <th>2</th>\n",
       "      <td>8</td>\n",
       "      <td>183</td>\n",
       "      <td>64</td>\n",
       "      <td>0</td>\n",
       "      <td>0</td>\n",
       "      <td>23.30</td>\n",
       "      <td>0.67</td>\n",
       "      <td>32</td>\n",
       "      <td>1</td>\n",
       "    </tr>\n",
       "    <tr>\n",
       "      <th>3</th>\n",
       "      <td>1</td>\n",
       "      <td>89</td>\n",
       "      <td>66</td>\n",
       "      <td>23</td>\n",
       "      <td>94</td>\n",
       "      <td>28.10</td>\n",
       "      <td>0.17</td>\n",
       "      <td>21</td>\n",
       "      <td>0</td>\n",
       "    </tr>\n",
       "    <tr>\n",
       "      <th>4</th>\n",
       "      <td>0</td>\n",
       "      <td>137</td>\n",
       "      <td>40</td>\n",
       "      <td>35</td>\n",
       "      <td>168</td>\n",
       "      <td>43.10</td>\n",
       "      <td>2.29</td>\n",
       "      <td>33</td>\n",
       "      <td>1</td>\n",
       "    </tr>\n",
       "  </tbody>\n",
       "</table>\n",
       "</div>"
      ],
      "text/plain": [
       "   Pregnancies  Glucose  BloodPressure  SkinThickness  Insulin   BMI  \\\n",
       "0  6            148      72             35             0       33.60   \n",
       "1  1            85       66             29             0       26.60   \n",
       "2  8            183      64             0              0       23.30   \n",
       "3  1            89       66             23             94      28.10   \n",
       "4  0            137      40             35             168     43.10   \n",
       "\n",
       "   DiabetesPedigreeFunction  Age  Outcome  \n",
       "0 0.63                       50   1        \n",
       "1 0.35                       31   0        \n",
       "2 0.67                       32   1        \n",
       "3 0.17                       21   0        \n",
       "4 2.29                       33   1        "
      ]
     },
     "execution_count": 32,
     "metadata": {},
     "output_type": "execute_result"
    }
   ],
   "source": [
    "X_test = test_dataset.drop_columns(columns=['Outcome'])\n",
    "y_test = test_dataset.keep_columns(columns=['Outcome'], validate=True)\n",
    "test_dataset.take(5).to_pandas_dataframe()"
   ]
  },
  {
   "cell_type": "code",
   "execution_count": 33,
   "metadata": {},
   "outputs": [],
   "source": [
    "df = X_test.to_pandas_dataframe()"
   ]
  },
  {
   "cell_type": "code",
   "execution_count": 34,
   "metadata": {},
   "outputs": [
    {
     "name": "stdout",
     "output_type": "stream",
     "text": [
      "{\"result\": [1, 0, 1, 0]}\n"
     ]
    }
   ],
   "source": [
    "#Import Json requests and test the webservice\n",
    "import json\n",
    "data= ({'data':df[0:4].to_dict(orient='records')})\n",
    "test_sample=json.dumps(data)\n",
    "output= aci_service.run(test_sample)\n",
    "print(output)"
   ]
  },
  {
   "cell_type": "code",
   "execution_count": null,
   "metadata": {},
   "outputs": [],
   "source": [
    "aci_service.get_logs()\n",
    "aci.service.delete()"
   ]
  }
 ],
 "metadata": {
  "authors": [
   {
    "name": "ratanase"
   }
  ],
  "categories": [
   "how-to-use-azureml",
   "automated-machine-learning"
  ],
  "category": "tutorial",
  "compute": [
   "AML"
  ],
  "datasets": [
   "Bankmarketing"
  ],
  "deployment": [
   "ACI"
  ],
  "exclude_from_index": false,
  "framework": [
   "None"
  ],
  "friendly_name": "Automated ML run with basic edition features.",
  "index_order": 5,
  "kernelspec": {
   "display_name": "Python 3.6 - AzureML",
   "language": "python",
   "name": "python3-azureml"
  },
  "language_info": {
   "codemirror_mode": {
    "name": "ipython",
    "version": 3
   },
   "file_extension": ".py",
   "mimetype": "text/x-python",
   "name": "python",
   "nbconvert_exporter": "python",
   "pygments_lexer": "ipython3",
   "version": "3.6.9"
  },
  "tags": [
   "featurization",
   "explainability",
   "remote_run",
   "AutomatedML"
  ],
  "task": "Classification"
 },
 "nbformat": 4,
 "nbformat_minor": 2
}
