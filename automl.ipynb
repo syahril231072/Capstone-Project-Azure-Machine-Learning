{
 "cells": [
  {
   "cell_type": "markdown",
   "metadata": {},
   "source": [
    "![Impressions](https://PixelServer20190423114238.azurewebsites.net/api/impressions/NotebookVM/how-to-use-azureml/automated-machine-learning/classification-bank-marketing-all-features/auto-ml-classification-bank-marketing.png)"
   ]
  },
  {
   "cell_type": "code",
   "execution_count": 1,
   "metadata": {},
   "outputs": [],
   "source": [
    "import logging\n",
    "\n",
    "from matplotlib import pyplot as plt\n",
    "import pandas as pd\n",
    "import os\n",
    "\n",
    "import azureml.core\n",
    "from azureml.core.experiment import Experiment\n",
    "from azureml.core.workspace import Workspace\n",
    "from azureml.automl.core.featurization import FeaturizationConfig\n",
    "from azureml.core.dataset import Dataset\n",
    "from azureml.train.automl import AutoMLConfig\n",
    "from azureml.interpret import ExplanationClient"
   ]
  },
  {
   "cell_type": "code",
   "execution_count": 2,
   "metadata": {},
   "outputs": [
    {
     "name": "stdout",
     "output_type": "stream",
     "text": [
      "This notebook was created using version 1.19.0 of the Azure ML SDK\n",
      "You are currently using version 1.19.0 of the Azure ML SDK\n"
     ]
    }
   ],
   "source": [
    "print(\"This notebook was created using version 1.19.0 of the Azure ML SDK\")\n",
    "print(\"You are currently using version\", azureml.core.VERSION, \"of the Azure ML SDK\")"
   ]
  },
  {
   "cell_type": "code",
   "execution_count": 3,
   "metadata": {},
   "outputs": [
    {
     "data": {
      "text/html": [
       "<div>\n",
       "<style scoped>\n",
       "    .dataframe tbody tr th:only-of-type {\n",
       "        vertical-align: middle;\n",
       "    }\n",
       "\n",
       "    .dataframe tbody tr th {\n",
       "        vertical-align: top;\n",
       "    }\n",
       "\n",
       "    .dataframe thead th {\n",
       "        text-align: right;\n",
       "    }\n",
       "</style>\n",
       "<table border=\"1\" class=\"dataframe\">\n",
       "  <thead>\n",
       "    <tr style=\"text-align: right;\">\n",
       "      <th></th>\n",
       "      <th></th>\n",
       "    </tr>\n",
       "  </thead>\n",
       "  <tbody>\n",
       "    <tr>\n",
       "      <th>Subscription ID</th>\n",
       "      <td>f39cb977-6a3a-445b-a26a-b9a791c5fd89</td>\n",
       "    </tr>\n",
       "    <tr>\n",
       "      <th>Workspace</th>\n",
       "      <td>quick-starts-ws-130187</td>\n",
       "    </tr>\n",
       "    <tr>\n",
       "      <th>Resource Group</th>\n",
       "      <td>aml-quickstarts-130187</td>\n",
       "    </tr>\n",
       "    <tr>\n",
       "      <th>Location</th>\n",
       "      <td>southcentralus</td>\n",
       "    </tr>\n",
       "    <tr>\n",
       "      <th>Experiment Name</th>\n",
       "      <td>automl-classification-bmarketing-all</td>\n",
       "    </tr>\n",
       "  </tbody>\n",
       "</table>\n",
       "</div>"
      ],
      "text/plain": [
       "                                                     \n",
       "Subscription ID  f39cb977-6a3a-445b-a26a-b9a791c5fd89\n",
       "Workspace        quick-starts-ws-130187              \n",
       "Resource Group   aml-quickstarts-130187              \n",
       "Location         southcentralus                      \n",
       "Experiment Name  automl-classification-bmarketing-all"
      ]
     },
     "execution_count": 3,
     "metadata": {},
     "output_type": "execute_result"
    }
   ],
   "source": [
    "ws = Workspace.from_config()\n",
    "\n",
    "# choose a name for experiment\n",
    "experiment_name = 'automl-classification-bmarketing-all'\n",
    "\n",
    "experiment=Experiment(ws, experiment_name)\n",
    "\n",
    "output = {}\n",
    "output['Subscription ID'] = ws.subscription_id\n",
    "output['Workspace'] = ws.name\n",
    "output['Resource Group'] = ws.resource_group\n",
    "output['Location'] = ws.location\n",
    "output['Experiment Name'] = experiment.name\n",
    "pd.set_option('display.max_colwidth', -1)\n",
    "outputDf = pd.DataFrame(data = output, index = [''])\n",
    "outputDf.T"
   ]
  },
  {
   "cell_type": "code",
   "execution_count": 4,
   "metadata": {},
   "outputs": [
    {
     "name": "stdout",
     "output_type": "stream",
     "text": [
      "Creating\n",
      "Succeeded\n",
      "AmlCompute wait for completion finished\n",
      "\n",
      "Minimum number of nodes requested have been provisioned\n"
     ]
    }
   ],
   "source": [
    "from azureml.core.compute import ComputeTarget, AmlCompute\n",
    "from azureml.core.compute_target import ComputeTargetException\n",
    "\n",
    "# Choose a name for your CPU cluster\n",
    "cpu_cluster_name = \"cpu-cluster-4\"\n",
    "\n",
    "# Verify that cluster does not exist already\n",
    "try:\n",
    "    compute_target = ComputeTarget(workspace=ws, name=cpu_cluster_name)\n",
    "    print('Found existing cluster, use it.')\n",
    "except ComputeTargetException:\n",
    "    compute_config = AmlCompute.provisioning_configuration(vm_size='STANDARD_D2_V2',\n",
    "                                                           max_nodes=6)\n",
    "    compute_target = ComputeTarget.create(ws, cpu_cluster_name, compute_config)\n",
    "\n",
    "compute_target.wait_for_completion(show_output=True)"
   ]
  },
  {
   "cell_type": "code",
   "execution_count": 9,
   "metadata": {},
   "outputs": [],
   "source": [
    "from azureml.core.environment import CondaDependencies\n",
    "myenv = Environment(name=\"myenv\")\n",
    "cd = CondaDependencies()\n",
    "cd.add_conda_package('skicit-learn')\n"
   ]
  },
  {
   "cell_type": "markdown",
   "metadata": {},
   "source": [
    "### Training Data"
   ]
  },
  {
   "cell_type": "code",
   "execution_count": 10,
   "metadata": {},
   "outputs": [
    {
     "data": {
      "text/html": [
       "<div>\n",
       "<style scoped>\n",
       "    .dataframe tbody tr th:only-of-type {\n",
       "        vertical-align: middle;\n",
       "    }\n",
       "\n",
       "    .dataframe tbody tr th {\n",
       "        vertical-align: top;\n",
       "    }\n",
       "\n",
       "    .dataframe thead th {\n",
       "        text-align: right;\n",
       "    }\n",
       "</style>\n",
       "<table border=\"1\" class=\"dataframe\">\n",
       "  <thead>\n",
       "    <tr style=\"text-align: right;\">\n",
       "      <th></th>\n",
       "      <th>Pregnancies</th>\n",
       "      <th>Glucose</th>\n",
       "      <th>BloodPressure</th>\n",
       "      <th>SkinThickness</th>\n",
       "      <th>Insulin</th>\n",
       "      <th>BMI</th>\n",
       "      <th>DiabetesPedigreeFunction</th>\n",
       "      <th>Age</th>\n",
       "      <th>Outcome</th>\n",
       "    </tr>\n",
       "  </thead>\n",
       "  <tbody>\n",
       "    <tr>\n",
       "      <th>0</th>\n",
       "      <td>6</td>\n",
       "      <td>148</td>\n",
       "      <td>72</td>\n",
       "      <td>35</td>\n",
       "      <td>0</td>\n",
       "      <td>33.6</td>\n",
       "      <td>0.627</td>\n",
       "      <td>50</td>\n",
       "      <td>1</td>\n",
       "    </tr>\n",
       "    <tr>\n",
       "      <th>1</th>\n",
       "      <td>1</td>\n",
       "      <td>85</td>\n",
       "      <td>66</td>\n",
       "      <td>29</td>\n",
       "      <td>0</td>\n",
       "      <td>26.6</td>\n",
       "      <td>0.351</td>\n",
       "      <td>31</td>\n",
       "      <td>0</td>\n",
       "    </tr>\n",
       "    <tr>\n",
       "      <th>2</th>\n",
       "      <td>8</td>\n",
       "      <td>183</td>\n",
       "      <td>64</td>\n",
       "      <td>0</td>\n",
       "      <td>0</td>\n",
       "      <td>23.3</td>\n",
       "      <td>0.672</td>\n",
       "      <td>32</td>\n",
       "      <td>1</td>\n",
       "    </tr>\n",
       "    <tr>\n",
       "      <th>3</th>\n",
       "      <td>1</td>\n",
       "      <td>89</td>\n",
       "      <td>66</td>\n",
       "      <td>23</td>\n",
       "      <td>94</td>\n",
       "      <td>28.1</td>\n",
       "      <td>0.167</td>\n",
       "      <td>21</td>\n",
       "      <td>0</td>\n",
       "    </tr>\n",
       "    <tr>\n",
       "      <th>4</th>\n",
       "      <td>0</td>\n",
       "      <td>137</td>\n",
       "      <td>40</td>\n",
       "      <td>35</td>\n",
       "      <td>168</td>\n",
       "      <td>43.1</td>\n",
       "      <td>2.288</td>\n",
       "      <td>33</td>\n",
       "      <td>1</td>\n",
       "    </tr>\n",
       "  </tbody>\n",
       "</table>\n",
       "</div>"
      ],
      "text/plain": [
       "   Pregnancies  Glucose  BloodPressure  SkinThickness  Insulin   BMI  \\\n",
       "0  6            148      72             35             0        33.6   \n",
       "1  1            85       66             29             0        26.6   \n",
       "2  8            183      64             0              0        23.3   \n",
       "3  1            89       66             23             94       28.1   \n",
       "4  0            137      40             35             168      43.1   \n",
       "\n",
       "   DiabetesPedigreeFunction  Age  Outcome  \n",
       "0  0.627                     50   1        \n",
       "1  0.351                     31   0        \n",
       "2  0.672                     32   1        \n",
       "3  0.167                     21   0        \n",
       "4  2.288                     33   1        "
      ]
     },
     "execution_count": 10,
     "metadata": {},
     "output_type": "execute_result"
    }
   ],
   "source": [
    "url = \"https://github.com/syahril231072/foree/raw/main/Diabetes.csv\"\n",
    "data = pd.read_csv(url, sep=',', header=0, encoding= 'unicode_escape')\n",
    "\n",
    "data.head()"
   ]
  },
  {
   "cell_type": "code",
   "execution_count": 11,
   "metadata": {},
   "outputs": [],
   "source": [
    "# Add missing values in 75% of the lines.\n",
    "import numpy as np\n",
    "\n",
    "missing_rate = 0.75\n",
    "n_missing_samples = int(np.floor(data.shape[0] * missing_rate))\n",
    "missing_samples = np.hstack((np.zeros(data.shape[0] - n_missing_samples, dtype=np.bool), np.ones(n_missing_samples, dtype=np.bool)))\n",
    "rng = np.random.RandomState(0)\n",
    "rng.shuffle(missing_samples)\n",
    "missing_features = rng.randint(0, data.shape[1], n_missing_samples)\n",
    "data.values[np.where(missing_samples)[0], missing_features] = np.nan"
   ]
  },
  {
   "cell_type": "code",
   "execution_count": 12,
   "metadata": {},
   "outputs": [
    {
     "name": "stdout",
     "output_type": "stream",
     "text": [
      "Uploading an estimated of 1 files\n",
      "Uploading ./data/train_data.csv\n",
      "Uploaded ./data/train_data.csv, 1 files out of an estimated total of 1\n",
      "Uploaded 1 files\n"
     ]
    }
   ],
   "source": [
    "if not os.path.isdir('data'):\n",
    "    os.mkdir('data')\n",
    "    \n",
    "# Save the train data to a csv to be uploaded to the datastore\n",
    "pd.DataFrame(data).to_csv(\"data/train_data.csv\", index=False)\n",
    "\n",
    "ds = ws.get_default_datastore()\n",
    "ds.upload(src_dir='./data', target_path='bankmarketing', overwrite=True, show_progress=True)\n",
    "\n",
    " \n",
    "\n",
    "# Upload the training data as a tabular dataset for access during training on remote compute\n",
    "train_data = Dataset.Tabular.from_delimited_files(path=ds.path('bankmarketing/train_data.csv'))\n",
    "label = \"Outcome\""
   ]
  },
  {
   "cell_type": "markdown",
   "metadata": {},
   "source": [
    "### Test Data"
   ]
  },
  {
   "cell_type": "code",
   "execution_count": 13,
   "metadata": {},
   "outputs": [],
   "source": [
    "ws = Workspace.get(\"quick-starts-ws-130187\")\n",
    "test_dataset = Dataset.get_by_name(ws, name = \"loan\")"
   ]
  },
  {
   "cell_type": "code",
   "execution_count": 14,
   "metadata": {},
   "outputs": [],
   "source": [
    "automl_settings = {\n",
    "    \"experiment_timeout_hours\" : 0.3,\n",
    "    \"enable_early_stopping\" : True,\n",
    "    \"iteration_timeout_minutes\": 5,\n",
    "    \"max_concurrent_iterations\": 4,\n",
    "    \"max_cores_per_iteration\": -1,\n",
    "    #\"n_cross_validations\": 2,\n",
    "    \"primary_metric\": 'AUC_weighted',\n",
    "    \"featurization\": 'auto',\n",
    "    \"verbosity\": logging.INFO,\n",
    "}\n",
    "\n",
    "automl_config = AutoMLConfig(task = 'classification',\n",
    "                             debug_log = 'automl_errors.log',\n",
    "                             compute_target=compute_target,\n",
    "                             experiment_exit_score = 0.9984,\n",
    "                             blocked_models = ['KNN','LinearSVM'],\n",
    "                             enable_onnx_compatible_models=True,\n",
    "                             training_data = train_data,\n",
    "                             label_column_name = label,\n",
    "                             **automl_settings\n",
    "                            )"
   ]
  },
  {
   "cell_type": "code",
   "execution_count": 15,
   "metadata": {},
   "outputs": [
    {
     "name": "stdout",
     "output_type": "stream",
     "text": [
      "Running on remote.\n"
     ]
    }
   ],
   "source": [
    "\n",
    "remote_run = experiment.submit(automl_config, show_output = False)"
   ]
  },
  {
   "cell_type": "code",
   "execution_count": 16,
   "metadata": {},
   "outputs": [
    {
     "data": {
      "text/html": [
       "<table style=\"width:100%\"><tr><th>Experiment</th><th>Id</th><th>Type</th><th>Status</th><th>Details Page</th><th>Docs Page</th></tr><tr><td>automl-classification-bmarketing-all</td><td>AutoML_f5a3962b-1f71-426e-a4a7-d48ab7902807</td><td>automl</td><td>NotStarted</td><td><a href=\"https://ml.azure.com/experiments/automl-classification-bmarketing-all/runs/AutoML_f5a3962b-1f71-426e-a4a7-d48ab7902807?wsid=/subscriptions/f39cb977-6a3a-445b-a26a-b9a791c5fd89/resourcegroups/aml-quickstarts-130187/workspaces/quick-starts-ws-130187\" target=\"_blank\" rel=\"noopener\">Link to Azure Machine Learning studio</a></td><td><a href=\"https://docs.microsoft.com/en-us/python/api/overview/azure/ml/intro?view=azure-ml-py\" target=\"_blank\" rel=\"noopener\">Link to Documentation</a></td></tr></table>"
      ],
      "text/plain": [
       "Run(Experiment: automl-classification-bmarketing-all,\n",
       "Id: AutoML_f5a3962b-1f71-426e-a4a7-d48ab7902807,\n",
       "Type: automl,\n",
       "Status: NotStarted)"
      ]
     },
     "execution_count": 16,
     "metadata": {},
     "output_type": "execute_result"
    }
   ],
   "source": [
    "remote_run"
   ]
  },
  {
   "cell_type": "code",
   "execution_count": 17,
   "metadata": {},
   "outputs": [
    {
     "data": {
      "text/plain": [
       "{'runId': 'AutoML_f5a3962b-1f71-426e-a4a7-d48ab7902807',\n",
       " 'target': 'cpu-cluster-4',\n",
       " 'status': 'Completed',\n",
       " 'startTimeUtc': '2020-12-12T06:54:23.358012Z',\n",
       " 'endTimeUtc': '2020-12-12T07:19:39.979657Z',\n",
       " 'properties': {'num_iterations': '1000',\n",
       "  'training_type': 'TrainFull',\n",
       "  'acquisition_function': 'EI',\n",
       "  'primary_metric': 'AUC_weighted',\n",
       "  'train_split': '0',\n",
       "  'acquisition_parameter': '0',\n",
       "  'num_cross_validation': None,\n",
       "  'target': 'cpu-cluster-4',\n",
       "  'AMLSettingsJsonString': '{\"path\":null,\"name\":\"automl-classification-bmarketing-all\",\"subscription_id\":\"f39cb977-6a3a-445b-a26a-b9a791c5fd89\",\"resource_group\":\"aml-quickstarts-130187\",\"workspace_name\":\"quick-starts-ws-130187\",\"region\":\"southcentralus\",\"compute_target\":\"cpu-cluster-4\",\"spark_service\":null,\"azure_service\":\"remote\",\"many_models\":false,\"pipeline_fetch_max_batch_size\":1,\"iterations\":1000,\"primary_metric\":\"AUC_weighted\",\"task_type\":\"classification\",\"data_script\":null,\"validation_size\":0.0,\"n_cross_validations\":null,\"y_min\":null,\"y_max\":null,\"num_classes\":null,\"featurization\":\"auto\",\"_ignore_package_version_incompatibilities\":false,\"is_timeseries\":false,\"max_cores_per_iteration\":-1,\"max_concurrent_iterations\":4,\"iteration_timeout_minutes\":5,\"mem_in_mb\":null,\"enforce_time_on_windows\":false,\"experiment_timeout_minutes\":18,\"experiment_exit_score\":0.9984,\"whitelist_models\":null,\"blacklist_algos\":[\"KNN\",\"LinearSVM\",\"TensorFlowLinearClassifier\",\"TensorFlowDNN\"],\"supported_models\":[\"BernoulliNaiveBayes\",\"AveragedPerceptronClassifier\",\"LightGBM\",\"DecisionTree\",\"RandomForest\",\"LogisticRegression\",\"XGBoostClassifier\",\"SVM\",\"TensorFlowLinearClassifier\",\"MultinomialNaiveBayes\",\"TensorFlowDNN\",\"ExtremeRandomTrees\",\"SGD\",\"LinearSVM\",\"KNN\",\"GradientBoosting\"],\"auto_blacklist\":true,\"blacklist_samples_reached\":false,\"exclude_nan_labels\":true,\"verbosity\":20,\"_debug_log\":\"azureml_automl.log\",\"show_warnings\":false,\"model_explainability\":true,\"service_url\":null,\"sdk_url\":null,\"sdk_packages\":null,\"enable_onnx_compatible_models\":true,\"enable_split_onnx_featurizer_estimator_models\":false,\"vm_type\":\"STANDARD_D2_V2\",\"telemetry_verbosity\":20,\"send_telemetry\":true,\"enable_dnn\":false,\"scenario\":\"SDK-1.13.0\",\"environment_label\":null,\"force_text_dnn\":false,\"enable_feature_sweeping\":false,\"enable_early_stopping\":true,\"early_stopping_n_iters\":10,\"metrics\":null,\"enable_ensembling\":true,\"enable_stack_ensembling\":false,\"ensemble_iterations\":15,\"enable_tf\":false,\"enable_subsampling\":null,\"subsample_seed\":null,\"enable_nimbusml\":false,\"enable_streaming\":false,\"force_streaming\":false,\"track_child_runs\":true,\"allowed_private_models\":[],\"label_column_name\":\"Outcome\",\"weight_column_name\":null,\"cv_split_column_names\":null,\"enable_local_managed\":false,\"_local_managed_run_id\":null,\"cost_mode\":1,\"lag_length\":0,\"metric_operation\":\"maximize\",\"preprocess\":true}',\n",
       "  'DataPrepJsonString': '{\\\\\"training_data\\\\\": \\\\\"{\\\\\\\\\\\\\"blocks\\\\\\\\\\\\\": [{\\\\\\\\\\\\\"id\\\\\\\\\\\\\": \\\\\\\\\\\\\"c6dce174-a4be-47fb-8a7d-624aab488883\\\\\\\\\\\\\", \\\\\\\\\\\\\"type\\\\\\\\\\\\\": \\\\\\\\\\\\\"Microsoft.DPrep.GetDatastoreFilesBlock\\\\\\\\\\\\\", \\\\\\\\\\\\\"arguments\\\\\\\\\\\\\": {\\\\\\\\\\\\\"datastores\\\\\\\\\\\\\": [{\\\\\\\\\\\\\"datastoreName\\\\\\\\\\\\\": \\\\\\\\\\\\\"workspaceblobstore\\\\\\\\\\\\\", \\\\\\\\\\\\\"path\\\\\\\\\\\\\": \\\\\\\\\\\\\"bankmarketing/train_data.csv\\\\\\\\\\\\\", \\\\\\\\\\\\\"resourceGroup\\\\\\\\\\\\\": \\\\\\\\\\\\\"aml-quickstarts-130187\\\\\\\\\\\\\", \\\\\\\\\\\\\"subscription\\\\\\\\\\\\\": \\\\\\\\\\\\\"f39cb977-6a3a-445b-a26a-b9a791c5fd89\\\\\\\\\\\\\", \\\\\\\\\\\\\"workspaceName\\\\\\\\\\\\\": \\\\\\\\\\\\\"quick-starts-ws-130187\\\\\\\\\\\\\"}]}, \\\\\\\\\\\\\"localData\\\\\\\\\\\\\": {}, \\\\\\\\\\\\\"isEnabled\\\\\\\\\\\\\": true, \\\\\\\\\\\\\"name\\\\\\\\\\\\\": null, \\\\\\\\\\\\\"annotation\\\\\\\\\\\\\": null}, {\\\\\\\\\\\\\"id\\\\\\\\\\\\\": \\\\\\\\\\\\\"64f51ce2-eeb2-4692-be04-462b31c3b807\\\\\\\\\\\\\", \\\\\\\\\\\\\"type\\\\\\\\\\\\\": \\\\\\\\\\\\\"Microsoft.DPrep.ParseDelimitedBlock\\\\\\\\\\\\\", \\\\\\\\\\\\\"arguments\\\\\\\\\\\\\": {\\\\\\\\\\\\\"columnHeadersMode\\\\\\\\\\\\\": 3, \\\\\\\\\\\\\"fileEncoding\\\\\\\\\\\\\": 0, \\\\\\\\\\\\\"handleQuotedLineBreaks\\\\\\\\\\\\\": false, \\\\\\\\\\\\\"preview\\\\\\\\\\\\\": false, \\\\\\\\\\\\\"separator\\\\\\\\\\\\\": \\\\\\\\\\\\\",\\\\\\\\\\\\\", \\\\\\\\\\\\\"skipRows\\\\\\\\\\\\\": 0, \\\\\\\\\\\\\"skipRowsMode\\\\\\\\\\\\\": 0}, \\\\\\\\\\\\\"localData\\\\\\\\\\\\\": {}, \\\\\\\\\\\\\"isEnabled\\\\\\\\\\\\\": true, \\\\\\\\\\\\\"name\\\\\\\\\\\\\": null, \\\\\\\\\\\\\"annotation\\\\\\\\\\\\\": null}, {\\\\\\\\\\\\\"id\\\\\\\\\\\\\": \\\\\\\\\\\\\"67bf6227-d76f-4217-954d-50570f97e93c\\\\\\\\\\\\\", \\\\\\\\\\\\\"type\\\\\\\\\\\\\": \\\\\\\\\\\\\"Microsoft.DPrep.DropColumnsBlock\\\\\\\\\\\\\", \\\\\\\\\\\\\"arguments\\\\\\\\\\\\\": {\\\\\\\\\\\\\"columns\\\\\\\\\\\\\": {\\\\\\\\\\\\\"type\\\\\\\\\\\\\": 0, \\\\\\\\\\\\\"details\\\\\\\\\\\\\": {\\\\\\\\\\\\\"selectedColumns\\\\\\\\\\\\\": [\\\\\\\\\\\\\"Path\\\\\\\\\\\\\"]}}}, \\\\\\\\\\\\\"localData\\\\\\\\\\\\\": {}, \\\\\\\\\\\\\"isEnabled\\\\\\\\\\\\\": true, \\\\\\\\\\\\\"name\\\\\\\\\\\\\": null, \\\\\\\\\\\\\"annotation\\\\\\\\\\\\\": null}, {\\\\\\\\\\\\\"id\\\\\\\\\\\\\": \\\\\\\\\\\\\"db8c8b97-8756-4fad-874f-839142b03888\\\\\\\\\\\\\", \\\\\\\\\\\\\"type\\\\\\\\\\\\\": \\\\\\\\\\\\\"Microsoft.DPrep.SetColumnTypesBlock\\\\\\\\\\\\\", \\\\\\\\\\\\\"arguments\\\\\\\\\\\\\": {\\\\\\\\\\\\\"columnConversion\\\\\\\\\\\\\": [{\\\\\\\\\\\\\"column\\\\\\\\\\\\\": {\\\\\\\\\\\\\"type\\\\\\\\\\\\\": 2, \\\\\\\\\\\\\"details\\\\\\\\\\\\\": {\\\\\\\\\\\\\"selectedColumn\\\\\\\\\\\\\": \\\\\\\\\\\\\"Pregnancies\\\\\\\\\\\\\"}}, \\\\\\\\\\\\\"typeProperty\\\\\\\\\\\\\": 2}, {\\\\\\\\\\\\\"column\\\\\\\\\\\\\": {\\\\\\\\\\\\\"type\\\\\\\\\\\\\": 2, \\\\\\\\\\\\\"details\\\\\\\\\\\\\": {\\\\\\\\\\\\\"selectedColumn\\\\\\\\\\\\\": \\\\\\\\\\\\\"Glucose\\\\\\\\\\\\\"}}, \\\\\\\\\\\\\"typeProperty\\\\\\\\\\\\\": 2}, {\\\\\\\\\\\\\"column\\\\\\\\\\\\\": {\\\\\\\\\\\\\"type\\\\\\\\\\\\\": 2, \\\\\\\\\\\\\"details\\\\\\\\\\\\\": {\\\\\\\\\\\\\"selectedColumn\\\\\\\\\\\\\": \\\\\\\\\\\\\"BloodPressure\\\\\\\\\\\\\"}}, \\\\\\\\\\\\\"typeProperty\\\\\\\\\\\\\": 2}, {\\\\\\\\\\\\\"column\\\\\\\\\\\\\": {\\\\\\\\\\\\\"type\\\\\\\\\\\\\": 2, \\\\\\\\\\\\\"details\\\\\\\\\\\\\": {\\\\\\\\\\\\\"selectedColumn\\\\\\\\\\\\\": \\\\\\\\\\\\\"SkinThickness\\\\\\\\\\\\\"}}, \\\\\\\\\\\\\"typeProperty\\\\\\\\\\\\\": 2}, {\\\\\\\\\\\\\"column\\\\\\\\\\\\\": {\\\\\\\\\\\\\"type\\\\\\\\\\\\\": 2, \\\\\\\\\\\\\"details\\\\\\\\\\\\\": {\\\\\\\\\\\\\"selectedColumn\\\\\\\\\\\\\": \\\\\\\\\\\\\"Insulin\\\\\\\\\\\\\"}}, \\\\\\\\\\\\\"typeProperty\\\\\\\\\\\\\": 2}, {\\\\\\\\\\\\\"column\\\\\\\\\\\\\": {\\\\\\\\\\\\\"type\\\\\\\\\\\\\": 2, \\\\\\\\\\\\\"details\\\\\\\\\\\\\": {\\\\\\\\\\\\\"selectedColumn\\\\\\\\\\\\\": \\\\\\\\\\\\\"BMI\\\\\\\\\\\\\"}}, \\\\\\\\\\\\\"typeProperty\\\\\\\\\\\\\": 3}, {\\\\\\\\\\\\\"column\\\\\\\\\\\\\": {\\\\\\\\\\\\\"type\\\\\\\\\\\\\": 2, \\\\\\\\\\\\\"details\\\\\\\\\\\\\": {\\\\\\\\\\\\\"selectedColumn\\\\\\\\\\\\\": \\\\\\\\\\\\\"DiabetesPedigreeFunction\\\\\\\\\\\\\"}}, \\\\\\\\\\\\\"typeProperty\\\\\\\\\\\\\": 3}, {\\\\\\\\\\\\\"column\\\\\\\\\\\\\": {\\\\\\\\\\\\\"type\\\\\\\\\\\\\": 2, \\\\\\\\\\\\\"details\\\\\\\\\\\\\": {\\\\\\\\\\\\\"selectedColumn\\\\\\\\\\\\\": \\\\\\\\\\\\\"Age\\\\\\\\\\\\\"}}, \\\\\\\\\\\\\"typeProperty\\\\\\\\\\\\\": 2}, {\\\\\\\\\\\\\"column\\\\\\\\\\\\\": {\\\\\\\\\\\\\"type\\\\\\\\\\\\\": 2, \\\\\\\\\\\\\"details\\\\\\\\\\\\\": {\\\\\\\\\\\\\"selectedColumn\\\\\\\\\\\\\": \\\\\\\\\\\\\"Outcome\\\\\\\\\\\\\"}}, \\\\\\\\\\\\\"typeProperty\\\\\\\\\\\\\": 2}]}, \\\\\\\\\\\\\"localData\\\\\\\\\\\\\": {}, \\\\\\\\\\\\\"isEnabled\\\\\\\\\\\\\": true, \\\\\\\\\\\\\"name\\\\\\\\\\\\\": null, \\\\\\\\\\\\\"annotation\\\\\\\\\\\\\": null}], \\\\\\\\\\\\\"inspectors\\\\\\\\\\\\\": [], \\\\\\\\\\\\\"meta\\\\\\\\\\\\\": {\\\\\\\\\\\\\"savedDatasetId\\\\\\\\\\\\\": \\\\\\\\\\\\\"de45557f-f102-4338-a8f4-0f44b3768e23\\\\\\\\\\\\\", \\\\\\\\\\\\\"datasetType\\\\\\\\\\\\\": \\\\\\\\\\\\\"tabular\\\\\\\\\\\\\", \\\\\\\\\\\\\"subscriptionId\\\\\\\\\\\\\": \\\\\\\\\\\\\"f39cb977-6a3a-445b-a26a-b9a791c5fd89\\\\\\\\\\\\\", \\\\\\\\\\\\\"workspaceId\\\\\\\\\\\\\": \\\\\\\\\\\\\"1da2c3ea-4479-4fa9-96a7-e6a36b4aea1f\\\\\\\\\\\\\", \\\\\\\\\\\\\"workspaceLocation\\\\\\\\\\\\\": \\\\\\\\\\\\\"southcentralus\\\\\\\\\\\\\"}}\\\\\", \\\\\"activities\\\\\": 0}',\n",
       "  'EnableSubsampling': None,\n",
       "  'runTemplate': 'AutoML',\n",
       "  'azureml.runsource': 'automl',\n",
       "  'display_task_type': 'classification',\n",
       "  'dependencies_versions': '{\"azureml-widgets\": \"1.19.0\", \"azureml-train\": \"1.19.0\", \"azureml-train-restclients-hyperdrive\": \"1.19.0\", \"azureml-train-core\": \"1.19.0\", \"azureml-train-automl\": \"1.19.0\", \"azureml-train-automl-runtime\": \"1.19.0\", \"azureml-train-automl-client\": \"1.19.0\", \"azureml-tensorboard\": \"1.19.0\", \"azureml-telemetry\": \"1.19.0\", \"azureml-sdk\": \"1.19.0\", \"azureml-samples\": \"0+unknown\", \"azureml-pipeline\": \"1.19.0\", \"azureml-pipeline-steps\": \"1.19.0\", \"azureml-pipeline-core\": \"1.19.0\", \"azureml-opendatasets\": \"1.19.0\", \"azureml-model-management-sdk\": \"1.0.1b6.post1\", \"azureml-mlflow\": \"1.19.0\", \"azureml-interpret\": \"1.19.0\", \"azureml-explain-model\": \"1.19.0\", \"azureml-defaults\": \"1.19.0\", \"azureml-dataset-runtime\": \"1.19.0\", \"azureml-dataprep\": \"2.6.1\", \"azureml-dataprep-rslex\": \"1.4.0\", \"azureml-dataprep-native\": \"26.0.0\", \"azureml-datadrift\": \"1.19.0\", \"azureml-core\": \"1.19.0\", \"azureml-contrib-services\": \"1.19.0\", \"azureml-contrib-server\": \"1.19.0\", \"azureml-contrib-reinforcementlearning\": \"1.19.0\", \"azureml-contrib-pipeline-steps\": \"1.19.0\", \"azureml-contrib-notebook\": \"1.19.0\", \"azureml-contrib-interpret\": \"1.19.0\", \"azureml-contrib-gbdt\": \"1.19.0\", \"azureml-contrib-fairness\": \"1.19.0\", \"azureml-contrib-dataset\": \"1.19.0\", \"azureml-cli-common\": \"1.19.0\", \"azureml-automl-runtime\": \"1.19.0\", \"azureml-automl-core\": \"1.19.0\", \"azureml-accel-models\": \"1.19.0\"}',\n",
       "  '_aml_system_scenario_identification': 'Remote.Parent',\n",
       "  'ClientType': 'SDK',\n",
       "  'environment_cpu_name': 'AzureML-AutoML',\n",
       "  'environment_cpu_version': '48',\n",
       "  'environment_gpu_name': 'AzureML-AutoML-GPU',\n",
       "  'environment_gpu_version': '36',\n",
       "  'root_attribution': 'automl',\n",
       "  'attribution': 'AutoML',\n",
       "  'Orchestrator': 'AutoML',\n",
       "  'CancelUri': 'https://southcentralus.experiments.azureml.net/jasmine/v1.0/subscriptions/f39cb977-6a3a-445b-a26a-b9a791c5fd89/resourceGroups/aml-quickstarts-130187/providers/Microsoft.MachineLearningServices/workspaces/quick-starts-ws-130187/experimentids/a1709579-cb80-4ea4-a545-92dd29c96c78/cancel/AutoML_f5a3962b-1f71-426e-a4a7-d48ab7902807',\n",
       "  'ClientSdkVersion': '1.18.0.post1',\n",
       "  'snapshotId': '00000000-0000-0000-0000-000000000000',\n",
       "  'SetupRunId': 'AutoML_f5a3962b-1f71-426e-a4a7-d48ab7902807_setup',\n",
       "  'SetupRunContainerId': 'dcid.AutoML_f5a3962b-1f71-426e-a4a7-d48ab7902807_setup',\n",
       "  'FeaturizationRunJsonPath': 'featurizer_container.json',\n",
       "  'FeaturizationRunId': 'AutoML_f5a3962b-1f71-426e-a4a7-d48ab7902807_featurize',\n",
       "  'ProblemInfoJsonString': '{\"dataset_num_categorical\": 0, \"is_sparse\": false, \"subsampling\": false, \"dataset_classes\": 2, \"dataset_features\": 8, \"dataset_samples\": 768, \"single_frequency_class_detected\": false}',\n",
       "  'ModelExplainRunId': 'AutoML_f5a3962b-1f71-426e-a4a7-d48ab7902807_ModelExplain'},\n",
       " 'inputDatasets': [{'dataset': {'id': 'de45557f-f102-4338-a8f4-0f44b3768e23'}, 'consumptionDetails': {'type': 'RunInput', 'inputName': 'training_data', 'mechanism': 'Direct'}}],\n",
       " 'outputDatasets': [],\n",
       " 'logFiles': {}}"
      ]
     },
     "execution_count": 17,
     "metadata": {},
     "output_type": "execute_result"
    }
   ],
   "source": [
    "# Wait for the remote run to complete\n",
    "remote_run.wait_for_completion()"
   ]
  },
  {
   "cell_type": "code",
   "execution_count": 18,
   "metadata": {},
   "outputs": [
    {
     "name": "stdout",
     "output_type": "stream",
     "text": [
      "Run(Experiment: automl-classification-bmarketing-all,\n",
      "Id: AutoML_f5a3962b-1f71-426e-a4a7-d48ab7902807_36,\n",
      "Type: azureml.scriptrun,\n",
      "Status: Completed)\n",
      "Pipeline(memory=None,\n",
      "         steps=[('datatransformer',\n",
      "                 DataTransformer(enable_dnn=None, enable_feature_sweeping=None,\n",
      "                                 feature_sweeping_config=None,\n",
      "                                 feature_sweeping_timeout=None,\n",
      "                                 featurization_config=None, force_text_dnn=None,\n",
      "                                 is_cross_validation=None,\n",
      "                                 is_onnx_compatible=None, logger=None,\n",
      "                                 observer=None, task=None, working_dir=None)),\n",
      "                ('prefittedsoftvotingclassifier',...\n",
      "                                                                                        max_iter=-1,\n",
      "                                                                                        probability=True,\n",
      "                                                                                        random_state=None,\n",
      "                                                                                        shrinking=True,\n",
      "                                                                                        tol=0.001,\n",
      "                                                                                        verbose=False))],\n",
      "                                                                     verbose=False))],\n",
      "                                               flatten_transform=None,\n",
      "                                               weights=[0.09090909090909091,\n",
      "                                                        0.09090909090909091,\n",
      "                                                        0.09090909090909091,\n",
      "                                                        0.09090909090909091,\n",
      "                                                        0.09090909090909091,\n",
      "                                                        0.18181818181818182,\n",
      "                                                        0.09090909090909091,\n",
      "                                                        0.09090909090909091,\n",
      "                                                        0.09090909090909091,\n",
      "                                                        0.09090909090909091]))],\n",
      "         verbose=False)\n"
     ]
    }
   ],
   "source": [
    "best_run_customized, fitted_model_customized = remote_run.get_output()\n",
    "print(best_run_customized)\n",
    "print(fitted_model_customized)"
   ]
  },
  {
   "cell_type": "code",
   "execution_count": 19,
   "metadata": {},
   "outputs": [
    {
     "data": {
      "text/html": [
       "<div>\n",
       "<style scoped>\n",
       "    .dataframe tbody tr th:only-of-type {\n",
       "        vertical-align: middle;\n",
       "    }\n",
       "\n",
       "    .dataframe tbody tr th {\n",
       "        vertical-align: top;\n",
       "    }\n",
       "\n",
       "    .dataframe thead th {\n",
       "        text-align: right;\n",
       "    }\n",
       "</style>\n",
       "<table border=\"1\" class=\"dataframe\">\n",
       "  <thead>\n",
       "    <tr style=\"text-align: right;\">\n",
       "      <th></th>\n",
       "      <th>RawFeatureName</th>\n",
       "      <th>TypeDetected</th>\n",
       "      <th>Dropped</th>\n",
       "      <th>EngineeredFeatureCount</th>\n",
       "      <th>Transformations</th>\n",
       "    </tr>\n",
       "  </thead>\n",
       "  <tbody>\n",
       "    <tr>\n",
       "      <th>0</th>\n",
       "      <td>Pregnancies</td>\n",
       "      <td>Numeric</td>\n",
       "      <td>No</td>\n",
       "      <td>1</td>\n",
       "      <td>[MeanImputer]</td>\n",
       "    </tr>\n",
       "    <tr>\n",
       "      <th>1</th>\n",
       "      <td>Glucose</td>\n",
       "      <td>Numeric</td>\n",
       "      <td>No</td>\n",
       "      <td>1</td>\n",
       "      <td>[MeanImputer]</td>\n",
       "    </tr>\n",
       "    <tr>\n",
       "      <th>2</th>\n",
       "      <td>BloodPressure</td>\n",
       "      <td>Numeric</td>\n",
       "      <td>No</td>\n",
       "      <td>1</td>\n",
       "      <td>[MeanImputer]</td>\n",
       "    </tr>\n",
       "    <tr>\n",
       "      <th>3</th>\n",
       "      <td>SkinThickness</td>\n",
       "      <td>Numeric</td>\n",
       "      <td>No</td>\n",
       "      <td>1</td>\n",
       "      <td>[MeanImputer]</td>\n",
       "    </tr>\n",
       "    <tr>\n",
       "      <th>4</th>\n",
       "      <td>Insulin</td>\n",
       "      <td>Numeric</td>\n",
       "      <td>No</td>\n",
       "      <td>1</td>\n",
       "      <td>[MeanImputer]</td>\n",
       "    </tr>\n",
       "    <tr>\n",
       "      <th>5</th>\n",
       "      <td>BMI</td>\n",
       "      <td>Numeric</td>\n",
       "      <td>No</td>\n",
       "      <td>1</td>\n",
       "      <td>[MeanImputer]</td>\n",
       "    </tr>\n",
       "    <tr>\n",
       "      <th>6</th>\n",
       "      <td>DiabetesPedigreeFunction</td>\n",
       "      <td>Numeric</td>\n",
       "      <td>No</td>\n",
       "      <td>1</td>\n",
       "      <td>[MeanImputer]</td>\n",
       "    </tr>\n",
       "    <tr>\n",
       "      <th>7</th>\n",
       "      <td>Age</td>\n",
       "      <td>Numeric</td>\n",
       "      <td>No</td>\n",
       "      <td>1</td>\n",
       "      <td>[MeanImputer]</td>\n",
       "    </tr>\n",
       "  </tbody>\n",
       "</table>\n",
       "</div>"
      ],
      "text/plain": [
       "             RawFeatureName TypeDetected Dropped  EngineeredFeatureCount  \\\n",
       "0  Pregnancies               Numeric      No      1                        \n",
       "1  Glucose                   Numeric      No      1                        \n",
       "2  BloodPressure             Numeric      No      1                        \n",
       "3  SkinThickness             Numeric      No      1                        \n",
       "4  Insulin                   Numeric      No      1                        \n",
       "5  BMI                       Numeric      No      1                        \n",
       "6  DiabetesPedigreeFunction  Numeric      No      1                        \n",
       "7  Age                       Numeric      No      1                        \n",
       "\n",
       "  Transformations  \n",
       "0  [MeanImputer]   \n",
       "1  [MeanImputer]   \n",
       "2  [MeanImputer]   \n",
       "3  [MeanImputer]   \n",
       "4  [MeanImputer]   \n",
       "5  [MeanImputer]   \n",
       "6  [MeanImputer]   \n",
       "7  [MeanImputer]   "
      ]
     },
     "execution_count": 19,
     "metadata": {},
     "output_type": "execute_result"
    }
   ],
   "source": [
    "custom_featurizer = fitted_model_customized.named_steps['datatransformer']\n",
    "df = custom_featurizer.get_featurization_summary()\n",
    "pd.DataFrame(data=df)"
   ]
  },
  {
   "cell_type": "code",
   "execution_count": 20,
   "metadata": {},
   "outputs": [
    {
     "data": {
      "text/html": [
       "<div>\n",
       "<style scoped>\n",
       "    .dataframe tbody tr th:only-of-type {\n",
       "        vertical-align: middle;\n",
       "    }\n",
       "\n",
       "    .dataframe tbody tr th {\n",
       "        vertical-align: top;\n",
       "    }\n",
       "\n",
       "    .dataframe thead th {\n",
       "        text-align: right;\n",
       "    }\n",
       "</style>\n",
       "<table border=\"1\" class=\"dataframe\">\n",
       "  <thead>\n",
       "    <tr style=\"text-align: right;\">\n",
       "      <th></th>\n",
       "      <th>RawFeatureName</th>\n",
       "      <th>TypeDetected</th>\n",
       "      <th>Dropped</th>\n",
       "      <th>EngineeredFeatureCount</th>\n",
       "      <th>Transformations</th>\n",
       "      <th>TransformationParams</th>\n",
       "    </tr>\n",
       "  </thead>\n",
       "  <tbody>\n",
       "    <tr>\n",
       "      <th>0</th>\n",
       "      <td>Pregnancies</td>\n",
       "      <td>Numeric</td>\n",
       "      <td>No</td>\n",
       "      <td>1</td>\n",
       "      <td>[MeanImputer]</td>\n",
       "      <td>{'Transformer1': {'Input': ['Pregnancies'], 'TransformationFunction': 'Imputer', 'Operator': 'Mean', 'FeatureType': 'Numeric', 'ShouldOutput': True, 'TransformationParams': {'add_indicator': False, 'copy': True, 'fill_value': None, 'missing_values': nan, 'strategy': 'mean', 'verbose': 0}}}</td>\n",
       "    </tr>\n",
       "    <tr>\n",
       "      <th>1</th>\n",
       "      <td>Glucose</td>\n",
       "      <td>Numeric</td>\n",
       "      <td>No</td>\n",
       "      <td>1</td>\n",
       "      <td>[MeanImputer]</td>\n",
       "      <td>{'Transformer1': {'Input': ['Glucose'], 'TransformationFunction': 'Imputer', 'Operator': 'Mean', 'FeatureType': 'Numeric', 'ShouldOutput': True, 'TransformationParams': {'add_indicator': False, 'copy': True, 'fill_value': None, 'missing_values': nan, 'strategy': 'mean', 'verbose': 0}}}</td>\n",
       "    </tr>\n",
       "    <tr>\n",
       "      <th>2</th>\n",
       "      <td>BloodPressure</td>\n",
       "      <td>Numeric</td>\n",
       "      <td>No</td>\n",
       "      <td>1</td>\n",
       "      <td>[MeanImputer]</td>\n",
       "      <td>{'Transformer1': {'Input': ['BloodPressure'], 'TransformationFunction': 'Imputer', 'Operator': 'Mean', 'FeatureType': 'Numeric', 'ShouldOutput': True, 'TransformationParams': {'add_indicator': False, 'copy': True, 'fill_value': None, 'missing_values': nan, 'strategy': 'mean', 'verbose': 0}}}</td>\n",
       "    </tr>\n",
       "    <tr>\n",
       "      <th>3</th>\n",
       "      <td>SkinThickness</td>\n",
       "      <td>Numeric</td>\n",
       "      <td>No</td>\n",
       "      <td>1</td>\n",
       "      <td>[MeanImputer]</td>\n",
       "      <td>{'Transformer1': {'Input': ['SkinThickness'], 'TransformationFunction': 'Imputer', 'Operator': 'Mean', 'FeatureType': 'Numeric', 'ShouldOutput': True, 'TransformationParams': {'add_indicator': False, 'copy': True, 'fill_value': None, 'missing_values': nan, 'strategy': 'mean', 'verbose': 0}}}</td>\n",
       "    </tr>\n",
       "    <tr>\n",
       "      <th>4</th>\n",
       "      <td>Insulin</td>\n",
       "      <td>Numeric</td>\n",
       "      <td>No</td>\n",
       "      <td>1</td>\n",
       "      <td>[MeanImputer]</td>\n",
       "      <td>{'Transformer1': {'Input': ['Insulin'], 'TransformationFunction': 'Imputer', 'Operator': 'Mean', 'FeatureType': 'Numeric', 'ShouldOutput': True, 'TransformationParams': {'add_indicator': False, 'copy': True, 'fill_value': None, 'missing_values': nan, 'strategy': 'mean', 'verbose': 0}}}</td>\n",
       "    </tr>\n",
       "    <tr>\n",
       "      <th>5</th>\n",
       "      <td>BMI</td>\n",
       "      <td>Numeric</td>\n",
       "      <td>No</td>\n",
       "      <td>1</td>\n",
       "      <td>[MeanImputer]</td>\n",
       "      <td>{'Transformer1': {'Input': ['BMI'], 'TransformationFunction': 'Imputer', 'Operator': 'Mean', 'FeatureType': 'Numeric', 'ShouldOutput': True, 'TransformationParams': {'add_indicator': False, 'copy': True, 'fill_value': None, 'missing_values': nan, 'strategy': 'mean', 'verbose': 0}}}</td>\n",
       "    </tr>\n",
       "    <tr>\n",
       "      <th>6</th>\n",
       "      <td>DiabetesPedigreeFunction</td>\n",
       "      <td>Numeric</td>\n",
       "      <td>No</td>\n",
       "      <td>1</td>\n",
       "      <td>[MeanImputer]</td>\n",
       "      <td>{'Transformer1': {'Input': ['DiabetesPedigreeFunction'], 'TransformationFunction': 'Imputer', 'Operator': 'Mean', 'FeatureType': 'Numeric', 'ShouldOutput': True, 'TransformationParams': {'add_indicator': False, 'copy': True, 'fill_value': None, 'missing_values': nan, 'strategy': 'mean', 'verbose': 0}}}</td>\n",
       "    </tr>\n",
       "    <tr>\n",
       "      <th>7</th>\n",
       "      <td>Age</td>\n",
       "      <td>Numeric</td>\n",
       "      <td>No</td>\n",
       "      <td>1</td>\n",
       "      <td>[MeanImputer]</td>\n",
       "      <td>{'Transformer1': {'Input': ['Age'], 'TransformationFunction': 'Imputer', 'Operator': 'Mean', 'FeatureType': 'Numeric', 'ShouldOutput': True, 'TransformationParams': {'add_indicator': False, 'copy': True, 'fill_value': None, 'missing_values': nan, 'strategy': 'mean', 'verbose': 0}}}</td>\n",
       "    </tr>\n",
       "  </tbody>\n",
       "</table>\n",
       "</div>"
      ],
      "text/plain": [
       "             RawFeatureName TypeDetected Dropped  EngineeredFeatureCount  \\\n",
       "0  Pregnancies               Numeric      No      1                        \n",
       "1  Glucose                   Numeric      No      1                        \n",
       "2  BloodPressure             Numeric      No      1                        \n",
       "3  SkinThickness             Numeric      No      1                        \n",
       "4  Insulin                   Numeric      No      1                        \n",
       "5  BMI                       Numeric      No      1                        \n",
       "6  DiabetesPedigreeFunction  Numeric      No      1                        \n",
       "7  Age                       Numeric      No      1                        \n",
       "\n",
       "  Transformations  \\\n",
       "0  [MeanImputer]    \n",
       "1  [MeanImputer]    \n",
       "2  [MeanImputer]    \n",
       "3  [MeanImputer]    \n",
       "4  [MeanImputer]    \n",
       "5  [MeanImputer]    \n",
       "6  [MeanImputer]    \n",
       "7  [MeanImputer]    \n",
       "\n",
       "                                                                                                                                                                                                                                                                                              TransformationParams  \n",
       "0  {'Transformer1': {'Input': ['Pregnancies'], 'TransformationFunction': 'Imputer', 'Operator': 'Mean', 'FeatureType': 'Numeric', 'ShouldOutput': True, 'TransformationParams': {'add_indicator': False, 'copy': True, 'fill_value': None, 'missing_values': nan, 'strategy': 'mean', 'verbose': 0}}}               \n",
       "1  {'Transformer1': {'Input': ['Glucose'], 'TransformationFunction': 'Imputer', 'Operator': 'Mean', 'FeatureType': 'Numeric', 'ShouldOutput': True, 'TransformationParams': {'add_indicator': False, 'copy': True, 'fill_value': None, 'missing_values': nan, 'strategy': 'mean', 'verbose': 0}}}                   \n",
       "2  {'Transformer1': {'Input': ['BloodPressure'], 'TransformationFunction': 'Imputer', 'Operator': 'Mean', 'FeatureType': 'Numeric', 'ShouldOutput': True, 'TransformationParams': {'add_indicator': False, 'copy': True, 'fill_value': None, 'missing_values': nan, 'strategy': 'mean', 'verbose': 0}}}             \n",
       "3  {'Transformer1': {'Input': ['SkinThickness'], 'TransformationFunction': 'Imputer', 'Operator': 'Mean', 'FeatureType': 'Numeric', 'ShouldOutput': True, 'TransformationParams': {'add_indicator': False, 'copy': True, 'fill_value': None, 'missing_values': nan, 'strategy': 'mean', 'verbose': 0}}}             \n",
       "4  {'Transformer1': {'Input': ['Insulin'], 'TransformationFunction': 'Imputer', 'Operator': 'Mean', 'FeatureType': 'Numeric', 'ShouldOutput': True, 'TransformationParams': {'add_indicator': False, 'copy': True, 'fill_value': None, 'missing_values': nan, 'strategy': 'mean', 'verbose': 0}}}                   \n",
       "5  {'Transformer1': {'Input': ['BMI'], 'TransformationFunction': 'Imputer', 'Operator': 'Mean', 'FeatureType': 'Numeric', 'ShouldOutput': True, 'TransformationParams': {'add_indicator': False, 'copy': True, 'fill_value': None, 'missing_values': nan, 'strategy': 'mean', 'verbose': 0}}}                       \n",
       "6  {'Transformer1': {'Input': ['DiabetesPedigreeFunction'], 'TransformationFunction': 'Imputer', 'Operator': 'Mean', 'FeatureType': 'Numeric', 'ShouldOutput': True, 'TransformationParams': {'add_indicator': False, 'copy': True, 'fill_value': None, 'missing_values': nan, 'strategy': 'mean', 'verbose': 0}}}  \n",
       "7  {'Transformer1': {'Input': ['Age'], 'TransformationFunction': 'Imputer', 'Operator': 'Mean', 'FeatureType': 'Numeric', 'ShouldOutput': True, 'TransformationParams': {'add_indicator': False, 'copy': True, 'fill_value': None, 'missing_values': nan, 'strategy': 'mean', 'verbose': 0}}}                       "
      ]
     },
     "execution_count": 20,
     "metadata": {},
     "output_type": "execute_result"
    }
   ],
   "source": [
    "df = custom_featurizer.get_featurization_summary(is_user_friendly=False)\n",
    "pd.DataFrame(data=df)"
   ]
  },
  {
   "cell_type": "code",
   "execution_count": 21,
   "metadata": {},
   "outputs": [
    {
     "data": {
      "text/html": [
       "<div>\n",
       "<style scoped>\n",
       "    .dataframe tbody tr th:only-of-type {\n",
       "        vertical-align: middle;\n",
       "    }\n",
       "\n",
       "    .dataframe tbody tr th {\n",
       "        vertical-align: top;\n",
       "    }\n",
       "\n",
       "    .dataframe thead th {\n",
       "        text-align: right;\n",
       "    }\n",
       "</style>\n",
       "<table border=\"1\" class=\"dataframe\">\n",
       "  <thead>\n",
       "    <tr style=\"text-align: right;\">\n",
       "      <th></th>\n",
       "    </tr>\n",
       "  </thead>\n",
       "  <tbody>\n",
       "  </tbody>\n",
       "</table>\n",
       "</div>"
      ],
      "text/plain": [
       "Empty DataFrame\n",
       "Columns: []\n",
       "Index: []"
      ]
     },
     "execution_count": 21,
     "metadata": {},
     "output_type": "execute_result"
    }
   ],
   "source": [
    "df = custom_featurizer.get_stats_feature_type_summary()\n",
    "pd.DataFrame(data=df)"
   ]
  },
  {
   "cell_type": "markdown",
   "metadata": {},
   "source": [
    "## Results"
   ]
  },
  {
   "cell_type": "code",
   "execution_count": 22,
   "metadata": {},
   "outputs": [
    {
     "data": {
      "application/vnd.jupyter.widget-view+json": {
       "model_id": "dfadee5da30441d9ae0273069d1aacee",
       "version_major": 2,
       "version_minor": 0
      },
      "text/plain": [
       "_AutoMLWidget(widget_settings={'childWidgetDisplay': 'popup', 'send_telemetry': False, 'log_level': 'INFO', 's…"
      ]
     },
     "metadata": {},
     "output_type": "display_data"
    },
    {
     "data": {
      "application/aml.mini.widget.v1": "{\"status\": \"Completed\", \"workbench_run_details_uri\": \"https://ml.azure.com/experiments/automl-classification-bmarketing-all/runs/AutoML_f5a3962b-1f71-426e-a4a7-d48ab7902807?wsid=/subscriptions/f39cb977-6a3a-445b-a26a-b9a791c5fd89/resourcegroups/aml-quickstarts-130187/workspaces/quick-starts-ws-130187\", \"run_id\": \"AutoML_f5a3962b-1f71-426e-a4a7-d48ab7902807\", \"run_properties\": {\"run_id\": \"AutoML_f5a3962b-1f71-426e-a4a7-d48ab7902807\", \"created_utc\": \"2020-12-12T06:54:07.468749Z\", \"properties\": {\"num_iterations\": \"1000\", \"training_type\": \"TrainFull\", \"acquisition_function\": \"EI\", \"primary_metric\": \"AUC_weighted\", \"train_split\": \"0\", \"acquisition_parameter\": \"0\", \"num_cross_validation\": null, \"target\": \"cpu-cluster-4\", \"AMLSettingsJsonString\": \"{\\\"path\\\":null,\\\"name\\\":\\\"automl-classification-bmarketing-all\\\",\\\"subscription_id\\\":\\\"f39cb977-6a3a-445b-a26a-b9a791c5fd89\\\",\\\"resource_group\\\":\\\"aml-quickstarts-130187\\\",\\\"workspace_name\\\":\\\"quick-starts-ws-130187\\\",\\\"region\\\":\\\"southcentralus\\\",\\\"compute_target\\\":\\\"cpu-cluster-4\\\",\\\"spark_service\\\":null,\\\"azure_service\\\":\\\"remote\\\",\\\"many_models\\\":false,\\\"pipeline_fetch_max_batch_size\\\":1,\\\"iterations\\\":1000,\\\"primary_metric\\\":\\\"AUC_weighted\\\",\\\"task_type\\\":\\\"classification\\\",\\\"data_script\\\":null,\\\"validation_size\\\":0.0,\\\"n_cross_validations\\\":null,\\\"y_min\\\":null,\\\"y_max\\\":null,\\\"num_classes\\\":null,\\\"featurization\\\":\\\"auto\\\",\\\"_ignore_package_version_incompatibilities\\\":false,\\\"is_timeseries\\\":false,\\\"max_cores_per_iteration\\\":-1,\\\"max_concurrent_iterations\\\":4,\\\"iteration_timeout_minutes\\\":5,\\\"mem_in_mb\\\":null,\\\"enforce_time_on_windows\\\":false,\\\"experiment_timeout_minutes\\\":18,\\\"experiment_exit_score\\\":0.9984,\\\"whitelist_models\\\":null,\\\"blacklist_algos\\\":[\\\"KNN\\\",\\\"LinearSVM\\\",\\\"TensorFlowLinearClassifier\\\",\\\"TensorFlowDNN\\\"],\\\"supported_models\\\":[\\\"BernoulliNaiveBayes\\\",\\\"AveragedPerceptronClassifier\\\",\\\"LightGBM\\\",\\\"DecisionTree\\\",\\\"RandomForest\\\",\\\"LogisticRegression\\\",\\\"XGBoostClassifier\\\",\\\"SVM\\\",\\\"TensorFlowLinearClassifier\\\",\\\"MultinomialNaiveBayes\\\",\\\"TensorFlowDNN\\\",\\\"ExtremeRandomTrees\\\",\\\"SGD\\\",\\\"LinearSVM\\\",\\\"KNN\\\",\\\"GradientBoosting\\\"],\\\"auto_blacklist\\\":true,\\\"blacklist_samples_reached\\\":false,\\\"exclude_nan_labels\\\":true,\\\"verbosity\\\":20,\\\"_debug_log\\\":\\\"azureml_automl.log\\\",\\\"show_warnings\\\":false,\\\"model_explainability\\\":true,\\\"service_url\\\":null,\\\"sdk_url\\\":null,\\\"sdk_packages\\\":null,\\\"enable_onnx_compatible_models\\\":true,\\\"enable_split_onnx_featurizer_estimator_models\\\":false,\\\"vm_type\\\":\\\"STANDARD_D2_V2\\\",\\\"telemetry_verbosity\\\":20,\\\"send_telemetry\\\":true,\\\"enable_dnn\\\":false,\\\"scenario\\\":\\\"SDK-1.13.0\\\",\\\"environment_label\\\":null,\\\"force_text_dnn\\\":false,\\\"enable_feature_sweeping\\\":false,\\\"enable_early_stopping\\\":true,\\\"early_stopping_n_iters\\\":10,\\\"metrics\\\":null,\\\"enable_ensembling\\\":true,\\\"enable_stack_ensembling\\\":false,\\\"ensemble_iterations\\\":15,\\\"enable_tf\\\":false,\\\"enable_subsampling\\\":null,\\\"subsample_seed\\\":null,\\\"enable_nimbusml\\\":false,\\\"enable_streaming\\\":false,\\\"force_streaming\\\":false,\\\"track_child_runs\\\":true,\\\"allowed_private_models\\\":[],\\\"label_column_name\\\":\\\"Outcome\\\",\\\"weight_column_name\\\":null,\\\"cv_split_column_names\\\":null,\\\"enable_local_managed\\\":false,\\\"_local_managed_run_id\\\":null,\\\"cost_mode\\\":1,\\\"lag_length\\\":0,\\\"metric_operation\\\":\\\"maximize\\\",\\\"preprocess\\\":true}\", \"DataPrepJsonString\": \"{\\\\\\\"training_data\\\\\\\": \\\\\\\"{\\\\\\\\\\\\\\\"blocks\\\\\\\\\\\\\\\": [{\\\\\\\\\\\\\\\"id\\\\\\\\\\\\\\\": \\\\\\\\\\\\\\\"c6dce174-a4be-47fb-8a7d-624aab488883\\\\\\\\\\\\\\\", \\\\\\\\\\\\\\\"type\\\\\\\\\\\\\\\": \\\\\\\\\\\\\\\"Microsoft.DPrep.GetDatastoreFilesBlock\\\\\\\\\\\\\\\", \\\\\\\\\\\\\\\"arguments\\\\\\\\\\\\\\\": {\\\\\\\\\\\\\\\"datastores\\\\\\\\\\\\\\\": [{\\\\\\\\\\\\\\\"datastoreName\\\\\\\\\\\\\\\": \\\\\\\\\\\\\\\"workspaceblobstore\\\\\\\\\\\\\\\", \\\\\\\\\\\\\\\"path\\\\\\\\\\\\\\\": \\\\\\\\\\\\\\\"bankmarketing/train_data.csv\\\\\\\\\\\\\\\", \\\\\\\\\\\\\\\"resourceGroup\\\\\\\\\\\\\\\": \\\\\\\\\\\\\\\"aml-quickstarts-130187\\\\\\\\\\\\\\\", \\\\\\\\\\\\\\\"subscription\\\\\\\\\\\\\\\": \\\\\\\\\\\\\\\"f39cb977-6a3a-445b-a26a-b9a791c5fd89\\\\\\\\\\\\\\\", \\\\\\\\\\\\\\\"workspaceName\\\\\\\\\\\\\\\": \\\\\\\\\\\\\\\"quick-starts-ws-130187\\\\\\\\\\\\\\\"}]}, \\\\\\\\\\\\\\\"localData\\\\\\\\\\\\\\\": {}, \\\\\\\\\\\\\\\"isEnabled\\\\\\\\\\\\\\\": true, \\\\\\\\\\\\\\\"name\\\\\\\\\\\\\\\": null, \\\\\\\\\\\\\\\"annotation\\\\\\\\\\\\\\\": null}, {\\\\\\\\\\\\\\\"id\\\\\\\\\\\\\\\": \\\\\\\\\\\\\\\"64f51ce2-eeb2-4692-be04-462b31c3b807\\\\\\\\\\\\\\\", \\\\\\\\\\\\\\\"type\\\\\\\\\\\\\\\": \\\\\\\\\\\\\\\"Microsoft.DPrep.ParseDelimitedBlock\\\\\\\\\\\\\\\", \\\\\\\\\\\\\\\"arguments\\\\\\\\\\\\\\\": {\\\\\\\\\\\\\\\"columnHeadersMode\\\\\\\\\\\\\\\": 3, \\\\\\\\\\\\\\\"fileEncoding\\\\\\\\\\\\\\\": 0, \\\\\\\\\\\\\\\"handleQuotedLineBreaks\\\\\\\\\\\\\\\": false, \\\\\\\\\\\\\\\"preview\\\\\\\\\\\\\\\": false, \\\\\\\\\\\\\\\"separator\\\\\\\\\\\\\\\": \\\\\\\\\\\\\\\",\\\\\\\\\\\\\\\", \\\\\\\\\\\\\\\"skipRows\\\\\\\\\\\\\\\": 0, \\\\\\\\\\\\\\\"skipRowsMode\\\\\\\\\\\\\\\": 0}, \\\\\\\\\\\\\\\"localData\\\\\\\\\\\\\\\": {}, \\\\\\\\\\\\\\\"isEnabled\\\\\\\\\\\\\\\": true, \\\\\\\\\\\\\\\"name\\\\\\\\\\\\\\\": null, \\\\\\\\\\\\\\\"annotation\\\\\\\\\\\\\\\": null}, {\\\\\\\\\\\\\\\"id\\\\\\\\\\\\\\\": \\\\\\\\\\\\\\\"67bf6227-d76f-4217-954d-50570f97e93c\\\\\\\\\\\\\\\", \\\\\\\\\\\\\\\"type\\\\\\\\\\\\\\\": \\\\\\\\\\\\\\\"Microsoft.DPrep.DropColumnsBlock\\\\\\\\\\\\\\\", \\\\\\\\\\\\\\\"arguments\\\\\\\\\\\\\\\": {\\\\\\\\\\\\\\\"columns\\\\\\\\\\\\\\\": {\\\\\\\\\\\\\\\"type\\\\\\\\\\\\\\\": 0, \\\\\\\\\\\\\\\"details\\\\\\\\\\\\\\\": {\\\\\\\\\\\\\\\"selectedColumns\\\\\\\\\\\\\\\": [\\\\\\\\\\\\\\\"Path\\\\\\\\\\\\\\\"]}}}, \\\\\\\\\\\\\\\"localData\\\\\\\\\\\\\\\": {}, \\\\\\\\\\\\\\\"isEnabled\\\\\\\\\\\\\\\": true, \\\\\\\\\\\\\\\"name\\\\\\\\\\\\\\\": null, \\\\\\\\\\\\\\\"annotation\\\\\\\\\\\\\\\": null}, {\\\\\\\\\\\\\\\"id\\\\\\\\\\\\\\\": \\\\\\\\\\\\\\\"db8c8b97-8756-4fad-874f-839142b03888\\\\\\\\\\\\\\\", \\\\\\\\\\\\\\\"type\\\\\\\\\\\\\\\": \\\\\\\\\\\\\\\"Microsoft.DPrep.SetColumnTypesBlock\\\\\\\\\\\\\\\", \\\\\\\\\\\\\\\"arguments\\\\\\\\\\\\\\\": {\\\\\\\\\\\\\\\"columnConversion\\\\\\\\\\\\\\\": [{\\\\\\\\\\\\\\\"column\\\\\\\\\\\\\\\": {\\\\\\\\\\\\\\\"type\\\\\\\\\\\\\\\": 2, \\\\\\\\\\\\\\\"details\\\\\\\\\\\\\\\": {\\\\\\\\\\\\\\\"selectedColumn\\\\\\\\\\\\\\\": \\\\\\\\\\\\\\\"Pregnancies\\\\\\\\\\\\\\\"}}, \\\\\\\\\\\\\\\"typeProperty\\\\\\\\\\\\\\\": 2}, {\\\\\\\\\\\\\\\"column\\\\\\\\\\\\\\\": {\\\\\\\\\\\\\\\"type\\\\\\\\\\\\\\\": 2, \\\\\\\\\\\\\\\"details\\\\\\\\\\\\\\\": {\\\\\\\\\\\\\\\"selectedColumn\\\\\\\\\\\\\\\": \\\\\\\\\\\\\\\"Glucose\\\\\\\\\\\\\\\"}}, \\\\\\\\\\\\\\\"typeProperty\\\\\\\\\\\\\\\": 2}, {\\\\\\\\\\\\\\\"column\\\\\\\\\\\\\\\": {\\\\\\\\\\\\\\\"type\\\\\\\\\\\\\\\": 2, \\\\\\\\\\\\\\\"details\\\\\\\\\\\\\\\": {\\\\\\\\\\\\\\\"selectedColumn\\\\\\\\\\\\\\\": \\\\\\\\\\\\\\\"BloodPressure\\\\\\\\\\\\\\\"}}, \\\\\\\\\\\\\\\"typeProperty\\\\\\\\\\\\\\\": 2}, {\\\\\\\\\\\\\\\"column\\\\\\\\\\\\\\\": {\\\\\\\\\\\\\\\"type\\\\\\\\\\\\\\\": 2, \\\\\\\\\\\\\\\"details\\\\\\\\\\\\\\\": {\\\\\\\\\\\\\\\"selectedColumn\\\\\\\\\\\\\\\": \\\\\\\\\\\\\\\"SkinThickness\\\\\\\\\\\\\\\"}}, \\\\\\\\\\\\\\\"typeProperty\\\\\\\\\\\\\\\": 2}, {\\\\\\\\\\\\\\\"column\\\\\\\\\\\\\\\": {\\\\\\\\\\\\\\\"type\\\\\\\\\\\\\\\": 2, \\\\\\\\\\\\\\\"details\\\\\\\\\\\\\\\": {\\\\\\\\\\\\\\\"selectedColumn\\\\\\\\\\\\\\\": \\\\\\\\\\\\\\\"Insulin\\\\\\\\\\\\\\\"}}, \\\\\\\\\\\\\\\"typeProperty\\\\\\\\\\\\\\\": 2}, {\\\\\\\\\\\\\\\"column\\\\\\\\\\\\\\\": {\\\\\\\\\\\\\\\"type\\\\\\\\\\\\\\\": 2, \\\\\\\\\\\\\\\"details\\\\\\\\\\\\\\\": {\\\\\\\\\\\\\\\"selectedColumn\\\\\\\\\\\\\\\": \\\\\\\\\\\\\\\"BMI\\\\\\\\\\\\\\\"}}, \\\\\\\\\\\\\\\"typeProperty\\\\\\\\\\\\\\\": 3}, {\\\\\\\\\\\\\\\"column\\\\\\\\\\\\\\\": {\\\\\\\\\\\\\\\"type\\\\\\\\\\\\\\\": 2, \\\\\\\\\\\\\\\"details\\\\\\\\\\\\\\\": {\\\\\\\\\\\\\\\"selectedColumn\\\\\\\\\\\\\\\": \\\\\\\\\\\\\\\"DiabetesPedigreeFunction\\\\\\\\\\\\\\\"}}, \\\\\\\\\\\\\\\"typeProperty\\\\\\\\\\\\\\\": 3}, {\\\\\\\\\\\\\\\"column\\\\\\\\\\\\\\\": {\\\\\\\\\\\\\\\"type\\\\\\\\\\\\\\\": 2, \\\\\\\\\\\\\\\"details\\\\\\\\\\\\\\\": {\\\\\\\\\\\\\\\"selectedColumn\\\\\\\\\\\\\\\": \\\\\\\\\\\\\\\"Age\\\\\\\\\\\\\\\"}}, \\\\\\\\\\\\\\\"typeProperty\\\\\\\\\\\\\\\": 2}, {\\\\\\\\\\\\\\\"column\\\\\\\\\\\\\\\": {\\\\\\\\\\\\\\\"type\\\\\\\\\\\\\\\": 2, \\\\\\\\\\\\\\\"details\\\\\\\\\\\\\\\": {\\\\\\\\\\\\\\\"selectedColumn\\\\\\\\\\\\\\\": \\\\\\\\\\\\\\\"Outcome\\\\\\\\\\\\\\\"}}, \\\\\\\\\\\\\\\"typeProperty\\\\\\\\\\\\\\\": 2}]}, \\\\\\\\\\\\\\\"localData\\\\\\\\\\\\\\\": {}, \\\\\\\\\\\\\\\"isEnabled\\\\\\\\\\\\\\\": true, \\\\\\\\\\\\\\\"name\\\\\\\\\\\\\\\": null, \\\\\\\\\\\\\\\"annotation\\\\\\\\\\\\\\\": null}], \\\\\\\\\\\\\\\"inspectors\\\\\\\\\\\\\\\": [], \\\\\\\\\\\\\\\"meta\\\\\\\\\\\\\\\": {\\\\\\\\\\\\\\\"savedDatasetId\\\\\\\\\\\\\\\": \\\\\\\\\\\\\\\"de45557f-f102-4338-a8f4-0f44b3768e23\\\\\\\\\\\\\\\", \\\\\\\\\\\\\\\"datasetType\\\\\\\\\\\\\\\": \\\\\\\\\\\\\\\"tabular\\\\\\\\\\\\\\\", \\\\\\\\\\\\\\\"subscriptionId\\\\\\\\\\\\\\\": \\\\\\\\\\\\\\\"f39cb977-6a3a-445b-a26a-b9a791c5fd89\\\\\\\\\\\\\\\", \\\\\\\\\\\\\\\"workspaceId\\\\\\\\\\\\\\\": \\\\\\\\\\\\\\\"1da2c3ea-4479-4fa9-96a7-e6a36b4aea1f\\\\\\\\\\\\\\\", \\\\\\\\\\\\\\\"workspaceLocation\\\\\\\\\\\\\\\": \\\\\\\\\\\\\\\"southcentralus\\\\\\\\\\\\\\\"}}\\\\\\\", \\\\\\\"activities\\\\\\\": 0}\", \"EnableSubsampling\": null, \"runTemplate\": \"AutoML\", \"azureml.runsource\": \"automl\", \"display_task_type\": \"classification\", \"dependencies_versions\": \"{\\\"azureml-widgets\\\": \\\"1.19.0\\\", \\\"azureml-train\\\": \\\"1.19.0\\\", \\\"azureml-train-restclients-hyperdrive\\\": \\\"1.19.0\\\", \\\"azureml-train-core\\\": \\\"1.19.0\\\", \\\"azureml-train-automl\\\": \\\"1.19.0\\\", \\\"azureml-train-automl-runtime\\\": \\\"1.19.0\\\", \\\"azureml-train-automl-client\\\": \\\"1.19.0\\\", \\\"azureml-tensorboard\\\": \\\"1.19.0\\\", \\\"azureml-telemetry\\\": \\\"1.19.0\\\", \\\"azureml-sdk\\\": \\\"1.19.0\\\", \\\"azureml-samples\\\": \\\"0+unknown\\\", \\\"azureml-pipeline\\\": \\\"1.19.0\\\", \\\"azureml-pipeline-steps\\\": \\\"1.19.0\\\", \\\"azureml-pipeline-core\\\": \\\"1.19.0\\\", \\\"azureml-opendatasets\\\": \\\"1.19.0\\\", \\\"azureml-model-management-sdk\\\": \\\"1.0.1b6.post1\\\", \\\"azureml-mlflow\\\": \\\"1.19.0\\\", \\\"azureml-interpret\\\": \\\"1.19.0\\\", \\\"azureml-explain-model\\\": \\\"1.19.0\\\", \\\"azureml-defaults\\\": \\\"1.19.0\\\", \\\"azureml-dataset-runtime\\\": \\\"1.19.0\\\", \\\"azureml-dataprep\\\": \\\"2.6.1\\\", \\\"azureml-dataprep-rslex\\\": \\\"1.4.0\\\", \\\"azureml-dataprep-native\\\": \\\"26.0.0\\\", \\\"azureml-datadrift\\\": \\\"1.19.0\\\", \\\"azureml-core\\\": \\\"1.19.0\\\", \\\"azureml-contrib-services\\\": \\\"1.19.0\\\", \\\"azureml-contrib-server\\\": \\\"1.19.0\\\", \\\"azureml-contrib-reinforcementlearning\\\": \\\"1.19.0\\\", \\\"azureml-contrib-pipeline-steps\\\": \\\"1.19.0\\\", \\\"azureml-contrib-notebook\\\": \\\"1.19.0\\\", \\\"azureml-contrib-interpret\\\": \\\"1.19.0\\\", \\\"azureml-contrib-gbdt\\\": \\\"1.19.0\\\", \\\"azureml-contrib-fairness\\\": \\\"1.19.0\\\", \\\"azureml-contrib-dataset\\\": \\\"1.19.0\\\", \\\"azureml-cli-common\\\": \\\"1.19.0\\\", \\\"azureml-automl-runtime\\\": \\\"1.19.0\\\", \\\"azureml-automl-core\\\": \\\"1.19.0\\\", \\\"azureml-accel-models\\\": \\\"1.19.0\\\"}\", \"_aml_system_scenario_identification\": \"Remote.Parent\", \"ClientType\": \"SDK\", \"environment_cpu_name\": \"AzureML-AutoML\", \"environment_cpu_version\": \"48\", \"environment_gpu_name\": \"AzureML-AutoML-GPU\", \"environment_gpu_version\": \"36\", \"root_attribution\": \"automl\", \"attribution\": \"AutoML\", \"Orchestrator\": \"AutoML\", \"CancelUri\": \"https://southcentralus.experiments.azureml.net/jasmine/v1.0/subscriptions/f39cb977-6a3a-445b-a26a-b9a791c5fd89/resourceGroups/aml-quickstarts-130187/providers/Microsoft.MachineLearningServices/workspaces/quick-starts-ws-130187/experimentids/a1709579-cb80-4ea4-a545-92dd29c96c78/cancel/AutoML_f5a3962b-1f71-426e-a4a7-d48ab7902807\", \"ClientSdkVersion\": \"1.18.0.post1\", \"snapshotId\": \"00000000-0000-0000-0000-000000000000\", \"SetupRunId\": \"AutoML_f5a3962b-1f71-426e-a4a7-d48ab7902807_setup\", \"SetupRunContainerId\": \"dcid.AutoML_f5a3962b-1f71-426e-a4a7-d48ab7902807_setup\", \"FeaturizationRunJsonPath\": \"featurizer_container.json\", \"FeaturizationRunId\": \"AutoML_f5a3962b-1f71-426e-a4a7-d48ab7902807_featurize\", \"ProblemInfoJsonString\": \"{\\\"dataset_num_categorical\\\": 0, \\\"is_sparse\\\": false, \\\"subsampling\\\": false, \\\"dataset_classes\\\": 2, \\\"dataset_features\\\": 8, \\\"dataset_samples\\\": 768, \\\"single_frequency_class_detected\\\": false}\", \"ModelExplainRunId\": \"AutoML_f5a3962b-1f71-426e-a4a7-d48ab7902807_ModelExplain\"}, \"tags\": {\"model_explain_run\": \"best_run\", \"_aml_system_azureml.automlComponent\": \"AutoML\", \"pipeline_id\": \"\", \"score\": \"\", \"predicted_cost\": \"\", \"fit_time\": \"\", \"training_percent\": \"\", \"iteration\": \"\", \"run_preprocessor\": \"\", \"run_algorithm\": \"\", \"dynamic_whitelisting_iterations\": \"<25>;<30>;<35>;\", \"automl_best_child_run_id\": \"AutoML_f5a3962b-1f71-426e-a4a7-d48ab7902807_36\", \"model_explain_best_run_child_id\": \"AutoML_f5a3962b-1f71-426e-a4a7-d48ab7902807_36\"}, \"end_time_utc\": \"2020-12-12T07:19:39.979657Z\", \"status\": \"Completed\", \"log_files\": {}, \"log_groups\": [], \"run_duration\": \"0:25:32\"}, \"child_runs\": [{\"run_id\": \"AutoML_f5a3962b-1f71-426e-a4a7-d48ab7902807_0\", \"run_number\": 5, \"metric\": null, \"status\": \"Completed\", \"run_type\": \"azureml.scriptrun\", \"training_percent\": \"100\", \"start_time\": \"2020-12-12T07:03:59.060587Z\", \"end_time\": \"2020-12-12T07:04:57.170541Z\", \"created_time\": \"2020-12-12T07:02:37.09767Z\", \"created_time_dt\": \"2020-12-12T07:02:37.09767Z\", \"duration\": \"0:02:20\", \"iteration\": \"0\", \"goal\": \"AUC_weighted_max\", \"run_name\": \"MaxAbsScaler, LightGBM\", \"run_properties\": \"copy=True\", \"primary_metric\": 0.80693759, \"best_metric\": 0.80693759}, {\"run_id\": \"AutoML_f5a3962b-1f71-426e-a4a7-d48ab7902807_1\", \"run_number\": 6, \"metric\": null, \"status\": \"Completed\", \"run_type\": \"azureml.scriptrun\", \"training_percent\": \"100\", \"start_time\": \"2020-12-12T07:04:58.478112Z\", \"end_time\": \"2020-12-12T07:05:58.707799Z\", \"created_time\": \"2020-12-12T07:02:37.129153Z\", \"created_time_dt\": \"2020-12-12T07:02:37.129153Z\", \"duration\": \"0:03:21\", \"iteration\": \"1\", \"goal\": \"AUC_weighted_max\", \"run_name\": \"MaxAbsScaler, XGBoostClassifier\", \"run_properties\": \"copy=True\", \"primary_metric\": 0.83249789, \"best_metric\": 0.83249789}, {\"run_id\": \"AutoML_f5a3962b-1f71-426e-a4a7-d48ab7902807_2\", \"run_number\": 7, \"metric\": null, \"status\": \"Completed\", \"run_type\": \"azureml.scriptrun\", \"training_percent\": \"100\", \"start_time\": \"2020-12-12T07:05:17.524514Z\", \"end_time\": \"2020-12-12T07:08:38.87967Z\", \"created_time\": \"2020-12-12T07:02:37.144106Z\", \"created_time_dt\": \"2020-12-12T07:02:37.144106Z\", \"duration\": \"0:06:01\", \"iteration\": \"2\", \"goal\": \"AUC_weighted_max\", \"run_name\": \"MinMaxScaler, RandomForest\", \"run_properties\": \"copy=True, feature_range=(0, 1\", \"primary_metric\": 0.83002277, \"best_metric\": 0.83249789}, {\"run_id\": \"AutoML_f5a3962b-1f71-426e-a4a7-d48ab7902807_3\", \"run_number\": 8, \"metric\": null, \"status\": \"Completed\", \"run_type\": \"azureml.scriptrun\", \"training_percent\": \"100\", \"start_time\": \"2020-12-12T07:02:49.084949Z\", \"end_time\": \"2020-12-12T07:03:59.229513Z\", \"created_time\": \"2020-12-12T07:02:37.555451Z\", \"created_time_dt\": \"2020-12-12T07:02:37.555451Z\", \"duration\": \"0:01:21\", \"iteration\": \"3\", \"goal\": \"AUC_weighted_max\", \"run_name\": \"RobustScaler, ExtremeRandomTrees\", \"run_properties\": \"copy=True, quantile_range=[10, 90], with_centering=False,\\n             with_scaling=False\", \"primary_metric\": 0.8360966, \"best_metric\": 0.8360966}, {\"run_id\": \"AutoML_f5a3962b-1f71-426e-a4a7-d48ab7902807_4\", \"run_number\": 9, \"metric\": null, \"status\": \"Completed\", \"run_type\": \"azureml.scriptrun\", \"training_percent\": \"100\", \"start_time\": \"2020-12-12T07:05:21.828535Z\", \"end_time\": \"2020-12-12T07:08:54.85599Z\", \"created_time\": \"2020-12-12T07:04:02.199443Z\", \"created_time_dt\": \"2020-12-12T07:04:02.199443Z\", \"duration\": \"0:04:52\", \"iteration\": \"4\", \"goal\": \"AUC_weighted_max\", \"run_name\": \"MinMaxScaler, RandomForest\", \"run_properties\": \"copy=True, feature_range=(0, 1\", \"primary_metric\": 0.83327568, \"best_metric\": 0.8360966}, {\"run_id\": \"AutoML_f5a3962b-1f71-426e-a4a7-d48ab7902807_5\", \"run_number\": 10, \"metric\": null, \"status\": \"Completed\", \"run_type\": \"azureml.scriptrun\", \"training_percent\": \"100\", \"start_time\": \"2020-12-12T07:05:21.593269Z\", \"end_time\": \"2020-12-12T07:08:51.813964Z\", \"created_time\": \"2020-12-12T07:05:00.218014Z\", \"created_time_dt\": \"2020-12-12T07:05:00.218014Z\", \"duration\": \"0:03:51\", \"iteration\": \"5\", \"goal\": \"AUC_weighted_max\", \"run_name\": \"MinMaxScaler, RandomForest\", \"run_properties\": \"copy=True, feature_range=(0, 1\", \"primary_metric\": 0.81976134, \"best_metric\": 0.8360966}, {\"run_id\": \"AutoML_f5a3962b-1f71-426e-a4a7-d48ab7902807_6\", \"run_number\": 11, \"metric\": null, \"status\": \"Completed\", \"run_type\": \"azureml.scriptrun\", \"training_percent\": \"100\", \"start_time\": \"2020-12-12T07:06:18.632364Z\", \"end_time\": \"2020-12-12T07:07:22.258536Z\", \"created_time\": \"2020-12-12T07:06:03.62089Z\", \"created_time_dt\": \"2020-12-12T07:06:03.62089Z\", \"duration\": \"0:01:18\", \"iteration\": \"6\", \"goal\": \"AUC_weighted_max\", \"run_name\": \"StandardScalerWrapper, RandomForest\", \"run_properties\": \"<azureml.automl.runtime.shared.model_wrappers.StandardScalerWrapper object at 0x7f9188221320\", \"primary_metric\": 0.82924872, \"best_metric\": 0.8360966}, {\"run_id\": \"AutoML_f5a3962b-1f71-426e-a4a7-d48ab7902807_7\", \"run_number\": 12, \"metric\": null, \"status\": \"Completed\", \"run_type\": \"azureml.scriptrun\", \"training_percent\": \"100\", \"start_time\": \"2020-12-12T07:07:40.238389Z\", \"end_time\": \"2020-12-12T07:08:35.292581Z\", \"created_time\": \"2020-12-12T07:07:26.354109Z\", \"created_time_dt\": \"2020-12-12T07:07:26.354109Z\", \"duration\": \"0:01:08\", \"iteration\": \"7\", \"goal\": \"AUC_weighted_max\", \"run_name\": \"MinMaxScaler, ExtremeRandomTrees\", \"run_properties\": \"copy=True, feature_range=(0, 1\", \"primary_metric\": 0.82539821, \"best_metric\": 0.8360966}, {\"run_id\": \"AutoML_f5a3962b-1f71-426e-a4a7-d48ab7902807_8\", \"run_number\": 13, \"metric\": null, \"status\": \"Completed\", \"run_type\": \"azureml.scriptrun\", \"training_percent\": \"100\", \"start_time\": \"2020-12-12T07:08:54.638833Z\", \"end_time\": \"2020-12-12T07:09:46.691871Z\", \"created_time\": \"2020-12-12T07:08:39.588958Z\", \"created_time_dt\": \"2020-12-12T07:08:39.588958Z\", \"duration\": \"0:01:07\", \"iteration\": \"8\", \"goal\": \"AUC_weighted_max\", \"run_name\": \"MinMaxScaler, ExtremeRandomTrees\", \"run_properties\": \"copy=True, feature_range=(0, 1\", \"primary_metric\": 0.82582928, \"best_metric\": 0.8360966}, {\"run_id\": \"AutoML_f5a3962b-1f71-426e-a4a7-d48ab7902807_9\", \"run_number\": 14, \"metric\": null, \"status\": \"Completed\", \"run_type\": \"azureml.scriptrun\", \"training_percent\": \"100\", \"start_time\": \"2020-12-12T07:08:57.702345Z\", \"end_time\": \"2020-12-12T07:09:45.413483Z\", \"created_time\": \"2020-12-12T07:08:47.018775Z\", \"created_time_dt\": \"2020-12-12T07:08:47.018775Z\", \"duration\": \"0:00:58\", \"iteration\": \"9\", \"goal\": \"AUC_weighted_max\", \"run_name\": \"MinMaxScaler, ExtremeRandomTrees\", \"run_properties\": \"copy=True, feature_range=(0, 1\", \"primary_metric\": 0.83075094, \"best_metric\": 0.8360966}, {\"run_id\": \"AutoML_f5a3962b-1f71-426e-a4a7-d48ab7902807_10\", \"run_number\": 15, \"metric\": null, \"status\": \"Completed\", \"run_type\": \"azureml.scriptrun\", \"training_percent\": \"100\", \"start_time\": \"2020-12-12T07:09:08.223668Z\", \"end_time\": \"2020-12-12T07:10:09.2018Z\", \"created_time\": \"2020-12-12T07:08:55.544774Z\", \"created_time_dt\": \"2020-12-12T07:08:55.544774Z\", \"duration\": \"0:01:13\", \"iteration\": \"10\", \"goal\": \"AUC_weighted_max\", \"run_name\": \"RobustScaler, ExtremeRandomTrees\", \"run_properties\": \"copy=True, quantile_range=[10, 90], with_centering=True,\\n             with_scaling=False\", \"primary_metric\": 0.82276217, \"best_metric\": 0.8360966}, {\"run_id\": \"AutoML_f5a3962b-1f71-426e-a4a7-d48ab7902807_11\", \"run_number\": 16, \"metric\": null, \"status\": \"Completed\", \"run_type\": \"azureml.scriptrun\", \"training_percent\": \"100\", \"start_time\": \"2020-12-12T07:09:19.899557Z\", \"end_time\": \"2020-12-12T07:10:17.855313Z\", \"created_time\": \"2020-12-12T07:09:06.291486Z\", \"created_time_dt\": \"2020-12-12T07:09:06.291486Z\", \"duration\": \"0:01:11\", \"iteration\": \"11\", \"goal\": \"AUC_weighted_max\", \"run_name\": \"StandardScalerWrapper, RandomForest\", \"run_properties\": \"<azureml.automl.runtime.shared.model_wrappers.StandardScalerWrapper object at 0x7f751c7bcfd0\", \"primary_metric\": 0.81988376, \"best_metric\": 0.8360966}, {\"run_id\": \"AutoML_f5a3962b-1f71-426e-a4a7-d48ab7902807_12\", \"run_number\": 17, \"metric\": null, \"status\": \"Completed\", \"run_type\": \"azureml.scriptrun\", \"training_percent\": \"100\", \"start_time\": \"2020-12-12T07:09:59.792056Z\", \"end_time\": \"2020-12-12T07:10:56.376553Z\", \"created_time\": \"2020-12-12T07:09:48.713629Z\", \"created_time_dt\": \"2020-12-12T07:09:48.713629Z\", \"duration\": \"0:01:07\", \"iteration\": \"12\", \"goal\": \"AUC_weighted_max\", \"run_name\": \"StandardScalerWrapper, SGD\", \"run_properties\": \"<azureml.automl.runtime.shared.model_wrappers.StandardScalerWrapper object at 0x7f7e0ea99fd0\", \"primary_metric\": 0.8302436, \"best_metric\": 0.8360966}, {\"run_id\": \"AutoML_f5a3962b-1f71-426e-a4a7-d48ab7902807_13\", \"run_number\": 18, \"metric\": null, \"status\": \"Completed\", \"run_type\": \"azureml.scriptrun\", \"training_percent\": \"100\", \"start_time\": \"2020-12-12T07:10:05.525273Z\", \"end_time\": \"2020-12-12T07:10:59.625501Z\", \"created_time\": \"2020-12-12T07:09:53.911456Z\", \"created_time_dt\": \"2020-12-12T07:09:53.911456Z\", \"duration\": \"0:01:05\", \"iteration\": \"13\", \"goal\": \"AUC_weighted_max\", \"run_name\": \"RobustScaler, RandomForest\", \"run_properties\": \"copy=True, quantile_range=[10, 90], with_centering=True,\\n             with_scaling=False\", \"primary_metric\": 0.8106512, \"best_metric\": 0.8360966}, {\"run_id\": \"AutoML_f5a3962b-1f71-426e-a4a7-d48ab7902807_14\", \"run_number\": 19, \"metric\": null, \"status\": \"Completed\", \"run_type\": \"azureml.scriptrun\", \"training_percent\": \"100\", \"start_time\": \"2020-12-12T07:10:24.514155Z\", \"end_time\": \"2020-12-12T07:11:25.572422Z\", \"created_time\": \"2020-12-12T07:10:12.437282Z\", \"created_time_dt\": \"2020-12-12T07:10:12.437282Z\", \"duration\": \"0:01:13\", \"iteration\": \"14\", \"goal\": \"AUC_weighted_max\", \"run_name\": \"MinMaxScaler, RandomForest\", \"run_properties\": \"copy=True, feature_range=(0, 1\", \"primary_metric\": 0.81274616, \"best_metric\": 0.8360966}, {\"run_id\": \"AutoML_f5a3962b-1f71-426e-a4a7-d48ab7902807_15\", \"run_number\": 20, \"metric\": null, \"status\": \"Completed\", \"run_type\": \"azureml.scriptrun\", \"training_percent\": \"100\", \"start_time\": \"2020-12-12T07:10:33.722847Z\", \"end_time\": \"2020-12-12T07:11:28.624726Z\", \"created_time\": \"2020-12-12T07:10:21.052947Z\", \"created_time_dt\": \"2020-12-12T07:10:21.052947Z\", \"duration\": \"0:01:07\", \"iteration\": \"15\", \"goal\": \"AUC_weighted_max\", \"run_name\": \"MinMaxScaler, ExtremeRandomTrees\", \"run_properties\": \"copy=True, feature_range=(0, 1\", \"primary_metric\": 0.80764841, \"best_metric\": 0.8360966}, {\"run_id\": \"AutoML_f5a3962b-1f71-426e-a4a7-d48ab7902807_16\", \"run_number\": 21, \"metric\": null, \"status\": \"Completed\", \"run_type\": \"azureml.scriptrun\", \"training_percent\": \"100\", \"start_time\": \"2020-12-12T07:11:12.314465Z\", \"end_time\": \"2020-12-12T07:12:26.735127Z\", \"created_time\": \"2020-12-12T07:10:59.739575Z\", \"created_time_dt\": \"2020-12-12T07:10:59.739575Z\", \"duration\": \"0:01:26\", \"iteration\": \"16\", \"goal\": \"AUC_weighted_max\", \"run_name\": \"MaxAbsScaler, RandomForest\", \"run_properties\": \"copy=True\", \"primary_metric\": 0.81539674, \"best_metric\": 0.8360966}, {\"run_id\": \"AutoML_f5a3962b-1f71-426e-a4a7-d48ab7902807_17\", \"run_number\": 22, \"metric\": null, \"status\": \"Completed\", \"run_type\": \"azureml.scriptrun\", \"training_percent\": \"100\", \"start_time\": \"2020-12-12T07:11:15.892294Z\", \"end_time\": \"2020-12-12T07:12:06.528264Z\", \"created_time\": \"2020-12-12T07:11:05.534774Z\", \"created_time_dt\": \"2020-12-12T07:11:05.534774Z\", \"duration\": \"0:01:00\", \"iteration\": \"17\", \"goal\": \"AUC_weighted_max\", \"run_name\": \"StandardScalerWrapper, XGBoostClassifier\", \"run_properties\": \"<azureml.automl.runtime.shared.model_wrappers.StandardScalerWrapper object at 0x7f4be4567f98\", \"primary_metric\": 0.82226322, \"best_metric\": 0.8360966}, {\"run_id\": \"AutoML_f5a3962b-1f71-426e-a4a7-d48ab7902807_18\", \"run_number\": 23, \"metric\": null, \"status\": \"Completed\", \"run_type\": \"azureml.scriptrun\", \"training_percent\": \"100\", \"start_time\": \"2020-12-12T07:11:41.761745Z\", \"end_time\": \"2020-12-12T07:12:41.668137Z\", \"created_time\": \"2020-12-12T07:11:28.901696Z\", \"created_time_dt\": \"2020-12-12T07:11:28.901696Z\", \"duration\": \"0:01:12\", \"iteration\": \"18\", \"goal\": \"AUC_weighted_max\", \"run_name\": \"MaxAbsScaler, RandomForest\", \"run_properties\": \"copy=True\", \"primary_metric\": 0.8265168, \"best_metric\": 0.8360966}, {\"run_id\": \"AutoML_f5a3962b-1f71-426e-a4a7-d48ab7902807_19\", \"run_number\": 24, \"metric\": null, \"status\": \"Completed\", \"run_type\": \"azureml.scriptrun\", \"training_percent\": \"100\", \"start_time\": \"2020-12-12T07:11:46.52467Z\", \"end_time\": \"2020-12-12T07:12:46.195529Z\", \"created_time\": \"2020-12-12T07:11:35.594108Z\", \"created_time_dt\": \"2020-12-12T07:11:35.594108Z\", \"duration\": \"0:01:10\", \"iteration\": \"19\", \"goal\": \"AUC_weighted_max\", \"run_name\": \"MaxAbsScaler, ExtremeRandomTrees\", \"run_properties\": \"copy=True\", \"primary_metric\": 0.80779322, \"best_metric\": 0.8360966}, {\"run_id\": \"AutoML_f5a3962b-1f71-426e-a4a7-d48ab7902807_20\", \"run_number\": 25, \"metric\": null, \"status\": \"Completed\", \"run_type\": \"azureml.scriptrun\", \"training_percent\": \"100\", \"start_time\": \"2020-12-12T07:12:26.320582Z\", \"end_time\": \"2020-12-12T07:13:24.313236Z\", \"created_time\": \"2020-12-12T07:12:12.638201Z\", \"created_time_dt\": \"2020-12-12T07:12:12.638201Z\", \"duration\": \"0:01:11\", \"iteration\": \"20\", \"goal\": \"AUC_weighted_max\", \"run_name\": \"MaxAbsScaler, ExtremeRandomTrees\", \"run_properties\": \"copy=True\", \"primary_metric\": 0.82812221, \"best_metric\": 0.8360966}, {\"run_id\": \"AutoML_f5a3962b-1f71-426e-a4a7-d48ab7902807_21\", \"run_number\": 26, \"metric\": null, \"status\": \"Completed\", \"run_type\": \"azureml.scriptrun\", \"training_percent\": \"100\", \"start_time\": \"2020-12-12T07:12:40.884758Z\", \"end_time\": \"2020-12-12T07:13:36.233822Z\", \"created_time\": \"2020-12-12T07:12:30.061732Z\", \"created_time_dt\": \"2020-12-12T07:12:30.061732Z\", \"duration\": \"0:01:06\", \"iteration\": \"21\", \"goal\": \"AUC_weighted_max\", \"run_name\": \"StandardScalerWrapper, SVM\", \"run_properties\": \"<azureml.automl.runtime.shared.model_wrappers.StandardScalerWrapper object at 0x7fe108560e48\", \"primary_metric\": 0.81859403, \"best_metric\": 0.8360966}, {\"run_id\": \"AutoML_f5a3962b-1f71-426e-a4a7-d48ab7902807_22\", \"run_number\": 27, \"metric\": null, \"status\": \"Completed\", \"run_type\": \"azureml.scriptrun\", \"training_percent\": \"100\", \"start_time\": \"2020-12-12T07:12:56.961047Z\", \"end_time\": \"2020-12-12T07:14:17.796625Z\", \"created_time\": \"2020-12-12T07:12:44.775093Z\", \"created_time_dt\": \"2020-12-12T07:12:44.775093Z\", \"duration\": \"0:01:33\", \"iteration\": \"22\", \"goal\": \"AUC_weighted_max\", \"run_name\": \"StandardScalerWrapper, SVM\", \"run_properties\": \"<azureml.automl.runtime.shared.model_wrappers.StandardScalerWrapper object at 0x7ffb1d246208\", \"primary_metric\": 0.76794696, \"best_metric\": 0.8360966}, {\"run_id\": \"AutoML_f5a3962b-1f71-426e-a4a7-d48ab7902807_23\", \"run_number\": 28, \"metric\": null, \"status\": \"Completed\", \"run_type\": \"azureml.scriptrun\", \"training_percent\": \"100\", \"start_time\": \"2020-12-12T07:13:01.480982Z\", \"end_time\": \"2020-12-12T07:14:23.969822Z\", \"created_time\": \"2020-12-12T07:12:49.545802Z\", \"created_time_dt\": \"2020-12-12T07:12:49.545802Z\", \"duration\": \"0:01:34\", \"iteration\": \"23\", \"goal\": \"AUC_weighted_max\", \"run_name\": \"MaxAbsScaler, SVM\", \"run_properties\": \"copy=True\", \"primary_metric\": 0.69715049, \"best_metric\": 0.8360966}, {\"run_id\": \"AutoML_f5a3962b-1f71-426e-a4a7-d48ab7902807_24\", \"run_number\": 29, \"metric\": null, \"status\": \"Completed\", \"run_type\": \"azureml.scriptrun\", \"training_percent\": \"100\", \"start_time\": \"2020-12-12T07:13:38.528783Z\", \"end_time\": \"2020-12-12T07:14:27.468735Z\", \"created_time\": \"2020-12-12T07:13:26.834723Z\", \"created_time_dt\": \"2020-12-12T07:13:26.834723Z\", \"duration\": \"0:01:00\", \"iteration\": \"24\", \"goal\": \"AUC_weighted_max\", \"run_name\": \"MaxAbsScaler, LightGBM\", \"run_properties\": \"copy=True\", \"primary_metric\": 0.82896589, \"best_metric\": 0.8360966}, {\"run_id\": \"AutoML_f5a3962b-1f71-426e-a4a7-d48ab7902807_25\", \"run_number\": 30, \"metric\": null, \"status\": \"Completed\", \"run_type\": \"azureml.scriptrun\", \"training_percent\": \"100\", \"start_time\": \"2020-12-12T07:13:58.343113Z\", \"end_time\": \"2020-12-12T07:14:59.641698Z\", \"created_time\": \"2020-12-12T07:13:44.838287Z\", \"created_time_dt\": \"2020-12-12T07:13:44.838287Z\", \"duration\": \"0:01:14\", \"iteration\": \"25\", \"goal\": \"AUC_weighted_max\", \"run_name\": \"PCA, ExtremeRandomTrees\", \"run_properties\": \"copy=True, iterated_power='auto', n_components=0.01, random_state=None,\\n    svd_solver='auto', tol=0.0, whiten=True\", \"primary_metric\": 0.62108479, \"best_metric\": 0.8360966}, {\"run_id\": \"AutoML_f5a3962b-1f71-426e-a4a7-d48ab7902807_26\", \"run_number\": 31, \"metric\": null, \"status\": \"Completed\", \"run_type\": \"azureml.scriptrun\", \"training_percent\": \"100\", \"start_time\": \"2020-12-12T07:14:32.114657Z\", \"end_time\": \"2020-12-12T07:15:24.13632Z\", \"created_time\": \"2020-12-12T07:14:20.66132Z\", \"created_time_dt\": \"2020-12-12T07:14:20.66132Z\", \"duration\": \"0:01:03\", \"iteration\": \"26\", \"goal\": \"AUC_weighted_max\", \"run_name\": \"TruncatedSVDWrapper, XGBoostClassifier\", \"run_properties\": \"n_components=0.7521052631578947, random_state=None\", \"primary_metric\": 0.7897845, \"best_metric\": 0.8360966}, {\"run_id\": \"AutoML_f5a3962b-1f71-426e-a4a7-d48ab7902807_27\", \"run_number\": 32, \"metric\": null, \"status\": \"Completed\", \"run_type\": \"azureml.scriptrun\", \"training_percent\": \"100\", \"start_time\": \"2020-12-12T07:14:39.528753Z\", \"end_time\": \"2020-12-12T07:15:32.291739Z\", \"created_time\": \"2020-12-12T07:14:26.359096Z\", \"created_time_dt\": \"2020-12-12T07:14:26.359096Z\", \"duration\": \"0:01:05\", \"iteration\": \"27\", \"goal\": \"AUC_weighted_max\", \"run_name\": \"SparseNormalizer, XGBoostClassifier\", \"run_properties\": \"<azureml.automl.runtime.shared.model_wrappers.SparseNormalizer object at 0x7f38485f2320\", \"primary_metric\": 0.69211047, \"best_metric\": 0.8360966}, {\"run_id\": \"AutoML_f5a3962b-1f71-426e-a4a7-d48ab7902807_28\", \"run_number\": 33, \"metric\": null, \"status\": \"Completed\", \"run_type\": \"azureml.scriptrun\", \"training_percent\": \"100\", \"start_time\": \"2020-12-12T07:14:43.363771Z\", \"end_time\": \"2020-12-12T07:15:40.556344Z\", \"created_time\": \"2020-12-12T07:14:30.820765Z\", \"created_time_dt\": \"2020-12-12T07:14:30.820765Z\", \"duration\": \"0:01:09\", \"iteration\": \"28\", \"goal\": \"AUC_weighted_max\", \"run_name\": \"MaxAbsScaler, ExtremeRandomTrees\", \"run_properties\": \"copy=True\", \"primary_metric\": 0.82368545, \"best_metric\": 0.8360966}, {\"run_id\": \"AutoML_f5a3962b-1f71-426e-a4a7-d48ab7902807_29\", \"run_number\": 34, \"metric\": null, \"status\": \"Completed\", \"run_type\": \"azureml.scriptrun\", \"training_percent\": \"100\", \"start_time\": \"2020-12-12T07:15:12.742276Z\", \"end_time\": \"2020-12-12T07:16:06.425771Z\", \"created_time\": \"2020-12-12T07:15:02.142418Z\", \"created_time_dt\": \"2020-12-12T07:15:02.142418Z\", \"duration\": \"0:01:04\", \"iteration\": \"29\", \"goal\": \"AUC_weighted_max\", \"run_name\": \"SparseNormalizer, LightGBM\", \"run_properties\": \"<azureml.automl.runtime.shared.model_wrappers.SparseNormalizer object at 0x7f53d5d2c9e8\", \"primary_metric\": 0.71249718, \"best_metric\": 0.8360966}, {\"run_id\": \"AutoML_f5a3962b-1f71-426e-a4a7-d48ab7902807_30\", \"run_number\": 35, \"metric\": null, \"status\": \"Completed\", \"run_type\": \"azureml.scriptrun\", \"training_percent\": \"100\", \"start_time\": \"2020-12-12T07:15:42.796245Z\", \"end_time\": \"2020-12-12T07:16:34.917396Z\", \"created_time\": \"2020-12-12T07:15:27.913086Z\", \"created_time_dt\": \"2020-12-12T07:15:27.913086Z\", \"duration\": \"0:01:07\", \"iteration\": \"30\", \"goal\": \"AUC_weighted_max\", \"run_name\": \"StandardScalerWrapper, ExtremeRandomTrees\", \"run_properties\": \"<azureml.automl.runtime.shared.model_wrappers.StandardScalerWrapper object at 0x7f5e14b15ef0\", \"primary_metric\": 0.78959757, \"best_metric\": 0.8360966}, {\"run_id\": \"AutoML_f5a3962b-1f71-426e-a4a7-d48ab7902807_31\", \"run_number\": 36, \"metric\": null, \"status\": \"Completed\", \"run_type\": \"azureml.scriptrun\", \"training_percent\": \"100\", \"start_time\": \"2020-12-12T07:15:48.076779Z\", \"end_time\": \"2020-12-12T07:16:41.228633Z\", \"created_time\": \"2020-12-12T07:15:34.792192Z\", \"created_time_dt\": \"2020-12-12T07:15:34.792192Z\", \"duration\": \"0:01:06\", \"iteration\": \"31\", \"goal\": \"AUC_weighted_max\", \"run_name\": \"StandardScalerWrapper, LightGBM\", \"run_properties\": \"<azureml.automl.runtime.shared.model_wrappers.StandardScalerWrapper object at 0x7fd6406d8048\", \"primary_metric\": 0.83126525, \"best_metric\": 0.8360966}, {\"run_id\": \"AutoML_f5a3962b-1f71-426e-a4a7-d48ab7902807_32\", \"run_number\": 37, \"metric\": null, \"status\": \"Completed\", \"run_type\": \"azureml.scriptrun\", \"training_percent\": \"100\", \"start_time\": \"2020-12-12T07:15:54.931476Z\", \"end_time\": \"2020-12-12T07:16:54.619143Z\", \"created_time\": \"2020-12-12T07:15:43.143576Z\", \"created_time_dt\": \"2020-12-12T07:15:43.143576Z\", \"duration\": \"0:01:11\", \"iteration\": \"32\", \"goal\": \"AUC_weighted_max\", \"run_name\": \"RobustScaler, LightGBM\", \"run_properties\": \"copy=True, quantile_range=[10, 90], with_centering=True,\\n             with_scaling=False\", \"primary_metric\": 0.82543765, \"best_metric\": 0.8360966}, {\"run_id\": \"AutoML_f5a3962b-1f71-426e-a4a7-d48ab7902807_33\", \"run_number\": 38, \"metric\": null, \"status\": \"Canceled\", \"run_type\": \"azureml.scriptrun\", \"training_percent\": \"100\", \"start_time\": \"2020-12-12T07:16:27.368752Z\", \"end_time\": \"2020-12-12T07:17:02.829718Z\", \"created_time\": \"2020-12-12T07:16:14.181715Z\", \"created_time_dt\": \"2020-12-12T07:16:14.181715Z\", \"duration\": \"0:00:48\", \"iteration\": \"33\", \"goal\": null, \"run_name\": \"MinMaxScaler, LightGBM\", \"run_properties\": null}, {\"run_id\": \"AutoML_f5a3962b-1f71-426e-a4a7-d48ab7902807_34\", \"run_number\": 39, \"metric\": null, \"status\": \"Canceled\", \"run_type\": \"azureml.scriptrun\", \"training_percent\": \"100\", \"start_time\": \"2020-12-12T07:16:53.525773Z\", \"end_time\": \"2020-12-12T07:17:03.221144Z\", \"created_time\": \"2020-12-12T07:16:41.921949Z\", \"created_time_dt\": \"2020-12-12T07:16:41.921949Z\", \"duration\": \"0:00:21\", \"iteration\": \"34\", \"goal\": null, \"run_name\": \"Canceled\", \"run_properties\": null}, {\"run_id\": \"AutoML_f5a3962b-1f71-426e-a4a7-d48ab7902807_35\", \"run_number\": 40, \"metric\": null, \"status\": \"Canceled\", \"run_type\": \"azureml.scriptrun\", \"training_percent\": \"100\", \"start_time\": \"2020-12-12T07:16:47.872098Z\", \"end_time\": \"2020-12-12T07:17:04.808642Z\", \"created_time\": \"2020-12-12T07:16:47.872098Z\", \"created_time_dt\": \"2020-12-12T07:16:47.872098Z\", \"duration\": \"0:00:16\", \"iteration\": \"35\", \"goal\": null, \"run_name\": \"Canceled\", \"run_properties\": null}, {\"run_id\": \"AutoML_f5a3962b-1f71-426e-a4a7-d48ab7902807_36\", \"run_number\": 41, \"metric\": null, \"status\": \"Completed\", \"run_type\": \"azureml.scriptrun\", \"training_percent\": \"100\", \"start_time\": \"2020-12-12T07:17:19.374947Z\", \"end_time\": \"2020-12-12T07:19:30.326528Z\", \"created_time\": \"2020-12-12T07:17:05.6668Z\", \"created_time_dt\": \"2020-12-12T07:17:05.6668Z\", \"duration\": \"0:02:24\", \"iteration\": \"36\", \"goal\": \"AUC_weighted_max\", \"run_name\": \"VotingEnsemble\", \"run_properties\": \"classification_labels=None,\\n                              estimators=[('3',\\n                                           Pipeline(memory=None,\\n                                                    steps=[('robustscaler',\\n                                                            RobustScaler(copy=True,\\n                                                                         quantile_range=[10,\\n                                                                                         90],\\n                                                                         with_centering=False,\\n                                                                         with_scaling=False\", \"primary_metric\": 0.84785837, \"best_metric\": 0.84785837}], \"children_metrics\": {\"categories\": [0], \"series\": {\"precision_score_weighted\": [{\"categories\": [\"0\", \"1\", \"2\", \"3\", \"4\", \"5\", \"6\", \"7\", \"8\", \"9\", \"10\", \"11\", \"12\", \"13\", \"14\", \"15\", \"16\", \"17\", \"18\", \"19\", \"20\", \"21\", \"22\", \"23\", \"24\", \"25\", \"26\", \"27\", \"28\", \"29\", \"30\", \"31\", \"32\", \"36\"], \"mode\": \"markers\", \"name\": \"precision_score_weighted\", \"stepped\": false, \"type\": \"scatter\", \"data\": [0.7414222880845946, 0.7633076176309477, 0.7586585982363124, 0.7610481575003798, 0.7771348594936909, 0.7380413538364727, 0.7623970348367715, 0.7569444986819702, 0.7596606374241593, 0.7544739565616723, 0.7545365467827674, 0.7657989505312895, 0.7706921082420186, 0.7646061085461467, 0.7343758082079701, 0.742819295959155, 0.758046123201994, 0.7493087945802033, 0.7662287990819331, 0.7619050480283921, 0.7685253378994681, 0.7596548268486802, 0.7073844235628148, 0.734519358756338, 0.7575341444809136, 0.6237298501592312, 0.7540720074830746, 0.6519428020188321, 0.752408922428211, 0.6825348291058946, 0.5932796230949801, 0.7491124024991066, 0.7574705972373577, 0.769843881778456]}, {\"categories\": [\"0\", \"1\", \"2\", \"3\", \"4\", \"5\", \"6\", \"7\", \"8\", \"9\", \"10\", \"11\", \"12\", \"13\", \"14\", \"15\", \"16\", \"17\", \"18\", \"19\", \"20\", \"21\", \"22\", \"23\", \"24\", \"25\", \"26\", \"27\", \"28\", \"29\", \"30\", \"31\", \"32\", \"36\"], \"mode\": \"lines\", \"name\": \"precision_score_weighted_max\", \"stepped\": true, \"type\": \"scatter\", \"data\": [0.7414222880845946, 0.7633076176309477, 0.7633076176309477, 0.7633076176309477, 0.7771348594936909, 0.7771348594936909, 0.7771348594936909, 0.7771348594936909, 0.7771348594936909, 0.7771348594936909, 0.7771348594936909, 0.7771348594936909, 0.7771348594936909, 0.7771348594936909, 0.7771348594936909, 0.7771348594936909, 0.7771348594936909, 0.7771348594936909, 0.7771348594936909, 0.7771348594936909, 0.7771348594936909, 0.7771348594936909, 0.7771348594936909, 0.7771348594936909, 0.7771348594936909, 0.7771348594936909, 0.7771348594936909, 0.7771348594936909, 0.7771348594936909, 0.7771348594936909, 0.7771348594936909, 0.7771348594936909, 0.7771348594936909, 0.7771348594936909]}], \"precision_score_macro\": [{\"categories\": [\"0\", \"1\", \"2\", \"3\", \"4\", \"5\", \"6\", \"7\", \"8\", \"9\", \"10\", \"11\", \"12\", \"13\", \"14\", \"15\", \"16\", \"17\", \"18\", \"19\", \"20\", \"21\", \"22\", \"23\", \"24\", \"25\", \"26\", \"27\", \"28\", \"29\", \"30\", \"31\", \"32\", \"36\"], \"mode\": \"markers\", \"name\": \"precision_score_macro\", \"stepped\": false, \"type\": \"scatter\", \"data\": [0.7168857739791966, 0.740474187087135, 0.7457978438134256, 0.7591598434245493, 0.7437926866034853, 0.7208632270086621, 0.7413484700912911, 0.7493248876351275, 0.7733339011697804, 0.7708502241705653, 0.7499922860181535, 0.7226321387899254, 0.7568398218986431, 0.7238067733269713, 0.7256223599003162, 0.7028028564246254, 0.7122795057480558, 0.7342967522089824, 0.7465896976969628, 0.7177181237296909, 0.7289294591893212, 0.7451058609441785, 0.697423484832687, 0.7424667334722519, 0.73711623379674, 0.5862363048208062, 0.735760724957905, 0.6233901312510841, 0.7386706859889534, 0.6633609949227768, 0.5555026154137546, 0.7254779422556877, 0.74001901897996, 0.7535223258398008]}, {\"categories\": [\"0\", \"1\", \"2\", \"3\", \"4\", \"5\", \"6\", \"7\", \"8\", \"9\", \"10\", \"11\", \"12\", \"13\", \"14\", \"15\", \"16\", \"17\", \"18\", \"19\", \"20\", \"21\", \"22\", \"23\", \"24\", \"25\", \"26\", \"27\", \"28\", \"29\", \"30\", \"31\", \"32\", \"36\"], \"mode\": \"lines\", \"name\": \"precision_score_macro_max\", \"stepped\": true, \"type\": \"scatter\", \"data\": [0.7168857739791966, 0.740474187087135, 0.7457978438134256, 0.7591598434245493, 0.7591598434245493, 0.7591598434245493, 0.7591598434245493, 0.7591598434245493, 0.7733339011697804, 0.7733339011697804, 0.7733339011697804, 0.7733339011697804, 0.7733339011697804, 0.7733339011697804, 0.7733339011697804, 0.7733339011697804, 0.7733339011697804, 0.7733339011697804, 0.7733339011697804, 0.7733339011697804, 0.7733339011697804, 0.7733339011697804, 0.7733339011697804, 0.7733339011697804, 0.7733339011697804, 0.7733339011697804, 0.7733339011697804, 0.7733339011697804, 0.7733339011697804, 0.7733339011697804, 0.7733339011697804, 0.7733339011697804, 0.7733339011697804, 0.7733339011697804]}], \"matthews_correlation\": [{\"categories\": [\"0\", \"1\", \"2\", \"3\", \"4\", \"5\", \"6\", \"7\", \"8\", \"9\", \"10\", \"11\", \"12\", \"13\", \"14\", \"15\", \"16\", \"17\", \"18\", \"19\", \"20\", \"21\", \"22\", \"23\", \"24\", \"25\", \"26\", \"27\", \"28\", \"29\", \"30\", \"31\", \"32\", \"36\"], \"mode\": \"markers\", \"name\": \"matthews_correlation\", \"stepped\": false, \"type\": \"scatter\", \"data\": [0.4222593887302197, 0.4683152121091704, 0.4534688096482755, 0.42943892757198554, 0.4941062394438466, 0.40787768994601875, 0.46787250379977297, 0.43674387887450894, 0.35588014831865405, 0.3294258091448084, 0.4164432203859315, 0.4651124469687609, 0.4742906045188118, 0.46450764165774405, 0.38351608605408805, 0.42022539411618426, 0.4441514534689349, 0.43260372778308165, 0.4738628423227264, 0.4538168822208995, 0.4730734576359117, 0.45328805251322557, 0.30417498652900526, 0.2932927463580213, 0.45188718046494686, 0.16405899842053548, 0.44334988071497816, 0.2080549523290624, 0.433223785814106, 0.26308514077704653, 0.1248999407220303, 0.4331609076093823, 0.4507187932582613, 0.4765356727367614]}, {\"categories\": [\"0\", \"1\", \"2\", \"3\", \"4\", \"5\", \"6\", \"7\", \"8\", \"9\", \"10\", \"11\", \"12\", \"13\", \"14\", \"15\", \"16\", \"17\", \"18\", \"19\", \"20\", \"21\", \"22\", \"23\", \"24\", \"25\", \"26\", \"27\", \"28\", \"29\", \"30\", \"31\", \"32\", \"36\"], \"mode\": \"lines\", \"name\": \"matthews_correlation_max\", \"stepped\": true, \"type\": \"scatter\", \"data\": [0.4222593887302197, 0.4683152121091704, 0.4683152121091704, 0.4683152121091704, 0.4941062394438466, 0.4941062394438466, 0.4941062394438466, 0.4941062394438466, 0.4941062394438466, 0.4941062394438466, 0.4941062394438466, 0.4941062394438466, 0.4941062394438466, 0.4941062394438466, 0.4941062394438466, 0.4941062394438466, 0.4941062394438466, 0.4941062394438466, 0.4941062394438466, 0.4941062394438466, 0.4941062394438466, 0.4941062394438466, 0.4941062394438466, 0.4941062394438466, 0.4941062394438466, 0.4941062394438466, 0.4941062394438466, 0.4941062394438466, 0.4941062394438466, 0.4941062394438466, 0.4941062394438466, 0.4941062394438466, 0.4941062394438466, 0.4941062394438466]}], \"norm_macro_recall\": [{\"categories\": [\"0\", \"1\", \"2\", \"3\", \"4\", \"5\", \"6\", \"7\", \"8\", \"9\", \"10\", \"11\", \"12\", \"13\", \"14\", \"15\", \"16\", \"17\", \"18\", \"19\", \"20\", \"21\", \"22\", \"23\", \"24\", \"25\", \"26\", \"27\", \"28\", \"29\", \"30\", \"31\", \"32\", \"36\"], \"mode\": \"markers\", \"name\": \"norm_macro_recall\", \"stepped\": false, \"type\": \"scatter\", \"data\": [0.4116871108226574, 0.45688454704642734, 0.4198324860165862, 0.3571911327937688, 0.5014743393943164, 0.37755629012708986, 0.45416029240298184, 0.38331413663721603, 0.24189917151464674, 0.20905045594624774, 0.3479972603297202, 0.48630158074291285, 0.4401420464906997, 0.4828950327351439, 0.32676564215053366, 0.435788101899149, 0.4652455992894364, 0.40009733287185867, 0.4559333313945252, 0.4733653900862789, 0.48911174656667794, 0.42038207017103363, 0.24188755709406057, 0.18243341604941538, 0.4318474757869738, 0.16753964334760374, 0.41768112038539673, 0.17599129494339638, 0.3949162484791874, 0.21401085646177878, 0.05663323950269761, 0.4179556917072376, 0.42425595962748774, 0.44968151285007496]}, {\"categories\": [\"0\", \"1\", \"2\", \"3\", \"4\", \"5\", \"6\", \"7\", \"8\", \"9\", \"10\", \"11\", \"12\", \"13\", \"14\", \"15\", \"16\", \"17\", \"18\", \"19\", \"20\", \"21\", \"22\", \"23\", \"24\", \"25\", \"26\", \"27\", \"28\", \"29\", \"30\", \"31\", \"32\", \"36\"], \"mode\": \"lines\", \"name\": \"norm_macro_recall_max\", \"stepped\": true, \"type\": \"scatter\", \"data\": [0.4116871108226574, 0.45688454704642734, 0.45688454704642734, 0.45688454704642734, 0.5014743393943164, 0.5014743393943164, 0.5014743393943164, 0.5014743393943164, 0.5014743393943164, 0.5014743393943164, 0.5014743393943164, 0.5014743393943164, 0.5014743393943164, 0.5014743393943164, 0.5014743393943164, 0.5014743393943164, 0.5014743393943164, 0.5014743393943164, 0.5014743393943164, 0.5014743393943164, 0.5014743393943164, 0.5014743393943164, 0.5014743393943164, 0.5014743393943164, 0.5014743393943164, 0.5014743393943164, 0.5014743393943164, 0.5014743393943164, 0.5014743393943164, 0.5014743393943164, 0.5014743393943164, 0.5014743393943164, 0.5014743393943164, 0.5014743393943164]}], \"average_precision_score_micro\": [{\"categories\": [\"0\", \"1\", \"2\", \"3\", \"4\", \"5\", \"6\", \"7\", \"8\", \"9\", \"10\", \"11\", \"12\", \"13\", \"14\", \"15\", \"16\", \"17\", \"18\", \"19\", \"20\", \"21\", \"22\", \"23\", \"24\", \"25\", \"26\", \"27\", \"28\", \"29\", \"30\", \"31\", \"32\", \"36\"], \"mode\": \"markers\", \"name\": \"average_precision_score_micro\", \"stepped\": false, \"type\": \"scatter\", \"data\": [0.8314467362127971, 0.8521623222085303, 0.8522152065473723, 0.844191374357181, 0.842457615396689, 0.8405574607612948, 0.8434857461823426, 0.8437934371576358, 0.823234536300341, 0.8212127413020474, 0.8368966170221821, 0.8231195894451281, 0.8429631892335442, 0.8190195813878525, 0.8323588732504653, 0.8065472077407027, 0.814199305512159, 0.8409523160375478, 0.8433431807816797, 0.8088194792795962, 0.8329206459298678, 0.8326530659694787, 0.7839800149513798, 0.7291951427414924, 0.8537193358335843, 0.6056108978930971, 0.8155300654674791, 0.7408446918894711, 0.8441899281661623, 0.7574032215411985, 0.7946596423279814, 0.8521889576648347, 0.8494768803986326, 0.864320211573147]}, {\"categories\": [\"0\", \"1\", \"2\", \"3\", \"4\", \"5\", \"6\", \"7\", \"8\", \"9\", \"10\", \"11\", \"12\", \"13\", \"14\", \"15\", \"16\", \"17\", \"18\", \"19\", \"20\", \"21\", \"22\", \"23\", \"24\", \"25\", \"26\", \"27\", \"28\", \"29\", \"30\", \"31\", \"32\", \"36\"], \"mode\": \"lines\", \"name\": \"average_precision_score_micro_max\", \"stepped\": true, \"type\": \"scatter\", \"data\": [0.8314467362127971, 0.8521623222085303, 0.8522152065473723, 0.8522152065473723, 0.8522152065473723, 0.8522152065473723, 0.8522152065473723, 0.8522152065473723, 0.8522152065473723, 0.8522152065473723, 0.8522152065473723, 0.8522152065473723, 0.8522152065473723, 0.8522152065473723, 0.8522152065473723, 0.8522152065473723, 0.8522152065473723, 0.8522152065473723, 0.8522152065473723, 0.8522152065473723, 0.8522152065473723, 0.8522152065473723, 0.8522152065473723, 0.8522152065473723, 0.8537193358335843, 0.8537193358335843, 0.8537193358335843, 0.8537193358335843, 0.8537193358335843, 0.8537193358335843, 0.8537193358335843, 0.8537193358335843, 0.8537193358335843, 0.864320211573147]}], \"AUC_weighted\": [{\"categories\": [\"0\", \"1\", \"2\", \"3\", \"4\", \"5\", \"6\", \"7\", \"8\", \"9\", \"10\", \"11\", \"12\", \"13\", \"14\", \"15\", \"16\", \"17\", \"18\", \"19\", \"20\", \"21\", \"22\", \"23\", \"24\", \"25\", \"26\", \"27\", \"28\", \"29\", \"30\", \"31\", \"32\", \"36\"], \"mode\": \"markers\", \"name\": \"AUC_weighted\", \"stepped\": false, \"type\": \"scatter\", \"data\": [0.8069375909896099, 0.8324978940484952, 0.8300227654571136, 0.8360966039163321, 0.8332756751775957, 0.8197613419967892, 0.8292487182973332, 0.8253982143018254, 0.8258292803947667, 0.8307509407641461, 0.8227621713274573, 0.8198837560462978, 0.830243604843395, 0.8106512038970208, 0.8127461568167533, 0.8076484148790005, 0.81539674030888, 0.8222632188031783, 0.8265168023674685, 0.8077932202635232, 0.8281222141699068, 0.8185940254900345, 0.7679469563996053, 0.6971504924648099, 0.8289658887342961, 0.6210847864470701, 0.7897844970083121, 0.6921104714198288, 0.823685445847169, 0.7124971846747253, 0.7895975682797084, 0.8312652468989903, 0.8254376500690978, 0.8478583659585108]}, {\"categories\": [\"0\", \"1\", \"2\", \"3\", \"4\", \"5\", \"6\", \"7\", \"8\", \"9\", \"10\", \"11\", \"12\", \"13\", \"14\", \"15\", \"16\", \"17\", \"18\", \"19\", \"20\", \"21\", \"22\", \"23\", \"24\", \"25\", \"26\", \"27\", \"28\", \"29\", \"30\", \"31\", \"32\", \"36\"], \"mode\": \"lines\", \"name\": \"AUC_weighted_max\", \"stepped\": true, \"type\": \"scatter\", \"data\": [0.8069375909896099, 0.8324978940484952, 0.8324978940484952, 0.8360966039163321, 0.8360966039163321, 0.8360966039163321, 0.8360966039163321, 0.8360966039163321, 0.8360966039163321, 0.8360966039163321, 0.8360966039163321, 0.8360966039163321, 0.8360966039163321, 0.8360966039163321, 0.8360966039163321, 0.8360966039163321, 0.8360966039163321, 0.8360966039163321, 0.8360966039163321, 0.8360966039163321, 0.8360966039163321, 0.8360966039163321, 0.8360966039163321, 0.8360966039163321, 0.8360966039163321, 0.8360966039163321, 0.8360966039163321, 0.8360966039163321, 0.8360966039163321, 0.8360966039163321, 0.8360966039163321, 0.8360966039163321, 0.8360966039163321, 0.8478583659585108]}], \"f1_score_micro\": [{\"categories\": [\"0\", \"1\", \"2\", \"3\", \"4\", \"5\", \"6\", \"7\", \"8\", \"9\", \"10\", \"11\", \"12\", \"13\", \"14\", \"15\", \"16\", \"17\", \"18\", \"19\", \"20\", \"21\", \"22\", \"23\", \"24\", \"25\", \"26\", \"27\", \"28\", \"29\", \"30\", \"31\", \"32\", \"36\"], \"mode\": \"markers\", \"name\": \"f1_score_micro\", \"stepped\": false, \"type\": \"scatter\", \"data\": [0.7447539302802461, 0.7631408065618592, 0.7604579630895422, 0.7552460697197539, 0.7617908407382092, 0.7422077922077921, 0.7643369788106631, 0.7565618591934382, 0.7225734791524265, 0.7134825700615173, 0.7487183868762817, 0.7330997949419003, 0.7696001367053998, 0.7357655502392344, 0.7369958988380042, 0.7162508544087492, 0.7187628161312373, 0.753896103896104, 0.7683868762816132, 0.7278537252221463, 0.7421907040328094, 0.7617053998632947, 0.7031271360218729, 0.7031442241968558, 0.7578263841421736, 0.6355434039644565, 0.7552973342447026, 0.6692754613807245, 0.7552631578947369, 0.6913533834586466, 0.6691729323308271, 0.7474709501025292, 0.7591592617908407, 0.7708988380041012]}, {\"categories\": [\"0\", \"1\", \"2\", \"3\", \"4\", \"5\", \"6\", \"7\", \"8\", \"9\", \"10\", \"11\", \"12\", \"13\", \"14\", \"15\", \"16\", \"17\", \"18\", \"19\", \"20\", \"21\", \"22\", \"23\", \"24\", \"25\", \"26\", \"27\", \"28\", \"29\", \"30\", \"31\", \"32\", \"36\"], \"mode\": \"lines\", \"name\": \"f1_score_micro_max\", \"stepped\": true, \"type\": \"scatter\", \"data\": [0.7447539302802461, 0.7631408065618592, 0.7631408065618592, 0.7631408065618592, 0.7631408065618592, 0.7631408065618592, 0.7643369788106631, 0.7643369788106631, 0.7643369788106631, 0.7643369788106631, 0.7643369788106631, 0.7643369788106631, 0.7696001367053998, 0.7696001367053998, 0.7696001367053998, 0.7696001367053998, 0.7696001367053998, 0.7696001367053998, 0.7696001367053998, 0.7696001367053998, 0.7696001367053998, 0.7696001367053998, 0.7696001367053998, 0.7696001367053998, 0.7696001367053998, 0.7696001367053998, 0.7696001367053998, 0.7696001367053998, 0.7696001367053998, 0.7696001367053998, 0.7696001367053998, 0.7696001367053998, 0.7696001367053998, 0.7708988380041012]}], \"recall_score_micro\": [{\"categories\": [\"0\", \"1\", \"2\", \"3\", \"4\", \"5\", \"6\", \"7\", \"8\", \"9\", \"10\", \"11\", \"12\", \"13\", \"14\", \"15\", \"16\", \"17\", \"18\", \"19\", \"20\", \"21\", \"22\", \"23\", \"24\", \"25\", \"26\", \"27\", \"28\", \"29\", \"30\", \"31\", \"32\", \"36\"], \"mode\": \"markers\", \"name\": \"recall_score_micro\", \"stepped\": false, \"type\": \"scatter\", \"data\": [0.7447539302802461, 0.7631408065618592, 0.7604579630895422, 0.7552460697197539, 0.7617908407382092, 0.7422077922077922, 0.7643369788106631, 0.7565618591934382, 0.7225734791524265, 0.7134825700615173, 0.7487183868762817, 0.7330997949419003, 0.7696001367054, 0.7357655502392344, 0.7369958988380042, 0.7162508544087492, 0.7187628161312373, 0.753896103896104, 0.7683868762816132, 0.7278537252221463, 0.7421907040328094, 0.7617053998632947, 0.7031271360218729, 0.7031442241968558, 0.7578263841421736, 0.6355434039644565, 0.7552973342447026, 0.6692754613807245, 0.7552631578947369, 0.6913533834586466, 0.6691729323308271, 0.7474709501025292, 0.7591592617908407, 0.7708988380041012]}, {\"categories\": [\"0\", \"1\", \"2\", \"3\", \"4\", \"5\", \"6\", \"7\", \"8\", \"9\", \"10\", \"11\", \"12\", \"13\", \"14\", \"15\", \"16\", \"17\", \"18\", \"19\", \"20\", \"21\", \"22\", \"23\", \"24\", \"25\", \"26\", \"27\", \"28\", \"29\", \"30\", \"31\", \"32\", \"36\"], \"mode\": \"lines\", \"name\": \"recall_score_micro_max\", \"stepped\": true, \"type\": \"scatter\", \"data\": [0.7447539302802461, 0.7631408065618592, 0.7631408065618592, 0.7631408065618592, 0.7631408065618592, 0.7631408065618592, 0.7643369788106631, 0.7643369788106631, 0.7643369788106631, 0.7643369788106631, 0.7643369788106631, 0.7643369788106631, 0.7696001367054, 0.7696001367054, 0.7696001367054, 0.7696001367054, 0.7696001367054, 0.7696001367054, 0.7696001367054, 0.7696001367054, 0.7696001367054, 0.7696001367054, 0.7696001367054, 0.7696001367054, 0.7696001367054, 0.7696001367054, 0.7696001367054, 0.7696001367054, 0.7696001367054, 0.7696001367054, 0.7696001367054, 0.7696001367054, 0.7696001367054, 0.7708988380041012]}], \"balanced_accuracy\": [{\"categories\": [\"0\", \"1\", \"2\", \"3\", \"4\", \"5\", \"6\", \"7\", \"8\", \"9\", \"10\", \"11\", \"12\", \"13\", \"14\", \"15\", \"16\", \"17\", \"18\", \"19\", \"20\", \"21\", \"22\", \"23\", \"24\", \"25\", \"26\", \"27\", \"28\", \"29\", \"30\", \"31\", \"32\", \"36\"], \"mode\": \"markers\", \"name\": \"balanced_accuracy\", \"stepped\": false, \"type\": \"scatter\", \"data\": [0.7058435554113287, 0.7284422735232137, 0.7099162430082931, 0.6785955663968845, 0.7507371696971582, 0.6887781450635448, 0.7270801462014909, 0.6916570683186081, 0.6209495857573234, 0.6045252279731239, 0.6739986301648602, 0.7431507903714565, 0.7200710232453499, 0.7414475163675719, 0.6633828210752669, 0.7178940509495744, 0.7326227996447183, 0.7000486664359292, 0.7279666656972626, 0.7366826950431394, 0.7445558732833389, 0.7101910350855168, 0.6209437785470303, 0.5912167080247077, 0.715923737893487, 0.5781575767758426, 0.7088405601926984, 0.5879956474716982, 0.6974581242395936, 0.6070054282308894, 0.5283166197513488, 0.7089778458536189, 0.7121279798137439, 0.7248407564250374]}, {\"categories\": [\"0\", \"1\", \"2\", \"3\", \"4\", \"5\", \"6\", \"7\", \"8\", \"9\", \"10\", \"11\", \"12\", \"13\", \"14\", \"15\", \"16\", \"17\", \"18\", \"19\", \"20\", \"21\", \"22\", \"23\", \"24\", \"25\", \"26\", \"27\", \"28\", \"29\", \"30\", \"31\", \"32\", \"36\"], \"mode\": \"lines\", \"name\": \"balanced_accuracy_max\", \"stepped\": true, \"type\": \"scatter\", \"data\": [0.7058435554113287, 0.7284422735232137, 0.7284422735232137, 0.7284422735232137, 0.7507371696971582, 0.7507371696971582, 0.7507371696971582, 0.7507371696971582, 0.7507371696971582, 0.7507371696971582, 0.7507371696971582, 0.7507371696971582, 0.7507371696971582, 0.7507371696971582, 0.7507371696971582, 0.7507371696971582, 0.7507371696971582, 0.7507371696971582, 0.7507371696971582, 0.7507371696971582, 0.7507371696971582, 0.7507371696971582, 0.7507371696971582, 0.7507371696971582, 0.7507371696971582, 0.7507371696971582, 0.7507371696971582, 0.7507371696971582, 0.7507371696971582, 0.7507371696971582, 0.7507371696971582, 0.7507371696971582, 0.7507371696971582, 0.7507371696971582]}], \"precision_score_micro\": [{\"categories\": [\"0\", \"1\", \"2\", \"3\", \"4\", \"5\", \"6\", \"7\", \"8\", \"9\", \"10\", \"11\", \"12\", \"13\", \"14\", \"15\", \"16\", \"17\", \"18\", \"19\", \"20\", \"21\", \"22\", \"23\", \"24\", \"25\", \"26\", \"27\", \"28\", \"29\", \"30\", \"31\", \"32\", \"36\"], \"mode\": \"markers\", \"name\": \"precision_score_micro\", \"stepped\": false, \"type\": \"scatter\", \"data\": [0.7447539302802461, 0.7631408065618592, 0.7604579630895422, 0.7552460697197539, 0.7617908407382092, 0.7422077922077922, 0.7643369788106631, 0.7565618591934382, 0.7225734791524265, 0.7134825700615173, 0.7487183868762817, 0.7330997949419003, 0.7696001367054, 0.7357655502392344, 0.7369958988380042, 0.7162508544087492, 0.7187628161312373, 0.753896103896104, 0.7683868762816132, 0.7278537252221463, 0.7421907040328094, 0.7617053998632947, 0.7031271360218729, 0.7031442241968558, 0.7578263841421736, 0.6355434039644565, 0.7552973342447026, 0.6692754613807245, 0.7552631578947369, 0.6913533834586466, 0.6691729323308271, 0.7474709501025292, 0.7591592617908407, 0.7708988380041012]}, {\"categories\": [\"0\", \"1\", \"2\", \"3\", \"4\", \"5\", \"6\", \"7\", \"8\", \"9\", \"10\", \"11\", \"12\", \"13\", \"14\", \"15\", \"16\", \"17\", \"18\", \"19\", \"20\", \"21\", \"22\", \"23\", \"24\", \"25\", \"26\", \"27\", \"28\", \"29\", \"30\", \"31\", \"32\", \"36\"], \"mode\": \"lines\", \"name\": \"precision_score_micro_max\", \"stepped\": true, \"type\": \"scatter\", \"data\": [0.7447539302802461, 0.7631408065618592, 0.7631408065618592, 0.7631408065618592, 0.7631408065618592, 0.7631408065618592, 0.7643369788106631, 0.7643369788106631, 0.7643369788106631, 0.7643369788106631, 0.7643369788106631, 0.7643369788106631, 0.7696001367054, 0.7696001367054, 0.7696001367054, 0.7696001367054, 0.7696001367054, 0.7696001367054, 0.7696001367054, 0.7696001367054, 0.7696001367054, 0.7696001367054, 0.7696001367054, 0.7696001367054, 0.7696001367054, 0.7696001367054, 0.7696001367054, 0.7696001367054, 0.7696001367054, 0.7696001367054, 0.7696001367054, 0.7696001367054, 0.7696001367054, 0.7708988380041012]}], \"f1_score_weighted\": [{\"categories\": [\"0\", \"1\", \"2\", \"3\", \"4\", \"5\", \"6\", \"7\", \"8\", \"9\", \"10\", \"11\", \"12\", \"13\", \"14\", \"15\", \"16\", \"17\", \"18\", \"19\", \"20\", \"21\", \"22\", \"23\", \"24\", \"25\", \"26\", \"27\", \"28\", \"29\", \"30\", \"31\", \"32\", \"36\"], \"mode\": \"markers\", \"name\": \"f1_score_weighted\", \"stepped\": false, \"type\": \"scatter\", \"data\": [0.7408918495421677, 0.7608784043576504, 0.7516781327989925, 0.7332513137428258, 0.7633906151460448, 0.7326575876748962, 0.7603335765579597, 0.7421726687176795, 0.6721359220461719, 0.6525308641994149, 0.7282700599457022, 0.7388635119216851, 0.7616155800734875, 0.741183652414274, 0.716536952317089, 0.7213291059666733, 0.725289719026035, 0.7440852374061014, 0.764200867227921, 0.733759364992357, 0.7472334011038375, 0.7528427019671872, 0.6731640322845172, 0.6433277740533235, 0.7532123425733788, 0.6249354289462181, 0.7494216411827603, 0.6440369610990592, 0.7443748865548625, 0.6609146700185095, 0.5557153749593748, 0.7442802873624685, 0.7523594269829358, 0.7642222714253091]}, {\"categories\": [\"0\", \"1\", \"2\", \"3\", \"4\", \"5\", \"6\", \"7\", \"8\", \"9\", \"10\", \"11\", \"12\", \"13\", \"14\", \"15\", \"16\", \"17\", \"18\", \"19\", \"20\", \"21\", \"22\", \"23\", \"24\", \"25\", \"26\", \"27\", \"28\", \"29\", \"30\", \"31\", \"32\", \"36\"], \"mode\": \"lines\", \"name\": \"f1_score_weighted_max\", \"stepped\": true, \"type\": \"scatter\", \"data\": [0.7408918495421677, 0.7608784043576504, 0.7608784043576504, 0.7608784043576504, 0.7633906151460448, 0.7633906151460448, 0.7633906151460448, 0.7633906151460448, 0.7633906151460448, 0.7633906151460448, 0.7633906151460448, 0.7633906151460448, 0.7633906151460448, 0.7633906151460448, 0.7633906151460448, 0.7633906151460448, 0.7633906151460448, 0.7633906151460448, 0.764200867227921, 0.764200867227921, 0.764200867227921, 0.764200867227921, 0.764200867227921, 0.764200867227921, 0.764200867227921, 0.764200867227921, 0.764200867227921, 0.764200867227921, 0.764200867227921, 0.764200867227921, 0.764200867227921, 0.764200867227921, 0.764200867227921, 0.7642222714253091]}], \"average_precision_score_weighted\": [{\"categories\": [\"0\", \"1\", \"2\", \"3\", \"4\", \"5\", \"6\", \"7\", \"8\", \"9\", \"10\", \"11\", \"12\", \"13\", \"14\", \"15\", \"16\", \"17\", \"18\", \"19\", \"20\", \"21\", \"22\", \"23\", \"24\", \"25\", \"26\", \"27\", \"28\", \"29\", \"30\", \"31\", \"32\", \"36\"], \"mode\": \"markers\", \"name\": \"average_precision_score_weighted\", \"stepped\": false, \"type\": \"scatter\", \"data\": [0.8205233201026948, 0.8428749649055556, 0.843907144429488, 0.8492387914136682, 0.8389083765734642, 0.8311247220490527, 0.838481963185485, 0.8386681366287665, 0.8379094305853405, 0.8417587721982039, 0.8389602397850273, 0.8332813923288377, 0.8411040383263279, 0.8262607102941629, 0.8294615823573898, 0.8239870185491321, 0.8271921395893612, 0.8344174879745996, 0.831586030548298, 0.8241543423446812, 0.8389485100392313, 0.8227649530245655, 0.7765289945086711, 0.7225757390127259, 0.8448668198636871, 0.6454709875091367, 0.8052622178238378, 0.7181089311807682, 0.8323531853335279, 0.7389256395713664, 0.8081514389379594, 0.8439804385965809, 0.8413265351309225, 0.8577337951780082]}, {\"categories\": [\"0\", \"1\", \"2\", \"3\", \"4\", \"5\", \"6\", \"7\", \"8\", \"9\", \"10\", \"11\", \"12\", \"13\", \"14\", \"15\", \"16\", \"17\", \"18\", \"19\", \"20\", \"21\", \"22\", \"23\", \"24\", \"25\", \"26\", \"27\", \"28\", \"29\", \"30\", \"31\", \"32\", \"36\"], \"mode\": \"lines\", \"name\": \"average_precision_score_weighted_max\", \"stepped\": true, \"type\": \"scatter\", \"data\": [0.8205233201026948, 0.8428749649055556, 0.843907144429488, 0.8492387914136682, 0.8492387914136682, 0.8492387914136682, 0.8492387914136682, 0.8492387914136682, 0.8492387914136682, 0.8492387914136682, 0.8492387914136682, 0.8492387914136682, 0.8492387914136682, 0.8492387914136682, 0.8492387914136682, 0.8492387914136682, 0.8492387914136682, 0.8492387914136682, 0.8492387914136682, 0.8492387914136682, 0.8492387914136682, 0.8492387914136682, 0.8492387914136682, 0.8492387914136682, 0.8492387914136682, 0.8492387914136682, 0.8492387914136682, 0.8492387914136682, 0.8492387914136682, 0.8492387914136682, 0.8492387914136682, 0.8492387914136682, 0.8492387914136682, 0.8577337951780082]}], \"f1_score_macro\": [{\"categories\": [\"0\", \"1\", \"2\", \"3\", \"4\", \"5\", \"6\", \"7\", \"8\", \"9\", \"10\", \"11\", \"12\", \"13\", \"14\", \"15\", \"16\", \"17\", \"18\", \"19\", \"20\", \"21\", \"22\", \"23\", \"24\", \"25\", \"26\", \"27\", \"28\", \"29\", \"30\", \"31\", \"32\", \"36\"], \"mode\": \"markers\", \"name\": \"f1_score_macro\", \"stepped\": false, \"type\": \"scatter\", \"data\": [0.7087116818477601, 0.7316499642812173, 0.7182562028465844, 0.6880176935687952, 0.7406036757031262, 0.6958512320710636, 0.7306329895896735, 0.7026202605356542, 0.6094328509749427, 0.5840631328342452, 0.6832961567632174, 0.7210301742047422, 0.7280961512821554, 0.7221638849824039, 0.6709850212817421, 0.7012034037959166, 0.7076590281999311, 0.7081393448560187, 0.7335015796023854, 0.7149426884508167, 0.7278028295069172, 0.7181311058441425, 0.6193707412702436, 0.5710086437235008, 0.7211569050442078, 0.5769308616395081, 0.7160179569699407, 0.5859967360843821, 0.7061806139128344, 0.6037872199041561, 0.45047209171093916, 0.7123471748412206, 0.7189831976055492, 0.7316884054172899]}, {\"categories\": [\"0\", \"1\", \"2\", \"3\", \"4\", \"5\", \"6\", \"7\", \"8\", \"9\", \"10\", \"11\", \"12\", \"13\", \"14\", \"15\", \"16\", \"17\", \"18\", \"19\", \"20\", \"21\", \"22\", \"23\", \"24\", \"25\", \"26\", \"27\", \"28\", \"29\", \"30\", \"31\", \"32\", \"36\"], \"mode\": \"lines\", \"name\": \"f1_score_macro_max\", \"stepped\": true, \"type\": \"scatter\", \"data\": [0.7087116818477601, 0.7316499642812173, 0.7316499642812173, 0.7316499642812173, 0.7406036757031262, 0.7406036757031262, 0.7406036757031262, 0.7406036757031262, 0.7406036757031262, 0.7406036757031262, 0.7406036757031262, 0.7406036757031262, 0.7406036757031262, 0.7406036757031262, 0.7406036757031262, 0.7406036757031262, 0.7406036757031262, 0.7406036757031262, 0.7406036757031262, 0.7406036757031262, 0.7406036757031262, 0.7406036757031262, 0.7406036757031262, 0.7406036757031262, 0.7406036757031262, 0.7406036757031262, 0.7406036757031262, 0.7406036757031262, 0.7406036757031262, 0.7406036757031262, 0.7406036757031262, 0.7406036757031262, 0.7406036757031262, 0.7406036757031262]}], \"weighted_accuracy\": [{\"categories\": [\"0\", \"1\", \"2\", \"3\", \"4\", \"5\", \"6\", \"7\", \"8\", \"9\", \"10\", \"11\", \"12\", \"13\", \"14\", \"15\", \"16\", \"17\", \"18\", \"19\", \"20\", \"21\", \"22\", \"23\", \"24\", \"25\", \"26\", \"27\", \"28\", \"29\", \"30\", \"31\", \"32\", \"36\"], \"mode\": \"markers\", \"name\": \"weighted_accuracy\", \"stepped\": false, \"type\": \"scatter\", \"data\": [0.7750731981881509, 0.7907051438675505, 0.8007186538049339, 0.8164934184514578, 0.7697196213997453, 0.784916439563324, 0.793574087168915, 0.8082739644755634, 0.8050629834322229, 0.8020014395148476, 0.8084918638948879, 0.7248818703103741, 0.8090204132062082, 0.7321198658925099, 0.7958788954591329, 0.7148372796007447, 0.7082588684132155, 0.7967945338163327, 0.8002397937547159, 0.7201948762249946, 0.7394965023882191, 0.8022723443324324, 0.7692894346635628, 0.7930263923161049, 0.7908953455098062, 0.681325627430245, 0.7918245897118951, 0.7341209402098507, 0.8004928613984059, 0.7593359839970037, 0.7822317565966042, 0.7775987394390529, 0.7967067219405128, 0.8070167280208391]}, {\"categories\": [\"0\", \"1\", \"2\", \"3\", \"4\", \"5\", \"6\", \"7\", \"8\", \"9\", \"10\", \"11\", \"12\", \"13\", \"14\", \"15\", \"16\", \"17\", \"18\", \"19\", \"20\", \"21\", \"22\", \"23\", \"24\", \"25\", \"26\", \"27\", \"28\", \"29\", \"30\", \"31\", \"32\", \"36\"], \"mode\": \"lines\", \"name\": \"weighted_accuracy_max\", \"stepped\": true, \"type\": \"scatter\", \"data\": [0.7750731981881509, 0.7907051438675505, 0.8007186538049339, 0.8164934184514578, 0.8164934184514578, 0.8164934184514578, 0.8164934184514578, 0.8164934184514578, 0.8164934184514578, 0.8164934184514578, 0.8164934184514578, 0.8164934184514578, 0.8164934184514578, 0.8164934184514578, 0.8164934184514578, 0.8164934184514578, 0.8164934184514578, 0.8164934184514578, 0.8164934184514578, 0.8164934184514578, 0.8164934184514578, 0.8164934184514578, 0.8164934184514578, 0.8164934184514578, 0.8164934184514578, 0.8164934184514578, 0.8164934184514578, 0.8164934184514578, 0.8164934184514578, 0.8164934184514578, 0.8164934184514578, 0.8164934184514578, 0.8164934184514578, 0.8164934184514578]}], \"recall_score_weighted\": [{\"categories\": [\"0\", \"1\", \"2\", \"3\", \"4\", \"5\", \"6\", \"7\", \"8\", \"9\", \"10\", \"11\", \"12\", \"13\", \"14\", \"15\", \"16\", \"17\", \"18\", \"19\", \"20\", \"21\", \"22\", \"23\", \"24\", \"25\", \"26\", \"27\", \"28\", \"29\", \"30\", \"31\", \"32\", \"36\"], \"mode\": \"markers\", \"name\": \"recall_score_weighted\", \"stepped\": false, \"type\": \"scatter\", \"data\": [0.7447539302802461, 0.7631408065618592, 0.7604579630895422, 0.7552460697197539, 0.7617908407382092, 0.7422077922077922, 0.7643369788106631, 0.7565618591934382, 0.7225734791524265, 0.7134825700615173, 0.7487183868762817, 0.7330997949419003, 0.7696001367054, 0.7357655502392344, 0.7369958988380042, 0.7162508544087492, 0.7187628161312373, 0.753896103896104, 0.7683868762816132, 0.7278537252221463, 0.7421907040328094, 0.7617053998632947, 0.7031271360218729, 0.7031442241968558, 0.7578263841421736, 0.6355434039644565, 0.7552973342447026, 0.6692754613807245, 0.7552631578947369, 0.6913533834586466, 0.6691729323308271, 0.7474709501025292, 0.7591592617908407, 0.7708988380041012]}, {\"categories\": [\"0\", \"1\", \"2\", \"3\", \"4\", \"5\", \"6\", \"7\", \"8\", \"9\", \"10\", \"11\", \"12\", \"13\", \"14\", \"15\", \"16\", \"17\", \"18\", \"19\", \"20\", \"21\", \"22\", \"23\", \"24\", \"25\", \"26\", \"27\", \"28\", \"29\", \"30\", \"31\", \"32\", \"36\"], \"mode\": \"lines\", \"name\": \"recall_score_weighted_max\", \"stepped\": true, \"type\": \"scatter\", \"data\": [0.7447539302802461, 0.7631408065618592, 0.7631408065618592, 0.7631408065618592, 0.7631408065618592, 0.7631408065618592, 0.7643369788106631, 0.7643369788106631, 0.7643369788106631, 0.7643369788106631, 0.7643369788106631, 0.7643369788106631, 0.7696001367054, 0.7696001367054, 0.7696001367054, 0.7696001367054, 0.7696001367054, 0.7696001367054, 0.7696001367054, 0.7696001367054, 0.7696001367054, 0.7696001367054, 0.7696001367054, 0.7696001367054, 0.7696001367054, 0.7696001367054, 0.7696001367054, 0.7696001367054, 0.7696001367054, 0.7696001367054, 0.7696001367054, 0.7696001367054, 0.7696001367054, 0.7708988380041012]}], \"log_loss\": [{\"categories\": [\"0\", \"1\", \"2\", \"3\", \"4\", \"5\", \"6\", \"7\", \"8\", \"9\", \"10\", \"11\", \"12\", \"13\", \"14\", \"15\", \"16\", \"17\", \"18\", \"19\", \"20\", \"21\", \"22\", \"23\", \"24\", \"25\", \"26\", \"27\", \"28\", \"29\", \"30\", \"31\", \"32\", \"36\"], \"mode\": \"markers\", \"name\": \"log_loss\", \"stepped\": false, \"type\": \"scatter\", \"data\": [0.6378913526541157, 0.48442897912025823, 0.4822054152751688, 0.5106335849015181, 0.4893585173708795, 0.5001900420768735, 0.5693085394686137, 0.5034411563172075, 0.5464979741115297, 0.5459283895602205, 0.519854304582317, 0.5341166687039791, 0.48644235448009504, 0.5414482781671439, 0.5186025322911572, 0.6432659092331607, 0.5550286583383868, 0.5386585168470167, 0.5257490791871514, 0.5765071773096893, 0.5343510891822212, 0.509475276472698, 0.561594899508466, 0.6040180416240023, 0.4864050499208738, 0.6886060989060533, 0.5267311111694687, 0.5983066755514945, 0.490468632761602, 0.5822734701152992, 0.5779625742594918, 0.4805387039910952, 0.4850840266908363, 0.4803279176336191]}, {\"categories\": [\"0\", \"1\", \"2\", \"3\", \"4\", \"5\", \"6\", \"7\", \"8\", \"9\", \"10\", \"11\", \"12\", \"13\", \"14\", \"15\", \"16\", \"17\", \"18\", \"19\", \"20\", \"21\", \"22\", \"23\", \"24\", \"25\", \"26\", \"27\", \"28\", \"29\", \"30\", \"31\", \"32\", \"36\"], \"mode\": \"lines\", \"name\": \"log_loss_min\", \"stepped\": true, \"type\": \"scatter\", \"data\": [0.6378913526541157, 0.48442897912025823, 0.4822054152751688, 0.4822054152751688, 0.4822054152751688, 0.4822054152751688, 0.4822054152751688, 0.4822054152751688, 0.4822054152751688, 0.4822054152751688, 0.4822054152751688, 0.4822054152751688, 0.4822054152751688, 0.4822054152751688, 0.4822054152751688, 0.4822054152751688, 0.4822054152751688, 0.4822054152751688, 0.4822054152751688, 0.4822054152751688, 0.4822054152751688, 0.4822054152751688, 0.4822054152751688, 0.4822054152751688, 0.4822054152751688, 0.4822054152751688, 0.4822054152751688, 0.4822054152751688, 0.4822054152751688, 0.4822054152751688, 0.4822054152751688, 0.4805387039910952, 0.4805387039910952, 0.4803279176336191]}], \"recall_score_macro\": [{\"categories\": [\"0\", \"1\", \"2\", \"3\", \"4\", \"5\", \"6\", \"7\", \"8\", \"9\", \"10\", \"11\", \"12\", \"13\", \"14\", \"15\", \"16\", \"17\", \"18\", \"19\", \"20\", \"21\", \"22\", \"23\", \"24\", \"25\", \"26\", \"27\", \"28\", \"29\", \"30\", \"31\", \"32\", \"36\"], \"mode\": \"markers\", \"name\": \"recall_score_macro\", \"stepped\": false, \"type\": \"scatter\", \"data\": [0.7058435554113287, 0.7284422735232137, 0.7099162430082931, 0.6785955663968845, 0.7507371696971582, 0.6887781450635448, 0.7270801462014909, 0.6916570683186081, 0.6209495857573234, 0.6045252279731239, 0.6739986301648602, 0.7431507903714565, 0.7200710232453499, 0.7414475163675719, 0.6633828210752669, 0.7178940509495744, 0.7326227996447183, 0.7000486664359292, 0.7279666656972626, 0.7366826950431394, 0.7445558732833389, 0.7101910350855168, 0.6209437785470303, 0.5912167080247077, 0.715923737893487, 0.5781575767758426, 0.7088405601926984, 0.5879956474716982, 0.6974581242395936, 0.6070054282308894, 0.5283166197513488, 0.7089778458536189, 0.7121279798137439, 0.7248407564250374]}, {\"categories\": [\"0\", \"1\", \"2\", \"3\", \"4\", \"5\", \"6\", \"7\", \"8\", \"9\", \"10\", \"11\", \"12\", \"13\", \"14\", \"15\", \"16\", \"17\", \"18\", \"19\", \"20\", \"21\", \"22\", \"23\", \"24\", \"25\", \"26\", \"27\", \"28\", \"29\", \"30\", \"31\", \"32\", \"36\"], \"mode\": \"lines\", \"name\": \"recall_score_macro_max\", \"stepped\": true, \"type\": \"scatter\", \"data\": [0.7058435554113287, 0.7284422735232137, 0.7284422735232137, 0.7284422735232137, 0.7507371696971582, 0.7507371696971582, 0.7507371696971582, 0.7507371696971582, 0.7507371696971582, 0.7507371696971582, 0.7507371696971582, 0.7507371696971582, 0.7507371696971582, 0.7507371696971582, 0.7507371696971582, 0.7507371696971582, 0.7507371696971582, 0.7507371696971582, 0.7507371696971582, 0.7507371696971582, 0.7507371696971582, 0.7507371696971582, 0.7507371696971582, 0.7507371696971582, 0.7507371696971582, 0.7507371696971582, 0.7507371696971582, 0.7507371696971582, 0.7507371696971582, 0.7507371696971582, 0.7507371696971582, 0.7507371696971582, 0.7507371696971582, 0.7507371696971582]}], \"average_precision_score_macro\": [{\"categories\": [\"0\", \"1\", \"2\", \"3\", \"4\", \"5\", \"6\", \"7\", \"8\", \"9\", \"10\", \"11\", \"12\", \"13\", \"14\", \"15\", \"16\", \"17\", \"18\", \"19\", \"20\", \"21\", \"22\", \"23\", \"24\", \"25\", \"26\", \"27\", \"28\", \"29\", \"30\", \"31\", \"32\", \"36\"], \"mode\": \"markers\", \"name\": \"average_precision_score_macro\", \"stepped\": false, \"type\": \"scatter\", \"data\": [0.7871407995869946, 0.8138052706291958, 0.8168615607183037, 0.823244087160955, 0.8083515956862604, 0.8002161229089833, 0.811391109772148, 0.8109656883595866, 0.8090892464557424, 0.8132118174447625, 0.8103863116078495, 0.8037720633954926, 0.8143659953822244, 0.7922610803850191, 0.7986083615772278, 0.7893322855178875, 0.7950270234850056, 0.8070482336516781, 0.8006233947427797, 0.7928199400584895, 0.8092094962678222, 0.790283378085786, 0.7412716451637656, 0.6921366142904078, 0.8148960855294451, 0.6001936489427842, 0.7722000917741009, 0.6762086098990765, 0.8023155720565833, 0.6989897629829893, 0.7744896469274265, 0.8157252291815034, 0.8123582271755716, 0.8310384025469014]}, {\"categories\": [\"0\", \"1\", \"2\", \"3\", \"4\", \"5\", \"6\", \"7\", \"8\", \"9\", \"10\", \"11\", \"12\", \"13\", \"14\", \"15\", \"16\", \"17\", \"18\", \"19\", \"20\", \"21\", \"22\", \"23\", \"24\", \"25\", \"26\", \"27\", \"28\", \"29\", \"30\", \"31\", \"32\", \"36\"], \"mode\": \"lines\", \"name\": \"average_precision_score_macro_max\", \"stepped\": true, \"type\": \"scatter\", \"data\": [0.7871407995869946, 0.8138052706291958, 0.8168615607183037, 0.823244087160955, 0.823244087160955, 0.823244087160955, 0.823244087160955, 0.823244087160955, 0.823244087160955, 0.823244087160955, 0.823244087160955, 0.823244087160955, 0.823244087160955, 0.823244087160955, 0.823244087160955, 0.823244087160955, 0.823244087160955, 0.823244087160955, 0.823244087160955, 0.823244087160955, 0.823244087160955, 0.823244087160955, 0.823244087160955, 0.823244087160955, 0.823244087160955, 0.823244087160955, 0.823244087160955, 0.823244087160955, 0.823244087160955, 0.823244087160955, 0.823244087160955, 0.823244087160955, 0.823244087160955, 0.8310384025469014]}], \"AUC_micro\": [{\"categories\": [\"0\", \"1\", \"2\", \"3\", \"4\", \"5\", \"6\", \"7\", \"8\", \"9\", \"10\", \"11\", \"12\", \"13\", \"14\", \"15\", \"16\", \"17\", \"18\", \"19\", \"20\", \"21\", \"22\", \"23\", \"24\", \"25\", \"26\", \"27\", \"28\", \"29\", \"30\", \"31\", \"32\", \"36\"], \"mode\": \"markers\", \"name\": \"AUC_micro\", \"stepped\": false, \"type\": \"scatter\", \"data\": [0.8284990841532464, 0.8516033829914373, 0.8489856538755701, 0.8417257987991791, 0.8431587555697172, 0.8375677686884833, 0.845908736998153, 0.8414740314637337, 0.8146715618895621, 0.8115267303207998, 0.8318523435678614, 0.8180887004764132, 0.8506813281962129, 0.8125376950189429, 0.8266359825104924, 0.8056965849112935, 0.8088661055640405, 0.8422049801926678, 0.8475768196979118, 0.8034765033505906, 0.8320861233506933, 0.8365775699774198, 0.7911404017835243, 0.7526301262188902, 0.8487937593938242, 0.6362684278972458, 0.8188953750498161, 0.7457331773166215, 0.8440977934178638, 0.760711964268778, 0.7839851533777586, 0.8502694979230216, 0.8463602187286398, 0.8627733085977232]}, {\"categories\": [\"0\", \"1\", \"2\", \"3\", \"4\", \"5\", \"6\", \"7\", \"8\", \"9\", \"10\", \"11\", \"12\", \"13\", \"14\", \"15\", \"16\", \"17\", \"18\", \"19\", \"20\", \"21\", \"22\", \"23\", \"24\", \"25\", \"26\", \"27\", \"28\", \"29\", \"30\", \"31\", \"32\", \"36\"], \"mode\": \"lines\", \"name\": \"AUC_micro_max\", \"stepped\": true, \"type\": \"scatter\", \"data\": [0.8284990841532464, 0.8516033829914373, 0.8516033829914373, 0.8516033829914373, 0.8516033829914373, 0.8516033829914373, 0.8516033829914373, 0.8516033829914373, 0.8516033829914373, 0.8516033829914373, 0.8516033829914373, 0.8516033829914373, 0.8516033829914373, 0.8516033829914373, 0.8516033829914373, 0.8516033829914373, 0.8516033829914373, 0.8516033829914373, 0.8516033829914373, 0.8516033829914373, 0.8516033829914373, 0.8516033829914373, 0.8516033829914373, 0.8516033829914373, 0.8516033829914373, 0.8516033829914373, 0.8516033829914373, 0.8516033829914373, 0.8516033829914373, 0.8516033829914373, 0.8516033829914373, 0.8516033829914373, 0.8516033829914373, 0.8627733085977232]}], \"accuracy\": [{\"categories\": [\"0\", \"1\", \"2\", \"3\", \"4\", \"5\", \"6\", \"7\", \"8\", \"9\", \"10\", \"11\", \"12\", \"13\", \"14\", \"15\", \"16\", \"17\", \"18\", \"19\", \"20\", \"21\", \"22\", \"23\", \"24\", \"25\", \"26\", \"27\", \"28\", \"29\", \"30\", \"31\", \"32\", \"36\"], \"mode\": \"markers\", \"name\": \"accuracy\", \"stepped\": false, \"type\": \"scatter\", \"data\": [0.7447539302802461, 0.7631408065618592, 0.7604579630895422, 0.7552460697197539, 0.7617908407382092, 0.7422077922077922, 0.7643369788106631, 0.7565618591934382, 0.7225734791524265, 0.7134825700615173, 0.7487183868762817, 0.7330997949419003, 0.7696001367054, 0.7357655502392344, 0.7369958988380042, 0.7162508544087492, 0.7187628161312373, 0.753896103896104, 0.7683868762816132, 0.7278537252221463, 0.7421907040328094, 0.7617053998632947, 0.7031271360218729, 0.7031442241968558, 0.7578263841421736, 0.6355434039644565, 0.7552973342447026, 0.6692754613807245, 0.7552631578947369, 0.6913533834586466, 0.6691729323308271, 0.7474709501025292, 0.7591592617908407, 0.7708988380041012]}, {\"categories\": [\"0\", \"1\", \"2\", \"3\", \"4\", \"5\", \"6\", \"7\", \"8\", \"9\", \"10\", \"11\", \"12\", \"13\", \"14\", \"15\", \"16\", \"17\", \"18\", \"19\", \"20\", \"21\", \"22\", \"23\", \"24\", \"25\", \"26\", \"27\", \"28\", \"29\", \"30\", \"31\", \"32\", \"36\"], \"mode\": \"lines\", \"name\": \"accuracy_max\", \"stepped\": true, \"type\": \"scatter\", \"data\": [0.7447539302802461, 0.7631408065618592, 0.7631408065618592, 0.7631408065618592, 0.7631408065618592, 0.7631408065618592, 0.7643369788106631, 0.7643369788106631, 0.7643369788106631, 0.7643369788106631, 0.7643369788106631, 0.7643369788106631, 0.7696001367054, 0.7696001367054, 0.7696001367054, 0.7696001367054, 0.7696001367054, 0.7696001367054, 0.7696001367054, 0.7696001367054, 0.7696001367054, 0.7696001367054, 0.7696001367054, 0.7696001367054, 0.7696001367054, 0.7696001367054, 0.7696001367054, 0.7696001367054, 0.7696001367054, 0.7696001367054, 0.7696001367054, 0.7696001367054, 0.7696001367054, 0.7708988380041012]}], \"AUC_macro\": [{\"categories\": [\"0\", \"1\", \"2\", \"3\", \"4\", \"5\", \"6\", \"7\", \"8\", \"9\", \"10\", \"11\", \"12\", \"13\", \"14\", \"15\", \"16\", \"17\", \"18\", \"19\", \"20\", \"21\", \"22\", \"23\", \"24\", \"25\", \"26\", \"27\", \"28\", \"29\", \"30\", \"31\", \"32\", \"36\"], \"mode\": \"markers\", \"name\": \"AUC_macro\", \"stepped\": false, \"type\": \"scatter\", \"data\": [0.8069375909896099, 0.8324978940484952, 0.8300227654571136, 0.8360966039163321, 0.8332756751775957, 0.8197613419967892, 0.8292487182973332, 0.8253982143018254, 0.8258292803947667, 0.830750940764146, 0.8227621713274573, 0.8198837560462978, 0.830243604843395, 0.8106512038970208, 0.8127461568167533, 0.8076484148790005, 0.81539674030888, 0.8222632188031783, 0.8265168023674685, 0.8077932202635234, 0.8281222141699068, 0.8185940254900345, 0.7679469563996054, 0.6971504924648099, 0.8289658887342961, 0.6210847864470702, 0.7897844970083121, 0.692110471419829, 0.823685445847169, 0.7124971846747253, 0.7895975682797084, 0.8312652468989903, 0.8254376500690979, 0.8478583659585108]}, {\"categories\": [\"0\", \"1\", \"2\", \"3\", \"4\", \"5\", \"6\", \"7\", \"8\", \"9\", \"10\", \"11\", \"12\", \"13\", \"14\", \"15\", \"16\", \"17\", \"18\", \"19\", \"20\", \"21\", \"22\", \"23\", \"24\", \"25\", \"26\", \"27\", \"28\", \"29\", \"30\", \"31\", \"32\", \"36\"], \"mode\": \"lines\", \"name\": \"AUC_macro_max\", \"stepped\": true, \"type\": \"scatter\", \"data\": [0.8069375909896099, 0.8324978940484952, 0.8324978940484952, 0.8360966039163321, 0.8360966039163321, 0.8360966039163321, 0.8360966039163321, 0.8360966039163321, 0.8360966039163321, 0.8360966039163321, 0.8360966039163321, 0.8360966039163321, 0.8360966039163321, 0.8360966039163321, 0.8360966039163321, 0.8360966039163321, 0.8360966039163321, 0.8360966039163321, 0.8360966039163321, 0.8360966039163321, 0.8360966039163321, 0.8360966039163321, 0.8360966039163321, 0.8360966039163321, 0.8360966039163321, 0.8360966039163321, 0.8360966039163321, 0.8360966039163321, 0.8360966039163321, 0.8360966039163321, 0.8360966039163321, 0.8360966039163321, 0.8360966039163321, 0.8478583659585108]}]}, \"metricName\": null, \"primaryMetricName\": \"AUC_weighted\", \"showLegend\": false}, \"run_metrics\": [{\"name\": \"experiment_status\", \"run_id\": \"AutoML_f5a3962b-1f71-426e-a4a7-d48ab7902807\", \"categories\": [0, 1, 2, 3, 4, 5, 6, 7, 8, 9, 10, 11, 12, 13], \"series\": [{\"data\": [\"DatasetEvaluation\", \"FeaturesGeneration\", \"DatasetFeaturization\", \"DatasetFeaturizationCompleted\", \"DatasetCrossValidationSplit\", \"ModelSelection\", \"BestRunExplainModel\", \"ModelExplanationDataSetSetup\", \"PickSurrogateModel\", \"EngineeredFeatureExplanations\", \"EngineeredFeatureExplanations\", \"RawFeaturesExplanations\", \"RawFeaturesExplanations\", \"BestRunExplainModel\"]}]}, {\"name\": \"experiment_status_description\", \"run_id\": \"AutoML_f5a3962b-1f71-426e-a4a7-d48ab7902807\", \"categories\": [0, 1, 2, 3, 4, 5, 6, 7, 8, 9, 10, 11, 12, 13], \"series\": [{\"data\": [\"Gathering dataset statistics.\", \"Generating features for the dataset.\", \"Beginning to fit featurizers and featurize the dataset.\", \"Completed fit featurizers and featurizing the dataset.\", \"Generating individually featurized CV splits.\", \"Beginning model selection.\", \"Best run model explanations started\", \"Model explanations data setup completed\", \"Choosing LightGBM as the surrogate model for explanations\", \"Computation of engineered features started\", \"Computation of engineered features completed\", \"Computation of raw features started\", \"Computation of raw features completed\", \"Best run model explanations completed\"]}]}, {\"name\": \"precision_score_weighted\", \"run_id\": \"AutoML_f5a3962b-1f71-426e-a4a7-d48ab7902807\", \"categories\": [0], \"series\": [{\"data\": [0.769843881778456]}]}, {\"name\": \"balanced_accuracy\", \"run_id\": \"AutoML_f5a3962b-1f71-426e-a4a7-d48ab7902807\", \"categories\": [0], \"series\": [{\"data\": [0.7248407564250374]}]}, {\"name\": \"accuracy\", \"run_id\": \"AutoML_f5a3962b-1f71-426e-a4a7-d48ab7902807\", \"categories\": [0], \"series\": [{\"data\": [0.7708988380041012]}]}, {\"name\": \"log_loss\", \"run_id\": \"AutoML_f5a3962b-1f71-426e-a4a7-d48ab7902807\", \"categories\": [0], \"series\": [{\"data\": [0.4803279176336191]}]}, {\"name\": \"norm_macro_recall\", \"run_id\": \"AutoML_f5a3962b-1f71-426e-a4a7-d48ab7902807\", \"categories\": [0], \"series\": [{\"data\": [0.44968151285007496]}]}, {\"name\": \"recall_score_macro\", \"run_id\": \"AutoML_f5a3962b-1f71-426e-a4a7-d48ab7902807\", \"categories\": [0], \"series\": [{\"data\": [0.7248407564250374]}]}, {\"name\": \"matthews_correlation\", \"run_id\": \"AutoML_f5a3962b-1f71-426e-a4a7-d48ab7902807\", \"categories\": [0], \"series\": [{\"data\": [0.4765356727367614]}]}, {\"name\": \"recall_score_weighted\", \"run_id\": \"AutoML_f5a3962b-1f71-426e-a4a7-d48ab7902807\", \"categories\": [0], \"series\": [{\"data\": [0.7708988380041012]}]}, {\"name\": \"average_precision_score_micro\", \"run_id\": \"AutoML_f5a3962b-1f71-426e-a4a7-d48ab7902807\", \"categories\": [0], \"series\": [{\"data\": [0.864320211573147]}]}, {\"name\": \"AUC_micro\", \"run_id\": \"AutoML_f5a3962b-1f71-426e-a4a7-d48ab7902807\", \"categories\": [0], \"series\": [{\"data\": [0.8627733085977232]}]}, {\"name\": \"f1_score_weighted\", \"run_id\": \"AutoML_f5a3962b-1f71-426e-a4a7-d48ab7902807\", \"categories\": [0], \"series\": [{\"data\": [0.7642222714253091]}]}, {\"name\": \"average_precision_score_weighted\", \"run_id\": \"AutoML_f5a3962b-1f71-426e-a4a7-d48ab7902807\", \"categories\": [0], \"series\": [{\"data\": [0.8577337951780082]}]}, {\"name\": \"precision_score_micro\", \"run_id\": \"AutoML_f5a3962b-1f71-426e-a4a7-d48ab7902807\", \"categories\": [0], \"series\": [{\"data\": [0.7708988380041012]}]}, {\"name\": \"weighted_accuracy\", \"run_id\": \"AutoML_f5a3962b-1f71-426e-a4a7-d48ab7902807\", \"categories\": [0], \"series\": [{\"data\": [0.8070167280208391]}]}, {\"name\": \"precision_score_macro\", \"run_id\": \"AutoML_f5a3962b-1f71-426e-a4a7-d48ab7902807\", \"categories\": [0], \"series\": [{\"data\": [0.7535223258398008]}]}, {\"name\": \"f1_score_macro\", \"run_id\": \"AutoML_f5a3962b-1f71-426e-a4a7-d48ab7902807\", \"categories\": [0], \"series\": [{\"data\": [0.7316884054172899]}]}, {\"name\": \"AUC_macro\", \"run_id\": \"AutoML_f5a3962b-1f71-426e-a4a7-d48ab7902807\", \"categories\": [0], \"series\": [{\"data\": [0.8478583659585108]}]}, {\"name\": \"AUC_weighted\", \"run_id\": \"AutoML_f5a3962b-1f71-426e-a4a7-d48ab7902807\", \"categories\": [0], \"series\": [{\"data\": [0.8478583659585108]}]}, {\"name\": \"average_precision_score_macro\", \"run_id\": \"AutoML_f5a3962b-1f71-426e-a4a7-d48ab7902807\", \"categories\": [0], \"series\": [{\"data\": [0.8310384025469014]}]}, {\"name\": \"recall_score_micro\", \"run_id\": \"AutoML_f5a3962b-1f71-426e-a4a7-d48ab7902807\", \"categories\": [0], \"series\": [{\"data\": [0.7708988380041012]}]}, {\"name\": \"f1_score_micro\", \"run_id\": \"AutoML_f5a3962b-1f71-426e-a4a7-d48ab7902807\", \"categories\": [0], \"series\": [{\"data\": [0.7708988380041012]}]}], \"run_logs\": \"\\nRun is completed.\", \"graph\": {}, \"widget_settings\": {\"childWidgetDisplay\": \"popup\", \"send_telemetry\": false, \"log_level\": \"INFO\", \"sdk_version\": \"1.19.0\"}, \"loading\": false}"
     },
     "metadata": {},
     "output_type": "display_data"
    }
   ],
   "source": [
    "from azureml.widgets import RunDetails\n",
    "RunDetails(remote_run).show() "
   ]
  },
  {
   "cell_type": "markdown",
   "metadata": {},
   "source": [
    "### Retrieve the Best Model's explanation\n",
    "Retrieve the explanation from the best_run which includes explanations for engineered features and raw features. Make sure that the run for generating explanations for the best model is completed."
   ]
  },
  {
   "cell_type": "code",
   "execution_count": 23,
   "metadata": {},
   "outputs": [
    {
     "name": "stdout",
     "output_type": "stream",
     "text": [
      "AutoML_f5a3962b-1f71-426e-a4a7-d48ab7902807_ModelExplain\n"
     ]
    }
   ],
   "source": [
    "# Wait for the best model explanation run to complete\n",
    "from azureml.core.run import Run\n",
    "model_explainability_run_id = remote_run.id + \"_\" + \"ModelExplain\"\n",
    "print(model_explainability_run_id)\n",
    "model_explainability_run = Run(experiment=experiment, run_id=model_explainability_run_id)\n",
    "model_explainability_run.wait_for_completion()\n",
    "\n",
    "# Get the best run object\n",
    "best_run, fitted_model = remote_run.get_output()"
   ]
  },
  {
   "cell_type": "markdown",
   "metadata": {},
   "source": [
    "#### Download engineered feature importance from artifact store\n",
    "You can use ExplanationClient to download the engineered feature explanations from the artifact store of the best_run."
   ]
  },
  {
   "cell_type": "code",
   "execution_count": 24,
   "metadata": {},
   "outputs": [
    {
     "data": {
      "text/plain": [
       "{'Glucose_MeanImputer': 0.631101121039636,\n",
       " 'BMI_MeanImputer': 0.31968358688632686,\n",
       " 'Age_MeanImputer': 0.2685527824350696,\n",
       " 'DiabetesPedigreeFunction_MeanImputer': 0.13145390687678468,\n",
       " 'Pregnancies_MeanImputer': 0.10649924297213136,\n",
       " 'BloodPressure_MeanImputer': 0.0489033359483022,\n",
       " 'Insulin_MeanImputer': 0.025830809367482468,\n",
       " 'SkinThickness_MeanImputer': 0.021945511991066684}"
      ]
     },
     "execution_count": 24,
     "metadata": {},
     "output_type": "execute_result"
    }
   ],
   "source": [
    "client = ExplanationClient.from_run(best_run)\n",
    "engineered_explanations = client.download_model_explanation(raw=False)\n",
    "exp_data = engineered_explanations.get_feature_importance_dict()\n",
    "exp_data"
   ]
  },
  {
   "cell_type": "markdown",
   "metadata": {},
   "source": [
    "#### Download raw feature importance from artifact store\n",
    "You can use ExplanationClient to download the raw feature explanations from the artifact store of the best_run."
   ]
  },
  {
   "cell_type": "code",
   "execution_count": 25,
   "metadata": {},
   "outputs": [
    {
     "data": {
      "text/plain": [
       "{'Glucose': 0.631101121039636,\n",
       " 'BMI': 0.31968358688632686,\n",
       " 'Age': 0.2685527824350696,\n",
       " 'DiabetesPedigreeFunction': 0.13145390687678468,\n",
       " 'Pregnancies': 0.10649924297213136,\n",
       " 'BloodPressure': 0.0489033359483022,\n",
       " 'Insulin': 0.025830809367482468,\n",
       " 'SkinThickness': 0.021945511991066684}"
      ]
     },
     "execution_count": 25,
     "metadata": {},
     "output_type": "execute_result"
    }
   ],
   "source": [
    "client = ExplanationClient.from_run(best_run)\n",
    "engineered_explanations = client.download_model_explanation(raw=True)\n",
    "exp_data = engineered_explanations.get_feature_importance_dict()\n",
    "exp_data"
   ]
  },
  {
   "cell_type": "markdown",
   "metadata": {},
   "source": [
    "### Retrieve the Best ONNX Model\n",
    "\n",
    "Below we select the best pipeline from our iterations. The `get_output` method returns the best run and the fitted model. The Model includes the pipeline and any pre-processing.  Overloads on `get_output` allow you to retrieve the best run and fitted model for *any* logged metric or for a particular *iteration*.\n",
    "\n",
    "Set the parameter return_onnx_model=True to retrieve the best ONNX model, instead of the Python model."
   ]
  },
  {
   "cell_type": "code",
   "execution_count": 26,
   "metadata": {},
   "outputs": [],
   "source": [
    "best_run, onnx_mdl = remote_run.get_output(return_onnx_model=True)"
   ]
  },
  {
   "cell_type": "markdown",
   "metadata": {},
   "source": [
    "### Save the best ONNX model"
   ]
  },
  {
   "cell_type": "code",
   "execution_count": 27,
   "metadata": {},
   "outputs": [],
   "source": [
    "from azureml.automl.runtime.onnx_convert import OnnxConverter\n",
    "onnx_fl_path = \"./best_model.onnx\"\n",
    "OnnxConverter.save_onnx_model(onnx_mdl, onnx_fl_path)"
   ]
  },
  {
   "cell_type": "markdown",
   "metadata": {},
   "source": [
    "### Predict with the ONNX model, using onnxruntime package"
   ]
  },
  {
   "cell_type": "code",
   "execution_count": 28,
   "metadata": {},
   "outputs": [
    {
     "name": "stdout",
     "output_type": "stream",
     "text": [
      "[1 0 1 0 1 0 0 0 1 0 0 1 0 1 1 0 1 0 0 0 0 0 1 0 1 0 1 0 0 0 0 1 0 0 0 0 1\n",
      " 1 0 1 1 1 0 1 1 1 0 0 0 0 0 0 0 1 1 0 1 0 1 0 0 1 0 0 1 0 0 0 0 0 0 0 1 0\n",
      " 0 0 0 0 1 0 0 0 0 0 1 0 0 0 1 0 0 0 0 0 0 0 0 0 0 1 1 0 0 0 0 0 0 0 0 0 1\n",
      " 1 0 0 1 1 0 0 0 0 1 0 0 0 0 0 0 0 0 0 1 1 1 0 0 0 0 0 0 0 0 0 0 1 0 0 0 0\n",
      " 0 0 0 0 1 0 1 1 0 0 0 1 0 0 0 0 1 0 0 0 0 0 0 1 0 0 0 1 0 1 1 1 0 0 0 0 0\n",
      " 1 1 1 0 0 0 0 1 1 0 1 0 0 0 0 0 0 0 0 0 0 1 1 0 1 0 0 1 1 1 1 0 0 0 1 1 1\n",
      " 0 0 0 0 0 1 1 0 1 1 0 0 0 1 1 1 1 0 0 0 0 1 0 1 1 1 0 0 0 0 0 0 0 0 0 0 1\n",
      " 1 1 1 0 0 1 0 1 0 0 1 1 0 0 0 0 0 0 0 0 0 1 1 0 1 0 0 1 1 0 0 0 0 1 1 0 1\n",
      " 0 0 1 0 1 1 0 1 0 0 1 0 1 0 0 0 0 0 1 0 0 1 0 1 0 0 0 1 0 0 0 1 0 0 0 0 1\n",
      " 0 0 1 1 0 1 1 0 0 0 0 0 1 0 0 0 0 0 0 0 0 0 1 0 1 0 1 1 1 0 1 0 0 0 0 0 1\n",
      " 1 0 0 0 0 1 0 0 1 0 0 0 0 0 0 0 0 0 1 0 0 1 0 0 1 0 0 0 0 1 0 0 0 0 1 0 0\n",
      " 0 1 1 0 0 0 0 0 1 0 1 0 0 0 0 0 0 1 1 0 1 0 0 0 0 0 0 0 1 1 0 0 0 1 0 0 1\n",
      " 0 1 0 0 0 0 0 0 0 0 0 1 0 0 1 0 0 0 0 0 0 0 0 0 1 1 0 0 0 0 0 0 0 0 0 0 1\n",
      " 0 0 0 1 0 0 1 0 1 0 0 0 1 0 0 0 0 1 1 0 0 0 0 0 0 1 0 0 0 0 0 0 0 0 1 1 0\n",
      " 0 0 0 0 0 1 0 0 0 0 0 0 0 0 0 0 0 1 0 0 0 1 1 0 1 0 0 1 1 0 1 1 0 0 0 0 0\n",
      " 0 0 0 0 0 0 1 0 0 0 0 0 0 1 0 0 0 0 0 0 0 0 0 0 1 1 0 0 0 1 0 1 0 1 0 1 0\n",
      " 1 0 1 1 0 0 1 0 0 0 0 1 1 0 1 0 0 0 0 1 1 0 1 0 0 0 1 0 0 0 1 0 0 0 0 0 0\n",
      " 0 1 0 0 0 0 0 0 0 0 0 0 0 0 0 0 1 1 1 1 0 0 0 0 0 0 1 0 1 0 0 1 1 1 1 0 0\n",
      " 1 0 0 1 1 0 0 0 0 1 1 0 0 0 0 1 0 0 0 0 0 0 0 1 0 1 0 1 0 1 1 0 0 0 0 0 1\n",
      " 1 0 0 0 0 1 0 0 0 1 0 0 1 1 0 0 0 0 0 1 0 0 0 0 0 0 0 0 0 1 0 0 0 0 0 0 0\n",
      " 1 0 0 1 1 0 1 0 1 1 1 0 0 1 1 1 1 1 0 1 0 1 0 0 0 0 1 0]\n",
      "[[0.32744473 0.6725553 ]\n",
      " [0.8663843  0.13361575]\n",
      " [0.31546992 0.68453014]\n",
      " ...\n",
      " [0.7932078  0.20679216]\n",
      " [0.47497067 0.5250294 ]\n",
      " [0.87679636 0.12320365]]\n"
     ]
    }
   ],
   "source": [
    "import sys\n",
    "import json\n",
    "from azureml.automl.core.onnx_convert import OnnxConvertConstants\n",
    "from azureml.train.automl import constants\n",
    "\n",
    "if sys.version_info < OnnxConvertConstants.OnnxIncompatiblePythonVersion:\n",
    "    python_version_compatible = True\n",
    "else:\n",
    "    python_version_compatible = False\n",
    "\n",
    "import onnxruntime\n",
    "from azureml.automl.runtime.onnx_convert import OnnxInferenceHelper\n",
    "\n",
    "def get_onnx_res(run):\n",
    "    res_path = 'onnx_resource.json'\n",
    "    run.download_file(name=constants.MODEL_RESOURCE_PATH_ONNX, output_file_path=res_path)\n",
    "    with open(res_path) as f:\n",
    "        onnx_res = json.load(f)\n",
    "    return onnx_res\n",
    "\n",
    "if python_version_compatible:\n",
    "    test_df = test_dataset.to_pandas_dataframe()\n",
    "    mdl_bytes = onnx_mdl.SerializeToString()\n",
    "    onnx_res = get_onnx_res(best_run)\n",
    "\n",
    "    onnxrt_helper = OnnxInferenceHelper(mdl_bytes, onnx_res)\n",
    "    pred_onnx, pred_prob_onnx = onnxrt_helper.predict(test_df)\n",
    "\n",
    "    print(pred_onnx)\n",
    "    print(pred_prob_onnx)\n",
    "else:\n",
    "    print('Please use Python version 3.6 or 3.7 to run the inference helper.')"
   ]
  },
  {
   "cell_type": "markdown",
   "metadata": {},
   "source": [
    "## Deploy\n",
    "\n",
    "### Retrieve the Best Model\n",
    "\n",
    "Below we select the best pipeline from our iterations.  The `get_output` method returns the best run and the fitted model. Overloads on `get_output` allow you to retrieve the best run and fitted model for *any* logged metric or for a particular *iteration*."
   ]
  },
  {
   "cell_type": "markdown",
   "metadata": {},
   "source": [
    "#### Widget for Monitoring Runs\n",
    "\n",
    "The widget will first report a \"loading\" status while running the first iteration. After completing the first iteration, an auto-updating graph and table will be shown. The widget will refresh once per minute, so you should see the graph update as child runs complete.\n",
    "\n",
    "**Note:** The widget displays a link at the bottom. Use this link to open a web interface to explore the individual run details"
   ]
  },
  {
   "cell_type": "code",
   "execution_count": 29,
   "metadata": {},
   "outputs": [],
   "source": [
    "best_run, fitted_model = remote_run.get_output()"
   ]
  },
  {
   "cell_type": "code",
   "execution_count": 30,
   "metadata": {},
   "outputs": [],
   "source": [
    "model_name = best_run.properties['model_name']\n",
    "\n",
    "script_file_name = 'inference/score.py'\n",
    "\n",
    "best_run.download_file('outputs/scoring_file_v_1_0_0.py', 'inference/score.py', 'outputs/conda_env_v_1_0_0.yml')"
   ]
  },
  {
   "cell_type": "code",
   "execution_count": 31,
   "metadata": {},
   "outputs": [
    {
     "name": "stdout",
     "output_type": "stream",
     "text": [
      "AutoMLf5a3962b136\n"
     ]
    }
   ],
   "source": [
    "description = 'AutoML Model trained on bank marketing data to predict if a client will subscribe to a term deposit'\n",
    "tags = None\n",
    "model = remote_run.register_model(model_name = model_name, description = description, tags = tags)\n",
    "\n",
    "print(remote_run.model_id) # This will be written to the script file later in the notebook."
   ]
  },
  {
   "cell_type": "code",
   "execution_count": 32,
   "metadata": {},
   "outputs": [
    {
     "name": "stdout",
     "output_type": "stream",
     "text": [
      "# Conda environment specification. The dependencies defined in this file will\r\n",
      "# be automatically provisioned for runs with userManagedDependencies=False.\r\n",
      "\n",
      "# Details about the Conda environment file format:\r\n",
      "# https://conda.io/docs/user-guide/tasks/manage-environments.html#create-env-file-manually\r\n",
      "\n",
      "name: project_environment\n",
      "dependencies:\n",
      "  # The python interpreter version.\r\n",
      "  # Currently Azure ML only supports 3.5.2 and later.\r\n",
      "- python=3.6.2\n",
      "\n",
      "- pip:\n",
      "  - azureml-defaults\n",
      "- skicit-learn\n",
      "channels:\n",
      "- anaconda\n",
      "- conda-forge\n",
      "\n"
     ]
    }
   ],
   "source": [
    "from azureml.core.conda_dependencies import CondaDependencies\n",
    "\n",
    "cd.add_pip_package(\"azureml-defaults\")\n",
    "cd.save_to_file(base_directory='./', conda_file_path='myenv.yml')\n",
    "\n",
    "print(cd.serialize_to_string())"
   ]
  },
  {
   "cell_type": "markdown",
   "metadata": {},
   "source": [
    "### Deploy the model as a Web Service on Azure Container Instance"
   ]
  },
  {
   "cell_type": "code",
   "execution_count": 33,
   "metadata": {},
   "outputs": [
    {
     "name": "stdout",
     "output_type": "stream",
     "text": [
      "automl-sample-bankmarketing-all2\n",
      "Tips: You can try get_logs(): https://aka.ms/debugimage#dockerlog or local deployment: https://aka.ms/debugimage#debug-locally to debug if deployment takes longer than 10 minutes.\n",
      "Running...............................................\n",
      "Succeeded\n",
      "ACI service creation operation finished, operation \"Succeeded\"\n",
      "Healthy\n"
     ]
    }
   ],
   "source": [
    "from azureml.core.model import InferenceConfig\n",
    "from azureml.core.webservice import AciWebservice\n",
    "from azureml.core.webservice import Webservice\n",
    "from azureml.core.model import Model\n",
    "from azureml.core.environment import Environment\n",
    "\n",
    "inference_config = InferenceConfig(entry_script=script_file_name, environment=best_run.get_environment())\n",
    "\n",
    "aciconfig = AciWebservice.deploy_configuration(cpu_cores = 1, \n",
    "                                               memory_gb = 1, \n",
    "                                               tags = {'area': \"bmData\", 'type': \"automl_classification\"}, \n",
    "                                               description = 'sample service for Automl Classification')\n",
    "\n",
    "aci_service_name = 'automl-sample-bankmarketing-all2'\n",
    "print(aci_service_name)\n",
    "aci_service = Model.deploy(ws, aci_service_name, [model], inference_config, aciconfig)\n",
    "aci_service.wait_for_deployment(True)\n",
    "print(aci_service.state)"
   ]
  },
  {
   "cell_type": "code",
   "execution_count": 34,
   "metadata": {},
   "outputs": [],
   "source": [
    "# Load the bank marketing datasets.\n",
    "from numpy import array"
   ]
  },
  {
   "cell_type": "code",
   "execution_count": 35,
   "metadata": {},
   "outputs": [
    {
     "data": {
      "text/html": [
       "<div>\n",
       "<style scoped>\n",
       "    .dataframe tbody tr th:only-of-type {\n",
       "        vertical-align: middle;\n",
       "    }\n",
       "\n",
       "    .dataframe tbody tr th {\n",
       "        vertical-align: top;\n",
       "    }\n",
       "\n",
       "    .dataframe thead th {\n",
       "        text-align: right;\n",
       "    }\n",
       "</style>\n",
       "<table border=\"1\" class=\"dataframe\">\n",
       "  <thead>\n",
       "    <tr style=\"text-align: right;\">\n",
       "      <th></th>\n",
       "      <th>Pregnancies</th>\n",
       "      <th>Glucose</th>\n",
       "      <th>BloodPressure</th>\n",
       "      <th>SkinThickness</th>\n",
       "      <th>Insulin</th>\n",
       "      <th>BMI</th>\n",
       "      <th>DiabetesPedigreeFunction</th>\n",
       "      <th>Age</th>\n",
       "      <th>Outcome</th>\n",
       "    </tr>\n",
       "  </thead>\n",
       "  <tbody>\n",
       "    <tr>\n",
       "      <th>0</th>\n",
       "      <td>6</td>\n",
       "      <td>148</td>\n",
       "      <td>72</td>\n",
       "      <td>35</td>\n",
       "      <td>0</td>\n",
       "      <td>33.60</td>\n",
       "      <td>0.63</td>\n",
       "      <td>50</td>\n",
       "      <td>1</td>\n",
       "    </tr>\n",
       "    <tr>\n",
       "      <th>1</th>\n",
       "      <td>1</td>\n",
       "      <td>85</td>\n",
       "      <td>66</td>\n",
       "      <td>29</td>\n",
       "      <td>0</td>\n",
       "      <td>26.60</td>\n",
       "      <td>0.35</td>\n",
       "      <td>31</td>\n",
       "      <td>0</td>\n",
       "    </tr>\n",
       "    <tr>\n",
       "      <th>2</th>\n",
       "      <td>8</td>\n",
       "      <td>183</td>\n",
       "      <td>64</td>\n",
       "      <td>0</td>\n",
       "      <td>0</td>\n",
       "      <td>23.30</td>\n",
       "      <td>0.67</td>\n",
       "      <td>32</td>\n",
       "      <td>1</td>\n",
       "    </tr>\n",
       "    <tr>\n",
       "      <th>3</th>\n",
       "      <td>1</td>\n",
       "      <td>89</td>\n",
       "      <td>66</td>\n",
       "      <td>23</td>\n",
       "      <td>94</td>\n",
       "      <td>28.10</td>\n",
       "      <td>0.17</td>\n",
       "      <td>21</td>\n",
       "      <td>0</td>\n",
       "    </tr>\n",
       "    <tr>\n",
       "      <th>4</th>\n",
       "      <td>0</td>\n",
       "      <td>137</td>\n",
       "      <td>40</td>\n",
       "      <td>35</td>\n",
       "      <td>168</td>\n",
       "      <td>43.10</td>\n",
       "      <td>2.29</td>\n",
       "      <td>33</td>\n",
       "      <td>1</td>\n",
       "    </tr>\n",
       "  </tbody>\n",
       "</table>\n",
       "</div>"
      ],
      "text/plain": [
       "   Pregnancies  Glucose  BloodPressure  SkinThickness  Insulin   BMI  \\\n",
       "0  6            148      72             35             0       33.60   \n",
       "1  1            85       66             29             0       26.60   \n",
       "2  8            183      64             0              0       23.30   \n",
       "3  1            89       66             23             94      28.10   \n",
       "4  0            137      40             35             168     43.10   \n",
       "\n",
       "   DiabetesPedigreeFunction  Age  Outcome  \n",
       "0 0.63                       50   1        \n",
       "1 0.35                       31   0        \n",
       "2 0.67                       32   1        \n",
       "3 0.17                       21   0        \n",
       "4 2.29                       33   1        "
      ]
     },
     "execution_count": 35,
     "metadata": {},
     "output_type": "execute_result"
    }
   ],
   "source": [
    "X_test = test_dataset.drop_columns(columns=['Outcome'])\n",
    "y_test = test_dataset.keep_columns(columns=['Outcome'], validate=True)\n",
    "test_dataset.take(5).to_pandas_dataframe()"
   ]
  },
  {
   "cell_type": "code",
   "execution_count": 36,
   "metadata": {},
   "outputs": [],
   "source": [
    "df = X_test.to_pandas_dataframe()"
   ]
  },
  {
   "cell_type": "code",
   "execution_count": 37,
   "metadata": {},
   "outputs": [
    {
     "name": "stdout",
     "output_type": "stream",
     "text": [
      "{\"result\": [1, 0, 1, 0]}\n"
     ]
    }
   ],
   "source": [
    "#Import Json requests and test the webservice\n",
    "import json\n",
    "data= ({'data':df[0:4].to_dict(orient='records')})\n",
    "test_sample=json.dumps(data)\n",
    "output= aci_service.run(test_sample)\n",
    "print(output)"
   ]
  },
  {
   "cell_type": "code",
   "execution_count": 39,
   "metadata": {},
   "outputs": [
    {
     "name": "stdout",
     "output_type": "stream",
     "text": [
      "POST to url http://50d94e15-76a6-4340-944c-f94339357792.southcentralus.azurecontainer.io/score\n",
      "\"{\\\"result\\\": [1, 0, 1, 0]}\"\n"
     ]
    }
   ],
   "source": [
    "import requests\n",
    "\n",
    "headers = {'Content-Type':'application/json'}\n",
    "resp = requests.post(aci_service.scoring_uri, test_sample, headers=headers)\n",
    "\n",
    "print(\"POST to url\", aci_service.scoring_uri)\n",
    "print(resp.text)"
   ]
  },
  {
   "cell_type": "code",
   "execution_count": 40,
   "metadata": {},
   "outputs": [
    {
     "name": "stdout",
     "output_type": "stream",
     "text": [
      "\"{\\\"result\\\": [1, 0, 1, 0, 1, 0, 0, 0, 1, 0, 0, 1, 0, 1, 1, 0, 1, 0, 0, 0, 0, 0, 1, 0, 1, 0, 1, 0, 0, 0, 0, 1, 0, 0, 0, 0, 1, 1, 0, 1, 1, 1, 0, 1, 1, 1, 0, 0, 0, 0, 0, 0, 0, 1, 1, 0, 1, 0, 1, 0, 0, 1, 0, 0, 1, 0, 0, 0, 0, 0, 0, 0, 1, 0, 0, 0, 0, 0, 1, 0, 0, 0, 0, 0, 1, 0, 0, 0, 1, 0, 0, 0, 0, 0, 0, 0, 0, 0, 0, 1, 1, 0, 0, 0, 0, 0, 0, 0, 0, 0, 1, 1, 0, 0, 1, 1, 0, 0, 0, 0, 1, 0, 0, 0, 0, 0, 0, 0, 0, 0, 1, 1, 1, 0, 0, 0, 0, 0, 0, 0, 0, 0, 0, 1, 0, 0, 0, 0, 0, 0, 0, 0, 1, 0, 1, 1, 0, 0, 0, 1, 0, 0, 0, 0, 1, 0, 0, 0, 0, 0, 0, 1, 0, 0, 0, 1, 0, 1, 1, 1, 0, 0, 0, 0, 0, 1, 1, 1, 0, 0, 0, 0, 1, 1, 0, 1, 0, 0, 0, 0, 0, 0, 0, 0, 0, 0, 1, 1, 0, 1, 0, 0, 1, 1, 1, 1, 0, 0, 0, 1, 1, 1, 0, 0, 0, 0, 0, 1, 1, 0, 1, 1, 0, 0, 0, 1, 1, 1, 1, 0, 0, 0, 0, 1, 0, 1, 1, 1, 0, 0, 0, 0, 0, 0, 0, 0, 0, 0, 1, 1, 1, 1, 0, 0, 1, 0, 1, 0, 0, 1, 1, 0, 0, 0, 0, 0, 0, 0, 0, 0, 1, 1, 0, 1, 0, 0, 1, 1, 0, 0, 0, 0, 1, 1, 0, 1, 0, 0, 1, 0, 1, 1, 0, 1, 0, 0, 1, 0, 1, 0, 0, 0, 0, 0, 1, 0, 0, 1, 0, 1, 0, 0, 0, 1, 0, 0, 0, 1, 0, 0, 0, 0, 1, 0, 0, 1, 1, 0, 1, 1, 0, 0, 0, 0, 0, 1, 0, 0, 0, 0, 0, 0, 0, 0, 0, 1, 0, 1, 0, 1, 1, 1, 0, 1, 0, 0, 0, 0, 0, 1, 1, 0, 0, 0, 0, 1, 0, 0, 1, 0, 0, 0, 0, 0, 0, 0, 0, 0, 1, 0, 0, 1, 0, 0, 1, 0, 0, 0, 0, 1, 0, 0, 0, 0, 1, 0, 0, 0, 1, 1, 0, 0, 0, 0, 0, 1, 0, 1, 0, 0, 0, 0, 0, 0, 1, 1, 0, 1, 0, 0, 0, 0, 0, 0, 0, 1, 1, 0, 0, 0, 1, 0, 0, 1, 0, 1, 0, 0, 0, 0, 0, 0, 0, 0, 0, 1, 0, 0, 1, 0, 0, 0, 0, 0, 0, 0, 0, 0, 1, 1, 0, 0, 0, 0, 0, 0, 0, 0, 0, 0, 1, 0, 0, 0, 1, 0, 0, 1, 0, 1, 0, 0, 0, 1, 0, 0, 0, 0, 1, 1, 0, 0, 0, 0, 0, 0, 1, 0, 0, 0, 0, 0, 0, 0, 0, 1, 1, 0, 0, 0, 0, 0, 0, 1, 0, 0, 0, 0, 0, 0, 0, 0, 0, 0, 0, 1, 0, 0, 0, 1, 1, 0, 1, 0, 0, 1, 1, 0, 1, 1, 0, 0, 0, 0, 0, 0, 0, 0, 0, 0, 0, 1, 0, 0, 0, 0, 0, 0, 1, 0, 0, 0, 0, 0, 0, 0, 0, 0, 0, 1, 1, 0, 0, 0, 1, 0, 1, 0, 1, 0, 1, 0, 1, 0, 1, 1, 0, 0, 1, 0, 0, 0, 0, 1, 1, 0, 1, 0, 0, 0, 0, 1, 1, 0, 1, 0, 0, 0, 1, 0, 0, 0, 1, 0, 0, 0, 0, 0, 0, 0, 1, 0, 0, 0, 0, 0, 0, 0, 0, 0, 0, 0, 0, 0, 0, 1, 1, 1, 1, 0, 0, 0, 0, 0, 0, 1, 0, 1, 0, 0, 1, 1, 1, 1, 0, 0, 1, 0, 0, 1, 1, 0, 0, 0, 0, 1, 1, 0, 0, 0, 0, 1, 0, 0, 0, 0, 0, 0, 0, 1, 0, 1, 0, 1, 0, 1, 1, 0, 0, 0, 0, 0, 1, 1, 0, 0, 0, 0, 1, 0, 0, 0, 1, 0, 0, 1, 1, 0, 0, 0, 0, 0, 1, 0, 0, 0, 0, 0, 0, 0, 0, 0, 1, 0, 0, 0, 0, 0, 0, 0, 1, 0, 0, 1, 1, 0, 1, 0, 1, 1, 1, 0, 0, 1, 1, 1, 1, 1, 0, 1, 0, 1, 0, 0, 0, 0, 1, 0]}\"\n"
     ]
    }
   ],
   "source": [
    "X_test_json = df.to_json(orient='records')\n",
    "data = \"{\\\"data\\\": \" + X_test_json +\"}\"\n",
    "headers = {'Content-Type': 'application/json'}\n",
    "\n",
    "resp1 = requests.post(aci_service.scoring_uri, data, headers=headers)\n",
    "print(resp1.text)"
   ]
  },
  {
   "cell_type": "code",
   "execution_count": null,
   "metadata": {},
   "outputs": [],
   "source": [
    "aci_service.get_logs()\n",
    "aci.service.delete()"
   ]
  }
 ],
 "metadata": {
  "authors": [
   {
    "name": "ratanase"
   }
  ],
  "categories": [
   "how-to-use-azureml",
   "automated-machine-learning"
  ],
  "category": "tutorial",
  "compute": [
   "AML"
  ],
  "datasets": [
   "Bankmarketing"
  ],
  "deployment": [
   "ACI"
  ],
  "exclude_from_index": false,
  "framework": [
   "None"
  ],
  "friendly_name": "Automated ML run with basic edition features.",
  "index_order": 5,
  "kernelspec": {
   "display_name": "Python 3.6 - AzureML",
   "language": "python",
   "name": "python3-azureml"
  },
  "language_info": {
   "codemirror_mode": {
    "name": "ipython",
    "version": 3
   },
   "file_extension": ".py",
   "mimetype": "text/x-python",
   "name": "python",
   "nbconvert_exporter": "python",
   "pygments_lexer": "ipython3",
   "version": "3.6.9"
  },
  "tags": [
   "featurization",
   "explainability",
   "remote_run",
   "AutomatedML"
  ],
  "task": "Classification"
 },
 "nbformat": 4,
 "nbformat_minor": 2
}
